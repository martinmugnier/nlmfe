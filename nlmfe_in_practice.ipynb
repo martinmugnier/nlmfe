{
 "cells": [
  {
   "cell_type": "markdown",
   "id": "659bf802",
   "metadata": {},
   "source": [
    "# NLMFE in practice\n",
    "\n",
    "This notebook aims at introducing the nlmfe package implementing the FPMLE and FPMLE$^{++}$ algorithms developed in Mugnier and Wang (2022, WP)."
   ]
  },
  {
   "cell_type": "code",
   "execution_count": 1,
   "id": "141feb5c",
   "metadata": {},
   "outputs": [
    {
     "name": "stdout",
     "output_type": "stream",
     "text": [
      "Help on class TwoWayFPMLE in module nlmfe.TwoWayFPMLE:\n",
      "\n",
      "class TwoWayFPMLE(builtins.object)\n",
      " |  TwoWayFPMLE(A, b, indiv_ref=0, het_exog=None, model='logit', max_workers=4, solver='Newton-CG', options_set={'xtol': 1e-06, 'maxiter': 1000, 'disp': False}, verbose=True)\n",
      " |  \n",
      " |  TwoWayFPMLE:\n",
      " |      This class implements fast Gauss-Seidel fixed-point algorithms (FPMLE \n",
      " |      and FPMLE++) for estimating semiparametric nonlinear panel data models \n",
      " |      with two-way fixed effects as described in Mugnier & Wang (2022, \n",
      " |      Working Paper) -- ``Identification and (Fast) Estimation of Large \n",
      " |      Nonlinear Panel Models with Two-Way Fixed Effects''. \n",
      " |      The implementation is as described in the paper. Notation attempts to \n",
      " |      follow that used in the paper. \n",
      " |      In particular: \n",
      " |      `N'  : number of individuals;\n",
      " |      `T'  : number of time periods (must be balanced);\n",
      " |      `K'  : number of observed covariates.\n",
      " |      Missing cells in unbalanced panel data can be imputed  with NaN \n",
      " |      by using the PanelPreProcess() class. Estimation simply ignores them.\n",
      " |      \n",
      " |  AUTHOR:         Martin Mugnier, martin.mugnier@ensae.fr, July 2022\n",
      " |  ------\n",
      " |  \n",
      " |  INPUTS:\n",
      " |  ------\n",
      " |  `A'            : N x T x K (Numpy) array of exogeneous variables;\n",
      " |  `b'            : N x T (Numpy) array of a scalar endogeneous variable;\n",
      " |  `indiv_ref'    : index of individual for which fixed effect is set to zero;\n",
      " |  `het_exog'     : indices of heterogeneous slopes;\n",
      " |  `model'        : string ('logit', 'probit', 'poisson');\n",
      " |  `max_workers'  : maximum number of processors used for parallel computing;\n",
      " |  `options_set'  : options for Newton-Raphson algorithms (FPMLE only).\n",
      " |  \n",
      " |  FUNCTIONS:\n",
      " |  ---------\n",
      " |  `objective'\n",
      " |  `compute_indiv_effect'\n",
      " |  `compute_time_effect'\n",
      " |  `inner_loop_indiv'\n",
      " |  `fast_inner_loop_indiv'\n",
      " |  `inner_loop_time'\n",
      " |  `fast_inner_loop_time'\n",
      " |  `fast_inner_loop_time''\n",
      " |  `outer_loop_slope_coeff'\n",
      " |  `fast_outer_loop_slope_coeff'\n",
      " |  `fit'\n",
      " |  \n",
      " |  Methods defined here:\n",
      " |  \n",
      " |  __init__(self, A, b, indiv_ref=0, het_exog=None, model='logit', max_workers=4, solver='Newton-CG', options_set={'xtol': 1e-06, 'maxiter': 1000, 'disp': False}, verbose=True)\n",
      " |      Initialize self.  See help(type(self)) for accurate signature.\n",
      " |  \n",
      " |  compute_indiv_effect(self, batch_indiv, alpha, xi, beta)\n",
      " |      compute_indiv_effect:\n",
      " |          perform STEP1 of FPMLE for a given batch of individuals.\n",
      " |          \n",
      " |      INPUTS:\n",
      " |      ------\n",
      " |      `batch_indiv' : batch of individuals;\n",
      " |      `alpha'       : (N-1) x 1 (Numpy) array, current guess for alpha;\n",
      " |      `xi'          : T x 1 (Numpy) array, current guess for xi;\n",
      " |      `beta'        : K x 1 (Numpy) array OR N x K array, current guess for \n",
      " |                      beta.\n",
      " |      \n",
      " |      OUTPUTS:\n",
      " |      -------\n",
      " |      `res_alpha'    : updated individual effects;\n",
      " |      `res_theta'    : updated slopes.\n",
      " |  \n",
      " |  compute_time_effect(self, batch_time, alpha, xi, beta)\n",
      " |      compute_time_effect:\n",
      " |          perform STEP2 of FPMLE for a given batch of time periods\n",
      " |          \n",
      " |      INPUTS:\n",
      " |      ------\n",
      " |      `batch_time' : batch of updated time periods;\n",
      " |      `alpha'         : (N-1) x 1 (Numpy array), current guess for alpha;\n",
      " |      `xi'            : T x 1 (Numpy array), current guess for xi;\n",
      " |      `beta'          : K x 1 (Numpy) array or N x K array, current guess for \n",
      " |                        beta.\n",
      " |      \n",
      " |      OUTPUTS:\n",
      " |      -------\n",
      " |      `res'   : updated time effects.\n",
      " |  \n",
      " |  fast_inner_loop_indiv(self, alpha, xi, beta, nu=0.001, hess=False)\n",
      " |      fast_inner_loop_indiv:\n",
      " |          run STEP 1 of FPMLE++.\n",
      " |          \n",
      " |      INPUTS:\n",
      " |      ------\n",
      " |      `alpha'       : (N-1) x 1 (Numpy array), current guess for alpha;\n",
      " |      `xi'          : T x 1 (Numpy array), current guess for xi;\n",
      " |      `beta'        : K x 1 (Numpy) array or N x K array, current guess for \n",
      " |                      beta.\n",
      " |      `nu'        : gradient step (positive small number);\n",
      " |      `hess'        : 0/1, use of hessian steps.\n",
      " |      \n",
      " |      OUTPUTS:\n",
      " |      -------\n",
      " |      `res'   : updated individual effects (and heterogeneous slopes).\n",
      " |  \n",
      " |  fast_inner_loop_time(self, alpha, xi, beta, nu=0.001, hess=True)\n",
      " |      fast_inner_loop_time:\n",
      " |          run STEP 2 of FPMLE++.\n",
      " |          \n",
      " |      INPUTS:\n",
      " |      ------\n",
      " |      `alpha'       : (N-1) x 1 (Numpy array), current guess for alpha;\n",
      " |      `xi'          : T x 1 (Numpy array), current guess for xi;\n",
      " |      `beta'        : K x 1 (Numpy) array or N x K array, current guess for \n",
      " |                      beta;\n",
      " |      `nu  '        : learning rate (positive small number);\n",
      " |      `hess'        : 0/1, use of hessian steps.\n",
      " |      \n",
      " |      OUTPUTS:\n",
      " |      -------\n",
      " |      `res'   : updated time effects.\n",
      " |  \n",
      " |  fast_outer_loop_slope_coeff(self, alpha, xi, beta, nu=0.001, hess=True)\n",
      " |      fast_outer_loop_slope_coeff:\n",
      " |          run STEP 3 of FPMLE++.\n",
      " |          \n",
      " |      INPUTS:\n",
      " |      ------\n",
      " |      `alpha'       : (N-1) x 1 (Numpy array), current guess for alpha;\n",
      " |      `xi'          : T x 1 (Numpy array), current guess for xi;\n",
      " |      `beta'        : K x 1 (Numpy) array or N x K array, current guess for \n",
      " |                      beta;\n",
      " |      `nu'          : learning rate (positive small number).\n",
      " |      \n",
      " |      OUTPUTS:\n",
      " |      -------\n",
      " |      `res'   : updated (homogeneous) slopes.\n",
      " |  \n",
      " |  fit(self, alpha_init=None, xi_init=None, beta_init=None, nu=0.001, hess=True, fast=True, eps=1e-06, iter_max=500)\n",
      " |      fit:\n",
      " |          estimate a semiparametric nonlinear model with two-way FEs.\n",
      " |      \n",
      " |      INPUTS:\n",
      " |      ------\n",
      " |      `alpha_init'    : (N-1) x 1 (Numpy) array, initial guess for alpha;\n",
      " |      `xi_init'       : T x 1 (Numpy) array, initial guess for xi;\n",
      " |      `beta_init'     : K x 1 or N x K (Numpy) array, initial guess for beta;\n",
      " |      `nu'            : learning rate (positive small number);\n",
      " |      `hess'          : 0/1, not use/use hessian steps;\n",
      " |      `fast'          : 0/1 not use/use FPMLE++;\n",
      " |      `eps'           : stopping convergence criterion;\n",
      " |      `iter_max'      : maximum number of iterations.       \n",
      " |      \n",
      " |      OUTPUT:\n",
      " |      ------\n",
      " |      res             : list of point estimates.\n",
      " |  \n",
      " |  inner_loop_indiv(self, alpha, xi, beta)\n",
      " |      inner_loop_indiv:\n",
      " |          run STEP 1 of FPMLE.\n",
      " |          \n",
      " |      INPUTS:\n",
      " |      ------\n",
      " |      `alpha'       : (N-1) x 1 (Numpy array), current guess for alpha;\n",
      " |      `xi'          : T x 1 (Numpy array), current guess for xi;\n",
      " |      `beta'        : K x 1 (Numpy) array or N x K array, current guess for \n",
      " |                      beta.\n",
      " |      \n",
      " |      OUTPUTS:\n",
      " |      -------\n",
      " |      `res'   : updated individual effects (and heterogeneous slopes).\n",
      " |  \n",
      " |  inner_loop_time(self, alpha, xi, beta)\n",
      " |      inner_loop_time:\n",
      " |          run STEP 2 of FPMLE.\n",
      " |          \n",
      " |      INPUTS:\n",
      " |      ------\n",
      " |      `alpha'       : (N-1) x 1 (Numpy array), current guess for alpha;\n",
      " |      `xi'          : T x 1 (Numpy array), current guess for xi;\n",
      " |      `beta'        : K x 1 (Numpy) array or N x K array, current guess for \n",
      " |                      beta.\n",
      " |      \n",
      " |      OUTPUTS:\n",
      " |      -------\n",
      " |      `res'   : updated time effects.\n",
      " |  \n",
      " |  objective(self, alpha, xi, beta)\n",
      " |      objective:\n",
      " |          compute the log-likelihood function.\n",
      " |          \n",
      " |      INPUTS:\n",
      " |      ------\n",
      " |      `alpha'    : (N-1) x 1 (Numpy) array of individual effects;\n",
      " |      `xi'       : T x 1 (Numpy) array of time effects;\n",
      " |      `beta'     : K x 1 or N x K (Numpy) array of slope coefficients.\n",
      " |      \n",
      " |      OUTPUT:\n",
      " |      ------\n",
      " |      loglik\n",
      " |  \n",
      " |  outer_loop_slope_coeff(self, alpha, xi, beta)\n",
      " |      outer_loop_slope_coeff:\n",
      " |          run STEP 3 of FPMLE.\n",
      " |          \n",
      " |      INPUTS:\n",
      " |      ------\n",
      " |      `alpha'       : (N-1) x 1 (Numpy array), current guess for alpha;\n",
      " |      `xi'          : T x 1 (Numpy array), current guess for xi;\n",
      " |      `beta'        : K x 1 (Numpy) array or N x K array, current guess for \n",
      " |                      beta.\n",
      " |      \n",
      " |      OUTPUTS:\n",
      " |      -------\n",
      " |      `res'   : updated (homogeneous) slopes.\n",
      " |  \n",
      " |  ----------------------------------------------------------------------\n",
      " |  Data descriptors defined here:\n",
      " |  \n",
      " |  __dict__\n",
      " |      dictionary for instance variables (if defined)\n",
      " |  \n",
      " |  __weakref__\n",
      " |      list of weak references to the object (if defined)\n",
      "\n"
     ]
    }
   ],
   "source": [
    "from nlmfe.TwoWayFPMLE import TwoWayFPMLE\n",
    "from nlmfe.BiasCorrections import BiasCorrections\n",
    "help(TwoWayFPMLE)"
   ]
  },
  {
   "cell_type": "markdown",
   "id": "d2771c17",
   "metadata": {},
   "source": [
    "## Application to simulated data"
   ]
  },
  {
   "cell_type": "code",
   "execution_count": 2,
   "id": "63c29bb6",
   "metadata": {},
   "outputs": [],
   "source": [
    "import numpy as np\n",
    "\n",
    "def logit_cdf(x):\n",
    "    \"\"\"\n",
    "    logit_cdf:\n",
    "        evaluate the logistic cumulative distribution function (cdf) at point x.\n",
    "        \n",
    "    :param x: evaluation point\n",
    "    \"\"\"\n",
    "    return 1. / (1. + np.exp(-x))\n",
    "\n",
    "def logit_pdf(x):\n",
    "    \"\"\"\n",
    "    logit_pdf:\n",
    "        evaluate the logistic probability density function (pdf) at point x.\n",
    "        \n",
    "    :param x: evaluation point\n",
    "    \"\"\"\n",
    "    return np.exp(x) / (1. + np.exp(x))**2"
   ]
  },
  {
   "cell_type": "markdown",
   "id": "b1c437c9",
   "metadata": {},
   "source": [
    "We simulate a simple binary logit model 500 times: \n",
    "\n",
    "$y_{it} \\in \\{0,1\\}$ and for all $i\\in\\{1,...,N\\}, t\\in\\{1,...,T\\}$:\n",
    "\n",
    "\\begin{equation}\n",
    "Pr(y_{it} =1|x_{it}, \\alpha_i, \\xi_t) = 1/(1+\\exp(-(x_{it}\\beta + \\alpha_i + \\xi_t)))\n",
    "\\end{equation}\n",
    "\n",
    "with $\\beta=1$, $\\alpha_1=0$, $\\alpha_i \\overset{iid}{\\sim}\\mathcal N(0,1/16)$ for $i\\geq 2$, $\\xi_t \\overset{iid}{\\sim}\\mathcal N(0,1/16)$, and $x_{it} = v_{it} + \\alpha_i$, $v_{it}\\overset{iid}{\\sim}$Unif$[-\\sqrt{3},\\sqrt{3}]$. The $\\alpha_i, \\xi_t,v_{it}$ are mutually independent. We set $N,T=200$."
   ]
  },
  {
   "cell_type": "code",
   "execution_count": 3,
   "id": "553d1d82",
   "metadata": {},
   "outputs": [],
   "source": [
    "from tqdm import tqdm\n",
    "seed = 2022\n",
    "np.random.seed(seed)\n",
    "\n",
    "B = 500\n",
    "n, T = 200, 200\n",
    "beta = np.ones(1)\n",
    "alpha = np.random.normal(0, 1/4, size=(B,n)) # indiv FEs\n",
    "alpha[:,0] = 0 # normalization \n",
    "xi = np.random.normal(0, 1/4, size=(B,T)) # time FEs\n",
    "X = np.random.uniform(-np.sqrt(3), np.sqrt(3), size=(B,n,T,len(beta))) + alpha[:,:,None,None]  # correlated effect\n",
    "M = X.dot(beta) + alpha[:,:,None] + xi[:,None,:]\n",
    "Y = (np.random.uniform(size=(B,n,T)) <= logit_cdf(M)).astype(int)\n",
    "ape = beta*np.mean(logit_pdf(M), axis=(1,2))   "
   ]
  },
  {
   "cell_type": "markdown",
   "id": "765cca55",
   "metadata": {},
   "source": [
    "We estimate the homogeneous slope coefficient ($\\beta$), individual-specific effects ($\\alpha_i$) and time-specific effects ($\\xi_t$) with FPMLE++."
   ]
  },
  {
   "cell_type": "code",
   "execution_count": 4,
   "id": "5f6f5cab",
   "metadata": {},
   "outputs": [
    {
     "name": "stderr",
     "output_type": "stream",
     "text": [
      "100%|████████████████████████████████████████████████████████████████████████████████| 500/500 [01:12<00:00,  6.87it/s]\n"
     ]
    }
   ],
   "source": [
    "res_bet = np.empty((B,1))\n",
    "res_alpha = np.empty((B,n-1))\n",
    "res_xi = np.empty((B,T))\n",
    "res_ape = np.empty((B,1))\n",
    "\n",
    "for b in tqdm(range(B)):\n",
    "    logit_model = TwoWayFPMLE(X[b], Y[b], model='logit', verbose=False)\n",
    "    res_bet[b], res_alpha[b], res_xi[b] = logit_model.fit(fast=True, hess=True, iter_max=20) # set fast=False to use FPMLE\n",
    "    res_ape[b] = res_bet[b]*np.mean(logit_pdf(X[b].dot(res_bet[b]) + np.insert(res_alpha[b], 0, 0)[:,None] + res_xi[b][None,:]))"
   ]
  },
  {
   "cell_type": "code",
   "execution_count": 5,
   "id": "ddafef4c",
   "metadata": {},
   "outputs": [
    {
     "name": "stdout",
     "output_type": "stream",
     "text": [
      "True beta:  1.0\n",
      "Average bias beta_hat:  0.01089944132029768\n",
      "Average RMSE beta_hat:  0.013489840646692022\n",
      "Average true average partial effect (APE):  0.19419937001920265\n",
      "Average bias APE_hat:  8.863246923629027e-05\n",
      "Average RMSE APE_hat:  0.0014495456794012904\n"
     ]
    }
   ],
   "source": [
    "print('True beta: ', beta[0])\n",
    "print('Average bias beta_hat: ', np.mean(res_bet-beta))\n",
    "print('Average RMSE beta_hat: ', np.mean(np.abs(res_bet-beta)))\n",
    "print('Average true average partial effect (APE): ', np.mean(ape))\n",
    "print('Average bias APE_hat: ', np.mean(res_ape-ape))\n",
    "print('Average RMSE APE_hat: ', np.mean(np.abs(res_ape-ape)))"
   ]
  },
  {
   "cell_type": "code",
   "execution_count": 6,
   "id": "411b94b0",
   "metadata": {},
   "outputs": [
    {
     "name": "stderr",
     "output_type": "stream",
     "text": [
      " 37%|█████████████████████████████▊                                                  | 186/500 [00:14<00:24, 12.98it/s]C:\\ProgramData\\Anaconda3\\lib\\site-packages\\scipy\\sparse\\linalg\\dsolve\\linsolve.py:206: MatrixRankWarning: Matrix is exactly singular\n",
      "  warn(\"Matrix is exactly singular\", MatrixRankWarning)\n",
      "100%|████████████████████████████████████████████████████████████████████████████████| 500/500 [00:40<00:00, 12.24it/s]\n"
     ]
    }
   ],
   "source": [
    "# compute analytically bias corrected estimates and standard errors (see Fernandez-Val and Weidner, 2016)\n",
    "res_bet_BC = np.empty((B, 3))\n",
    "res_avar_BC = np.empty((B, 3))\n",
    "\n",
    "for b in tqdm(range(B)):\n",
    "    biascorrect = BiasCorrections(X[b], Y[b], model='logit')\n",
    "    res_bet_BC[b,0], res_avar_BC[b,0] = biascorrect.bias_correct(np.concatenate((res_bet[b], res_alpha[b], res_xi[b])), L=0)\n",
    "    res_bet_BC[b,1], res_avar_BC[b,1] = biascorrect.bias_correct(np.concatenate((res_bet[b], res_alpha[b], res_xi[b])), L=1)\n",
    "    res_bet_BC[b,2], res_avar_BC[b,2] = biascorrect.bias_correct(np.concatenate((res_bet[b], res_alpha[b], res_xi[b])), L=2)"
   ]
  },
  {
   "cell_type": "code",
   "execution_count": 7,
   "id": "9b6b9fb3",
   "metadata": {},
   "outputs": [
    {
     "name": "stdout",
     "output_type": "stream",
     "text": [
      "                                  Bias      RMSE  Coverage (.95)\n",
      "beta                          0.010899  0.013490             NaN\n",
      "average partial effect (APE)  0.000089  0.001450           0.580\n",
      "beta_corrected (L=0)          0.021506  0.021956           0.578\n",
      "beta_corrected (L=1)          0.021506  0.021956           0.580\n",
      "beta_corrected (L=2)          0.021504  0.021956             NaN\n",
      " \n",
      "True beta:  1.0\n",
      "Average true APE:  0.19419937001920265\n"
     ]
    }
   ],
   "source": [
    "# compare bias, RMSE, and coverage of analytical 95% CI \n",
    "import pandas as pd\n",
    "from scipy.stats import norm\n",
    "\n",
    "table = np.empty((5, 3))\n",
    "table[:] = np.nan\n",
    "table[0, 0] = np.nanmean(res_bet-beta)\n",
    "table[1, 0] = np.nanmean(res_ape-ape)\n",
    "table[2, 0] = np.nanmean(res_bet_BC[:,0]-beta)\n",
    "table[3, 0] = np.nanmean(res_bet_BC[:,1]-beta)\n",
    "table[4, 0] = np.nanmean(res_bet_BC[:,2]-beta)\n",
    "\n",
    "table[0, 1] = np.nanmean(np.abs(res_bet-beta))\n",
    "table[1, 1] = np.nanmean(np.abs(res_ape-ape))\n",
    "table[2, 1] = np.nanmean(np.abs(res_bet_BC[:,0]-beta))\n",
    "table[3, 1] = np.nanmean(np.abs(res_bet_BC[:,1]-beta))\n",
    "table[4, 1] = np.nanmean(np.abs(res_bet_BC[:,2]-beta))\n",
    "\n",
    "table[1, 2] = np.mean((np.abs(res_bet_BC[:,0]-beta) / np.sqrt(res_avar_BC[b,0]/(n*T)) <= norm.ppf(1-0.05/2)))\n",
    "table[2, 2] = np.mean((np.abs(res_bet_BC[:,1]-beta) / np.sqrt(res_avar_BC[b,1]/(n*T)) <= norm.ppf(1-0.05/2)))\n",
    "table[3, 2] = np.mean((np.abs(res_bet_BC[:,2]-beta) / np.sqrt(res_avar_BC[b,2]/(n*T)) <= norm.ppf(1-0.05/2)))\n",
    "\n",
    "res = pd.DataFrame(table)\n",
    "res.columns = ['Bias', 'RMSE', 'Coverage (.95)']\n",
    "res.index = ['beta', 'average partial effect (APE)', 'beta_corrected (L=0)', 'beta_corrected (L=1)', 'beta_corrected (L=2)']\n",
    "\n",
    "print(res)\n",
    "print(' ')\n",
    "print('True beta: ', beta[0])\n",
    "print('Average true APE: ', np.mean(ape))"
   ]
  },
  {
   "cell_type": "markdown",
   "id": "aed4eb8c",
   "metadata": {},
   "source": [
    "## Application to real data (selection into international trade)\n",
    "Helpman et al. (2008) estimate trade flows and explicitly take into account firm selection into export markets. Their method features a first step that estimates the establishment of exportation from one country to another using a binary model. Because of this step, they can then control for the fraction of firms that export (consistently estimated from the first step) and the selection effect due to zero trade flows when estimating the gravity equation in the second step. In the empirical application, this first step is implemented as following (see their equation 12 on page 455):\n",
    "\n",
    "\\begin{equation}\n",
    "\t\\Pr(T_{ij} = 1 \\mid \\text{dist}_{ij}, \\phi_{ij}, \\zeta_i, \\xi_j) = \\Phi\\left(-\\gamma\\text{dist}_{ij} + \\phi_{ij}\\kappa + \\zeta_i + \\xi_j\\right), i,j=1,...,N, i \\neq j, \\qquad (1)\n",
    "\\end{equation}\n",
    "\n",
    "where $T_{ij}=1$ when country $j$ exports to $i$ and zero otherwise, $\\text{dist}_{ij}$ is the distance between $i$ and $j$, $\\phi_{ij}$ is a vector of observed country-pair specific variables, $\\zeta_i$ ($\\xi_j$) is an importer (exporter) fixed effect, and $\\Phi$ is the standard normal cumulative distribution function. According to their theoretical model,  $\\gamma$ is interpreted as a constant elasticity of a firm's trade with respect to distance. \n",
    "\n",
    "\n",
    "Different from the original setting, we allow  $\\gamma$ to be country- and exporter-specific:\n",
    "\n",
    "\\begin{equation}\n",
    "\t\\Pr(T_{ij} = 1 \\mid \\text{dist}_{ij}, \\phi_{ij}, \\zeta_i, \\xi_j) = \\Phi(-\\gamma^{\\text{exp}}_j\\text{dist}_{ij} + \\phi_{ij}\\kappa + \\zeta_i + \\xi_j), i,j=1,...,N, i \\neq j. \\qquad (2)\n",
    "\\end{equation}\n",
    "\n",
    "Recent literature on international trade raises concerns about the assumption of constant trade elasticities that impose homogeneous effects of trade cost shifters (see Carrère et al. (2020); Chen and Novy (2021) for examples). The specification in (2) relaxes this assumption along two dimensions. First, it  allows firms from different countries to react differently to the same change in trade cost shifters when exporting to the same third country. Second, two countries in a trade relationship, when exporting to the other, can react differently to the same change in the trade cost shifters that affects the trade in both directions. Furthermore, this specification is implied by a theoretical model along the lines of Helpman et al. (2008) with demand elasticity in the product market being  country-specific. *[Concretely, denote by $\\varepsilon_j$ the demand elasticity in country $j$ in their equation 2 on page 449. Then, the log of trade cost,* $\\ln \\tau_{ij}$*, enters the first (and the second) step with a coefficient $\\varepsilon_j-1$. As a result, along the lines of their empirical specification, we can specify* $(\\varepsilon_j-1)\\ln\\tau_{ij}=\\gamma_j^{\\text{exp}}d_{ij}-u_{ij}$*.]* \n",
    "\n",
    "We also consider another specification that allows   $\\gamma$ to be country- and importer-specific:\n",
    "\n",
    "\\begin{equation}\n",
    "\t\t\\Pr(T_{ij} = 1 \\mid \\text{dist}_{ij}, \\phi_{ij}, \\zeta_i, \\xi_j) = \\Phi(-\\gamma^{\\text{imp}}_i\\text{dist}_{ij} + \\phi_{ij}\\kappa + \\zeta_i + \\xi_j), i,j=1,...,N, i \\neq j. \\qquad (3)\n",
    "\\end{equation}\n",
    "\n",
    "Similar to (2), the specification in (3) allows two countries in a trade relationship to react differently to the same change in the trade cost shifters that affects the trade in both directions. Moreover, (3) can also incorporate firm's heterogeneous reaction to the same change in trade cost shifters, depending on the country it exports to.  \n",
    "\n",
    "In what follows, we estimate the first step of the method by Helpman et al. (2008) using  (2) and (3), and quantify the extent to which the trade elasticity is heterogeneous among countries."
   ]
  },
  {
   "cell_type": "markdown",
   "id": "21bd544c",
   "metadata": {},
   "source": [
    "### Data"
   ]
  },
  {
   "cell_type": "code",
   "execution_count": 8,
   "id": "5cc6e1c8",
   "metadata": {},
   "outputs": [
    {
     "name": "stdout",
     "output_type": "stream",
     "text": [
      "Requirement already satisfied: wget in c:\\programdata\\anaconda3\\lib\\site-packages (3.2)\n",
      "Note: you may need to restart the kernel to use updated packages.\n"
     ]
    }
   ],
   "source": [
    "pip install wget"
   ]
  },
  {
   "cell_type": "code",
   "execution_count": 9,
   "id": "572aca67",
   "metadata": {},
   "outputs": [
    {
     "name": "stdout",
     "output_type": "stream",
     "text": [
      "100% [..........................................................................] 1532500 / 1532500"
     ]
    }
   ],
   "source": [
    "import wget\n",
    "import zipfile as zf\n",
    "\n",
    "# import Helpman et al. (2008) data\n",
    "url = 'https://scholar.harvard.edu/files/melitz/files/gravity_data_share.zip'\n",
    "wget.download(url)\n",
    "files = zf.ZipFile('gravity_data_share.zip','r')\n",
    "files.extractall()\n",
    "files.close()"
   ]
  },
  {
   "cell_type": "code",
   "execution_count": 10,
   "id": "091d65dc",
   "metadata": {},
   "outputs": [
    {
     "data": {
      "text/html": [
       "<div>\n",
       "<style scoped>\n",
       "    .dataframe tbody tr th:only-of-type {\n",
       "        vertical-align: middle;\n",
       "    }\n",
       "\n",
       "    .dataframe tbody tr th {\n",
       "        vertical-align: top;\n",
       "    }\n",
       "\n",
       "    .dataframe thead th {\n",
       "        text-align: right;\n",
       "    }\n",
       "</style>\n",
       "<table border=\"1\" class=\"dataframe\">\n",
       "  <thead>\n",
       "    <tr style=\"text-align: right;\">\n",
       "      <th></th>\n",
       "      <th>year</th>\n",
       "      <th>expcode</th>\n",
       "      <th>impcode</th>\n",
       "      <th>common_lang</th>\n",
       "      <th>legalsystem_same</th>\n",
       "      <th>religion_same</th>\n",
       "      <th>religion_same_recoded</th>\n",
       "      <th>border</th>\n",
       "      <th>cu</th>\n",
       "      <th>ln_distance</th>\n",
       "      <th>fta</th>\n",
       "      <th>ln_trade</th>\n",
       "      <th>colonial</th>\n",
       "      <th>gatt_wto</th>\n",
       "      <th>n_islands</th>\n",
       "      <th>n_landlock</th>\n",
       "      <th>trade</th>\n",
       "    </tr>\n",
       "  </thead>\n",
       "  <tbody>\n",
       "    <tr>\n",
       "      <th>5</th>\n",
       "      <td>1986</td>\n",
       "      <td>117100</td>\n",
       "      <td>130120</td>\n",
       "      <td>0</td>\n",
       "      <td>0</td>\n",
       "      <td>0.013403</td>\n",
       "      <td>0.013403</td>\n",
       "      <td>0</td>\n",
       "      <td>0</td>\n",
       "      <td>4.106691</td>\n",
       "      <td>0</td>\n",
       "      <td>6.761573</td>\n",
       "      <td>0</td>\n",
       "      <td>1</td>\n",
       "      <td>0</td>\n",
       "      <td>0</td>\n",
       "      <td>1.0</td>\n",
       "    </tr>\n",
       "    <tr>\n",
       "      <th>17</th>\n",
       "      <td>1986</td>\n",
       "      <td>117100</td>\n",
       "      <td>134340</td>\n",
       "      <td>1</td>\n",
       "      <td>0</td>\n",
       "      <td>0.012962</td>\n",
       "      <td>0.013351</td>\n",
       "      <td>0</td>\n",
       "      <td>0</td>\n",
       "      <td>3.997316</td>\n",
       "      <td>0</td>\n",
       "      <td>NaN</td>\n",
       "      <td>0</td>\n",
       "      <td>1</td>\n",
       "      <td>0</td>\n",
       "      <td>0</td>\n",
       "      <td>0.0</td>\n",
       "    </tr>\n",
       "    <tr>\n",
       "      <th>22</th>\n",
       "      <td>1986</td>\n",
       "      <td>117100</td>\n",
       "      <td>135040</td>\n",
       "      <td>0</td>\n",
       "      <td>0</td>\n",
       "      <td>0.013130</td>\n",
       "      <td>0.013130</td>\n",
       "      <td>0</td>\n",
       "      <td>0</td>\n",
       "      <td>4.212758</td>\n",
       "      <td>0</td>\n",
       "      <td>8.024535</td>\n",
       "      <td>0</td>\n",
       "      <td>1</td>\n",
       "      <td>0</td>\n",
       "      <td>0</td>\n",
       "      <td>1.0</td>\n",
       "    </tr>\n",
       "    <tr>\n",
       "      <th>30</th>\n",
       "      <td>1986</td>\n",
       "      <td>117100</td>\n",
       "      <td>137320</td>\n",
       "      <td>0</td>\n",
       "      <td>0</td>\n",
       "      <td>0.013000</td>\n",
       "      <td>0.013000</td>\n",
       "      <td>0</td>\n",
       "      <td>0</td>\n",
       "      <td>3.991379</td>\n",
       "      <td>0</td>\n",
       "      <td>NaN</td>\n",
       "      <td>0</td>\n",
       "      <td>1</td>\n",
       "      <td>0</td>\n",
       "      <td>0</td>\n",
       "      <td>0.0</td>\n",
       "    </tr>\n",
       "    <tr>\n",
       "      <th>49</th>\n",
       "      <td>1986</td>\n",
       "      <td>117100</td>\n",
       "      <td>137360</td>\n",
       "      <td>1</td>\n",
       "      <td>1</td>\n",
       "      <td>0.014067</td>\n",
       "      <td>0.014456</td>\n",
       "      <td>0</td>\n",
       "      <td>0</td>\n",
       "      <td>3.793402</td>\n",
       "      <td>0</td>\n",
       "      <td>NaN</td>\n",
       "      <td>0</td>\n",
       "      <td>1</td>\n",
       "      <td>0</td>\n",
       "      <td>0</td>\n",
       "      <td>0.0</td>\n",
       "    </tr>\n",
       "  </tbody>\n",
       "</table>\n",
       "</div>"
      ],
      "text/plain": [
       "    year  expcode  impcode  common_lang  legalsystem_same  religion_same  \\\n",
       "5   1986   117100   130120            0                 0       0.013403   \n",
       "17  1986   117100   134340            1                 0       0.012962   \n",
       "22  1986   117100   135040            0                 0       0.013130   \n",
       "30  1986   117100   137320            0                 0       0.013000   \n",
       "49  1986   117100   137360            1                 1       0.014067   \n",
       "\n",
       "    religion_same_recoded  border  cu  ln_distance  fta  ln_trade  colonial  \\\n",
       "5                0.013403       0   0     4.106691    0  6.761573         0   \n",
       "17               0.013351       0   0     3.997316    0       NaN         0   \n",
       "22               0.013130       0   0     4.212758    0  8.024535         0   \n",
       "30               0.013000       0   0     3.991379    0       NaN         0   \n",
       "49               0.014456       0   0     3.793402    0       NaN         0   \n",
       "\n",
       "    gatt_wto  n_islands  n_landlock  trade  \n",
       "5          1          0           0    1.0  \n",
       "17         1          0           0    0.0  \n",
       "22         1          0           0    1.0  \n",
       "30         1          0           0    0.0  \n",
       "49         1          0           0    0.0  "
      ]
     },
     "execution_count": 10,
     "metadata": {},
     "output_type": "execute_result"
    }
   ],
   "source": [
    "# read data\n",
    "data = pd.read_stata('data1980s_share.dta', convert_dates=False, convert_categoricals=False, preserve_dtypes=True)\n",
    "\n",
    "# keep if year==1986\n",
    "data = data[data['year']==1986]\n",
    "\n",
    "# drop CONGO as exporter because it did not export to any country in 1986\n",
    "data = data[data['expcode']!=141780]\n",
    "\n",
    "# create trade dummy \n",
    "data['trade'] = (data['ln_trade'].isna()==False).astype(float) \n",
    "\n",
    "data.head()"
   ]
  },
  {
   "cell_type": "code",
   "execution_count": 11,
   "id": "8c2d595a",
   "metadata": {},
   "outputs": [
    {
     "name": "stdout",
     "output_type": "stream",
     "text": [
      "157\n",
      "158\n"
     ]
    }
   ],
   "source": [
    "print(len(np.unique(data['expcode'])))\n",
    "print(len(np.unique(data['impcode'])))"
   ]
  },
  {
   "cell_type": "markdown",
   "id": "718177b3",
   "metadata": {},
   "source": [
    "### Estimate exporter-specific effects"
   ]
  },
  {
   "cell_type": "code",
   "execution_count": 12,
   "id": "9b46e0ab",
   "metadata": {},
   "outputs": [],
   "source": [
    "# sort columns and convert data to numeric\n",
    "data = data[['expcode', 'impcode', 'ln_distance', 'border', 'n_islands', 'n_landlock', 'legalsystem_same','common_lang', \n",
    "             'colonial', 'cu', 'fta', 'religion_same', 'trade']]\n",
    "for j in data.columns[2:]:\n",
    "    data[j] = pd.to_numeric(data[j])\n",
    "\n",
    "# nlmfe need some preprocessing of the data into N x T x K panel structure\n",
    "from nlmfe.PanelPreProcess import PanelPreProcess\n",
    "PanelPreProcess = PanelPreProcess()\n",
    "data = data.sort_values(['expcode', 'impcode'])\n",
    "Xexp, yexp, exp_ids, _ = PanelPreProcess.reshape_MaR(np.array(data)[:,:-1],  np.array(data)[:,-1], 0, 1)"
   ]
  },
  {
   "cell_type": "code",
   "execution_count": 13,
   "id": "cf4ada98",
   "metadata": {},
   "outputs": [
    {
     "name": "stdout",
     "output_type": "stream",
     "text": [
      "Mixed heterogeneous and homogeneous slopes model.\n",
      "Warning: the outcome matrix contains NaNs or other                       than 0/1 entries.\n"
     ]
    }
   ],
   "source": [
    "# estimate exporter-specific distance effects \n",
    "# normalize exporter fixed effect by first alphabetic country: AFGHANISTAN  (see https://www23.statcan.gc.ca/imdb-bmdi/pub/document/2201_DLI_D7_T22_V1-fra.pdf)\n",
    "AFG = np.where(exp_ids==450040)[0]\n",
    "\n",
    "probit_model = TwoWayFPMLE(Xexp, yexp, indiv_ref=AFG, het_exog=[0], model='probit')\n",
    "beta_exp, alpha_exp, xi_exp = probit_model.fit(fast=True, hess=True, iter_max=2)\n",
    "marginal_effect_at_mean_exp = np.mean(beta_exp[:,0])*norm.pdf(np.nanmean(np.einsum('ijk,ik->ij', Xexp, beta_exp) \n",
    "                + np.insert(alpha_exp, AFG, 0)[:,None] + xi_exp[None,:]))\n",
    "average_partial_effect_exp = np.nanmean(beta_exp[:,0].reshape(len(exp_ids))[:,None]*norm.pdf(\n",
    "                np.einsum('ijk,ik->ij', Xexp, beta_exp)  + np.insert(alpha_exp, AFG, 0)[:,None] + xi_exp[None,:]))"
   ]
  },
  {
   "cell_type": "code",
   "execution_count": 14,
   "id": "1acb70db",
   "metadata": {},
   "outputs": [
    {
     "data": {
      "image/png": "[encoded data removed]",
      "text/plain": [
       "<Figure size 432x288 with 1 Axes>"
      ]
     },
     "metadata": {
      "needs_background": "light"
     },
     "output_type": "display_data"
    }
   ],
   "source": [
    "# histogram of heterogeneous effects\n",
    "from matplotlib import pyplot as plt\n",
    "\n",
    "fig, ax = plt.subplots(figsize = (6,4))\n",
    "plt.axvline(x=np.mean(beta_exp[:,0]), color='red', linestyle='--', linewidth=0.7)\n",
    "plt.hist(beta_exp[:,0], bins=50, rwidth=0.9, color='#0504aa')\n",
    "plt.grid(axis='y', alpha=0.75)\n",
    "plt.ylabel('Country count')\n",
    "plt.xlabel(r'$-\\hat \\gamma_{j}$')\n",
    "plt.title('Exporter-specific distance effect')\n",
    "plt.show()"
   ]
  },
  {
   "cell_type": "code",
   "execution_count": 15,
   "id": "ab763278",
   "metadata": {},
   "outputs": [
    {
     "name": "stdout",
     "output_type": "stream",
     "text": [
      "[-0.0096 -0.0038 -0.0048]\n"
     ]
    }
   ],
   "source": [
    "print(np.round([np.mean(beta_exp[:,0]), marginal_effect_at_mean_exp, average_partial_effect_exp], 4))"
   ]
  },
  {
   "cell_type": "markdown",
   "id": "eb4efc6e",
   "metadata": {},
   "source": [
    "*Note that these results do not exactly match that in the paper probably because of Jupyter's notebook rounding errors*."
   ]
  },
  {
   "cell_type": "markdown",
   "id": "74ea730a",
   "metadata": {},
   "source": [
    "### Estimate importer-specific effects"
   ]
  },
  {
   "cell_type": "code",
   "execution_count": 16,
   "id": "7ee093a6",
   "metadata": {},
   "outputs": [
    {
     "name": "stdout",
     "output_type": "stream",
     "text": [
      "Mixed heterogeneous and homogeneous slopes model.\n",
      "Warning: the outcome matrix contains NaNs or other                       than 0/1 entries.\n"
     ]
    }
   ],
   "source": [
    "# estimate importer-specific distance effects \n",
    "from nlmfe.PanelPreProcess import PanelPreProcess\n",
    "PanelPreProcess = PanelPreProcess()\n",
    "data = data.sort_values(['impcode', 'expcode'])\n",
    "Ximp, yimp, imp_ids, _ = PanelPreProcess.reshape_MaR(np.array(data)[:,:-1], np.array(data)[:,-1], 1, 0)\n",
    "\n",
    "prob_mod = TwoWayFPMLE(Ximp, yimp, AFG, [0], model='probit')\n",
    "beta_imp, alpha_imp, xi_imp = prob_mod.fit(fast=True, hess=True, iter_max=2)\n",
    "marginal_effect_at_mean_imp = np.mean(beta_imp[:,0])*norm.pdf(np.nanmean(np.einsum('ijk,ik->ij', Ximp, beta_imp) \n",
    "                                + np.insert(alpha_imp, AFG, 0)[:,None] + xi_imp[None,:]))\n",
    "average_partial_effect_imp = np.nanmean(beta_imp[:,0].reshape(len(imp_ids))[:,None]*norm.pdf(np.einsum('ijk,ik->ij', \n",
    "                                Ximp, beta_imp) + np.insert(alpha_imp, AFG, 0)[:,None] + xi_imp[None,:]))"
   ]
  },
  {
   "cell_type": "code",
   "execution_count": 17,
   "id": "98de1bd9",
   "metadata": {},
   "outputs": [
    {
     "data": {
      "image/png": "[encoded data removed]",
      "text/plain": [
       "<Figure size 432x288 with 1 Axes>"
      ]
     },
     "metadata": {
      "needs_background": "light"
     },
     "output_type": "display_data"
    }
   ],
   "source": [
    "# histogram of heterogeneous effects\n",
    "fig, ax = plt.subplots(figsize = (6,4))\n",
    "plt.axvline(x=np.mean(beta_imp[:,0]), color='red', linestyle='--', linewidth=0.7)\n",
    "plt.hist(beta_imp[:,0], bins=50, rwidth=0.9, color='#0504aa')\n",
    "plt.grid(axis='y', alpha=0.75)\n",
    "plt.ylabel('Country count')\n",
    "plt.xlabel(r'$-\\hat \\gamma_{i}$')\n",
    "plt.title('Importer-specific distance effect')\n",
    "plt.show()"
   ]
  },
  {
   "cell_type": "code",
   "execution_count": 18,
   "id": "41b821a5",
   "metadata": {},
   "outputs": [
    {
     "name": "stdout",
     "output_type": "stream",
     "text": [
      "-0.014346214817769576\n",
      "-0.005708598291670141\n",
      "-0.003932018561511836\n"
     ]
    }
   ],
   "source": [
    "print(np.mean(beta_imp[:,0]))\n",
    "print(marginal_effect_at_mean_imp)\n",
    "print(average_partial_effect_imp)"
   ]
  },
  {
   "cell_type": "markdown",
   "id": "03d81ada",
   "metadata": {},
   "source": [
    "*Again, these results do not match exactly that in the paper probably because of Jupyter's rounding errors.*"
   ]
  },
  {
   "cell_type": "markdown",
   "id": "62ad49dc",
   "metadata": {},
   "source": [
    "### Percentile bootstrap (symmetric) CIs for standard deviation"
   ]
  },
  {
   "cell_type": "code",
   "execution_count": 19,
   "id": "e73a1de9",
   "metadata": {},
   "outputs": [
    {
     "name": "stderr",
     "output_type": "stream",
     "text": [
      "  0%|▏                                                                                 | 1/500 [00:00<01:02,  7.99it/s]"
     ]
    },
    {
     "name": "stdout",
     "output_type": "stream",
     "text": [
      "Warning: the outcome matrix contains NaNs or other                       than 0/1 entries.\n",
      "Warning: the outcome matrix contains NaNs or other                       than 0/1 entries.\n",
      "Warning: the outcome matrix contains NaNs or other                       than 0/1 entries.\n",
      "Warning: the outcome matrix contains NaNs or other                       than 0/1 entries.\n"
     ]
    },
    {
     "name": "stderr",
     "output_type": "stream",
     "text": [
      "  1%|▍                                                                                 | 3/500 [00:00<01:06,  7.49it/s]"
     ]
    },
    {
     "name": "stdout",
     "output_type": "stream",
     "text": [
      "Warning: the outcome matrix contains NaNs or other                       than 0/1 entries.\n",
      "Warning: the outcome matrix contains NaNs or other                       than 0/1 entries.\n",
      "Warning: the outcome matrix contains NaNs or other                       than 0/1 entries.\n"
     ]
    },
    {
     "name": "stderr",
     "output_type": "stream",
     "text": [
      "\r",
      "  1%|▋                                                                                 | 4/500 [00:00<01:05,  7.52it/s]"
     ]
    },
    {
     "name": "stdout",
     "output_type": "stream",
     "text": [
      "Warning: the outcome matrix contains NaNs or other                       than 0/1 entries.\n",
      "Warning: the outcome matrix contains NaNs or other                       than 0/1 entries.\n",
      "Warning: the outcome matrix contains NaNs or other                       than 0/1 entries.\n"
     ]
    },
    {
     "name": "stderr",
     "output_type": "stream",
     "text": [
      "  1%|▉                                                                                 | 6/500 [00:00<01:09,  7.15it/s]"
     ]
    },
    {
     "name": "stdout",
     "output_type": "stream",
     "text": [
      "Warning: the outcome matrix contains NaNs or other                       than 0/1 entries.\n",
      "Warning: the outcome matrix contains NaNs or other                       than 0/1 entries.\n",
      "Warning: the outcome matrix contains NaNs or other                       than 0/1 entries.\n"
     ]
    },
    {
     "name": "stderr",
     "output_type": "stream",
     "text": [
      "  2%|█▎                                                                                | 8/500 [00:01<01:06,  7.35it/s]"
     ]
    },
    {
     "name": "stdout",
     "output_type": "stream",
     "text": [
      "Warning: the outcome matrix contains NaNs or other                       than 0/1 entries.\n",
      "Warning: the outcome matrix contains NaNs or other                       than 0/1 entries.\n",
      "Warning: the outcome matrix contains NaNs or other                       than 0/1 entries.\n"
     ]
    },
    {
     "name": "stderr",
     "output_type": "stream",
     "text": [
      "\r",
      "  2%|█▍                                                                                | 9/500 [00:01<01:05,  7.50it/s]"
     ]
    },
    {
     "name": "stdout",
     "output_type": "stream",
     "text": [
      "Warning: the outcome matrix contains NaNs or other                       than 0/1 entries.\n",
      "Warning: the outcome matrix contains NaNs or other                       than 0/1 entries.\n",
      "Warning: the outcome matrix contains NaNs or other                       than 0/1 entries.\n",
      "Warning: the outcome matrix contains NaNs or other                       than 0/1 entries.\n"
     ]
    },
    {
     "name": "stderr",
     "output_type": "stream",
     "text": [
      "  2%|█▊                                                                               | 11/500 [00:01<01:03,  7.73it/s]"
     ]
    },
    {
     "name": "stdout",
     "output_type": "stream",
     "text": [
      "Warning: the outcome matrix contains NaNs or other                       than 0/1 entries.\n",
      "Warning: the outcome matrix contains NaNs or other                       than 0/1 entries.\n",
      "Warning: the outcome matrix contains NaNs or other                       than 0/1 entries.\n",
      "Warning: the outcome matrix contains NaNs or other                       than 0/1 entries.\n"
     ]
    },
    {
     "name": "stderr",
     "output_type": "stream",
     "text": [
      "  3%|██                                                                               | 13/500 [00:01<01:07,  7.16it/s]"
     ]
    },
    {
     "name": "stdout",
     "output_type": "stream",
     "text": [
      "Warning: the outcome matrix contains NaNs or other                       than 0/1 entries.\n",
      "Warning: the outcome matrix contains NaNs or other                       than 0/1 entries.\n",
      "Warning: the outcome matrix contains NaNs or other                       than 0/1 entries.\n"
     ]
    },
    {
     "name": "stderr",
     "output_type": "stream",
     "text": [
      "\r",
      "  3%|██▎                                                                              | 14/500 [00:01<01:17,  6.30it/s]"
     ]
    },
    {
     "name": "stdout",
     "output_type": "stream",
     "text": [
      "Warning: the outcome matrix contains NaNs or other                       than 0/1 entries.\n",
      "Warning: the outcome matrix contains NaNs or other                       than 0/1 entries.\n",
      "Warning: the outcome matrix contains NaNs or other                       than 0/1 entries.\n"
     ]
    },
    {
     "name": "stderr",
     "output_type": "stream",
     "text": [
      "  3%|██▍                                                                              | 15/500 [00:02<01:15,  6.41it/s]C:\\Users\\MartinMUGNIER\\Dropbox\\2020_long_panel_two_way_fixed_effects\\code\\func.py:460: RuntimeWarning: divide by zero encountered in true_divide\n",
      "  hess = A[:,:,:,None]*A[:,:,None,:] * (m**2/ (M*(1-M)))[:,:, None, None]\n",
      "C:\\Users\\MartinMUGNIER\\Dropbox\\2020_long_panel_two_way_fixed_effects\\code\\func.py:460: RuntimeWarning: invalid value encountered in multiply\n",
      "  hess = A[:,:,:,None]*A[:,:,None,:] * (m**2/ (M*(1-M)))[:,:, None, None]\n",
      "C:\\Users\\MartinMUGNIER\\Dropbox\\2020_long_panel_two_way_fixed_effects\\code\\func.py:260: RuntimeWarning: divide by zero encountered in true_divide\n",
      "  grad = np.nansum(A * ((m/(M*(1-M))) * (b-M))[:,:,None], axis)\n",
      "C:\\Users\\MartinMUGNIER\\Dropbox\\2020_long_panel_two_way_fixed_effects\\code\\func.py:260: RuntimeWarning: invalid value encountered in multiply\n",
      "  grad = np.nansum(A * ((m/(M*(1-M))) * (b-M))[:,:,None], axis)\n",
      "  3%|██▌                                                                              | 16/500 [00:02<01:13,  6.55it/s]"
     ]
    },
    {
     "name": "stdout",
     "output_type": "stream",
     "text": [
      "Warning: the outcome matrix contains NaNs or other                       than 0/1 entries.\n",
      "Warning: the outcome matrix contains NaNs or other                       than 0/1 entries.\n",
      "Warning: the outcome matrix contains NaNs or other                       than 0/1 entries.\n",
      "Warning: the outcome matrix contains NaNs or other                       than 0/1 entries.\n"
     ]
    },
    {
     "name": "stderr",
     "output_type": "stream",
     "text": [
      "  4%|██▉                                                                              | 18/500 [00:02<01:09,  6.99it/s]"
     ]
    },
    {
     "name": "stdout",
     "output_type": "stream",
     "text": [
      "Warning: the outcome matrix contains NaNs or other                       than 0/1 entries.\n",
      "Warning: the outcome matrix contains NaNs or other                       than 0/1 entries.\n",
      "Warning: the outcome matrix contains NaNs or other                       than 0/1 entries.\n",
      "Warning: the outcome matrix contains NaNs or other                       than 0/1 entries.\n"
     ]
    },
    {
     "name": "stderr",
     "output_type": "stream",
     "text": [
      "  4%|███▏                                                                             | 20/500 [00:02<01:07,  7.07it/s]"
     ]
    },
    {
     "name": "stdout",
     "output_type": "stream",
     "text": [
      "Warning: the outcome matrix contains NaNs or other                       than 0/1 entries.\n",
      "Warning: the outcome matrix contains NaNs or other                       than 0/1 entries.\n",
      "Warning: the outcome matrix contains NaNs or other                       than 0/1 entries.\n"
     ]
    },
    {
     "name": "stderr",
     "output_type": "stream",
     "text": [
      "\r",
      "  4%|███▍                                                                             | 21/500 [00:02<01:08,  6.99it/s]"
     ]
    },
    {
     "name": "stdout",
     "output_type": "stream",
     "text": [
      "Warning: the outcome matrix contains NaNs or other                       than 0/1 entries.\n",
      "Warning: the outcome matrix contains NaNs or other                       than 0/1 entries.\n",
      "Warning: the outcome matrix contains NaNs or other                       than 0/1 entries.\n"
     ]
    },
    {
     "name": "stderr",
     "output_type": "stream",
     "text": [
      "  5%|███▋                                                                             | 23/500 [00:03<01:07,  7.07it/s]"
     ]
    },
    {
     "name": "stdout",
     "output_type": "stream",
     "text": [
      "Warning: the outcome matrix contains NaNs or other                       than 0/1 entries.\n",
      "Warning: the outcome matrix contains NaNs or other                       than 0/1 entries.\n",
      "Warning: the outcome matrix contains NaNs or other                       than 0/1 entries.\n",
      "Warning: the outcome matrix contains NaNs or other                       than 0/1 entries.\n"
     ]
    },
    {
     "name": "stderr",
     "output_type": "stream",
     "text": [
      "  5%|████                                                                             | 25/500 [00:03<01:04,  7.32it/s]"
     ]
    },
    {
     "name": "stdout",
     "output_type": "stream",
     "text": [
      "Warning: the outcome matrix contains NaNs or other                       than 0/1 entries.\n",
      "Warning: the outcome matrix contains NaNs or other                       than 0/1 entries.\n",
      "Warning: the outcome matrix contains NaNs or other                       than 0/1 entries.\n",
      "Warning: the outcome matrix contains NaNs or other                       than 0/1 entries.\n"
     ]
    },
    {
     "name": "stderr",
     "output_type": "stream",
     "text": [
      "  5%|████▎                                                                            | 27/500 [00:03<01:06,  7.14it/s]"
     ]
    },
    {
     "name": "stdout",
     "output_type": "stream",
     "text": [
      "Warning: the outcome matrix contains NaNs or other                       than 0/1 entries.\n",
      "Warning: the outcome matrix contains NaNs or other                       than 0/1 entries.\n",
      "Warning: the outcome matrix contains NaNs or other                       than 0/1 entries.\n"
     ]
    },
    {
     "name": "stderr",
     "output_type": "stream",
     "text": [
      "\r",
      "  6%|████▌                                                                            | 28/500 [00:03<01:07,  7.04it/s]"
     ]
    },
    {
     "name": "stdout",
     "output_type": "stream",
     "text": [
      "Warning: the outcome matrix contains NaNs or other                       than 0/1 entries.\n",
      "Warning: the outcome matrix contains NaNs or other                       than 0/1 entries.\n",
      "Warning: the outcome matrix contains NaNs or other                       than 0/1 entries.\n"
     ]
    },
    {
     "name": "stderr",
     "output_type": "stream",
     "text": [
      "  6%|████▊                                                                            | 30/500 [00:04<01:07,  7.00it/s]"
     ]
    },
    {
     "name": "stdout",
     "output_type": "stream",
     "text": [
      "Warning: the outcome matrix contains NaNs or other                       than 0/1 entries.\n",
      "Warning: the outcome matrix contains NaNs or other                       than 0/1 entries.\n",
      "Warning: the outcome matrix contains NaNs or other                       than 0/1 entries.\n",
      "Warning: the outcome matrix contains NaNs or other                       than 0/1 entries.\n"
     ]
    },
    {
     "name": "stderr",
     "output_type": "stream",
     "text": [
      "  6%|█████▏                                                                           | 32/500 [00:04<01:06,  7.02it/s]"
     ]
    },
    {
     "name": "stdout",
     "output_type": "stream",
     "text": [
      "Warning: the outcome matrix contains NaNs or other                       than 0/1 entries.\n",
      "Warning: the outcome matrix contains NaNs or other                       than 0/1 entries.\n",
      "Warning: the outcome matrix contains NaNs or other                       than 0/1 entries.\n",
      "Warning: the outcome matrix contains NaNs or other                       than 0/1 entries.\n"
     ]
    },
    {
     "name": "stderr",
     "output_type": "stream",
     "text": [
      "  7%|█████▌                                                                           | 34/500 [00:04<01:09,  6.71it/s]"
     ]
    },
    {
     "name": "stdout",
     "output_type": "stream",
     "text": [
      "Warning: the outcome matrix contains NaNs or other                       than 0/1 entries.\n",
      "Warning: the outcome matrix contains NaNs or other                       than 0/1 entries.\n",
      "Warning: the outcome matrix contains NaNs or other                       than 0/1 entries.\n"
     ]
    },
    {
     "name": "stderr",
     "output_type": "stream",
     "text": [
      "\r",
      "  7%|█████▋                                                                           | 35/500 [00:04<01:09,  6.70it/s]"
     ]
    },
    {
     "name": "stdout",
     "output_type": "stream",
     "text": [
      "Warning: the outcome matrix contains NaNs or other                       than 0/1 entries.\n",
      "Warning: the outcome matrix contains NaNs or other                       than 0/1 entries.\n",
      "Warning: the outcome matrix contains NaNs or other                       than 0/1 entries.\n"
     ]
    },
    {
     "name": "stderr",
     "output_type": "stream",
     "text": [
      "  7%|█████▉                                                                           | 37/500 [00:05<01:08,  6.78it/s]"
     ]
    },
    {
     "name": "stdout",
     "output_type": "stream",
     "text": [
      "Warning: the outcome matrix contains NaNs or other                       than 0/1 entries.\n",
      "Warning: the outcome matrix contains NaNs or other                       than 0/1 entries.\n",
      "Warning: the outcome matrix contains NaNs or other                       than 0/1 entries.\n"
     ]
    },
    {
     "name": "stderr",
     "output_type": "stream",
     "text": [
      "\r",
      "  8%|██████▏                                                                          | 38/500 [00:05<01:07,  6.89it/s]"
     ]
    },
    {
     "name": "stdout",
     "output_type": "stream",
     "text": [
      "Warning: the outcome matrix contains NaNs or other                       than 0/1 entries.\n",
      "Warning: the outcome matrix contains NaNs or other                       than 0/1 entries.\n",
      "Warning: the outcome matrix contains NaNs or other                       than 0/1 entries.\n"
     ]
    },
    {
     "name": "stderr",
     "output_type": "stream",
     "text": [
      "  8%|██████▍                                                                          | 40/500 [00:05<01:07,  6.84it/s]"
     ]
    },
    {
     "name": "stdout",
     "output_type": "stream",
     "text": [
      "Warning: the outcome matrix contains NaNs or other                       than 0/1 entries.\n",
      "Warning: the outcome matrix contains NaNs or other                       than 0/1 entries.\n",
      "Warning: the outcome matrix contains NaNs or other                       than 0/1 entries.\n"
     ]
    },
    {
     "name": "stderr",
     "output_type": "stream",
     "text": [
      "\r",
      "  8%|██████▋                                                                          | 41/500 [00:05<01:11,  6.46it/s]"
     ]
    },
    {
     "name": "stdout",
     "output_type": "stream",
     "text": [
      "Warning: the outcome matrix contains NaNs or other                       than 0/1 entries.\n",
      "Warning: the outcome matrix contains NaNs or other                       than 0/1 entries.\n",
      "Warning: the outcome matrix contains NaNs or other                       than 0/1 entries.\n"
     ]
    },
    {
     "name": "stderr",
     "output_type": "stream",
     "text": [
      "  9%|██████▉                                                                          | 43/500 [00:06<01:08,  6.65it/s]"
     ]
    },
    {
     "name": "stdout",
     "output_type": "stream",
     "text": [
      "Warning: the outcome matrix contains NaNs or other                       than 0/1 entries.\n",
      "Warning: the outcome matrix contains NaNs or other                       than 0/1 entries.\n",
      "Warning: the outcome matrix contains NaNs or other                       than 0/1 entries.\n",
      "Warning: the outcome matrix contains NaNs or other                       than 0/1 entries.\n"
     ]
    },
    {
     "name": "stderr",
     "output_type": "stream",
     "text": [
      "  9%|███████▎                                                                         | 45/500 [00:06<01:06,  6.83it/s]"
     ]
    },
    {
     "name": "stdout",
     "output_type": "stream",
     "text": [
      "Warning: the outcome matrix contains NaNs or other                       than 0/1 entries.\n",
      "Warning: the outcome matrix contains NaNs or other                       than 0/1 entries.\n",
      "Warning: the outcome matrix contains NaNs or other                       than 0/1 entries.\n"
     ]
    },
    {
     "name": "stderr",
     "output_type": "stream",
     "text": [
      "  9%|███████▌                                                                         | 47/500 [00:06<01:04,  6.97it/s]"
     ]
    },
    {
     "name": "stdout",
     "output_type": "stream",
     "text": [
      "Warning: the outcome matrix contains NaNs or other                       than 0/1 entries.\n",
      "Warning: the outcome matrix contains NaNs or other                       than 0/1 entries.\n",
      "Warning: the outcome matrix contains NaNs or other                       than 0/1 entries.\n"
     ]
    },
    {
     "name": "stderr",
     "output_type": "stream",
     "text": [
      "\r",
      " 10%|███████▊                                                                         | 48/500 [00:06<01:05,  6.93it/s]"
     ]
    },
    {
     "name": "stdout",
     "output_type": "stream",
     "text": [
      "Warning: the outcome matrix contains NaNs or other                       than 0/1 entries.\n",
      "Warning: the outcome matrix contains NaNs or other                       than 0/1 entries.\n",
      "Warning: the outcome matrix contains NaNs or other                       than 0/1 entries.\n"
     ]
    },
    {
     "name": "stderr",
     "output_type": "stream",
     "text": [
      "\r",
      " 10%|███████▉                                                                         | 49/500 [00:07<01:04,  7.02it/s]"
     ]
    },
    {
     "name": "stdout",
     "output_type": "stream",
     "text": [
      "Warning: the outcome matrix contains NaNs or other                       than 0/1 entries.\n",
      "Warning: the outcome matrix contains NaNs or other                       than 0/1 entries.\n",
      "Warning: the outcome matrix contains NaNs or other                       than 0/1 entries.\n"
     ]
    },
    {
     "name": "stderr",
     "output_type": "stream",
     "text": [
      " 10%|████████▎                                                                        | 51/500 [00:07<01:06,  6.77it/s]"
     ]
    },
    {
     "name": "stdout",
     "output_type": "stream",
     "text": [
      "Warning: the outcome matrix contains NaNs or other                       than 0/1 entries.\n",
      "Warning: the outcome matrix contains NaNs or other                       than 0/1 entries.\n",
      "Warning: the outcome matrix contains NaNs or other                       than 0/1 entries.\n",
      "Warning: the outcome matrix contains NaNs or other                       than 0/1 entries.\n"
     ]
    },
    {
     "name": "stderr",
     "output_type": "stream",
     "text": [
      " 11%|████████▌                                                                        | 53/500 [00:07<01:02,  7.19it/s]"
     ]
    },
    {
     "name": "stdout",
     "output_type": "stream",
     "text": [
      "Warning: the outcome matrix contains NaNs or other                       than 0/1 entries.\n",
      "Warning: the outcome matrix contains NaNs or other                       than 0/1 entries.\n",
      "Warning: the outcome matrix contains NaNs or other                       than 0/1 entries.\n",
      "Warning: the outcome matrix contains NaNs or other                       than 0/1 entries.\n"
     ]
    },
    {
     "name": "stderr",
     "output_type": "stream",
     "text": [
      " 11%|████████▉                                                                        | 55/500 [00:07<01:04,  6.90it/s]"
     ]
    },
    {
     "name": "stdout",
     "output_type": "stream",
     "text": [
      "Warning: the outcome matrix contains NaNs or other                       than 0/1 entries.\n",
      "Warning: the outcome matrix contains NaNs or other                       than 0/1 entries.\n",
      "Warning: the outcome matrix contains NaNs or other                       than 0/1 entries.\n"
     ]
    },
    {
     "name": "stderr",
     "output_type": "stream",
     "text": [
      "\r",
      " 11%|█████████                                                                        | 56/500 [00:08<01:05,  6.82it/s]"
     ]
    },
    {
     "name": "stdout",
     "output_type": "stream",
     "text": [
      "Warning: the outcome matrix contains NaNs or other                       than 0/1 entries.\n",
      "Warning: the outcome matrix contains NaNs or other                       than 0/1 entries.\n",
      "Warning: the outcome matrix contains NaNs or other                       than 0/1 entries.\n"
     ]
    },
    {
     "name": "stderr",
     "output_type": "stream",
     "text": [
      " 12%|█████████▍                                                                       | 58/500 [00:08<01:04,  6.82it/s]"
     ]
    },
    {
     "name": "stdout",
     "output_type": "stream",
     "text": [
      "Warning: the outcome matrix contains NaNs or other                       than 0/1 entries.\n",
      "Warning: the outcome matrix contains NaNs or other                       than 0/1 entries.\n",
      "Warning: the outcome matrix contains NaNs or other                       than 0/1 entries.\n",
      "Warning: the outcome matrix contains NaNs or other                       than 0/1 entries.\n"
     ]
    },
    {
     "name": "stderr",
     "output_type": "stream",
     "text": [
      " 12%|█████████▋                                                                       | 60/500 [00:08<01:05,  6.75it/s]"
     ]
    },
    {
     "name": "stdout",
     "output_type": "stream",
     "text": [
      "Warning: the outcome matrix contains NaNs or other                       than 0/1 entries.\n",
      "Warning: the outcome matrix contains NaNs or other                       than 0/1 entries.\n",
      "Warning: the outcome matrix contains NaNs or other                       than 0/1 entries.\n"
     ]
    },
    {
     "name": "stderr",
     "output_type": "stream",
     "text": [
      " 12%|██████████                                                                       | 62/500 [00:08<01:02,  6.96it/s]"
     ]
    },
    {
     "name": "stdout",
     "output_type": "stream",
     "text": [
      "Warning: the outcome matrix contains NaNs or other                       than 0/1 entries.\n",
      "Warning: the outcome matrix contains NaNs or other                       than 0/1 entries.\n",
      "Warning: the outcome matrix contains NaNs or other                       than 0/1 entries.\n"
     ]
    },
    {
     "name": "stderr",
     "output_type": "stream",
     "text": [
      "\r",
      " 13%|██████████▏                                                                      | 63/500 [00:09<01:02,  7.04it/s]"
     ]
    },
    {
     "name": "stdout",
     "output_type": "stream",
     "text": [
      "Warning: the outcome matrix contains NaNs or other                       than 0/1 entries.\n",
      "Warning: the outcome matrix contains NaNs or other                       than 0/1 entries.\n",
      "Warning: the outcome matrix contains NaNs or other                       than 0/1 entries.\n"
     ]
    },
    {
     "name": "stderr",
     "output_type": "stream",
     "text": [
      "\r",
      " 13%|██████████▎                                                                      | 64/500 [00:09<01:02,  6.98it/s]"
     ]
    },
    {
     "name": "stdout",
     "output_type": "stream",
     "text": [
      "Warning: the outcome matrix contains NaNs or other                       than 0/1 entries.\n",
      "Warning: the outcome matrix contains NaNs or other                       than 0/1 entries.\n",
      "Warning: the outcome matrix contains NaNs or other                       than 0/1 entries.\n"
     ]
    },
    {
     "name": "stderr",
     "output_type": "stream",
     "text": [
      " 13%|██████████▋                                                                      | 66/500 [00:09<01:01,  7.02it/s]"
     ]
    },
    {
     "name": "stdout",
     "output_type": "stream",
     "text": [
      "Warning: the outcome matrix contains NaNs or other                       than 0/1 entries.\n",
      "Warning: the outcome matrix contains NaNs or other                       than 0/1 entries.\n",
      "Warning: the outcome matrix contains NaNs or other                       than 0/1 entries.\n",
      "Warning: the outcome matrix contains NaNs or other                       than 0/1 entries.\n"
     ]
    },
    {
     "name": "stderr",
     "output_type": "stream",
     "text": [
      " 14%|███████████                                                                      | 68/500 [00:09<01:00,  7.14it/s]"
     ]
    },
    {
     "name": "stdout",
     "output_type": "stream",
     "text": [
      "Warning: the outcome matrix contains NaNs or other                       than 0/1 entries.\n",
      "Warning: the outcome matrix contains NaNs or other                       than 0/1 entries.\n",
      "Warning: the outcome matrix contains NaNs or other                       than 0/1 entries.\n"
     ]
    },
    {
     "name": "stderr",
     "output_type": "stream",
     "text": [
      " 14%|███████████▎                                                                     | 70/500 [00:10<01:00,  7.15it/s]"
     ]
    },
    {
     "name": "stdout",
     "output_type": "stream",
     "text": [
      "Warning: the outcome matrix contains NaNs or other                       than 0/1 entries.\n",
      "Warning: the outcome matrix contains NaNs or other                       than 0/1 entries.\n",
      "Warning: the outcome matrix contains NaNs or other                       than 0/1 entries.\n"
     ]
    },
    {
     "name": "stderr",
     "output_type": "stream",
     "text": [
      "\r",
      " 14%|███████████▌                                                                     | 71/500 [00:10<00:59,  7.21it/s]"
     ]
    },
    {
     "name": "stdout",
     "output_type": "stream",
     "text": [
      "Warning: the outcome matrix contains NaNs or other                       than 0/1 entries.\n",
      "Warning: the outcome matrix contains NaNs or other                       than 0/1 entries.\n",
      "Warning: the outcome matrix contains NaNs or other                       than 0/1 entries.\n",
      "Warning: the outcome matrix contains NaNs or other                       than 0/1 entries.\n"
     ]
    },
    {
     "name": "stderr",
     "output_type": "stream",
     "text": [
      " 15%|███████████▊                                                                     | 73/500 [00:10<00:59,  7.20it/s]"
     ]
    },
    {
     "name": "stdout",
     "output_type": "stream",
     "text": [
      "Warning: the outcome matrix contains NaNs or other                       than 0/1 entries.\n",
      "Warning: the outcome matrix contains NaNs or other                       than 0/1 entries.\n",
      "Warning: the outcome matrix contains NaNs or other                       than 0/1 entries.\n"
     ]
    },
    {
     "name": "stderr",
     "output_type": "stream",
     "text": [
      " 15%|████████████▏                                                                    | 75/500 [00:10<00:58,  7.31it/s]"
     ]
    },
    {
     "name": "stdout",
     "output_type": "stream",
     "text": [
      "Warning: the outcome matrix contains NaNs or other                       than 0/1 entries.\n",
      "Warning: the outcome matrix contains NaNs or other                       than 0/1 entries.\n",
      "Warning: the outcome matrix contains NaNs or other                       than 0/1 entries.\n"
     ]
    },
    {
     "name": "stderr",
     "output_type": "stream",
     "text": [
      "\r",
      " 15%|████████████▎                                                                    | 76/500 [00:10<00:58,  7.26it/s]"
     ]
    },
    {
     "name": "stdout",
     "output_type": "stream",
     "text": [
      "Warning: the outcome matrix contains NaNs or other                       than 0/1 entries.\n",
      "Warning: the outcome matrix contains NaNs or other                       than 0/1 entries.\n",
      "Warning: the outcome matrix contains NaNs or other                       than 0/1 entries.\n"
     ]
    },
    {
     "name": "stderr",
     "output_type": "stream",
     "text": [
      "\r",
      " 15%|████████████▍                                                                    | 77/500 [00:10<00:59,  7.13it/s]"
     ]
    },
    {
     "name": "stdout",
     "output_type": "stream",
     "text": [
      "Warning: the outcome matrix contains NaNs or other                       than 0/1 entries.\n",
      "Warning: the outcome matrix contains NaNs or other                       than 0/1 entries.\n",
      "Warning: the outcome matrix contains NaNs or other                       than 0/1 entries.\n"
     ]
    },
    {
     "name": "stderr",
     "output_type": "stream",
     "text": [
      " 16%|████████████▊                                                                    | 79/500 [00:11<01:00,  6.96it/s]"
     ]
    },
    {
     "name": "stdout",
     "output_type": "stream",
     "text": [
      "Warning: the outcome matrix contains NaNs or other                       than 0/1 entries.\n",
      "Warning: the outcome matrix contains NaNs or other                       than 0/1 entries.\n",
      "Warning: the outcome matrix contains NaNs or other                       than 0/1 entries.\n"
     ]
    },
    {
     "name": "stderr",
     "output_type": "stream",
     "text": [
      " 16%|█████████████                                                                    | 81/500 [00:11<00:58,  7.17it/s]"
     ]
    },
    {
     "name": "stdout",
     "output_type": "stream",
     "text": [
      "Warning: the outcome matrix contains NaNs or other                       than 0/1 entries.\n",
      "Warning: the outcome matrix contains NaNs or other                       than 0/1 entries.\n",
      "Warning: the outcome matrix contains NaNs or other                       than 0/1 entries.\n"
     ]
    },
    {
     "name": "stderr",
     "output_type": "stream",
     "text": [
      "\r",
      " 16%|█████████████▎                                                                   | 82/500 [00:11<00:56,  7.35it/s]"
     ]
    },
    {
     "name": "stdout",
     "output_type": "stream",
     "text": [
      "Warning: the outcome matrix contains NaNs or other                       than 0/1 entries.\n",
      "Warning: the outcome matrix contains NaNs or other                       than 0/1 entries.\n",
      "Warning: the outcome matrix contains NaNs or other                       than 0/1 entries.\n"
     ]
    },
    {
     "name": "stderr",
     "output_type": "stream",
     "text": [
      "\r",
      " 17%|█████████████▍                                                                   | 83/500 [00:11<00:58,  7.14it/s]"
     ]
    },
    {
     "name": "stdout",
     "output_type": "stream",
     "text": [
      "Warning: the outcome matrix contains NaNs or other                       than 0/1 entries.\n",
      "Warning: the outcome matrix contains NaNs or other                       than 0/1 entries.\n",
      "Warning: the outcome matrix contains NaNs or other                       than 0/1 entries.\n"
     ]
    },
    {
     "name": "stderr",
     "output_type": "stream",
     "text": [
      " 17%|█████████████▊                                                                   | 85/500 [00:12<00:56,  7.28it/s]"
     ]
    },
    {
     "name": "stdout",
     "output_type": "stream",
     "text": [
      "Warning: the outcome matrix contains NaNs or other                       than 0/1 entries.\n",
      "Warning: the outcome matrix contains NaNs or other                       than 0/1 entries.\n",
      "Warning: the outcome matrix contains NaNs or other                       than 0/1 entries.\n"
     ]
    },
    {
     "name": "stderr",
     "output_type": "stream",
     "text": [
      "\r",
      " 17%|█████████████▉                                                                   | 86/500 [00:12<00:57,  7.21it/s]"
     ]
    },
    {
     "name": "stdout",
     "output_type": "stream",
     "text": [
      "Warning: the outcome matrix contains NaNs or other                       than 0/1 entries.\n",
      "Warning: the outcome matrix contains NaNs or other                       than 0/1 entries.\n",
      "Warning: the outcome matrix contains NaNs or other                       than 0/1 entries.\n"
     ]
    },
    {
     "name": "stderr",
     "output_type": "stream",
     "text": [
      " 18%|██████████████▎                                                                  | 88/500 [00:12<00:58,  7.03it/s]"
     ]
    },
    {
     "name": "stdout",
     "output_type": "stream",
     "text": [
      "Warning: the outcome matrix contains NaNs or other                       than 0/1 entries.\n",
      "Warning: the outcome matrix contains NaNs or other                       than 0/1 entries.\n",
      "Warning: the outcome matrix contains NaNs or other                       than 0/1 entries.\n"
     ]
    },
    {
     "name": "stderr",
     "output_type": "stream",
     "text": [
      " 18%|██████████████▌                                                                  | 90/500 [00:12<00:57,  7.11it/s]"
     ]
    },
    {
     "name": "stdout",
     "output_type": "stream",
     "text": [
      "Warning: the outcome matrix contains NaNs or other                       than 0/1 entries.\n",
      "Warning: the outcome matrix contains NaNs or other                       than 0/1 entries.\n",
      "Warning: the outcome matrix contains NaNs or other                       than 0/1 entries.\n"
     ]
    },
    {
     "name": "stderr",
     "output_type": "stream",
     "text": [
      "\r",
      " 18%|██████████████▋                                                                  | 91/500 [00:12<00:57,  7.14it/s]"
     ]
    },
    {
     "name": "stdout",
     "output_type": "stream",
     "text": [
      "Warning: the outcome matrix contains NaNs or other                       than 0/1 entries.\n",
      "Warning: the outcome matrix contains NaNs or other                       than 0/1 entries.\n",
      "Warning: the outcome matrix contains NaNs or other                       than 0/1 entries.\n",
      "Warning: the outcome matrix contains NaNs or other                       than 0/1 entries.\n"
     ]
    },
    {
     "name": "stderr",
     "output_type": "stream",
     "text": [
      " 19%|███████████████                                                                  | 93/500 [00:13<00:56,  7.27it/s]"
     ]
    },
    {
     "name": "stdout",
     "output_type": "stream",
     "text": [
      "Warning: the outcome matrix contains NaNs or other                       than 0/1 entries.\n",
      "Warning: the outcome matrix contains NaNs or other                       than 0/1 entries.\n",
      "Warning: the outcome matrix contains NaNs or other                       than 0/1 entries.\n",
      "Warning: the outcome matrix contains NaNs or other                       than 0/1 entries.\n"
     ]
    },
    {
     "name": "stderr",
     "output_type": "stream",
     "text": [
      " 19%|███████████████▍                                                                 | 95/500 [00:13<00:54,  7.37it/s]"
     ]
    },
    {
     "name": "stdout",
     "output_type": "stream",
     "text": [
      "Warning: the outcome matrix contains NaNs or other                       than 0/1 entries.\n",
      "Warning: the outcome matrix contains NaNs or other                       than 0/1 entries.\n",
      "Warning: the outcome matrix contains NaNs or other                       than 0/1 entries.\n"
     ]
    },
    {
     "name": "stderr",
     "output_type": "stream",
     "text": [
      " 19%|███████████████▋                                                                 | 97/500 [00:13<00:55,  7.26it/s]"
     ]
    },
    {
     "name": "stdout",
     "output_type": "stream",
     "text": [
      "Warning: the outcome matrix contains NaNs or other                       than 0/1 entries.\n",
      "Warning: the outcome matrix contains NaNs or other                       than 0/1 entries.\n",
      "Warning: the outcome matrix contains NaNs or other                       than 0/1 entries.\n"
     ]
    },
    {
     "name": "stderr",
     "output_type": "stream",
     "text": [
      "\r",
      " 20%|███████████████▉                                                                 | 98/500 [00:13<00:54,  7.39it/s]"
     ]
    },
    {
     "name": "stdout",
     "output_type": "stream",
     "text": [
      "Warning: the outcome matrix contains NaNs or other                       than 0/1 entries.\n",
      "Warning: the outcome matrix contains NaNs or other                       than 0/1 entries.\n",
      "Warning: the outcome matrix contains NaNs or other                       than 0/1 entries.\n"
     ]
    },
    {
     "name": "stderr",
     "output_type": "stream",
     "text": [
      "\r",
      " 20%|████████████████                                                                 | 99/500 [00:14<00:54,  7.38it/s]"
     ]
    },
    {
     "name": "stdout",
     "output_type": "stream",
     "text": [
      "Warning: the outcome matrix contains NaNs or other                       than 0/1 entries.\n",
      "Warning: the outcome matrix contains NaNs or other                       than 0/1 entries.\n",
      "Warning: the outcome matrix contains NaNs or other                       than 0/1 entries.\n"
     ]
    },
    {
     "name": "stderr",
     "output_type": "stream",
     "text": [
      " 20%|████████████████▏                                                               | 101/500 [00:14<00:54,  7.27it/s]"
     ]
    },
    {
     "name": "stdout",
     "output_type": "stream",
     "text": [
      "Warning: the outcome matrix contains NaNs or other                       than 0/1 entries.\n",
      "Warning: the outcome matrix contains NaNs or other                       than 0/1 entries.\n",
      "Warning: the outcome matrix contains NaNs or other                       than 0/1 entries.\n"
     ]
    },
    {
     "name": "stderr",
     "output_type": "stream",
     "text": [
      " 21%|████████████████▍                                                               | 103/500 [00:14<00:52,  7.57it/s]"
     ]
    },
    {
     "name": "stdout",
     "output_type": "stream",
     "text": [
      "Warning: the outcome matrix contains NaNs or other                       than 0/1 entries.\n",
      "Warning: the outcome matrix contains NaNs or other                       than 0/1 entries.\n",
      "Warning: the outcome matrix contains NaNs or other                       than 0/1 entries.\n"
     ]
    },
    {
     "name": "stderr",
     "output_type": "stream",
     "text": [
      "\r",
      " 21%|████████████████▋                                                               | 104/500 [00:14<00:53,  7.34it/s]"
     ]
    },
    {
     "name": "stdout",
     "output_type": "stream",
     "text": [
      "Warning: the outcome matrix contains NaNs or other                       than 0/1 entries.\n",
      "Warning: the outcome matrix contains NaNs or other                       than 0/1 entries.\n",
      "Warning: the outcome matrix contains NaNs or other                       than 0/1 entries.\n"
     ]
    },
    {
     "name": "stderr",
     "output_type": "stream",
     "text": [
      "\r",
      " 21%|████████████████▊                                                               | 105/500 [00:14<00:55,  7.18it/s]"
     ]
    },
    {
     "name": "stdout",
     "output_type": "stream",
     "text": [
      "Warning: the outcome matrix contains NaNs or other                       than 0/1 entries.\n",
      "Warning: the outcome matrix contains NaNs or other                       than 0/1 entries.\n",
      "Warning: the outcome matrix contains NaNs or other                       than 0/1 entries.\n"
     ]
    },
    {
     "name": "stderr",
     "output_type": "stream",
     "text": [
      " 21%|█████████████████                                                               | 107/500 [00:15<00:52,  7.50it/s]"
     ]
    },
    {
     "name": "stdout",
     "output_type": "stream",
     "text": [
      "Warning: the outcome matrix contains NaNs or other                       than 0/1 entries.\n",
      "Warning: the outcome matrix contains NaNs or other                       than 0/1 entries.\n",
      "Warning: the outcome matrix contains NaNs or other                       than 0/1 entries.\n",
      "Warning: the outcome matrix contains NaNs or other                       than 0/1 entries.\n"
     ]
    },
    {
     "name": "stderr",
     "output_type": "stream",
     "text": [
      " 22%|█████████████████▍                                                              | 109/500 [00:15<00:51,  7.59it/s]"
     ]
    },
    {
     "name": "stdout",
     "output_type": "stream",
     "text": [
      "Warning: the outcome matrix contains NaNs or other                       than 0/1 entries.\n",
      "Warning: the outcome matrix contains NaNs or other                       than 0/1 entries.\n",
      "Warning: the outcome matrix contains NaNs or other                       than 0/1 entries.\n",
      "Warning: the outcome matrix contains NaNs or other                       than 0/1 entries.\n"
     ]
    },
    {
     "name": "stderr",
     "output_type": "stream",
     "text": [
      " 22%|█████████████████▊                                                              | 111/500 [00:15<00:49,  7.82it/s]"
     ]
    },
    {
     "name": "stdout",
     "output_type": "stream",
     "text": [
      "Warning: the outcome matrix contains NaNs or other                       than 0/1 entries.\n",
      "Warning: the outcome matrix contains NaNs or other                       than 0/1 entries.\n",
      "Warning: the outcome matrix contains NaNs or other                       than 0/1 entries.\n",
      "Warning: the outcome matrix contains NaNs or other                       than 0/1 entries.\n"
     ]
    },
    {
     "name": "stderr",
     "output_type": "stream",
     "text": [
      " 23%|██████████████████                                                              | 113/500 [00:15<00:48,  7.96it/s]"
     ]
    },
    {
     "name": "stdout",
     "output_type": "stream",
     "text": [
      "Warning: the outcome matrix contains NaNs or other                       than 0/1 entries.\n",
      "Warning: the outcome matrix contains NaNs or other                       than 0/1 entries.\n",
      "Warning: the outcome matrix contains NaNs or other                       than 0/1 entries.\n",
      "Warning: the outcome matrix contains NaNs or other                       than 0/1 entries.\n"
     ]
    },
    {
     "name": "stderr",
     "output_type": "stream",
     "text": [
      " 23%|██████████████████▍                                                             | 115/500 [00:16<00:52,  7.38it/s]"
     ]
    },
    {
     "name": "stdout",
     "output_type": "stream",
     "text": [
      "Warning: the outcome matrix contains NaNs or other                       than 0/1 entries.\n",
      "Warning: the outcome matrix contains NaNs or other                       than 0/1 entries.\n",
      "Warning: the outcome matrix contains NaNs or other                       than 0/1 entries.\n"
     ]
    },
    {
     "name": "stderr",
     "output_type": "stream",
     "text": [
      "\r",
      " 23%|██████████████████▌                                                             | 116/500 [00:16<00:52,  7.32it/s]"
     ]
    },
    {
     "name": "stdout",
     "output_type": "stream",
     "text": [
      "Warning: the outcome matrix contains NaNs or other                       than 0/1 entries.\n",
      "Warning: the outcome matrix contains NaNs or other                       than 0/1 entries.\n",
      "Warning: the outcome matrix contains NaNs or other                       than 0/1 entries.\n"
     ]
    },
    {
     "name": "stderr",
     "output_type": "stream",
     "text": [
      " 24%|██████████████████▉                                                             | 118/500 [00:16<00:52,  7.21it/s]"
     ]
    },
    {
     "name": "stdout",
     "output_type": "stream",
     "text": [
      "Warning: the outcome matrix contains NaNs or other                       than 0/1 entries.\n",
      "Warning: the outcome matrix contains NaNs or other                       than 0/1 entries.\n",
      "Warning: the outcome matrix contains NaNs or other                       than 0/1 entries.\n",
      "Warning: the outcome matrix contains NaNs or other                       than 0/1 entries.\n"
     ]
    },
    {
     "name": "stderr",
     "output_type": "stream",
     "text": [
      " 24%|███████████████████▏                                                            | 120/500 [00:16<00:51,  7.43it/s]"
     ]
    },
    {
     "name": "stdout",
     "output_type": "stream",
     "text": [
      "Warning: the outcome matrix contains NaNs or other                       than 0/1 entries.\n",
      "Warning: the outcome matrix contains NaNs or other                       than 0/1 entries.\n",
      "Warning: the outcome matrix contains NaNs or other                       than 0/1 entries.\n"
     ]
    },
    {
     "name": "stderr",
     "output_type": "stream",
     "text": [
      " 24%|███████████████████▌                                                            | 122/500 [00:17<00:51,  7.40it/s]"
     ]
    },
    {
     "name": "stdout",
     "output_type": "stream",
     "text": [
      "Warning: the outcome matrix contains NaNs or other                       than 0/1 entries.\n",
      "Warning: the outcome matrix contains NaNs or other                       than 0/1 entries.\n",
      "Warning: the outcome matrix contains NaNs or other                       than 0/1 entries.\n"
     ]
    },
    {
     "name": "stderr",
     "output_type": "stream",
     "text": [
      "\r",
      " 25%|███████████████████▋                                                            | 123/500 [00:17<00:49,  7.54it/s]"
     ]
    },
    {
     "name": "stdout",
     "output_type": "stream",
     "text": [
      "Warning: the outcome matrix contains NaNs or other                       than 0/1 entries.\n",
      "Warning: the outcome matrix contains NaNs or other                       than 0/1 entries.\n",
      "Warning: the outcome matrix contains NaNs or other                       than 0/1 entries.\n"
     ]
    },
    {
     "name": "stderr",
     "output_type": "stream",
     "text": [
      "\r",
      " 25%|███████████████████▊                                                            | 124/500 [00:17<00:49,  7.61it/s]"
     ]
    },
    {
     "name": "stdout",
     "output_type": "stream",
     "text": [
      "Warning: the outcome matrix contains NaNs or other                       than 0/1 entries.\n",
      "Warning: the outcome matrix contains NaNs or other                       than 0/1 entries.\n",
      "Warning: the outcome matrix contains NaNs or other                       than 0/1 entries.\n"
     ]
    },
    {
     "name": "stderr",
     "output_type": "stream",
     "text": [
      " 25%|████████████████████▏                                                           | 126/500 [00:17<00:51,  7.24it/s]"
     ]
    },
    {
     "name": "stdout",
     "output_type": "stream",
     "text": [
      "Warning: the outcome matrix contains NaNs or other                       than 0/1 entries.\n",
      "Warning: the outcome matrix contains NaNs or other                       than 0/1 entries.\n",
      "Warning: the outcome matrix contains NaNs or other                       than 0/1 entries.\n"
     ]
    },
    {
     "name": "stderr",
     "output_type": "stream",
     "text": [
      "\r",
      " 25%|████████████████████▎                                                           | 127/500 [00:17<00:51,  7.26it/s]"
     ]
    },
    {
     "name": "stdout",
     "output_type": "stream",
     "text": [
      "Warning: the outcome matrix contains NaNs or other                       than 0/1 entries.\n",
      "Warning: the outcome matrix contains NaNs or other                       than 0/1 entries.\n",
      "Warning: the outcome matrix contains NaNs or other                       than 0/1 entries.\n"
     ]
    },
    {
     "name": "stderr",
     "output_type": "stream",
     "text": [
      " 26%|████████████████████▋                                                           | 129/500 [00:18<00:50,  7.28it/s]"
     ]
    },
    {
     "name": "stdout",
     "output_type": "stream",
     "text": [
      "Warning: the outcome matrix contains NaNs or other                       than 0/1 entries.\n",
      "Warning: the outcome matrix contains NaNs or other                       than 0/1 entries.\n",
      "Warning: the outcome matrix contains NaNs or other                       than 0/1 entries.\n"
     ]
    },
    {
     "name": "stderr",
     "output_type": "stream",
     "text": [
      "\r",
      " 26%|████████████████████▊                                                           | 130/500 [00:18<00:50,  7.35it/s]"
     ]
    },
    {
     "name": "stdout",
     "output_type": "stream",
     "text": [
      "Warning: the outcome matrix contains NaNs or other                       than 0/1 entries.\n",
      "Warning: the outcome matrix contains NaNs or other                       than 0/1 entries.\n",
      "Warning: the outcome matrix contains NaNs or other                       than 0/1 entries.\n"
     ]
    },
    {
     "name": "stderr",
     "output_type": "stream",
     "text": [
      " 26%|█████████████████████                                                           | 132/500 [00:18<00:50,  7.25it/s]"
     ]
    },
    {
     "name": "stdout",
     "output_type": "stream",
     "text": [
      "Warning: the outcome matrix contains NaNs or other                       than 0/1 entries.\n",
      "Warning: the outcome matrix contains NaNs or other                       than 0/1 entries.\n",
      "Warning: the outcome matrix contains NaNs or other                       than 0/1 entries.\n",
      "Warning: the outcome matrix contains NaNs or other                       than 0/1 entries.\n"
     ]
    },
    {
     "name": "stderr",
     "output_type": "stream",
     "text": [
      " 27%|█████████████████████▍                                                          | 134/500 [00:18<00:49,  7.41it/s]"
     ]
    },
    {
     "name": "stdout",
     "output_type": "stream",
     "text": [
      "Warning: the outcome matrix contains NaNs or other                       than 0/1 entries.\n",
      "Warning: the outcome matrix contains NaNs or other                       than 0/1 entries.\n",
      "Warning: the outcome matrix contains NaNs or other                       than 0/1 entries.\n"
     ]
    },
    {
     "name": "stderr",
     "output_type": "stream",
     "text": [
      " 27%|█████████████████████▊                                                          | 136/500 [00:19<00:49,  7.42it/s]"
     ]
    },
    {
     "name": "stdout",
     "output_type": "stream",
     "text": [
      "Warning: the outcome matrix contains NaNs or other                       than 0/1 entries.\n",
      "Warning: the outcome matrix contains NaNs or other                       than 0/1 entries.\n",
      "Warning: the outcome matrix contains NaNs or other                       than 0/1 entries.\n"
     ]
    },
    {
     "name": "stderr",
     "output_type": "stream",
     "text": [
      "\r",
      " 27%|█████████████████████▉                                                          | 137/500 [00:19<00:49,  7.35it/s]"
     ]
    },
    {
     "name": "stdout",
     "output_type": "stream",
     "text": [
      "Warning: the outcome matrix contains NaNs or other                       than 0/1 entries.\n",
      "Warning: the outcome matrix contains NaNs or other                       than 0/1 entries.\n",
      "Warning: the outcome matrix contains NaNs or other                       than 0/1 entries.\n",
      "Warning: the outcome matrix contains NaNs or other                       than 0/1 entries.\n"
     ]
    },
    {
     "name": "stderr",
     "output_type": "stream",
     "text": [
      " 28%|██████████████████████▏                                                         | 139/500 [00:19<00:47,  7.64it/s]"
     ]
    },
    {
     "name": "stdout",
     "output_type": "stream",
     "text": [
      "Warning: the outcome matrix contains NaNs or other                       than 0/1 entries.\n",
      "Warning: the outcome matrix contains NaNs or other                       than 0/1 entries.\n",
      "Warning: the outcome matrix contains NaNs or other                       than 0/1 entries.\n"
     ]
    },
    {
     "name": "stderr",
     "output_type": "stream",
     "text": [
      "\r",
      " 28%|██████████████████████▍                                                         | 140/500 [00:19<00:46,  7.71it/s]"
     ]
    },
    {
     "name": "stdout",
     "output_type": "stream",
     "text": [
      "Warning: the outcome matrix contains NaNs or other                       than 0/1 entries.\n",
      "Warning: the outcome matrix contains NaNs or other                       than 0/1 entries.\n",
      "Warning: the outcome matrix contains NaNs or other                       than 0/1 entries.\n"
     ]
    },
    {
     "name": "stderr",
     "output_type": "stream",
     "text": [
      " 28%|██████████████████████▋                                                         | 142/500 [00:19<00:48,  7.41it/s]"
     ]
    },
    {
     "name": "stdout",
     "output_type": "stream",
     "text": [
      "Warning: the outcome matrix contains NaNs or other                       than 0/1 entries.\n",
      "Warning: the outcome matrix contains NaNs or other                       than 0/1 entries.\n",
      "Warning: the outcome matrix contains NaNs or other                       than 0/1 entries.\n",
      "Warning: the outcome matrix contains NaNs or other                       than 0/1 entries.\n"
     ]
    },
    {
     "name": "stderr",
     "output_type": "stream",
     "text": [
      " 29%|███████████████████████                                                         | 144/500 [00:20<00:47,  7.53it/s]"
     ]
    },
    {
     "name": "stdout",
     "output_type": "stream",
     "text": [
      "Warning: the outcome matrix contains NaNs or other                       than 0/1 entries.\n",
      "Warning: the outcome matrix contains NaNs or other                       than 0/1 entries.\n",
      "Warning: the outcome matrix contains NaNs or other                       than 0/1 entries.\n"
     ]
    },
    {
     "name": "stderr",
     "output_type": "stream",
     "text": [
      " 29%|███████████████████████▎                                                        | 146/500 [00:20<00:46,  7.67it/s]"
     ]
    },
    {
     "name": "stdout",
     "output_type": "stream",
     "text": [
      "Warning: the outcome matrix contains NaNs or other                       than 0/1 entries.\n",
      "Warning: the outcome matrix contains NaNs or other                       than 0/1 entries.\n",
      "Warning: the outcome matrix contains NaNs or other                       than 0/1 entries.\n",
      "Warning: the outcome matrix contains NaNs or other                       than 0/1 entries.\n"
     ]
    },
    {
     "name": "stderr",
     "output_type": "stream",
     "text": [
      " 30%|███████████████████████▋                                                        | 148/500 [00:20<00:48,  7.32it/s]"
     ]
    },
    {
     "name": "stdout",
     "output_type": "stream",
     "text": [
      "Warning: the outcome matrix contains NaNs or other                       than 0/1 entries.\n",
      "Warning: the outcome matrix contains NaNs or other                       than 0/1 entries.\n",
      "Warning: the outcome matrix contains NaNs or other                       than 0/1 entries.\n"
     ]
    },
    {
     "name": "stderr",
     "output_type": "stream",
     "text": [
      "\r",
      " 30%|███████████████████████▊                                                        | 149/500 [00:20<00:49,  7.11it/s]"
     ]
    },
    {
     "name": "stdout",
     "output_type": "stream",
     "text": [
      "Warning: the outcome matrix contains NaNs or other                       than 0/1 entries.\n",
      "Warning: the outcome matrix contains NaNs or other                       than 0/1 entries.\n",
      "Warning: the outcome matrix contains NaNs or other                       than 0/1 entries.\n"
     ]
    },
    {
     "name": "stderr",
     "output_type": "stream",
     "text": [
      "\r",
      " 30%|████████████████████████                                                        | 150/500 [00:20<00:49,  7.10it/s]"
     ]
    },
    {
     "name": "stdout",
     "output_type": "stream",
     "text": [
      "Warning: the outcome matrix contains NaNs or other                       than 0/1 entries.\n",
      "Warning: the outcome matrix contains NaNs or other                       than 0/1 entries.\n",
      "Warning: the outcome matrix contains NaNs or other                       than 0/1 entries.\n"
     ]
    },
    {
     "name": "stderr",
     "output_type": "stream",
     "text": [
      " 30%|████████████████████████▎                                                       | 152/500 [00:21<00:48,  7.14it/s]"
     ]
    },
    {
     "name": "stdout",
     "output_type": "stream",
     "text": [
      "Warning: the outcome matrix contains NaNs or other                       than 0/1 entries.\n",
      "Warning: the outcome matrix contains NaNs or other                       than 0/1 entries.\n",
      "Warning: the outcome matrix contains NaNs or other                       than 0/1 entries.\n"
     ]
    },
    {
     "name": "stderr",
     "output_type": "stream",
     "text": [
      "\r",
      " 31%|████████████████████████▍                                                       | 153/500 [00:21<00:49,  6.99it/s]"
     ]
    },
    {
     "name": "stdout",
     "output_type": "stream",
     "text": [
      "Warning: the outcome matrix contains NaNs or other                       than 0/1 entries.\n",
      "Warning: the outcome matrix contains NaNs or other                       than 0/1 entries.\n",
      "Warning: the outcome matrix contains NaNs or other                       than 0/1 entries.\n"
     ]
    },
    {
     "name": "stderr",
     "output_type": "stream",
     "text": [
      " 31%|████████████████████████▊                                                       | 155/500 [00:21<00:47,  7.33it/s]"
     ]
    },
    {
     "name": "stdout",
     "output_type": "stream",
     "text": [
      "Warning: the outcome matrix contains NaNs or other                       than 0/1 entries.\n",
      "Warning: the outcome matrix contains NaNs or other                       than 0/1 entries.\n",
      "Warning: the outcome matrix contains NaNs or other                       than 0/1 entries.\n"
     ]
    },
    {
     "name": "stderr",
     "output_type": "stream",
     "text": [
      " 31%|█████████████████████████                                                       | 157/500 [00:21<00:47,  7.21it/s]"
     ]
    },
    {
     "name": "stdout",
     "output_type": "stream",
     "text": [
      "Warning: the outcome matrix contains NaNs or other                       than 0/1 entries.\n",
      "Warning: the outcome matrix contains NaNs or other                       than 0/1 entries.\n",
      "Warning: the outcome matrix contains NaNs or other                       than 0/1 entries.\n",
      "Warning: the outcome matrix contains NaNs or other                       than 0/1 entries.\n"
     ]
    },
    {
     "name": "stderr",
     "output_type": "stream",
     "text": [
      "\r",
      " 32%|█████████████████████████▎                                                      | 158/500 [00:22<00:48,  7.08it/s]"
     ]
    },
    {
     "name": "stdout",
     "output_type": "stream",
     "text": [
      "Warning: the outcome matrix contains NaNs or other                       than 0/1 entries.\n",
      "Warning: the outcome matrix contains NaNs or other                       than 0/1 entries.\n",
      "Warning: the outcome matrix contains NaNs or other                       than 0/1 entries.\n"
     ]
    },
    {
     "name": "stderr",
     "output_type": "stream",
     "text": [
      " 32%|█████████████████████████▌                                                      | 160/500 [00:22<00:48,  7.07it/s]"
     ]
    },
    {
     "name": "stdout",
     "output_type": "stream",
     "text": [
      "Warning: the outcome matrix contains NaNs or other                       than 0/1 entries.\n",
      "Warning: the outcome matrix contains NaNs or other                       than 0/1 entries.\n",
      "Warning: the outcome matrix contains NaNs or other                       than 0/1 entries.\n"
     ]
    },
    {
     "name": "stderr",
     "output_type": "stream",
     "text": [
      "\r",
      " 32%|█████████████████████████▊                                                      | 161/500 [00:22<00:46,  7.22it/s]"
     ]
    },
    {
     "name": "stdout",
     "output_type": "stream",
     "text": [
      "Warning: the outcome matrix contains NaNs or other                       than 0/1 entries.\n",
      "Warning: the outcome matrix contains NaNs or other                       than 0/1 entries.\n",
      "Warning: the outcome matrix contains NaNs or other                       than 0/1 entries.\n"
     ]
    },
    {
     "name": "stderr",
     "output_type": "stream",
     "text": [
      " 33%|██████████████████████████                                                      | 163/500 [00:22<00:45,  7.42it/s]"
     ]
    },
    {
     "name": "stdout",
     "output_type": "stream",
     "text": [
      "Warning: the outcome matrix contains NaNs or other                       than 0/1 entries.\n",
      "Warning: the outcome matrix contains NaNs or other                       than 0/1 entries.\n",
      "Warning: the outcome matrix contains NaNs or other                       than 0/1 entries.\n"
     ]
    },
    {
     "name": "stderr",
     "output_type": "stream",
     "text": [
      " 33%|██████████████████████████▍                                                     | 165/500 [00:23<00:46,  7.27it/s]"
     ]
    },
    {
     "name": "stdout",
     "output_type": "stream",
     "text": [
      "Warning: the outcome matrix contains NaNs or other                       than 0/1 entries.\n",
      "Warning: the outcome matrix contains NaNs or other                       than 0/1 entries.\n",
      "Warning: the outcome matrix contains NaNs or other                       than 0/1 entries.\n"
     ]
    },
    {
     "name": "stderr",
     "output_type": "stream",
     "text": [
      "\r",
      " 33%|██████████████████████████▌                                                     | 166/500 [00:23<00:45,  7.36it/s]"
     ]
    },
    {
     "name": "stdout",
     "output_type": "stream",
     "text": [
      "Warning: the outcome matrix contains NaNs or other                       than 0/1 entries.\n",
      "Warning: the outcome matrix contains NaNs or other                       than 0/1 entries.\n",
      "Warning: the outcome matrix contains NaNs or other                       than 0/1 entries.\n"
     ]
    },
    {
     "name": "stderr",
     "output_type": "stream",
     "text": [
      "\r",
      " 33%|██████████████████████████▋                                                     | 167/500 [00:23<00:45,  7.39it/s]"
     ]
    },
    {
     "name": "stdout",
     "output_type": "stream",
     "text": [
      "Warning: the outcome matrix contains NaNs or other                       than 0/1 entries.\n",
      "Warning: the outcome matrix contains NaNs or other                       than 0/1 entries.\n",
      "Warning: the outcome matrix contains NaNs or other                       than 0/1 entries.\n"
     ]
    },
    {
     "name": "stderr",
     "output_type": "stream",
     "text": [
      " 34%|███████████████████████████                                                     | 169/500 [00:23<00:44,  7.49it/s]"
     ]
    },
    {
     "name": "stdout",
     "output_type": "stream",
     "text": [
      "Warning: the outcome matrix contains NaNs or other                       than 0/1 entries.\n",
      "Warning: the outcome matrix contains NaNs or other                       than 0/1 entries.\n",
      "Warning: the outcome matrix contains NaNs or other                       than 0/1 entries.\n"
     ]
    },
    {
     "name": "stderr",
     "output_type": "stream",
     "text": [
      " 34%|███████████████████████████▎                                                    | 171/500 [00:23<00:45,  7.29it/s]"
     ]
    },
    {
     "name": "stdout",
     "output_type": "stream",
     "text": [
      "Warning: the outcome matrix contains NaNs or other                       than 0/1 entries.\n",
      "Warning: the outcome matrix contains NaNs or other                       than 0/1 entries.\n",
      "Warning: the outcome matrix contains NaNs or other                       than 0/1 entries.\n"
     ]
    },
    {
     "name": "stderr",
     "output_type": "stream",
     "text": [
      "\r",
      " 34%|███████████████████████████▌                                                    | 172/500 [00:23<00:42,  7.65it/s]"
     ]
    },
    {
     "name": "stdout",
     "output_type": "stream",
     "text": [
      "Warning: the outcome matrix contains NaNs or other                       than 0/1 entries.\n",
      "Warning: the outcome matrix contains NaNs or other                       than 0/1 entries.\n",
      "Warning: the outcome matrix contains NaNs or other                       than 0/1 entries.\n"
     ]
    },
    {
     "name": "stderr",
     "output_type": "stream",
     "text": [
      "\r",
      " 35%|███████████████████████████▋                                                    | 173/500 [00:24<00:42,  7.62it/s]"
     ]
    },
    {
     "name": "stdout",
     "output_type": "stream",
     "text": [
      "Warning: the outcome matrix contains NaNs or other                       than 0/1 entries.\n",
      "Warning: the outcome matrix contains NaNs or other                       than 0/1 entries.\n",
      "Warning: the outcome matrix contains NaNs or other                       than 0/1 entries.\n"
     ]
    },
    {
     "name": "stderr",
     "output_type": "stream",
     "text": [
      " 35%|████████████████████████████                                                    | 175/500 [00:24<00:45,  7.20it/s]"
     ]
    },
    {
     "name": "stdout",
     "output_type": "stream",
     "text": [
      "Warning: the outcome matrix contains NaNs or other                       than 0/1 entries.\n",
      "Warning: the outcome matrix contains NaNs or other                       than 0/1 entries.\n",
      "Warning: the outcome matrix contains NaNs or other                       than 0/1 entries.\n"
     ]
    },
    {
     "name": "stderr",
     "output_type": "stream",
     "text": [
      "\r",
      " 35%|████████████████████████████▏                                                   | 176/500 [00:24<00:43,  7.37it/s]"
     ]
    },
    {
     "name": "stdout",
     "output_type": "stream",
     "text": [
      "Warning: the outcome matrix contains NaNs or other                       than 0/1 entries.\n",
      "Warning: the outcome matrix contains NaNs or other                       than 0/1 entries.\n",
      "Warning: the outcome matrix contains NaNs or other                       than 0/1 entries.\n"
     ]
    },
    {
     "name": "stderr",
     "output_type": "stream",
     "text": [
      " 36%|████████████████████████████▍                                                   | 178/500 [00:24<00:43,  7.33it/s]"
     ]
    },
    {
     "name": "stdout",
     "output_type": "stream",
     "text": [
      "Warning: the outcome matrix contains NaNs or other                       than 0/1 entries.\n",
      "Warning: the outcome matrix contains NaNs or other                       than 0/1 entries.\n",
      "Warning: the outcome matrix contains NaNs or other                       than 0/1 entries.\n",
      "Warning: the outcome matrix contains NaNs or other                       than 0/1 entries.\n"
     ]
    },
    {
     "name": "stderr",
     "output_type": "stream",
     "text": [
      " 36%|████████████████████████████▊                                                   | 180/500 [00:25<00:46,  6.92it/s]"
     ]
    },
    {
     "name": "stdout",
     "output_type": "stream",
     "text": [
      "Warning: the outcome matrix contains NaNs or other                       than 0/1 entries.\n",
      "Warning: the outcome matrix contains NaNs or other                       than 0/1 entries.\n",
      "Warning: the outcome matrix contains NaNs or other                       than 0/1 entries.\n"
     ]
    },
    {
     "name": "stderr",
     "output_type": "stream",
     "text": [
      " 36%|█████████████████████████████                                                   | 182/500 [00:25<00:42,  7.45it/s]"
     ]
    },
    {
     "name": "stdout",
     "output_type": "stream",
     "text": [
      "Warning: the outcome matrix contains NaNs or other                       than 0/1 entries.\n",
      "Warning: the outcome matrix contains NaNs or other                       than 0/1 entries.\n",
      "Warning: the outcome matrix contains NaNs or other                       than 0/1 entries.\n"
     ]
    },
    {
     "name": "stderr",
     "output_type": "stream",
     "text": [
      "\r",
      " 37%|█████████████████████████████▎                                                  | 183/500 [00:25<00:41,  7.61it/s]"
     ]
    },
    {
     "name": "stdout",
     "output_type": "stream",
     "text": [
      "Warning: the outcome matrix contains NaNs or other                       than 0/1 entries.\n",
      "Warning: the outcome matrix contains NaNs or other                       than 0/1 entries.\n",
      "Warning: the outcome matrix contains NaNs or other                       than 0/1 entries.\n"
     ]
    },
    {
     "name": "stderr",
     "output_type": "stream",
     "text": [
      " 37%|█████████████████████████████▌                                                  | 185/500 [00:25<00:42,  7.47it/s]"
     ]
    },
    {
     "name": "stdout",
     "output_type": "stream",
     "text": [
      "Warning: the outcome matrix contains NaNs or other                       than 0/1 entries.\n",
      "Warning: the outcome matrix contains NaNs or other                       than 0/1 entries.\n",
      "Warning: the outcome matrix contains NaNs or other                       than 0/1 entries.\n"
     ]
    },
    {
     "name": "stderr",
     "output_type": "stream",
     "text": [
      "\r",
      " 37%|█████████████████████████████▊                                                  | 186/500 [00:25<00:41,  7.65it/s]"
     ]
    },
    {
     "name": "stdout",
     "output_type": "stream",
     "text": [
      "Warning: the outcome matrix contains NaNs or other                       than 0/1 entries.\n",
      "Warning: the outcome matrix contains NaNs or other                       than 0/1 entries.\n",
      "Warning: the outcome matrix contains NaNs or other                       than 0/1 entries.\n",
      "Warning: the outcome matrix contains NaNs or other                       than 0/1 entries.\n"
     ]
    },
    {
     "name": "stderr",
     "output_type": "stream",
     "text": [
      " 38%|██████████████████████████████                                                  | 188/500 [00:26<00:40,  7.73it/s]"
     ]
    },
    {
     "name": "stdout",
     "output_type": "stream",
     "text": [
      "Warning: the outcome matrix contains NaNs or other                       than 0/1 entries.\n",
      "Warning: the outcome matrix contains NaNs or other                       than 0/1 entries.\n",
      "Warning: the outcome matrix contains NaNs or other                       than 0/1 entries.\n",
      "Warning: the outcome matrix contains NaNs or other                       than 0/1 entries.\n"
     ]
    },
    {
     "name": "stderr",
     "output_type": "stream",
     "text": [
      " 38%|██████████████████████████████▍                                                 | 190/500 [00:26<00:42,  7.23it/s]"
     ]
    },
    {
     "name": "stdout",
     "output_type": "stream",
     "text": [
      "Warning: the outcome matrix contains NaNs or other                       than 0/1 entries.\n",
      "Warning: the outcome matrix contains NaNs or other                       than 0/1 entries.\n",
      "Warning: the outcome matrix contains NaNs or other                       than 0/1 entries.\n"
     ]
    },
    {
     "name": "stderr",
     "output_type": "stream",
     "text": [
      "\r",
      " 38%|██████████████████████████████▌                                                 | 191/500 [00:26<00:42,  7.25it/s]"
     ]
    },
    {
     "name": "stdout",
     "output_type": "stream",
     "text": [
      "Warning: the outcome matrix contains NaNs or other                       than 0/1 entries.\n",
      "Warning: the outcome matrix contains NaNs or other                       than 0/1 entries.\n",
      "Warning: the outcome matrix contains NaNs or other                       than 0/1 entries.\n"
     ]
    },
    {
     "name": "stderr",
     "output_type": "stream",
     "text": [
      " 39%|██████████████████████████████▉                                                 | 193/500 [00:26<00:41,  7.33it/s]"
     ]
    },
    {
     "name": "stdout",
     "output_type": "stream",
     "text": [
      "Warning: the outcome matrix contains NaNs or other                       than 0/1 entries.\n",
      "Warning: the outcome matrix contains NaNs or other                       than 0/1 entries.\n",
      "Warning: the outcome matrix contains NaNs or other                       than 0/1 entries.\n",
      "Warning: the outcome matrix contains NaNs or other                       than 0/1 entries.\n"
     ]
    },
    {
     "name": "stderr",
     "output_type": "stream",
     "text": [
      " 39%|███████████████████████████████▏                                                | 195/500 [00:27<00:41,  7.33it/s]"
     ]
    },
    {
     "name": "stdout",
     "output_type": "stream",
     "text": [
      "Warning: the outcome matrix contains NaNs or other                       than 0/1 entries.\n",
      "Warning: the outcome matrix contains NaNs or other                       than 0/1 entries.\n",
      "Warning: the outcome matrix contains NaNs or other                       than 0/1 entries.\n",
      "Warning: the outcome matrix contains NaNs or other                       than 0/1 entries.\n"
     ]
    },
    {
     "name": "stderr",
     "output_type": "stream",
     "text": [
      " 39%|███████████████████████████████▌                                                | 197/500 [00:27<00:39,  7.72it/s]"
     ]
    },
    {
     "name": "stdout",
     "output_type": "stream",
     "text": [
      "Warning: the outcome matrix contains NaNs or other                       than 0/1 entries.\n",
      "Warning: the outcome matrix contains NaNs or other                       than 0/1 entries.\n",
      "Warning: the outcome matrix contains NaNs or other                       than 0/1 entries.\n"
     ]
    },
    {
     "name": "stderr",
     "output_type": "stream",
     "text": [
      "\r",
      " 40%|███████████████████████████████▋                                                | 198/500 [00:27<00:43,  6.91it/s]"
     ]
    },
    {
     "name": "stdout",
     "output_type": "stream",
     "text": [
      "Warning: the outcome matrix contains NaNs or other                       than 0/1 entries.\n",
      "Warning: the outcome matrix contains NaNs or other                       than 0/1 entries.\n",
      "Warning: the outcome matrix contains NaNs or other                       than 0/1 entries.\n"
     ]
    },
    {
     "name": "stderr",
     "output_type": "stream",
     "text": [
      " 40%|████████████████████████████████                                                | 200/500 [00:27<00:43,  6.93it/s]"
     ]
    },
    {
     "name": "stdout",
     "output_type": "stream",
     "text": [
      "Warning: the outcome matrix contains NaNs or other                       than 0/1 entries.\n",
      "Warning: the outcome matrix contains NaNs or other                       than 0/1 entries.\n",
      "Warning: the outcome matrix contains NaNs or other                       than 0/1 entries.\n",
      "Warning: the outcome matrix contains NaNs or other                       than 0/1 entries.\n"
     ]
    },
    {
     "name": "stderr",
     "output_type": "stream",
     "text": [
      " 40%|████████████████████████████████▎                                               | 202/500 [00:28<00:41,  7.15it/s]"
     ]
    },
    {
     "name": "stdout",
     "output_type": "stream",
     "text": [
      "Warning: the outcome matrix contains NaNs or other                       than 0/1 entries.\n",
      "Warning: the outcome matrix contains NaNs or other                       than 0/1 entries.\n",
      "Warning: the outcome matrix contains NaNs or other                       than 0/1 entries.\n"
     ]
    },
    {
     "name": "stderr",
     "output_type": "stream",
     "text": [
      "\r",
      " 41%|████████████████████████████████▍                                               | 203/500 [00:28<00:42,  7.00it/s]"
     ]
    },
    {
     "name": "stdout",
     "output_type": "stream",
     "text": [
      "Warning: the outcome matrix contains NaNs or other                       than 0/1 entries.\n",
      "Warning: the outcome matrix contains NaNs or other                       than 0/1 entries.\n",
      "Warning: the outcome matrix contains NaNs or other                       than 0/1 entries.\n"
     ]
    },
    {
     "name": "stderr",
     "output_type": "stream",
     "text": [
      " 41%|████████████████████████████████▊                                               | 205/500 [00:28<00:40,  7.34it/s]"
     ]
    },
    {
     "name": "stdout",
     "output_type": "stream",
     "text": [
      "Warning: the outcome matrix contains NaNs or other                       than 0/1 entries.\n",
      "Warning: the outcome matrix contains NaNs or other                       than 0/1 entries.\n",
      "Warning: the outcome matrix contains NaNs or other                       than 0/1 entries.\n"
     ]
    },
    {
     "name": "stderr",
     "output_type": "stream",
     "text": [
      "\r",
      " 41%|████████████████████████████████▉                                               | 206/500 [00:28<00:41,  7.16it/s]"
     ]
    },
    {
     "name": "stdout",
     "output_type": "stream",
     "text": [
      "Warning: the outcome matrix contains NaNs or other                       than 0/1 entries.\n",
      "Warning: the outcome matrix contains NaNs or other                       than 0/1 entries.\n",
      "Warning: the outcome matrix contains NaNs or other                       than 0/1 entries.\n"
     ]
    },
    {
     "name": "stderr",
     "output_type": "stream",
     "text": [
      " 42%|█████████████████████████████████▎                                              | 208/500 [00:28<00:39,  7.32it/s]"
     ]
    },
    {
     "name": "stdout",
     "output_type": "stream",
     "text": [
      "Warning: the outcome matrix contains NaNs or other                       than 0/1 entries.\n",
      "Warning: the outcome matrix contains NaNs or other                       than 0/1 entries.\n",
      "Warning: the outcome matrix contains NaNs or other                       than 0/1 entries.\n"
     ]
    },
    {
     "name": "stderr",
     "output_type": "stream",
     "text": [
      " 42%|█████████████████████████████████▌                                              | 210/500 [00:29<00:39,  7.44it/s]"
     ]
    },
    {
     "name": "stdout",
     "output_type": "stream",
     "text": [
      "Warning: the outcome matrix contains NaNs or other                       than 0/1 entries.\n",
      "Warning: the outcome matrix contains NaNs or other                       than 0/1 entries.\n",
      "Warning: the outcome matrix contains NaNs or other                       than 0/1 entries.\n",
      "Warning: the outcome matrix contains NaNs or other                       than 0/1 entries.\n",
      "Warning: the outcome matrix contains NaNs or other                       than 0/1 entries.\n"
     ]
    },
    {
     "name": "stderr",
     "output_type": "stream",
     "text": [
      " 42%|█████████████████████████████████▉                                              | 212/500 [00:29<00:37,  7.61it/s]"
     ]
    },
    {
     "name": "stdout",
     "output_type": "stream",
     "text": [
      "Warning: the outcome matrix contains NaNs or other                       than 0/1 entries.\n",
      "Warning: the outcome matrix contains NaNs or other                       than 0/1 entries.\n",
      "Warning: the outcome matrix contains NaNs or other                       than 0/1 entries.\n",
      "Warning: the outcome matrix contains NaNs or other                       than 0/1 entries.\n"
     ]
    },
    {
     "name": "stderr",
     "output_type": "stream",
     "text": [
      " 43%|██████████████████████████████████▏                                             | 214/500 [00:29<00:38,  7.37it/s]"
     ]
    },
    {
     "name": "stdout",
     "output_type": "stream",
     "text": [
      "Warning: the outcome matrix contains NaNs or other                       than 0/1 entries.\n",
      "Warning: the outcome matrix contains NaNs or other                       than 0/1 entries.\n",
      "Warning: the outcome matrix contains NaNs or other                       than 0/1 entries.\n"
     ]
    },
    {
     "name": "stderr",
     "output_type": "stream",
     "text": [
      "\r",
      " 43%|██████████████████████████████████▍                                             | 215/500 [00:29<00:39,  7.20it/s]"
     ]
    },
    {
     "name": "stdout",
     "output_type": "stream",
     "text": [
      "Warning: the outcome matrix contains NaNs or other                       than 0/1 entries.\n",
      "Warning: the outcome matrix contains NaNs or other                       than 0/1 entries.\n",
      "Warning: the outcome matrix contains NaNs or other                       than 0/1 entries.\n"
     ]
    },
    {
     "name": "stderr",
     "output_type": "stream",
     "text": [
      " 43%|██████████████████████████████████▋                                             | 217/500 [00:30<00:40,  6.93it/s]"
     ]
    },
    {
     "name": "stdout",
     "output_type": "stream",
     "text": [
      "Warning: the outcome matrix contains NaNs or other                       than 0/1 entries.\n",
      "Warning: the outcome matrix contains NaNs or other                       than 0/1 entries.\n",
      "Warning: the outcome matrix contains NaNs or other                       than 0/1 entries.\n",
      "Warning: the outcome matrix contains NaNs or other                       than 0/1 entries.\n"
     ]
    },
    {
     "name": "stderr",
     "output_type": "stream",
     "text": [
      " 44%|███████████████████████████████████                                             | 219/500 [00:30<00:38,  7.21it/s]"
     ]
    },
    {
     "name": "stdout",
     "output_type": "stream",
     "text": [
      "Warning: the outcome matrix contains NaNs or other                       than 0/1 entries.\n",
      "Warning: the outcome matrix contains NaNs or other                       than 0/1 entries.\n",
      "Warning: the outcome matrix contains NaNs or other                       than 0/1 entries.\n"
     ]
    },
    {
     "name": "stderr",
     "output_type": "stream",
     "text": [
      "\r",
      " 44%|███████████████████████████████████▏                                            | 220/500 [00:30<00:44,  6.25it/s]"
     ]
    },
    {
     "name": "stdout",
     "output_type": "stream",
     "text": [
      "Warning: the outcome matrix contains NaNs or other                       than 0/1 entries.\n",
      "Warning: the outcome matrix contains NaNs or other                       than 0/1 entries.\n"
     ]
    },
    {
     "name": "stderr",
     "output_type": "stream",
     "text": [
      "\r",
      " 44%|███████████████████████████████████▎                                            | 221/500 [00:30<00:47,  5.81it/s]"
     ]
    },
    {
     "name": "stdout",
     "output_type": "stream",
     "text": [
      "Warning: the outcome matrix contains NaNs or other                       than 0/1 entries.\n",
      "Warning: the outcome matrix contains NaNs or other                       than 0/1 entries.\n",
      "Warning: the outcome matrix contains NaNs or other                       than 0/1 entries.\n"
     ]
    },
    {
     "name": "stderr",
     "output_type": "stream",
     "text": [
      " 45%|███████████████████████████████████▋                                            | 223/500 [00:31<00:44,  6.29it/s]"
     ]
    },
    {
     "name": "stdout",
     "output_type": "stream",
     "text": [
      "Warning: the outcome matrix contains NaNs or other                       than 0/1 entries.\n",
      "Warning: the outcome matrix contains NaNs or other                       than 0/1 entries.\n",
      "Warning: the outcome matrix contains NaNs or other                       than 0/1 entries.\n"
     ]
    },
    {
     "name": "stderr",
     "output_type": "stream",
     "text": [
      "\r",
      " 45%|███████████████████████████████████▊                                            | 224/500 [00:31<00:44,  6.21it/s]"
     ]
    },
    {
     "name": "stdout",
     "output_type": "stream",
     "text": [
      "Warning: the outcome matrix contains NaNs or other                       than 0/1 entries.\n",
      "Warning: the outcome matrix contains NaNs or other                       than 0/1 entries.\n",
      "Warning: the outcome matrix contains NaNs or other                       than 0/1 entries.\n"
     ]
    },
    {
     "name": "stderr",
     "output_type": "stream",
     "text": [
      " 45%|████████████████████████████████████▏                                           | 226/500 [00:31<00:41,  6.68it/s]"
     ]
    },
    {
     "name": "stdout",
     "output_type": "stream",
     "text": [
      "Warning: the outcome matrix contains NaNs or other                       than 0/1 entries.\n",
      "Warning: the outcome matrix contains NaNs or other                       than 0/1 entries.\n",
      "Warning: the outcome matrix contains NaNs or other                       than 0/1 entries.\n",
      "Warning: the outcome matrix contains NaNs or other                       than 0/1 entries.\n"
     ]
    },
    {
     "name": "stderr",
     "output_type": "stream",
     "text": [
      " 46%|████████████████████████████████████▍                                           | 228/500 [00:31<00:40,  6.64it/s]"
     ]
    },
    {
     "name": "stdout",
     "output_type": "stream",
     "text": [
      "Warning: the outcome matrix contains NaNs or other                       than 0/1 entries.\n",
      "Warning: the outcome matrix contains NaNs or other                       than 0/1 entries.\n",
      "Warning: the outcome matrix contains NaNs or other                       than 0/1 entries.\n"
     ]
    },
    {
     "name": "stderr",
     "output_type": "stream",
     "text": [
      "\r",
      " 46%|████████████████████████████████████▋                                           | 229/500 [00:32<00:41,  6.49it/s]"
     ]
    },
    {
     "name": "stdout",
     "output_type": "stream",
     "text": [
      "Warning: the outcome matrix contains NaNs or other                       than 0/1 entries.\n",
      "Warning: the outcome matrix contains NaNs or other                       than 0/1 entries.\n",
      "Warning: the outcome matrix contains NaNs or other                       than 0/1 entries.\n"
     ]
    },
    {
     "name": "stderr",
     "output_type": "stream",
     "text": [
      " 46%|████████████████████████████████████▉                                           | 231/500 [00:32<00:40,  6.71it/s]"
     ]
    },
    {
     "name": "stdout",
     "output_type": "stream",
     "text": [
      "Warning: the outcome matrix contains NaNs or other                       than 0/1 entries.\n",
      "Warning: the outcome matrix contains NaNs or other                       than 0/1 entries.\n",
      "Warning: the outcome matrix contains NaNs or other                       than 0/1 entries.\n"
     ]
    },
    {
     "name": "stderr",
     "output_type": "stream",
     "text": [
      "\r",
      " 46%|█████████████████████████████████████                                           | 232/500 [00:32<00:39,  6.78it/s]"
     ]
    },
    {
     "name": "stdout",
     "output_type": "stream",
     "text": [
      "Warning: the outcome matrix contains NaNs or other                       than 0/1 entries.\n",
      "Warning: the outcome matrix contains NaNs or other                       than 0/1 entries.\n",
      "Warning: the outcome matrix contains NaNs or other                       than 0/1 entries.\n"
     ]
    },
    {
     "name": "stderr",
     "output_type": "stream",
     "text": [
      " 47%|█████████████████████████████████████▍                                          | 234/500 [00:32<00:39,  6.69it/s]"
     ]
    },
    {
     "name": "stdout",
     "output_type": "stream",
     "text": [
      "Warning: the outcome matrix contains NaNs or other                       than 0/1 entries.\n",
      "Warning: the outcome matrix contains NaNs or other                       than 0/1 entries.\n",
      "Warning: the outcome matrix contains NaNs or other                       than 0/1 entries.\n"
     ]
    },
    {
     "name": "stderr",
     "output_type": "stream",
     "text": [
      " 47%|█████████████████████████████████████▊                                          | 236/500 [00:33<00:37,  6.99it/s]"
     ]
    },
    {
     "name": "stdout",
     "output_type": "stream",
     "text": [
      "Warning: the outcome matrix contains NaNs or other                       than 0/1 entries.\n",
      "Warning: the outcome matrix contains NaNs or other                       than 0/1 entries.\n",
      "Warning: the outcome matrix contains NaNs or other                       than 0/1 entries.\n"
     ]
    },
    {
     "name": "stderr",
     "output_type": "stream",
     "text": [
      "\r",
      " 47%|█████████████████████████████████████▉                                          | 237/500 [00:33<00:36,  7.20it/s]"
     ]
    },
    {
     "name": "stdout",
     "output_type": "stream",
     "text": [
      "Warning: the outcome matrix contains NaNs or other                       than 0/1 entries.\n",
      "Warning: the outcome matrix contains NaNs or other                       than 0/1 entries.\n",
      "Warning: the outcome matrix contains NaNs or other                       than 0/1 entries.\n",
      "Warning: the outcome matrix contains NaNs or other                       than 0/1 entries.\n"
     ]
    },
    {
     "name": "stderr",
     "output_type": "stream",
     "text": [
      " 48%|██████████████████████████████████████▏                                         | 239/500 [00:33<00:37,  7.01it/s]"
     ]
    },
    {
     "name": "stdout",
     "output_type": "stream",
     "text": [
      "Warning: the outcome matrix contains NaNs or other                       than 0/1 entries.\n",
      "Warning: the outcome matrix contains NaNs or other                       than 0/1 entries.\n",
      "Warning: the outcome matrix contains NaNs or other                       than 0/1 entries.\n"
     ]
    },
    {
     "name": "stderr",
     "output_type": "stream",
     "text": [
      " 48%|██████████████████████████████████████▌                                         | 241/500 [00:33<00:36,  7.17it/s]"
     ]
    },
    {
     "name": "stdout",
     "output_type": "stream",
     "text": [
      "Warning: the outcome matrix contains NaNs or other                       than 0/1 entries.\n",
      "Warning: the outcome matrix contains NaNs or other                       than 0/1 entries.\n",
      "Warning: the outcome matrix contains NaNs or other                       than 0/1 entries.\n"
     ]
    },
    {
     "name": "stderr",
     "output_type": "stream",
     "text": [
      "\r",
      " 48%|██████████████████████████████████████▋                                         | 242/500 [00:33<00:36,  7.11it/s]"
     ]
    },
    {
     "name": "stdout",
     "output_type": "stream",
     "text": [
      "Warning: the outcome matrix contains NaNs or other                       than 0/1 entries.\n",
      "Warning: the outcome matrix contains NaNs or other                       than 0/1 entries.\n",
      "Warning: the outcome matrix contains NaNs or other                       than 0/1 entries.\n"
     ]
    },
    {
     "name": "stderr",
     "output_type": "stream",
     "text": [
      "\r",
      " 49%|██████████████████████████████████████▉                                         | 243/500 [00:34<00:36,  7.13it/s]"
     ]
    },
    {
     "name": "stdout",
     "output_type": "stream",
     "text": [
      "Warning: the outcome matrix contains NaNs or other                       than 0/1 entries.\n",
      "Warning: the outcome matrix contains NaNs or other                       than 0/1 entries.\n",
      "Warning: the outcome matrix contains NaNs or other                       than 0/1 entries.\n"
     ]
    },
    {
     "name": "stderr",
     "output_type": "stream",
     "text": [
      " 49%|███████████████████████████████████████▏                                        | 245/500 [00:34<00:36,  6.97it/s]"
     ]
    },
    {
     "name": "stdout",
     "output_type": "stream",
     "text": [
      "Warning: the outcome matrix contains NaNs or other                       than 0/1 entries.\n",
      "Warning: the outcome matrix contains NaNs or other                       than 0/1 entries.\n",
      "Warning: the outcome matrix contains NaNs or other                       than 0/1 entries.\n"
     ]
    },
    {
     "name": "stderr",
     "output_type": "stream",
     "text": [
      "\r",
      " 49%|███████████████████████████████████████▎                                        | 246/500 [00:34<00:35,  7.12it/s]"
     ]
    },
    {
     "name": "stdout",
     "output_type": "stream",
     "text": [
      "Warning: the outcome matrix contains NaNs or other                       than 0/1 entries.\n",
      "Warning: the outcome matrix contains NaNs or other                       than 0/1 entries.\n",
      "Warning: the outcome matrix contains NaNs or other                       than 0/1 entries.\n"
     ]
    },
    {
     "name": "stderr",
     "output_type": "stream",
     "text": [
      " 50%|███████████████████████████████████████▋                                        | 248/500 [00:34<00:35,  7.15it/s]"
     ]
    },
    {
     "name": "stdout",
     "output_type": "stream",
     "text": [
      "Warning: the outcome matrix contains NaNs or other                       than 0/1 entries.\n",
      "Warning: the outcome matrix contains NaNs or other                       than 0/1 entries.\n",
      "Warning: the outcome matrix contains NaNs or other                       than 0/1 entries.\n",
      "Warning: the outcome matrix contains NaNs or other                       than 0/1 entries.\n"
     ]
    },
    {
     "name": "stderr",
     "output_type": "stream",
     "text": [
      " 50%|████████████████████████████████████████                                        | 250/500 [00:35<00:37,  6.66it/s]"
     ]
    },
    {
     "name": "stdout",
     "output_type": "stream",
     "text": [
      "Warning: the outcome matrix contains NaNs or other                       than 0/1 entries.\n",
      "Warning: the outcome matrix contains NaNs or other                       than 0/1 entries.\n",
      "Warning: the outcome matrix contains NaNs or other                       than 0/1 entries.\n"
     ]
    },
    {
     "name": "stderr",
     "output_type": "stream",
     "text": [
      "\r",
      " 50%|████████████████████████████████████████▏                                       | 251/500 [00:35<00:36,  6.75it/s]"
     ]
    },
    {
     "name": "stdout",
     "output_type": "stream",
     "text": [
      "Warning: the outcome matrix contains NaNs or other                       than 0/1 entries.\n",
      "Warning: the outcome matrix contains NaNs or other                       than 0/1 entries.\n",
      "Warning: the outcome matrix contains NaNs or other                       than 0/1 entries.\n"
     ]
    },
    {
     "name": "stderr",
     "output_type": "stream",
     "text": [
      " 51%|████████████████████████████████████████▍                                       | 253/500 [00:35<00:35,  7.01it/s]"
     ]
    },
    {
     "name": "stdout",
     "output_type": "stream",
     "text": [
      "Warning: the outcome matrix contains NaNs or other                       than 0/1 entries.\n",
      "Warning: the outcome matrix contains NaNs or other                       than 0/1 entries.\n",
      "Warning: the outcome matrix contains NaNs or other                       than 0/1 entries.\n",
      "Warning: the outcome matrix contains NaNs or other                       than 0/1 entries.\n"
     ]
    },
    {
     "name": "stderr",
     "output_type": "stream",
     "text": [
      " 51%|████████████████████████████████████████▊                                       | 255/500 [00:35<00:34,  7.05it/s]"
     ]
    },
    {
     "name": "stdout",
     "output_type": "stream",
     "text": [
      "Warning: the outcome matrix contains NaNs or other                       than 0/1 entries.\n",
      "Warning: the outcome matrix contains NaNs or other                       than 0/1 entries.\n",
      "Warning: the outcome matrix contains NaNs or other                       than 0/1 entries.\n"
     ]
    },
    {
     "name": "stderr",
     "output_type": "stream",
     "text": [
      "\r",
      " 51%|████████████████████████████████████████▉                                       | 256/500 [00:35<00:35,  6.91it/s]"
     ]
    },
    {
     "name": "stdout",
     "output_type": "stream",
     "text": [
      "Warning: the outcome matrix contains NaNs or other                       than 0/1 entries.\n",
      "Warning: the outcome matrix contains NaNs or other                       than 0/1 entries.\n",
      "Warning: the outcome matrix contains NaNs or other                       than 0/1 entries.\n"
     ]
    },
    {
     "name": "stderr",
     "output_type": "stream",
     "text": [
      " 52%|█████████████████████████████████████████▎                                      | 258/500 [00:36<00:36,  6.60it/s]"
     ]
    },
    {
     "name": "stdout",
     "output_type": "stream",
     "text": [
      "Warning: the outcome matrix contains NaNs or other                       than 0/1 entries.\n",
      "Warning: the outcome matrix contains NaNs or other                       than 0/1 entries.\n",
      "Warning: the outcome matrix contains NaNs or other                       than 0/1 entries.\n"
     ]
    },
    {
     "name": "stderr",
     "output_type": "stream",
     "text": [
      "\r",
      " 52%|█████████████████████████████████████████▍                                      | 259/500 [00:36<00:35,  6.73it/s]"
     ]
    },
    {
     "name": "stdout",
     "output_type": "stream",
     "text": [
      "Warning: the outcome matrix contains NaNs or other                       than 0/1 entries.\n",
      "Warning: the outcome matrix contains NaNs or other                       than 0/1 entries.\n",
      "Warning: the outcome matrix contains NaNs or other                       than 0/1 entries.\n"
     ]
    },
    {
     "name": "stderr",
     "output_type": "stream",
     "text": [
      " 52%|█████████████████████████████████████████▊                                      | 261/500 [00:36<00:34,  7.03it/s]"
     ]
    },
    {
     "name": "stdout",
     "output_type": "stream",
     "text": [
      "Warning: the outcome matrix contains NaNs or other                       than 0/1 entries.\n",
      "Warning: the outcome matrix contains NaNs or other                       than 0/1 entries.\n",
      "Warning: the outcome matrix contains NaNs or other                       than 0/1 entries.\n"
     ]
    },
    {
     "name": "stderr",
     "output_type": "stream",
     "text": [
      "\r",
      " 52%|█████████████████████████████████████████▉                                      | 262/500 [00:36<00:33,  7.00it/s]"
     ]
    },
    {
     "name": "stdout",
     "output_type": "stream",
     "text": [
      "Warning: the outcome matrix contains NaNs or other                       than 0/1 entries.\n",
      "Warning: the outcome matrix contains NaNs or other                       than 0/1 entries.\n",
      "Warning: the outcome matrix contains NaNs or other                       than 0/1 entries.\n"
     ]
    },
    {
     "name": "stderr",
     "output_type": "stream",
     "text": [
      " 53%|██████████████████████████████████████████▏                                     | 264/500 [00:37<00:33,  7.01it/s]"
     ]
    },
    {
     "name": "stdout",
     "output_type": "stream",
     "text": [
      "Warning: the outcome matrix contains NaNs or other                       than 0/1 entries.\n",
      "Warning: the outcome matrix contains NaNs or other                       than 0/1 entries.\n",
      "Warning: the outcome matrix contains NaNs or other                       than 0/1 entries.\n",
      "Warning: the outcome matrix contains NaNs or other                       than 0/1 entries.\n"
     ]
    },
    {
     "name": "stderr",
     "output_type": "stream",
     "text": [
      " 53%|██████████████████████████████████████████▌                                     | 266/500 [00:37<00:33,  7.05it/s]"
     ]
    },
    {
     "name": "stdout",
     "output_type": "stream",
     "text": [
      "Warning: the outcome matrix contains NaNs or other                       than 0/1 entries.\n",
      "Warning: the outcome matrix contains NaNs or other                       than 0/1 entries.\n",
      "Warning: the outcome matrix contains NaNs or other                       than 0/1 entries.\n"
     ]
    },
    {
     "name": "stderr",
     "output_type": "stream",
     "text": [
      "\r",
      " 53%|██████████████████████████████████████████▋                                     | 267/500 [00:37<00:32,  7.11it/s]"
     ]
    },
    {
     "name": "stdout",
     "output_type": "stream",
     "text": [
      "Warning: the outcome matrix contains NaNs or other                       than 0/1 entries.\n",
      "Warning: the outcome matrix contains NaNs or other                       than 0/1 entries.\n",
      "Warning: the outcome matrix contains NaNs or other                       than 0/1 entries.\n"
     ]
    },
    {
     "name": "stderr",
     "output_type": "stream",
     "text": [
      " 54%|███████████████████████████████████████████                                     | 269/500 [00:37<00:34,  6.73it/s]"
     ]
    },
    {
     "name": "stdout",
     "output_type": "stream",
     "text": [
      "Warning: the outcome matrix contains NaNs or other                       than 0/1 entries.\n",
      "Warning: the outcome matrix contains NaNs or other                       than 0/1 entries.\n",
      "Warning: the outcome matrix contains NaNs or other                       than 0/1 entries.\n"
     ]
    },
    {
     "name": "stderr",
     "output_type": "stream",
     "text": [
      " 54%|███████████████████████████████████████████▎                                    | 271/500 [00:38<00:33,  6.80it/s]"
     ]
    },
    {
     "name": "stdout",
     "output_type": "stream",
     "text": [
      "Warning: the outcome matrix contains NaNs or other                       than 0/1 entries.\n",
      "Warning: the outcome matrix contains NaNs or other                       than 0/1 entries.\n",
      "Warning: the outcome matrix contains NaNs or other                       than 0/1 entries.\n"
     ]
    },
    {
     "name": "stderr",
     "output_type": "stream",
     "text": [
      "\r",
      " 54%|███████████████████████████████████████████▌                                    | 272/500 [00:38<00:32,  6.99it/s]"
     ]
    },
    {
     "name": "stdout",
     "output_type": "stream",
     "text": [
      "Warning: the outcome matrix contains NaNs or other                       than 0/1 entries.\n",
      "Warning: the outcome matrix contains NaNs or other                       than 0/1 entries.\n",
      "Warning: the outcome matrix contains NaNs or other                       than 0/1 entries.\n",
      "Warning: the outcome matrix contains NaNs or other                       than 0/1 entries.\n"
     ]
    },
    {
     "name": "stderr",
     "output_type": "stream",
     "text": [
      " 55%|███████████████████████████████████████████▊                                    | 274/500 [00:38<00:32,  7.05it/s]"
     ]
    },
    {
     "name": "stdout",
     "output_type": "stream",
     "text": [
      "Warning: the outcome matrix contains NaNs or other                       than 0/1 entries.\n",
      "Warning: the outcome matrix contains NaNs or other                       than 0/1 entries.\n",
      "Warning: the outcome matrix contains NaNs or other                       than 0/1 entries.\n"
     ]
    },
    {
     "name": "stderr",
     "output_type": "stream",
     "text": [
      " 55%|████████████████████████████████████████████▏                                   | 276/500 [00:38<00:30,  7.30it/s]"
     ]
    },
    {
     "name": "stdout",
     "output_type": "stream",
     "text": [
      "Warning: the outcome matrix contains NaNs or other                       than 0/1 entries.\n",
      "Warning: the outcome matrix contains NaNs or other                       than 0/1 entries.\n",
      "Warning: the outcome matrix contains NaNs or other                       than 0/1 entries.\n"
     ]
    },
    {
     "name": "stderr",
     "output_type": "stream",
     "text": [
      "\r",
      " 55%|████████████████████████████████████████████▎                                   | 277/500 [00:38<00:29,  7.62it/s]"
     ]
    },
    {
     "name": "stdout",
     "output_type": "stream",
     "text": [
      "Warning: the outcome matrix contains NaNs or other                       than 0/1 entries.\n",
      "Warning: the outcome matrix contains NaNs or other                       than 0/1 entries.\n",
      "Warning: the outcome matrix contains NaNs or other                       than 0/1 entries.\n",
      "Warning: the outcome matrix contains NaNs or other                       than 0/1 entries.\n"
     ]
    },
    {
     "name": "stderr",
     "output_type": "stream",
     "text": [
      " 56%|████████████████████████████████████████████▋                                   | 279/500 [00:39<00:30,  7.29it/s]"
     ]
    },
    {
     "name": "stdout",
     "output_type": "stream",
     "text": [
      "Warning: the outcome matrix contains NaNs or other                       than 0/1 entries.\n",
      "Warning: the outcome matrix contains NaNs or other                       than 0/1 entries.\n",
      "Warning: the outcome matrix contains NaNs or other                       than 0/1 entries.\n"
     ]
    },
    {
     "name": "stderr",
     "output_type": "stream",
     "text": [
      "\r",
      " 56%|████████████████████████████████████████████▊                                   | 280/500 [00:39<00:30,  7.14it/s]"
     ]
    },
    {
     "name": "stdout",
     "output_type": "stream",
     "text": [
      "Warning: the outcome matrix contains NaNs or other                       than 0/1 entries.\n",
      "Warning: the outcome matrix contains NaNs or other                       than 0/1 entries.\n",
      "Warning: the outcome matrix contains NaNs or other                       than 0/1 entries.\n"
     ]
    },
    {
     "name": "stderr",
     "output_type": "stream",
     "text": [
      " 56%|█████████████████████████████████████████████                                   | 282/500 [00:39<00:29,  7.38it/s]"
     ]
    },
    {
     "name": "stdout",
     "output_type": "stream",
     "text": [
      "Warning: the outcome matrix contains NaNs or other                       than 0/1 entries.\n",
      "Warning: the outcome matrix contains NaNs or other                       than 0/1 entries.\n",
      "Warning: the outcome matrix contains NaNs or other                       than 0/1 entries.\n"
     ]
    },
    {
     "name": "stderr",
     "output_type": "stream",
     "text": [
      "\r",
      " 57%|█████████████████████████████████████████████▎                                  | 283/500 [00:39<00:29,  7.24it/s]"
     ]
    },
    {
     "name": "stdout",
     "output_type": "stream",
     "text": [
      "Warning: the outcome matrix contains NaNs or other                       than 0/1 entries.\n",
      "Warning: the outcome matrix contains NaNs or other                       than 0/1 entries.\n",
      "Warning: the outcome matrix contains NaNs or other                       than 0/1 entries.\n"
     ]
    },
    {
     "name": "stderr",
     "output_type": "stream",
     "text": [
      " 57%|█████████████████████████████████████████████▌                                  | 285/500 [00:39<00:30,  7.04it/s]"
     ]
    },
    {
     "name": "stdout",
     "output_type": "stream",
     "text": [
      "Warning: the outcome matrix contains NaNs or other                       than 0/1 entries.\n",
      "Warning: the outcome matrix contains NaNs or other                       than 0/1 entries.\n",
      "Warning: the outcome matrix contains NaNs or other                       than 0/1 entries.\n"
     ]
    },
    {
     "name": "stderr",
     "output_type": "stream",
     "text": [
      " 57%|█████████████████████████████████████████████▉                                  | 287/500 [00:40<00:27,  7.61it/s]"
     ]
    },
    {
     "name": "stdout",
     "output_type": "stream",
     "text": [
      "Warning: the outcome matrix contains NaNs or other                       than 0/1 entries.\n",
      "Warning: the outcome matrix contains NaNs or other                       than 0/1 entries.\n",
      "Warning: the outcome matrix contains NaNs or other                       than 0/1 entries.\n"
     ]
    },
    {
     "name": "stderr",
     "output_type": "stream",
     "text": [
      "\r",
      " 58%|██████████████████████████████████████████████                                  | 288/500 [00:40<00:27,  7.72it/s]"
     ]
    },
    {
     "name": "stdout",
     "output_type": "stream",
     "text": [
      "Warning: the outcome matrix contains NaNs or other                       than 0/1 entries.\n",
      "Warning: the outcome matrix contains NaNs or other                       than 0/1 entries.\n",
      "Warning: the outcome matrix contains NaNs or other                       than 0/1 entries.\n",
      "Warning: the outcome matrix contains NaNs or other                       than 0/1 entries.\n"
     ]
    },
    {
     "name": "stderr",
     "output_type": "stream",
     "text": [
      " 58%|██████████████████████████████████████████████▍                                 | 290/500 [00:40<00:26,  7.86it/s]"
     ]
    },
    {
     "name": "stdout",
     "output_type": "stream",
     "text": [
      "Warning: the outcome matrix contains NaNs or other                       than 0/1 entries.\n",
      "Warning: the outcome matrix contains NaNs or other                       than 0/1 entries.\n",
      "Warning: the outcome matrix contains NaNs or other                       than 0/1 entries.\n",
      "Warning: the outcome matrix contains NaNs or other                       than 0/1 entries.\n"
     ]
    },
    {
     "name": "stderr",
     "output_type": "stream",
     "text": [
      " 58%|██████████████████████████████████████████████▋                                 | 292/500 [00:40<00:26,  7.94it/s]"
     ]
    },
    {
     "name": "stdout",
     "output_type": "stream",
     "text": [
      "Warning: the outcome matrix contains NaNs or other                       than 0/1 entries.\n",
      "Warning: the outcome matrix contains NaNs or other                       than 0/1 entries.\n",
      "Warning: the outcome matrix contains NaNs or other                       than 0/1 entries.\n",
      "Warning: the outcome matrix contains NaNs or other                       than 0/1 entries.\n"
     ]
    },
    {
     "name": "stderr",
     "output_type": "stream",
     "text": [
      " 59%|███████████████████████████████████████████████                                 | 294/500 [00:41<00:26,  7.85it/s]"
     ]
    },
    {
     "name": "stdout",
     "output_type": "stream",
     "text": [
      "Warning: the outcome matrix contains NaNs or other                       than 0/1 entries.\n",
      "Warning: the outcome matrix contains NaNs or other                       than 0/1 entries.\n",
      "Warning: the outcome matrix contains NaNs or other                       than 0/1 entries.\n"
     ]
    },
    {
     "name": "stderr",
     "output_type": "stream",
     "text": [
      " 59%|███████████████████████████████████████████████▎                                | 296/500 [00:41<00:25,  7.97it/s]"
     ]
    },
    {
     "name": "stdout",
     "output_type": "stream",
     "text": [
      "Warning: the outcome matrix contains NaNs or other                       than 0/1 entries.\n",
      "Warning: the outcome matrix contains NaNs or other                       than 0/1 entries.\n",
      "Warning: the outcome matrix contains NaNs or other                       than 0/1 entries.\n"
     ]
    },
    {
     "name": "stderr",
     "output_type": "stream",
     "text": [
      "\r",
      " 59%|███████████████████████████████████████████████▌                                | 297/500 [00:41<00:26,  7.59it/s]"
     ]
    },
    {
     "name": "stdout",
     "output_type": "stream",
     "text": [
      "Warning: the outcome matrix contains NaNs or other                       than 0/1 entries.\n",
      "Warning: the outcome matrix contains NaNs or other                       than 0/1 entries.\n",
      "Warning: the outcome matrix contains NaNs or other                       than 0/1 entries.\n",
      "Warning: the outcome matrix contains NaNs or other                       than 0/1 entries.\n"
     ]
    },
    {
     "name": "stderr",
     "output_type": "stream",
     "text": [
      " 60%|███████████████████████████████████████████████▊                                | 299/500 [00:41<00:25,  7.81it/s]"
     ]
    },
    {
     "name": "stdout",
     "output_type": "stream",
     "text": [
      "Warning: the outcome matrix contains NaNs or other                       than 0/1 entries.\n",
      "Warning: the outcome matrix contains NaNs or other                       than 0/1 entries.\n",
      "Warning: the outcome matrix contains NaNs or other                       than 0/1 entries.\n",
      "Warning: the outcome matrix contains NaNs or other                       than 0/1 entries.\n"
     ]
    },
    {
     "name": "stderr",
     "output_type": "stream",
     "text": [
      " 60%|████████████████████████████████████████████████▏                               | 301/500 [00:42<00:25,  7.86it/s]"
     ]
    },
    {
     "name": "stdout",
     "output_type": "stream",
     "text": [
      "Warning: the outcome matrix contains NaNs or other                       than 0/1 entries.\n",
      "Warning: the outcome matrix contains NaNs or other                       than 0/1 entries.\n",
      "Warning: the outcome matrix contains NaNs or other                       than 0/1 entries.\n",
      "Warning: the outcome matrix contains NaNs or other                       than 0/1 entries.\n"
     ]
    },
    {
     "name": "stderr",
     "output_type": "stream",
     "text": [
      " 61%|████████████████████████████████████████████████▍                               | 303/500 [00:42<00:24,  8.08it/s]"
     ]
    },
    {
     "name": "stdout",
     "output_type": "stream",
     "text": [
      "Warning: the outcome matrix contains NaNs or other                       than 0/1 entries.\n",
      "Warning: the outcome matrix contains NaNs or other                       than 0/1 entries.\n",
      "Warning: the outcome matrix contains NaNs or other                       than 0/1 entries.\n",
      "Warning: the outcome matrix contains NaNs or other                       than 0/1 entries.\n"
     ]
    },
    {
     "name": "stderr",
     "output_type": "stream",
     "text": [
      " 61%|████████████████████████████████████████████████▊                               | 305/500 [00:42<00:24,  7.94it/s]"
     ]
    },
    {
     "name": "stdout",
     "output_type": "stream",
     "text": [
      "Warning: the outcome matrix contains NaNs or other                       than 0/1 entries.\n",
      "Warning: the outcome matrix contains NaNs or other                       than 0/1 entries.\n",
      "Warning: the outcome matrix contains NaNs or other                       than 0/1 entries.\n",
      "Warning: the outcome matrix contains NaNs or other                       than 0/1 entries.\n"
     ]
    },
    {
     "name": "stderr",
     "output_type": "stream",
     "text": [
      " 61%|█████████████████████████████████████████████████                               | 307/500 [00:42<00:25,  7.69it/s]"
     ]
    },
    {
     "name": "stdout",
     "output_type": "stream",
     "text": [
      "Warning: the outcome matrix contains NaNs or other                       than 0/1 entries.\n",
      "Warning: the outcome matrix contains NaNs or other                       than 0/1 entries.\n",
      "Warning: the outcome matrix contains NaNs or other                       than 0/1 entries.\n",
      "Warning: the outcome matrix contains NaNs or other                       than 0/1 entries.\n"
     ]
    },
    {
     "name": "stderr",
     "output_type": "stream",
     "text": [
      " 62%|█████████████████████████████████████████████████▍                              | 309/500 [00:43<00:24,  7.76it/s]"
     ]
    },
    {
     "name": "stdout",
     "output_type": "stream",
     "text": [
      "Warning: the outcome matrix contains NaNs or other                       than 0/1 entries.\n",
      "Warning: the outcome matrix contains NaNs or other                       than 0/1 entries.\n",
      "Warning: the outcome matrix contains NaNs or other                       than 0/1 entries.\n",
      "Warning: the outcome matrix contains NaNs or other                       than 0/1 entries.\n"
     ]
    },
    {
     "name": "stderr",
     "output_type": "stream",
     "text": [
      " 62%|█████████████████████████████████████████████████▊                              | 311/500 [00:43<00:25,  7.53it/s]"
     ]
    },
    {
     "name": "stdout",
     "output_type": "stream",
     "text": [
      "Warning: the outcome matrix contains NaNs or other                       than 0/1 entries.\n",
      "Warning: the outcome matrix contains NaNs or other                       than 0/1 entries.\n",
      "Warning: the outcome matrix contains NaNs or other                       than 0/1 entries.\n"
     ]
    },
    {
     "name": "stderr",
     "output_type": "stream",
     "text": [
      " 63%|██████████████████████████████████████████████████                              | 313/500 [00:43<00:24,  7.73it/s]"
     ]
    },
    {
     "name": "stdout",
     "output_type": "stream",
     "text": [
      "Warning: the outcome matrix contains NaNs or other                       than 0/1 entries.\n",
      "Warning: the outcome matrix contains NaNs or other                       than 0/1 entries.\n",
      "Warning: the outcome matrix contains NaNs or other                       than 0/1 entries.\n"
     ]
    },
    {
     "name": "stderr",
     "output_type": "stream",
     "text": [
      "\r",
      " 63%|██████████████████████████████████████████████████▏                             | 314/500 [00:43<00:24,  7.74it/s]"
     ]
    },
    {
     "name": "stdout",
     "output_type": "stream",
     "text": [
      "Warning: the outcome matrix contains NaNs or other                       than 0/1 entries.\n",
      "Warning: the outcome matrix contains NaNs or other                       than 0/1 entries.\n",
      "Warning: the outcome matrix contains NaNs or other                       than 0/1 entries.\n"
     ]
    },
    {
     "name": "stderr",
     "output_type": "stream",
     "text": [
      " 63%|██████████████████████████████████████████████████▌                             | 316/500 [00:43<00:23,  7.80it/s]"
     ]
    },
    {
     "name": "stdout",
     "output_type": "stream",
     "text": [
      "Warning: the outcome matrix contains NaNs or other                       than 0/1 entries.\n",
      "Warning: the outcome matrix contains NaNs or other                       than 0/1 entries.\n",
      "Warning: the outcome matrix contains NaNs or other                       than 0/1 entries.\n"
     ]
    },
    {
     "name": "stderr",
     "output_type": "stream",
     "text": [
      "\r",
      " 63%|██████████████████████████████████████████████████▋                             | 317/500 [00:44<00:24,  7.54it/s]"
     ]
    },
    {
     "name": "stdout",
     "output_type": "stream",
     "text": [
      "Warning: the outcome matrix contains NaNs or other                       than 0/1 entries.\n",
      "Warning: the outcome matrix contains NaNs or other                       than 0/1 entries.\n",
      "Warning: the outcome matrix contains NaNs or other                       than 0/1 entries.\n",
      "Warning: the outcome matrix contains NaNs or other                       than 0/1 entries.\n"
     ]
    },
    {
     "name": "stderr",
     "output_type": "stream",
     "text": [
      " 64%|███████████████████████████████████████████████████                             | 319/500 [00:44<00:24,  7.47it/s]"
     ]
    },
    {
     "name": "stdout",
     "output_type": "stream",
     "text": [
      "Warning: the outcome matrix contains NaNs or other                       than 0/1 entries.\n",
      "Warning: the outcome matrix contains NaNs or other                       than 0/1 entries.\n",
      "Warning: the outcome matrix contains NaNs or other                       than 0/1 entries.\n"
     ]
    },
    {
     "name": "stderr",
     "output_type": "stream",
     "text": [
      "\r",
      " 64%|███████████████████████████████████████████████████▏                            | 320/500 [00:44<00:24,  7.34it/s]"
     ]
    },
    {
     "name": "stdout",
     "output_type": "stream",
     "text": [
      "Warning: the outcome matrix contains NaNs or other                       than 0/1 entries.\n",
      "Warning: the outcome matrix contains NaNs or other                       than 0/1 entries.\n",
      "Warning: the outcome matrix contains NaNs or other                       than 0/1 entries.\n"
     ]
    },
    {
     "name": "stderr",
     "output_type": "stream",
     "text": [
      " 64%|███████████████████████████████████████████████████▌                            | 322/500 [00:44<00:23,  7.73it/s]"
     ]
    },
    {
     "name": "stdout",
     "output_type": "stream",
     "text": [
      "Warning: the outcome matrix contains NaNs or other                       than 0/1 entries.\n",
      "Warning: the outcome matrix contains NaNs or other                       than 0/1 entries.\n",
      "Warning: the outcome matrix contains NaNs or other                       than 0/1 entries.\n"
     ]
    },
    {
     "name": "stderr",
     "output_type": "stream",
     "text": [
      " 65%|███████████████████████████████████████████████████▊                            | 324/500 [00:44<00:22,  7.70it/s]"
     ]
    },
    {
     "name": "stdout",
     "output_type": "stream",
     "text": [
      "Warning: the outcome matrix contains NaNs or other                       than 0/1 entries.\n",
      "Warning: the outcome matrix contains NaNs or other                       than 0/1 entries.\n",
      "Warning: the outcome matrix contains NaNs or other                       than 0/1 entries.\n"
     ]
    },
    {
     "name": "stderr",
     "output_type": "stream",
     "text": [
      "\r",
      " 65%|████████████████████████████████████████████████████                            | 325/500 [00:45<00:23,  7.46it/s]"
     ]
    },
    {
     "name": "stdout",
     "output_type": "stream",
     "text": [
      "Warning: the outcome matrix contains NaNs or other                       than 0/1 entries.\n",
      "Warning: the outcome matrix contains NaNs or other                       than 0/1 entries.\n",
      "Warning: the outcome matrix contains NaNs or other                       than 0/1 entries.\n",
      "Warning: the outcome matrix contains NaNs or other                       than 0/1 entries.\n"
     ]
    },
    {
     "name": "stderr",
     "output_type": "stream",
     "text": [
      " 65%|████████████████████████████████████████████████████▎                           | 327/500 [00:45<00:22,  7.86it/s]"
     ]
    },
    {
     "name": "stdout",
     "output_type": "stream",
     "text": [
      "Warning: the outcome matrix contains NaNs or other                       than 0/1 entries.\n",
      "Warning: the outcome matrix contains NaNs or other                       than 0/1 entries.\n",
      "Warning: the outcome matrix contains NaNs or other                       than 0/1 entries.\n",
      "Warning: the outcome matrix contains NaNs or other                       than 0/1 entries.\n"
     ]
    },
    {
     "name": "stderr",
     "output_type": "stream",
     "text": [
      " 66%|████████████████████████████████████████████████████▋                           | 329/500 [00:45<00:22,  7.63it/s]"
     ]
    },
    {
     "name": "stdout",
     "output_type": "stream",
     "text": [
      "Warning: the outcome matrix contains NaNs or other                       than 0/1 entries.\n",
      "Warning: the outcome matrix contains NaNs or other                       than 0/1 entries.\n",
      "Warning: the outcome matrix contains NaNs or other                       than 0/1 entries.\n"
     ]
    },
    {
     "name": "stderr",
     "output_type": "stream",
     "text": [
      "\r",
      " 66%|████████████████████████████████████████████████████▊                           | 330/500 [00:45<00:22,  7.43it/s]"
     ]
    },
    {
     "name": "stdout",
     "output_type": "stream",
     "text": [
      "Warning: the outcome matrix contains NaNs or other                       than 0/1 entries.\n",
      "Warning: the outcome matrix contains NaNs or other                       than 0/1 entries.\n",
      "Warning: the outcome matrix contains NaNs or other                       than 0/1 entries.\n"
     ]
    },
    {
     "name": "stderr",
     "output_type": "stream",
     "text": [
      " 66%|█████████████████████████████████████████████████████                           | 332/500 [00:46<00:23,  7.12it/s]"
     ]
    },
    {
     "name": "stdout",
     "output_type": "stream",
     "text": [
      "Warning: the outcome matrix contains NaNs or other                       than 0/1 entries.\n",
      "Warning: the outcome matrix contains NaNs or other                       than 0/1 entries.\n",
      "Warning: the outcome matrix contains NaNs or other                       than 0/1 entries.\n"
     ]
    },
    {
     "name": "stderr",
     "output_type": "stream",
     "text": [
      " 67%|█████████████████████████████████████████████████████▍                          | 334/500 [00:46<00:22,  7.43it/s]"
     ]
    },
    {
     "name": "stdout",
     "output_type": "stream",
     "text": [
      "Warning: the outcome matrix contains NaNs or other                       than 0/1 entries.\n",
      "Warning: the outcome matrix contains NaNs or other                       than 0/1 entries.\n",
      "Warning: the outcome matrix contains NaNs or other                       than 0/1 entries.\n"
     ]
    },
    {
     "name": "stderr",
     "output_type": "stream",
     "text": [
      "\r",
      " 67%|█████████████████████████████████████████████████████▌                          | 335/500 [00:46<00:21,  7.53it/s]"
     ]
    },
    {
     "name": "stdout",
     "output_type": "stream",
     "text": [
      "Warning: the outcome matrix contains NaNs or other                       than 0/1 entries.\n",
      "Warning: the outcome matrix contains NaNs or other                       than 0/1 entries.\n",
      "Warning: the outcome matrix contains NaNs or other                       than 0/1 entries.\n"
     ]
    },
    {
     "name": "stderr",
     "output_type": "stream",
     "text": [
      "\r",
      " 67%|█████████████████████████████████████████████████████▊                          | 336/500 [00:46<00:21,  7.55it/s]"
     ]
    },
    {
     "name": "stdout",
     "output_type": "stream",
     "text": [
      "Warning: the outcome matrix contains NaNs or other                       than 0/1 entries.\n",
      "Warning: the outcome matrix contains NaNs or other                       than 0/1 entries.\n",
      "Warning: the outcome matrix contains NaNs or other                       than 0/1 entries.\n"
     ]
    },
    {
     "name": "stderr",
     "output_type": "stream",
     "text": [
      " 68%|██████████████████████████████████████████████████████                          | 338/500 [00:46<00:21,  7.41it/s]"
     ]
    },
    {
     "name": "stdout",
     "output_type": "stream",
     "text": [
      "Warning: the outcome matrix contains NaNs or other                       than 0/1 entries.\n",
      "Warning: the outcome matrix contains NaNs or other                       than 0/1 entries.\n",
      "Warning: the outcome matrix contains NaNs or other                       than 0/1 entries.\n",
      "Warning: the outcome matrix contains NaNs or other                       than 0/1 entries.\n"
     ]
    },
    {
     "name": "stderr",
     "output_type": "stream",
     "text": [
      " 68%|██████████████████████████████████████████████████████▍                         | 340/500 [00:47<00:21,  7.30it/s]"
     ]
    },
    {
     "name": "stdout",
     "output_type": "stream",
     "text": [
      "Warning: the outcome matrix contains NaNs or other                       than 0/1 entries.\n",
      "Warning: the outcome matrix contains NaNs or other                       than 0/1 entries.\n",
      "Warning: the outcome matrix contains NaNs or other                       than 0/1 entries.\n"
     ]
    },
    {
     "name": "stderr",
     "output_type": "stream",
     "text": [
      "\r",
      " 68%|██████████████████████████████████████████████████████▌                         | 341/500 [00:47<00:21,  7.39it/s]"
     ]
    },
    {
     "name": "stdout",
     "output_type": "stream",
     "text": [
      "Warning: the outcome matrix contains NaNs or other                       than 0/1 entries.\n",
      "Warning: the outcome matrix contains NaNs or other                       than 0/1 entries.\n",
      "Warning: the outcome matrix contains NaNs or other                       than 0/1 entries.\n"
     ]
    },
    {
     "name": "stderr",
     "output_type": "stream",
     "text": [
      "\r",
      " 68%|██████████████████████████████████████████████████████▋                         | 342/500 [00:47<00:21,  7.22it/s]"
     ]
    },
    {
     "name": "stdout",
     "output_type": "stream",
     "text": [
      "Warning: the outcome matrix contains NaNs or other                       than 0/1 entries.\n",
      "Warning: the outcome matrix contains NaNs or other                       than 0/1 entries.\n"
     ]
    },
    {
     "name": "stderr",
     "output_type": "stream",
     "text": [
      " 69%|███████████████████████████████████████████████████████                         | 344/500 [00:47<00:27,  5.62it/s]"
     ]
    },
    {
     "name": "stdout",
     "output_type": "stream",
     "text": [
      "Warning: the outcome matrix contains NaNs or other                       than 0/1 entries.\n",
      "Warning: the outcome matrix contains NaNs or other                       than 0/1 entries.\n"
     ]
    },
    {
     "name": "stderr",
     "output_type": "stream",
     "text": [
      "\r",
      " 69%|███████████████████████████████████████████████████████▏                        | 345/500 [00:48<00:28,  5.45it/s]"
     ]
    },
    {
     "name": "stdout",
     "output_type": "stream",
     "text": [
      "Warning: the outcome matrix contains NaNs or other                       than 0/1 entries.\n",
      "Warning: the outcome matrix contains NaNs or other                       than 0/1 entries.\n"
     ]
    },
    {
     "name": "stderr",
     "output_type": "stream",
     "text": [
      "\r",
      " 69%|███████████████████████████████████████████████████████▎                        | 346/500 [00:48<00:28,  5.42it/s]"
     ]
    },
    {
     "name": "stdout",
     "output_type": "stream",
     "text": [
      "Warning: the outcome matrix contains NaNs or other                       than 0/1 entries.\n",
      "Warning: the outcome matrix contains NaNs or other                       than 0/1 entries.\n"
     ]
    },
    {
     "name": "stderr",
     "output_type": "stream",
     "text": [
      "\r",
      " 69%|███████████████████████████████████████████████████████▌                        | 347/500 [00:48<00:26,  5.77it/s]"
     ]
    },
    {
     "name": "stdout",
     "output_type": "stream",
     "text": [
      "Warning: the outcome matrix contains NaNs or other                       than 0/1 entries.\n",
      "Warning: the outcome matrix contains NaNs or other                       than 0/1 entries.\n",
      "Warning: the outcome matrix contains NaNs or other                       than 0/1 entries.\n"
     ]
    },
    {
     "name": "stderr",
     "output_type": "stream",
     "text": [
      "\r",
      " 70%|███████████████████████████████████████████████████████▋                        | 348/500 [00:48<00:24,  6.10it/s]"
     ]
    },
    {
     "name": "stdout",
     "output_type": "stream",
     "text": [
      "Warning: the outcome matrix contains NaNs or other                       than 0/1 entries.\n",
      "Warning: the outcome matrix contains NaNs or other                       than 0/1 entries.\n",
      "Warning: the outcome matrix contains NaNs or other                       than 0/1 entries.\n"
     ]
    },
    {
     "name": "stderr",
     "output_type": "stream",
     "text": [
      " 70%|████████████████████████████████████████████████████████                        | 350/500 [00:48<00:21,  6.84it/s]"
     ]
    },
    {
     "name": "stdout",
     "output_type": "stream",
     "text": [
      "Warning: the outcome matrix contains NaNs or other                       than 0/1 entries.\n",
      "Warning: the outcome matrix contains NaNs or other                       than 0/1 entries.\n",
      "Warning: the outcome matrix contains NaNs or other                       than 0/1 entries.\n",
      "Warning: the outcome matrix contains NaNs or other                       than 0/1 entries.\n"
     ]
    },
    {
     "name": "stderr",
     "output_type": "stream",
     "text": [
      " 70%|████████████████████████████████████████████████████████▎                       | 352/500 [00:49<00:22,  6.47it/s]"
     ]
    },
    {
     "name": "stdout",
     "output_type": "stream",
     "text": [
      "Warning: the outcome matrix contains NaNs or other                       than 0/1 entries.\n",
      "Warning: the outcome matrix contains NaNs or other                       than 0/1 entries.\n",
      "Warning: the outcome matrix contains NaNs or other                       than 0/1 entries.\n"
     ]
    },
    {
     "name": "stderr",
     "output_type": "stream",
     "text": [
      "\r",
      " 71%|████████████████████████████████████████████████████████▍                       | 353/500 [00:49<00:23,  6.17it/s]"
     ]
    },
    {
     "name": "stdout",
     "output_type": "stream",
     "text": [
      "Warning: the outcome matrix contains NaNs or other                       than 0/1 entries.\n",
      "Warning: the outcome matrix contains NaNs or other                       than 0/1 entries.\n",
      "Warning: the outcome matrix contains NaNs or other                       than 0/1 entries.\n"
     ]
    },
    {
     "name": "stderr",
     "output_type": "stream",
     "text": [
      " 71%|████████████████████████████████████████████████████████▊                       | 355/500 [00:49<00:23,  6.17it/s]"
     ]
    },
    {
     "name": "stdout",
     "output_type": "stream",
     "text": [
      "Warning: the outcome matrix contains NaNs or other                       than 0/1 entries.\n",
      "Warning: the outcome matrix contains NaNs or other                       than 0/1 entries.\n",
      "Warning: the outcome matrix contains NaNs or other                       than 0/1 entries.\n",
      "Warning: the outcome matrix contains NaNs or other                       than 0/1 entries.\n"
     ]
    },
    {
     "name": "stderr",
     "output_type": "stream",
     "text": [
      " 71%|█████████████████████████████████████████████████████████                       | 357/500 [00:49<00:22,  6.42it/s]"
     ]
    },
    {
     "name": "stdout",
     "output_type": "stream",
     "text": [
      "Warning: the outcome matrix contains NaNs or other                       than 0/1 entries.\n",
      "Warning: the outcome matrix contains NaNs or other                       than 0/1 entries.\n",
      "Warning: the outcome matrix contains NaNs or other                       than 0/1 entries.\n"
     ]
    },
    {
     "name": "stderr",
     "output_type": "stream",
     "text": [
      " 72%|█████████████████████████████████████████████████████████▍                      | 359/500 [00:50<00:22,  6.28it/s]"
     ]
    },
    {
     "name": "stdout",
     "output_type": "stream",
     "text": [
      "Warning: the outcome matrix contains NaNs or other                       than 0/1 entries.\n",
      "Warning: the outcome matrix contains NaNs or other                       than 0/1 entries.\n",
      "Warning: the outcome matrix contains NaNs or other                       than 0/1 entries.\n"
     ]
    },
    {
     "name": "stderr",
     "output_type": "stream",
     "text": [
      "\r",
      " 72%|█████████████████████████████████████████████████████████▌                      | 360/500 [00:50<00:21,  6.54it/s]"
     ]
    },
    {
     "name": "stdout",
     "output_type": "stream",
     "text": [
      "Warning: the outcome matrix contains NaNs or other                       than 0/1 entries.\n",
      "Warning: the outcome matrix contains NaNs or other                       than 0/1 entries.\n",
      "Warning: the outcome matrix contains NaNs or other                       than 0/1 entries.\n"
     ]
    },
    {
     "name": "stderr",
     "output_type": "stream",
     "text": [
      "\r",
      " 72%|█████████████████████████████████████████████████████████▊                      | 361/500 [00:50<00:22,  6.28it/s]"
     ]
    },
    {
     "name": "stdout",
     "output_type": "stream",
     "text": [
      "Warning: the outcome matrix contains NaNs or other                       than 0/1 entries.\n",
      "Warning: the outcome matrix contains NaNs or other                       than 0/1 entries.\n",
      "Warning: the outcome matrix contains NaNs or other                       than 0/1 entries.\n"
     ]
    },
    {
     "name": "stderr",
     "output_type": "stream",
     "text": [
      " 73%|██████████████████████████████████████████████████████████                      | 363/500 [00:50<00:21,  6.26it/s]"
     ]
    },
    {
     "name": "stdout",
     "output_type": "stream",
     "text": [
      "Warning: the outcome matrix contains NaNs or other                       than 0/1 entries.\n",
      "Warning: the outcome matrix contains NaNs or other                       than 0/1 entries.\n",
      "Warning: the outcome matrix contains NaNs or other                       than 0/1 entries.\n"
     ]
    },
    {
     "name": "stderr",
     "output_type": "stream",
     "text": [
      "\r",
      " 73%|██████████████████████████████████████████████████████████▏                     | 364/500 [00:51<00:21,  6.28it/s]"
     ]
    },
    {
     "name": "stdout",
     "output_type": "stream",
     "text": [
      "Warning: the outcome matrix contains NaNs or other                       than 0/1 entries.\n",
      "Warning: the outcome matrix contains NaNs or other                       than 0/1 entries.\n",
      "Warning: the outcome matrix contains NaNs or other                       than 0/1 entries.\n"
     ]
    },
    {
     "name": "stderr",
     "output_type": "stream",
     "text": [
      " 73%|██████████████████████████████████████████████████████████▌                     | 366/500 [00:51<00:19,  6.75it/s]"
     ]
    },
    {
     "name": "stdout",
     "output_type": "stream",
     "text": [
      "Warning: the outcome matrix contains NaNs or other                       than 0/1 entries.\n",
      "Warning: the outcome matrix contains NaNs or other                       than 0/1 entries.\n",
      "Warning: the outcome matrix contains NaNs or other                       than 0/1 entries.\n"
     ]
    },
    {
     "name": "stderr",
     "output_type": "stream",
     "text": [
      " 74%|██████████████████████████████████████████████████████████▉                     | 368/500 [00:51<00:18,  7.25it/s]"
     ]
    },
    {
     "name": "stdout",
     "output_type": "stream",
     "text": [
      "Warning: the outcome matrix contains NaNs or other                       than 0/1 entries.\n",
      "Warning: the outcome matrix contains NaNs or other                       than 0/1 entries.\n",
      "Warning: the outcome matrix contains NaNs or other                       than 0/1 entries.\n",
      "Warning: the outcome matrix contains NaNs or other                       than 0/1 entries.\n"
     ]
    },
    {
     "name": "stderr",
     "output_type": "stream",
     "text": [
      "\r",
      " 74%|███████████████████████████████████████████████████████████                     | 369/500 [00:51<00:20,  6.37it/s]"
     ]
    },
    {
     "name": "stdout",
     "output_type": "stream",
     "text": [
      "Warning: the outcome matrix contains NaNs or other                       than 0/1 entries.\n",
      "Warning: the outcome matrix contains NaNs or other                       than 0/1 entries.\n",
      "Warning: the outcome matrix contains NaNs or other                       than 0/1 entries.\n"
     ]
    },
    {
     "name": "stderr",
     "output_type": "stream",
     "text": [
      " 74%|███████████████████████████████████████████████████████████▎                    | 371/500 [00:52<00:20,  6.24it/s]"
     ]
    },
    {
     "name": "stdout",
     "output_type": "stream",
     "text": [
      "Warning: the outcome matrix contains NaNs or other                       than 0/1 entries.\n",
      "Warning: the outcome matrix contains NaNs or other                       than 0/1 entries.\n",
      "Warning: the outcome matrix contains NaNs or other                       than 0/1 entries.\n"
     ]
    },
    {
     "name": "stderr",
     "output_type": "stream",
     "text": [
      " 75%|███████████████████████████████████████████████████████████▋                    | 373/500 [00:52<00:19,  6.51it/s]"
     ]
    },
    {
     "name": "stdout",
     "output_type": "stream",
     "text": [
      "Warning: the outcome matrix contains NaNs or other                       than 0/1 entries.\n",
      "Warning: the outcome matrix contains NaNs or other                       than 0/1 entries.\n",
      "Warning: the outcome matrix contains NaNs or other                       than 0/1 entries.\n",
      "Warning: the outcome matrix contains NaNs or other                       than 0/1 entries.\n",
      "Warning: the outcome matrix contains NaNs or other                       than 0/1 entries.\n"
     ]
    },
    {
     "name": "stderr",
     "output_type": "stream",
     "text": [
      " 75%|████████████████████████████████████████████████████████████                    | 375/500 [00:52<00:22,  5.66it/s]"
     ]
    },
    {
     "name": "stdout",
     "output_type": "stream",
     "text": [
      "Warning: the outcome matrix contains NaNs or other                       than 0/1 entries.\n",
      "Warning: the outcome matrix contains NaNs or other                       than 0/1 entries.\n"
     ]
    },
    {
     "name": "stderr",
     "output_type": "stream",
     "text": [
      "\r",
      " 75%|████████████████████████████████████████████████████████████▏                   | 376/500 [00:52<00:21,  5.65it/s]"
     ]
    },
    {
     "name": "stdout",
     "output_type": "stream",
     "text": [
      "Warning: the outcome matrix contains NaNs or other                       than 0/1 entries.\n",
      "Warning: the outcome matrix contains NaNs or other                       than 0/1 entries.\n",
      "Warning: the outcome matrix contains NaNs or other                       than 0/1 entries.\n"
     ]
    },
    {
     "name": "stderr",
     "output_type": "stream",
     "text": [
      "\r",
      " 75%|████████████████████████████████████████████████████████████▎                   | 377/500 [00:53<00:21,  5.85it/s]"
     ]
    },
    {
     "name": "stdout",
     "output_type": "stream",
     "text": [
      "Warning: the outcome matrix contains NaNs or other                       than 0/1 entries.\n",
      "Warning: the outcome matrix contains NaNs or other                       than 0/1 entries.\n",
      "Warning: the outcome matrix contains NaNs or other                       than 0/1 entries.\n"
     ]
    },
    {
     "name": "stderr",
     "output_type": "stream",
     "text": [
      " 76%|████████████████████████████████████████████████████████████▋                   | 379/500 [00:53<00:20,  5.88it/s]"
     ]
    },
    {
     "name": "stdout",
     "output_type": "stream",
     "text": [
      "Warning: the outcome matrix contains NaNs or other                       than 0/1 entries.\n",
      "Warning: the outcome matrix contains NaNs or other                       than 0/1 entries.\n",
      "Warning: the outcome matrix contains NaNs or other                       than 0/1 entries.\n"
     ]
    },
    {
     "name": "stderr",
     "output_type": "stream",
     "text": [
      "\r",
      " 76%|████████████████████████████████████████████████████████████▊                   | 380/500 [00:53<00:19,  6.06it/s]"
     ]
    },
    {
     "name": "stdout",
     "output_type": "stream",
     "text": [
      "Warning: the outcome matrix contains NaNs or other                       than 0/1 entries.\n",
      "Warning: the outcome matrix contains NaNs or other                       than 0/1 entries.\n",
      "Warning: the outcome matrix contains NaNs or other                       than 0/1 entries.\n"
     ]
    },
    {
     "name": "stderr",
     "output_type": "stream",
     "text": [
      " 76%|█████████████████████████████████████████████████████████████                   | 382/500 [00:53<00:18,  6.27it/s]"
     ]
    },
    {
     "name": "stdout",
     "output_type": "stream",
     "text": [
      "Warning: the outcome matrix contains NaNs or other                       than 0/1 entries.\n",
      "Warning: the outcome matrix contains NaNs or other                       than 0/1 entries.\n",
      "Warning: the outcome matrix contains NaNs or other                       than 0/1 entries.\n"
     ]
    },
    {
     "name": "stderr",
     "output_type": "stream",
     "text": [
      " 77%|█████████████████████████████████████████████████████████████▍                  | 384/500 [00:54<00:16,  6.85it/s]"
     ]
    },
    {
     "name": "stdout",
     "output_type": "stream",
     "text": [
      "Warning: the outcome matrix contains NaNs or other                       than 0/1 entries.\n",
      "Warning: the outcome matrix contains NaNs or other                       than 0/1 entries.\n",
      "Warning: the outcome matrix contains NaNs or other                       than 0/1 entries.\n"
     ]
    },
    {
     "name": "stderr",
     "output_type": "stream",
     "text": [
      "\r",
      " 77%|█████████████████████████████████████████████████████████████▌                  | 385/500 [00:54<00:16,  6.95it/s]"
     ]
    },
    {
     "name": "stdout",
     "output_type": "stream",
     "text": [
      "Warning: the outcome matrix contains NaNs or other                       than 0/1 entries.\n",
      "Warning: the outcome matrix contains NaNs or other                       than 0/1 entries.\n",
      "Warning: the outcome matrix contains NaNs or other                       than 0/1 entries.\n"
     ]
    },
    {
     "name": "stderr",
     "output_type": "stream",
     "text": [
      "\r",
      " 77%|█████████████████████████████████████████████████████████████▊                  | 386/500 [00:54<00:17,  6.68it/s]"
     ]
    },
    {
     "name": "stdout",
     "output_type": "stream",
     "text": [
      "Warning: the outcome matrix contains NaNs or other                       than 0/1 entries.\n",
      "Warning: the outcome matrix contains NaNs or other                       than 0/1 entries.\n",
      "Warning: the outcome matrix contains NaNs or other                       than 0/1 entries.\n"
     ]
    },
    {
     "name": "stderr",
     "output_type": "stream",
     "text": [
      " 78%|██████████████████████████████████████████████████████████████                  | 388/500 [00:54<00:16,  6.60it/s]"
     ]
    },
    {
     "name": "stdout",
     "output_type": "stream",
     "text": [
      "Warning: the outcome matrix contains NaNs or other                       than 0/1 entries.\n",
      "Warning: the outcome matrix contains NaNs or other                       than 0/1 entries.\n",
      "Warning: the outcome matrix contains NaNs or other                       than 0/1 entries.\n"
     ]
    },
    {
     "name": "stderr",
     "output_type": "stream",
     "text": [
      "\r",
      " 78%|██████████████████████████████████████████████████████████████▏                 | 389/500 [00:54<00:17,  6.45it/s]"
     ]
    },
    {
     "name": "stdout",
     "output_type": "stream",
     "text": [
      "Warning: the outcome matrix contains NaNs or other                       than 0/1 entries.\n",
      "Warning: the outcome matrix contains NaNs or other                       than 0/1 entries.\n",
      "Warning: the outcome matrix contains NaNs or other                       than 0/1 entries.\n"
     ]
    },
    {
     "name": "stderr",
     "output_type": "stream",
     "text": [
      " 78%|██████████████████████████████████████████████████████████████▌                 | 391/500 [00:55<00:16,  6.64it/s]"
     ]
    },
    {
     "name": "stdout",
     "output_type": "stream",
     "text": [
      "Warning: the outcome matrix contains NaNs or other                       than 0/1 entries.\n",
      "Warning: the outcome matrix contains NaNs or other                       than 0/1 entries.\n",
      "Warning: the outcome matrix contains NaNs or other                       than 0/1 entries.\n",
      "Warning: the outcome matrix contains NaNs or other                       than 0/1 entries.\n"
     ]
    },
    {
     "name": "stderr",
     "output_type": "stream",
     "text": [
      " 79%|██████████████████████████████████████████████████████████████▉                 | 393/500 [00:55<00:15,  6.98it/s]"
     ]
    },
    {
     "name": "stdout",
     "output_type": "stream",
     "text": [
      "Warning: the outcome matrix contains NaNs or other                       than 0/1 entries.\n",
      "Warning: the outcome matrix contains NaNs or other                       than 0/1 entries.\n",
      "Warning: the outcome matrix contains NaNs or other                       than 0/1 entries.\n"
     ]
    },
    {
     "name": "stderr",
     "output_type": "stream",
     "text": [
      "\r",
      " 79%|███████████████████████████████████████████████████████████████                 | 394/500 [00:55<00:14,  7.08it/s]"
     ]
    },
    {
     "name": "stdout",
     "output_type": "stream",
     "text": [
      "Warning: the outcome matrix contains NaNs or other                       than 0/1 entries.\n",
      "Warning: the outcome matrix contains NaNs or other                       than 0/1 entries.\n",
      "Warning: the outcome matrix contains NaNs or other                       than 0/1 entries.\n"
     ]
    },
    {
     "name": "stderr",
     "output_type": "stream",
     "text": [
      " 79%|███████████████████████████████████████████████████████████████▎                | 396/500 [00:56<00:16,  6.37it/s]"
     ]
    },
    {
     "name": "stdout",
     "output_type": "stream",
     "text": [
      "Warning: the outcome matrix contains NaNs or other                       than 0/1 entries.\n",
      "Warning: the outcome matrix contains NaNs or other                       than 0/1 entries.\n",
      "Warning: the outcome matrix contains NaNs or other                       than 0/1 entries.\n"
     ]
    },
    {
     "name": "stderr",
     "output_type": "stream",
     "text": [
      " 80%|███████████████████████████████████████████████████████████████▋                | 398/500 [00:56<00:15,  6.74it/s]"
     ]
    },
    {
     "name": "stdout",
     "output_type": "stream",
     "text": [
      "Warning: the outcome matrix contains NaNs or other                       than 0/1 entries.\n",
      "Warning: the outcome matrix contains NaNs or other                       than 0/1 entries.\n",
      "Warning: the outcome matrix contains NaNs or other                       than 0/1 entries.\n"
     ]
    },
    {
     "name": "stderr",
     "output_type": "stream",
     "text": [
      "\r",
      " 80%|███████████████████████████████████████████████████████████████▊                | 399/500 [00:56<00:15,  6.69it/s]"
     ]
    },
    {
     "name": "stdout",
     "output_type": "stream",
     "text": [
      "Warning: the outcome matrix contains NaNs or other                       than 0/1 entries.\n",
      "Warning: the outcome matrix contains NaNs or other                       than 0/1 entries.\n",
      "Warning: the outcome matrix contains NaNs or other                       than 0/1 entries.\n"
     ]
    },
    {
     "name": "stderr",
     "output_type": "stream",
     "text": [
      "\r",
      " 80%|████████████████████████████████████████████████████████████████                | 400/500 [00:56<00:15,  6.66it/s]"
     ]
    },
    {
     "name": "stdout",
     "output_type": "stream",
     "text": [
      "Warning: the outcome matrix contains NaNs or other                       than 0/1 entries.\n",
      "Warning: the outcome matrix contains NaNs or other                       than 0/1 entries.\n",
      "Warning: the outcome matrix contains NaNs or other                       than 0/1 entries.\n"
     ]
    },
    {
     "name": "stderr",
     "output_type": "stream",
     "text": [
      " 80%|████████████████████████████████████████████████████████████████▎               | 402/500 [00:56<00:14,  6.63it/s]"
     ]
    },
    {
     "name": "stdout",
     "output_type": "stream",
     "text": [
      "Warning: the outcome matrix contains NaNs or other                       than 0/1 entries.\n",
      "Warning: the outcome matrix contains NaNs or other                       than 0/1 entries.\n",
      "Warning: the outcome matrix contains NaNs or other                       than 0/1 entries.\n"
     ]
    },
    {
     "name": "stderr",
     "output_type": "stream",
     "text": [
      "\r",
      " 81%|████████████████████████████████████████████████████████████████▍               | 403/500 [00:57<00:14,  6.67it/s]"
     ]
    },
    {
     "name": "stdout",
     "output_type": "stream",
     "text": [
      "Warning: the outcome matrix contains NaNs or other                       than 0/1 entries.\n",
      "Warning: the outcome matrix contains NaNs or other                       than 0/1 entries.\n",
      "Warning: the outcome matrix contains NaNs or other                       than 0/1 entries.\n"
     ]
    },
    {
     "name": "stderr",
     "output_type": "stream",
     "text": [
      " 81%|████████████████████████████████████████████████████████████████▊               | 405/500 [00:57<00:14,  6.63it/s]"
     ]
    },
    {
     "name": "stdout",
     "output_type": "stream",
     "text": [
      "Warning: the outcome matrix contains NaNs or other                       than 0/1 entries.\n",
      "Warning: the outcome matrix contains NaNs or other                       than 0/1 entries.\n",
      "Warning: the outcome matrix contains NaNs or other                       than 0/1 entries.\n"
     ]
    },
    {
     "name": "stderr",
     "output_type": "stream",
     "text": [
      "\r",
      " 81%|████████████████████████████████████████████████████████████████▉               | 406/500 [00:57<00:14,  6.55it/s]"
     ]
    },
    {
     "name": "stdout",
     "output_type": "stream",
     "text": [
      "Warning: the outcome matrix contains NaNs or other                       than 0/1 entries.\n",
      "Warning: the outcome matrix contains NaNs or other                       than 0/1 entries.\n",
      "Warning: the outcome matrix contains NaNs or other                       than 0/1 entries.\n"
     ]
    },
    {
     "name": "stderr",
     "output_type": "stream",
     "text": [
      " 82%|█████████████████████████████████████████████████████████████████▎              | 408/500 [00:57<00:15,  6.06it/s]"
     ]
    },
    {
     "name": "stdout",
     "output_type": "stream",
     "text": [
      "Warning: the outcome matrix contains NaNs or other                       than 0/1 entries.\n",
      "Warning: the outcome matrix contains NaNs or other                       than 0/1 entries.\n",
      "Warning: the outcome matrix contains NaNs or other                       than 0/1 entries.\n"
     ]
    },
    {
     "name": "stderr",
     "output_type": "stream",
     "text": [
      "\r",
      " 82%|█████████████████████████████████████████████████████████████████▍              | 409/500 [00:58<00:15,  5.91it/s]"
     ]
    },
    {
     "name": "stdout",
     "output_type": "stream",
     "text": [
      "Warning: the outcome matrix contains NaNs or other                       than 0/1 entries.\n",
      "Warning: the outcome matrix contains NaNs or other                       than 0/1 entries.\n",
      "Warning: the outcome matrix contains NaNs or other                       than 0/1 entries.\n"
     ]
    },
    {
     "name": "stderr",
     "output_type": "stream",
     "text": [
      " 82%|█████████████████████████████████████████████████████████████████▊              | 411/500 [00:58<00:14,  6.01it/s]"
     ]
    },
    {
     "name": "stdout",
     "output_type": "stream",
     "text": [
      "Warning: the outcome matrix contains NaNs or other                       than 0/1 entries.\n",
      "Warning: the outcome matrix contains NaNs or other                       than 0/1 entries.\n",
      "Warning: the outcome matrix contains NaNs or other                       than 0/1 entries.\n"
     ]
    },
    {
     "name": "stderr",
     "output_type": "stream",
     "text": [
      " 83%|██████████████████████████████████████████████████████████████████              | 413/500 [00:58<00:12,  6.79it/s]"
     ]
    },
    {
     "name": "stdout",
     "output_type": "stream",
     "text": [
      "Warning: the outcome matrix contains NaNs or other                       than 0/1 entries.\n",
      "Warning: the outcome matrix contains NaNs or other                       than 0/1 entries.\n",
      "Warning: the outcome matrix contains NaNs or other                       than 0/1 entries.\n"
     ]
    },
    {
     "name": "stderr",
     "output_type": "stream",
     "text": [
      "\r",
      " 83%|██████████████████████████████████████████████████████████████████▏             | 414/500 [00:58<00:12,  7.01it/s]"
     ]
    },
    {
     "name": "stdout",
     "output_type": "stream",
     "text": [
      "Warning: the outcome matrix contains NaNs or other                       than 0/1 entries.\n",
      "Warning: the outcome matrix contains NaNs or other                       than 0/1 entries.\n",
      "Warning: the outcome matrix contains NaNs or other                       than 0/1 entries.\n"
     ]
    },
    {
     "name": "stderr",
     "output_type": "stream",
     "text": [
      " 83%|██████████████████████████████████████████████████████████████████▌             | 416/500 [00:59<00:11,  7.13it/s]"
     ]
    },
    {
     "name": "stdout",
     "output_type": "stream",
     "text": [
      "Warning: the outcome matrix contains NaNs or other                       than 0/1 entries.\n",
      "Warning: the outcome matrix contains NaNs or other                       than 0/1 entries.\n",
      "Warning: the outcome matrix contains NaNs or other                       than 0/1 entries.\n"
     ]
    },
    {
     "name": "stderr",
     "output_type": "stream",
     "text": [
      "\r",
      " 83%|██████████████████████████████████████████████████████████████████▋             | 417/500 [00:59<00:11,  7.14it/s]"
     ]
    },
    {
     "name": "stdout",
     "output_type": "stream",
     "text": [
      "Warning: the outcome matrix contains NaNs or other                       than 0/1 entries.\n",
      "Warning: the outcome matrix contains NaNs or other                       than 0/1 entries.\n",
      "Warning: the outcome matrix contains NaNs or other                       than 0/1 entries.\n"
     ]
    },
    {
     "name": "stderr",
     "output_type": "stream",
     "text": [
      " 84%|███████████████████████████████████████████████████████████████████             | 419/500 [00:59<00:11,  7.33it/s]"
     ]
    },
    {
     "name": "stdout",
     "output_type": "stream",
     "text": [
      "Warning: the outcome matrix contains NaNs or other                       than 0/1 entries.\n",
      "Warning: the outcome matrix contains NaNs or other                       than 0/1 entries.\n",
      "Warning: the outcome matrix contains NaNs or other                       than 0/1 entries.\n"
     ]
    },
    {
     "name": "stderr",
     "output_type": "stream",
     "text": [
      "\r",
      " 84%|███████████████████████████████████████████████████████████████████▏            | 420/500 [00:59<00:10,  7.42it/s]"
     ]
    },
    {
     "name": "stdout",
     "output_type": "stream",
     "text": [
      "Warning: the outcome matrix contains NaNs or other                       than 0/1 entries.\n",
      "Warning: the outcome matrix contains NaNs or other                       than 0/1 entries.\n",
      "Warning: the outcome matrix contains NaNs or other                       than 0/1 entries.\n"
     ]
    },
    {
     "name": "stderr",
     "output_type": "stream",
     "text": [
      " 84%|███████████████████████████████████████████████████████████████████▌            | 422/500 [00:59<00:10,  7.48it/s]"
     ]
    },
    {
     "name": "stdout",
     "output_type": "stream",
     "text": [
      "Warning: the outcome matrix contains NaNs or other                       than 0/1 entries.\n",
      "Warning: the outcome matrix contains NaNs or other                       than 0/1 entries.\n",
      "Warning: the outcome matrix contains NaNs or other                       than 0/1 entries.\n"
     ]
    },
    {
     "name": "stderr",
     "output_type": "stream",
     "text": [
      "\r",
      " 85%|███████████████████████████████████████████████████████████████████▋            | 423/500 [00:59<00:10,  7.69it/s]"
     ]
    },
    {
     "name": "stdout",
     "output_type": "stream",
     "text": [
      "Warning: the outcome matrix contains NaNs or other                       than 0/1 entries.\n",
      "Warning: the outcome matrix contains NaNs or other                       than 0/1 entries.\n",
      "Warning: the outcome matrix contains NaNs or other                       than 0/1 entries.\n"
     ]
    },
    {
     "name": "stderr",
     "output_type": "stream",
     "text": [
      " 85%|████████████████████████████████████████████████████████████████████            | 425/500 [01:00<00:09,  7.61it/s]"
     ]
    },
    {
     "name": "stdout",
     "output_type": "stream",
     "text": [
      "Warning: the outcome matrix contains NaNs or other                       than 0/1 entries.\n",
      "Warning: the outcome matrix contains NaNs or other                       than 0/1 entries.\n",
      "Warning: the outcome matrix contains NaNs or other                       than 0/1 entries.\n"
     ]
    },
    {
     "name": "stderr",
     "output_type": "stream",
     "text": [
      "\r",
      " 85%|████████████████████████████████████████████████████████████████████▏           | 426/500 [01:00<00:09,  7.57it/s]"
     ]
    },
    {
     "name": "stdout",
     "output_type": "stream",
     "text": [
      "Warning: the outcome matrix contains NaNs or other                       than 0/1 entries.\n",
      "Warning: the outcome matrix contains NaNs or other                       than 0/1 entries.\n",
      "Warning: the outcome matrix contains NaNs or other                       than 0/1 entries.\n",
      "Warning: the outcome matrix contains NaNs or other                       than 0/1 entries.\n"
     ]
    },
    {
     "name": "stderr",
     "output_type": "stream",
     "text": [
      " 86%|████████████████████████████████████████████████████████████████████▍           | 428/500 [01:00<00:09,  7.53it/s]"
     ]
    },
    {
     "name": "stdout",
     "output_type": "stream",
     "text": [
      "Warning: the outcome matrix contains NaNs or other                       than 0/1 entries.\n",
      "Warning: the outcome matrix contains NaNs or other                       than 0/1 entries.\n",
      "Warning: the outcome matrix contains NaNs or other                       than 0/1 entries.\n",
      "Warning: the outcome matrix contains NaNs or other                       than 0/1 entries.\n"
     ]
    },
    {
     "name": "stderr",
     "output_type": "stream",
     "text": [
      " 86%|████████████████████████████████████████████████████████████████████▊           | 430/500 [01:00<00:09,  7.54it/s]"
     ]
    },
    {
     "name": "stdout",
     "output_type": "stream",
     "text": [
      "Warning: the outcome matrix contains NaNs or other                       than 0/1 entries.\n",
      "Warning: the outcome matrix contains NaNs or other                       than 0/1 entries.\n",
      "Warning: the outcome matrix contains NaNs or other                       than 0/1 entries.\n",
      "Warning: the outcome matrix contains NaNs or other                       than 0/1 entries.\n"
     ]
    },
    {
     "name": "stderr",
     "output_type": "stream",
     "text": [
      " 86%|█████████████████████████████████████████████████████████████████████           | 432/500 [01:01<00:09,  7.16it/s]"
     ]
    },
    {
     "name": "stdout",
     "output_type": "stream",
     "text": [
      "Warning: the outcome matrix contains NaNs or other                       than 0/1 entries.\n",
      "Warning: the outcome matrix contains NaNs or other                       than 0/1 entries.\n",
      "Warning: the outcome matrix contains NaNs or other                       than 0/1 entries.\n"
     ]
    },
    {
     "name": "stderr",
     "output_type": "stream",
     "text": [
      "\r",
      " 87%|█████████████████████████████████████████████████████████████████████▎          | 433/500 [01:01<00:09,  6.93it/s]"
     ]
    },
    {
     "name": "stdout",
     "output_type": "stream",
     "text": [
      "Warning: the outcome matrix contains NaNs or other                       than 0/1 entries.\n",
      "Warning: the outcome matrix contains NaNs or other                       than 0/1 entries.\n",
      "Warning: the outcome matrix contains NaNs or other                       than 0/1 entries.\n"
     ]
    },
    {
     "name": "stderr",
     "output_type": "stream",
     "text": [
      " 87%|█████████████████████████████████████████████████████████████████████▌          | 435/500 [01:01<00:09,  6.79it/s]"
     ]
    },
    {
     "name": "stdout",
     "output_type": "stream",
     "text": [
      "Warning: the outcome matrix contains NaNs or other                       than 0/1 entries.\n",
      "Warning: the outcome matrix contains NaNs or other                       than 0/1 entries.\n",
      "Warning: the outcome matrix contains NaNs or other                       than 0/1 entries.\n"
     ]
    },
    {
     "name": "stderr",
     "output_type": "stream",
     "text": [
      " 87%|█████████████████████████████████████████████████████████████████████▉          | 437/500 [01:01<00:08,  7.07it/s]"
     ]
    },
    {
     "name": "stdout",
     "output_type": "stream",
     "text": [
      "Warning: the outcome matrix contains NaNs or other                       than 0/1 entries.\n",
      "Warning: the outcome matrix contains NaNs or other                       than 0/1 entries.\n",
      "Warning: the outcome matrix contains NaNs or other                       than 0/1 entries.\n"
     ]
    },
    {
     "name": "stderr",
     "output_type": "stream",
     "text": [
      "\r",
      " 88%|██████████████████████████████████████████████████████████████████████          | 438/500 [01:02<00:08,  7.25it/s]"
     ]
    },
    {
     "name": "stdout",
     "output_type": "stream",
     "text": [
      "Warning: the outcome matrix contains NaNs or other                       than 0/1 entries.\n",
      "Warning: the outcome matrix contains NaNs or other                       than 0/1 entries.\n",
      "Warning: the outcome matrix contains NaNs or other                       than 0/1 entries.\n",
      "Warning: the outcome matrix contains NaNs or other                       than 0/1 entries.\n"
     ]
    },
    {
     "name": "stderr",
     "output_type": "stream",
     "text": [
      " 88%|██████████████████████████████████████████████████████████████████████▍         | 440/500 [01:02<00:08,  7.43it/s]"
     ]
    },
    {
     "name": "stdout",
     "output_type": "stream",
     "text": [
      "Warning: the outcome matrix contains NaNs or other                       than 0/1 entries.\n",
      "Warning: the outcome matrix contains NaNs or other                       than 0/1 entries.\n",
      "Warning: the outcome matrix contains NaNs or other                       than 0/1 entries.\n"
     ]
    },
    {
     "name": "stderr",
     "output_type": "stream",
     "text": [
      " 88%|██████████████████████████████████████████████████████████████████████▋         | 442/500 [01:02<00:07,  7.47it/s]"
     ]
    },
    {
     "name": "stdout",
     "output_type": "stream",
     "text": [
      "Warning: the outcome matrix contains NaNs or other                       than 0/1 entries.\n",
      "Warning: the outcome matrix contains NaNs or other                       than 0/1 entries.\n",
      "Warning: the outcome matrix contains NaNs or other                       than 0/1 entries.\n"
     ]
    },
    {
     "name": "stderr",
     "output_type": "stream",
     "text": [
      "\r",
      " 89%|██████████████████████████████████████████████████████████████████████▉         | 443/500 [01:02<00:07,  7.74it/s]"
     ]
    },
    {
     "name": "stdout",
     "output_type": "stream",
     "text": [
      "Warning: the outcome matrix contains NaNs or other                       than 0/1 entries.\n",
      "Warning: the outcome matrix contains NaNs or other                       than 0/1 entries.\n",
      "Warning: the outcome matrix contains NaNs or other                       than 0/1 entries.\n",
      "Warning: the outcome matrix contains NaNs or other                       than 0/1 entries.\n"
     ]
    },
    {
     "name": "stderr",
     "output_type": "stream",
     "text": [
      " 89%|███████████████████████████████████████████████████████████████████████▏        | 445/500 [01:02<00:07,  7.63it/s]"
     ]
    },
    {
     "name": "stdout",
     "output_type": "stream",
     "text": [
      "Warning: the outcome matrix contains NaNs or other                       than 0/1 entries.\n",
      "Warning: the outcome matrix contains NaNs or other                       than 0/1 entries.\n",
      "Warning: the outcome matrix contains NaNs or other                       than 0/1 entries.\n",
      "Warning: the outcome matrix contains NaNs or other                       than 0/1 entries.\n"
     ]
    },
    {
     "name": "stderr",
     "output_type": "stream",
     "text": [
      " 89%|███████████████████████████████████████████████████████████████████████▌        | 447/500 [01:03<00:07,  7.34it/s]"
     ]
    },
    {
     "name": "stdout",
     "output_type": "stream",
     "text": [
      "Warning: the outcome matrix contains NaNs or other                       than 0/1 entries.\n",
      "Warning: the outcome matrix contains NaNs or other                       than 0/1 entries.\n",
      "Warning: the outcome matrix contains NaNs or other                       than 0/1 entries.\n"
     ]
    },
    {
     "name": "stderr",
     "output_type": "stream",
     "text": [
      "\r",
      " 90%|███████████████████████████████████████████████████████████████████████▋        | 448/500 [01:03<00:07,  7.32it/s]"
     ]
    },
    {
     "name": "stdout",
     "output_type": "stream",
     "text": [
      "Warning: the outcome matrix contains NaNs or other                       than 0/1 entries.\n",
      "Warning: the outcome matrix contains NaNs or other                       than 0/1 entries.\n",
      "Warning: the outcome matrix contains NaNs or other                       than 0/1 entries.\n"
     ]
    },
    {
     "name": "stderr",
     "output_type": "stream",
     "text": [
      " 90%|████████████████████████████████████████████████████████████████████████        | 450/500 [01:03<00:06,  7.43it/s]"
     ]
    },
    {
     "name": "stdout",
     "output_type": "stream",
     "text": [
      "Warning: the outcome matrix contains NaNs or other                       than 0/1 entries.\n",
      "Warning: the outcome matrix contains NaNs or other                       than 0/1 entries.\n",
      "Warning: the outcome matrix contains NaNs or other                       than 0/1 entries.\n",
      "Warning: the outcome matrix contains NaNs or other                       than 0/1 entries.\n"
     ]
    },
    {
     "name": "stderr",
     "output_type": "stream",
     "text": [
      " 90%|████████████████████████████████████████████████████████████████████████▎       | 452/500 [01:03<00:06,  7.44it/s]"
     ]
    },
    {
     "name": "stdout",
     "output_type": "stream",
     "text": [
      "Warning: the outcome matrix contains NaNs or other                       than 0/1 entries.\n",
      "Warning: the outcome matrix contains NaNs or other                       than 0/1 entries.\n",
      "Warning: the outcome matrix contains NaNs or other                       than 0/1 entries.\n"
     ]
    },
    {
     "name": "stderr",
     "output_type": "stream",
     "text": [
      "\r",
      " 91%|████████████████████████████████████████████████████████████████████████▍       | 453/500 [01:04<00:06,  7.07it/s]"
     ]
    },
    {
     "name": "stdout",
     "output_type": "stream",
     "text": [
      "Warning: the outcome matrix contains NaNs or other                       than 0/1 entries.\n",
      "Warning: the outcome matrix contains NaNs or other                       than 0/1 entries.\n",
      "Warning: the outcome matrix contains NaNs or other                       than 0/1 entries.\n"
     ]
    },
    {
     "name": "stderr",
     "output_type": "stream",
     "text": [
      " 91%|████████████████████████████████████████████████████████████████████████▊       | 455/500 [01:04<00:06,  6.47it/s]"
     ]
    },
    {
     "name": "stdout",
     "output_type": "stream",
     "text": [
      "Warning: the outcome matrix contains NaNs or other                       than 0/1 entries.\n",
      "Warning: the outcome matrix contains NaNs or other                       than 0/1 entries.\n"
     ]
    },
    {
     "name": "stderr",
     "output_type": "stream",
     "text": [
      "\r",
      " 91%|████████████████████████████████████████████████████████████████████████▉       | 456/500 [01:04<00:06,  6.53it/s]"
     ]
    },
    {
     "name": "stdout",
     "output_type": "stream",
     "text": [
      "Warning: the outcome matrix contains NaNs or other                       than 0/1 entries.\n",
      "Warning: the outcome matrix contains NaNs or other                       than 0/1 entries.\n",
      "Warning: the outcome matrix contains NaNs or other                       than 0/1 entries.\n"
     ]
    },
    {
     "name": "stderr",
     "output_type": "stream",
     "text": [
      "\r",
      " 91%|█████████████████████████████████████████████████████████████████████████       | 457/500 [01:04<00:06,  6.62it/s]"
     ]
    },
    {
     "name": "stdout",
     "output_type": "stream",
     "text": [
      "Warning: the outcome matrix contains NaNs or other                       than 0/1 entries.\n",
      "Warning: the outcome matrix contains NaNs or other                       than 0/1 entries.\n",
      "Warning: the outcome matrix contains NaNs or other                       than 0/1 entries.\n"
     ]
    },
    {
     "name": "stderr",
     "output_type": "stream",
     "text": [
      " 92%|█████████████████████████████████████████████████████████████████████████▍      | 459/500 [01:04<00:05,  7.01it/s]"
     ]
    },
    {
     "name": "stdout",
     "output_type": "stream",
     "text": [
      "Warning: the outcome matrix contains NaNs or other                       than 0/1 entries.\n",
      "Warning: the outcome matrix contains NaNs or other                       than 0/1 entries.\n",
      "Warning: the outcome matrix contains NaNs or other                       than 0/1 entries.\n"
     ]
    },
    {
     "name": "stderr",
     "output_type": "stream",
     "text": [
      "\r",
      " 92%|█████████████████████████████████████████████████████████████████████████▌      | 460/500 [01:05<00:06,  6.56it/s]"
     ]
    },
    {
     "name": "stdout",
     "output_type": "stream",
     "text": [
      "Warning: the outcome matrix contains NaNs or other                       than 0/1 entries.\n",
      "Warning: the outcome matrix contains NaNs or other                       than 0/1 entries.\n",
      "Warning: the outcome matrix contains NaNs or other                       than 0/1 entries.\n"
     ]
    },
    {
     "name": "stderr",
     "output_type": "stream",
     "text": [
      " 92%|█████████████████████████████████████████████████████████████████████████▉      | 462/500 [01:05<00:05,  6.61it/s]"
     ]
    },
    {
     "name": "stdout",
     "output_type": "stream",
     "text": [
      "Warning: the outcome matrix contains NaNs or other                       than 0/1 entries.\n",
      "Warning: the outcome matrix contains NaNs or other                       than 0/1 entries.\n",
      "Warning: the outcome matrix contains NaNs or other                       than 0/1 entries.\n",
      "Warning: the outcome matrix contains NaNs or other                       than 0/1 entries.\n"
     ]
    },
    {
     "name": "stderr",
     "output_type": "stream",
     "text": [
      " 93%|██████████████████████████████████████████████████████████████████████████▏     | 464/500 [01:05<00:05,  6.58it/s]"
     ]
    },
    {
     "name": "stdout",
     "output_type": "stream",
     "text": [
      "Warning: the outcome matrix contains NaNs or other                       than 0/1 entries.\n",
      "Warning: the outcome matrix contains NaNs or other                       than 0/1 entries.\n",
      "Warning: the outcome matrix contains NaNs or other                       than 0/1 entries.\n"
     ]
    },
    {
     "name": "stderr",
     "output_type": "stream",
     "text": [
      "\r",
      " 93%|██████████████████████████████████████████████████████████████████████████▍     | 465/500 [01:05<00:05,  6.49it/s]"
     ]
    },
    {
     "name": "stdout",
     "output_type": "stream",
     "text": [
      "Warning: the outcome matrix contains NaNs or other                       than 0/1 entries.\n",
      "Warning: the outcome matrix contains NaNs or other                       than 0/1 entries.\n",
      "Warning: the outcome matrix contains NaNs or other                       than 0/1 entries.\n"
     ]
    },
    {
     "name": "stderr",
     "output_type": "stream",
     "text": [
      " 93%|██████████████████████████████████████████████████████████████████████████▋     | 467/500 [01:06<00:05,  6.34it/s]"
     ]
    },
    {
     "name": "stdout",
     "output_type": "stream",
     "text": [
      "Warning: the outcome matrix contains NaNs or other                       than 0/1 entries.\n",
      "Warning: the outcome matrix contains NaNs or other                       than 0/1 entries.\n",
      "Warning: the outcome matrix contains NaNs or other                       than 0/1 entries.\n"
     ]
    },
    {
     "name": "stderr",
     "output_type": "stream",
     "text": [
      "\r",
      " 94%|██████████████████████████████████████████████████████████████████████████▉     | 468/500 [01:06<00:05,  6.26it/s]"
     ]
    },
    {
     "name": "stdout",
     "output_type": "stream",
     "text": [
      "Warning: the outcome matrix contains NaNs or other                       than 0/1 entries.\n",
      "Warning: the outcome matrix contains NaNs or other                       than 0/1 entries.\n",
      "Warning: the outcome matrix contains NaNs or other                       than 0/1 entries.\n"
     ]
    },
    {
     "name": "stderr",
     "output_type": "stream",
     "text": [
      " 94%|███████████████████████████████████████████████████████████████████████████▏    | 470/500 [01:06<00:04,  6.18it/s]"
     ]
    },
    {
     "name": "stdout",
     "output_type": "stream",
     "text": [
      "Warning: the outcome matrix contains NaNs or other                       than 0/1 entries.\n",
      "Warning: the outcome matrix contains NaNs or other                       than 0/1 entries.\n",
      "Warning: the outcome matrix contains NaNs or other                       than 0/1 entries.\n"
     ]
    },
    {
     "name": "stderr",
     "output_type": "stream",
     "text": [
      "\r",
      " 94%|███████████████████████████████████████████████████████████████████████████▎    | 471/500 [01:06<00:04,  6.00it/s]"
     ]
    },
    {
     "name": "stdout",
     "output_type": "stream",
     "text": [
      "Warning: the outcome matrix contains NaNs or other                       than 0/1 entries.\n",
      "Warning: the outcome matrix contains NaNs or other                       than 0/1 entries.\n",
      "Warning: the outcome matrix contains NaNs or other                       than 0/1 entries.\n"
     ]
    },
    {
     "name": "stderr",
     "output_type": "stream",
     "text": [
      " 95%|███████████████████████████████████████████████████████████████████████████▋    | 473/500 [01:07<00:04,  5.88it/s]"
     ]
    },
    {
     "name": "stdout",
     "output_type": "stream",
     "text": [
      "Warning: the outcome matrix contains NaNs or other                       than 0/1 entries.\n",
      "Warning: the outcome matrix contains NaNs or other                       than 0/1 entries.\n",
      "Warning: the outcome matrix contains NaNs or other                       than 0/1 entries.\n"
     ]
    },
    {
     "name": "stderr",
     "output_type": "stream",
     "text": [
      "\r",
      " 95%|███████████████████████████████████████████████████████████████████████████▊    | 474/500 [01:07<00:04,  5.93it/s]"
     ]
    },
    {
     "name": "stdout",
     "output_type": "stream",
     "text": [
      "Warning: the outcome matrix contains NaNs or other                       than 0/1 entries.\n",
      "Warning: the outcome matrix contains NaNs or other                       than 0/1 entries.\n",
      "Warning: the outcome matrix contains NaNs or other                       than 0/1 entries.\n"
     ]
    },
    {
     "name": "stderr",
     "output_type": "stream",
     "text": [
      " 95%|████████████████████████████████████████████████████████████████████████████▏   | 476/500 [01:07<00:04,  5.73it/s]"
     ]
    },
    {
     "name": "stdout",
     "output_type": "stream",
     "text": [
      "Warning: the outcome matrix contains NaNs or other                       than 0/1 entries.\n",
      "Warning: the outcome matrix contains NaNs or other                       than 0/1 entries.\n"
     ]
    },
    {
     "name": "stderr",
     "output_type": "stream",
     "text": [
      "\r",
      " 95%|████████████████████████████████████████████████████████████████████████████▎   | 477/500 [01:07<00:03,  5.90it/s]"
     ]
    },
    {
     "name": "stdout",
     "output_type": "stream",
     "text": [
      "Warning: the outcome matrix contains NaNs or other                       than 0/1 entries.\n",
      "Warning: the outcome matrix contains NaNs or other                       than 0/1 entries.\n",
      "Warning: the outcome matrix contains NaNs or other                       than 0/1 entries.\n"
     ]
    },
    {
     "name": "stderr",
     "output_type": "stream",
     "text": [
      "\r",
      " 96%|████████████████████████████████████████████████████████████████████████████▍   | 478/500 [01:08<00:03,  5.82it/s]"
     ]
    },
    {
     "name": "stdout",
     "output_type": "stream",
     "text": [
      "Warning: the outcome matrix contains NaNs or other                       than 0/1 entries.\n",
      "Warning: the outcome matrix contains NaNs or other                       than 0/1 entries.\n",
      "Warning: the outcome matrix contains NaNs or other                       than 0/1 entries.\n"
     ]
    },
    {
     "name": "stderr",
     "output_type": "stream",
     "text": [
      " 96%|████████████████████████████████████████████████████████████████████████████▊   | 480/500 [01:08<00:03,  5.79it/s]"
     ]
    },
    {
     "name": "stdout",
     "output_type": "stream",
     "text": [
      "Warning: the outcome matrix contains NaNs or other                       than 0/1 entries.\n",
      "Warning: the outcome matrix contains NaNs or other                       than 0/1 entries.\n",
      "Warning: the outcome matrix contains NaNs or other                       than 0/1 entries.\n"
     ]
    },
    {
     "name": "stderr",
     "output_type": "stream",
     "text": [
      "\r",
      " 96%|████████████████████████████████████████████████████████████████████████████▉   | 481/500 [01:08<00:03,  5.90it/s]"
     ]
    },
    {
     "name": "stdout",
     "output_type": "stream",
     "text": [
      "Warning: the outcome matrix contains NaNs or other                       than 0/1 entries.\n",
      "Warning: the outcome matrix contains NaNs or other                       than 0/1 entries.\n",
      "Warning: the outcome matrix contains NaNs or other                       than 0/1 entries.\n"
     ]
    },
    {
     "name": "stderr",
     "output_type": "stream",
     "text": [
      " 97%|█████████████████████████████████████████████████████████████████████████████▎  | 483/500 [01:08<00:02,  5.83it/s]"
     ]
    },
    {
     "name": "stdout",
     "output_type": "stream",
     "text": [
      "Warning: the outcome matrix contains NaNs or other                       than 0/1 entries.\n",
      "Warning: the outcome matrix contains NaNs or other                       than 0/1 entries.\n",
      "Warning: the outcome matrix contains NaNs or other                       than 0/1 entries.\n"
     ]
    },
    {
     "name": "stderr",
     "output_type": "stream",
     "text": [
      "\r",
      " 97%|█████████████████████████████████████████████████████████████████████████████▍  | 484/500 [01:09<00:02,  5.85it/s]"
     ]
    },
    {
     "name": "stdout",
     "output_type": "stream",
     "text": [
      "Warning: the outcome matrix contains NaNs or other                       than 0/1 entries.\n",
      "Warning: the outcome matrix contains NaNs or other                       than 0/1 entries.\n",
      "Warning: the outcome matrix contains NaNs or other                       than 0/1 entries.\n"
     ]
    },
    {
     "name": "stderr",
     "output_type": "stream",
     "text": [
      " 97%|█████████████████████████████████████████████████████████████████████████████▊  | 486/500 [01:09<00:02,  5.90it/s]"
     ]
    },
    {
     "name": "stdout",
     "output_type": "stream",
     "text": [
      "Warning: the outcome matrix contains NaNs or other                       than 0/1 entries.\n",
      "Warning: the outcome matrix contains NaNs or other                       than 0/1 entries.\n",
      "Warning: the outcome matrix contains NaNs or other                       than 0/1 entries.\n"
     ]
    },
    {
     "name": "stderr",
     "output_type": "stream",
     "text": [
      "\r",
      " 97%|█████████████████████████████████████████████████████████████████████████████▉  | 487/500 [01:09<00:02,  5.77it/s]"
     ]
    },
    {
     "name": "stdout",
     "output_type": "stream",
     "text": [
      "Warning: the outcome matrix contains NaNs or other                       than 0/1 entries.\n",
      "Warning: the outcome matrix contains NaNs or other                       than 0/1 entries.\n",
      "Warning: the outcome matrix contains NaNs or other                       than 0/1 entries.\n"
     ]
    },
    {
     "name": "stderr",
     "output_type": "stream",
     "text": [
      " 98%|██████████████████████████████████████████████████████████████████████████████▏ | 489/500 [01:09<00:01,  5.94it/s]"
     ]
    },
    {
     "name": "stdout",
     "output_type": "stream",
     "text": [
      "Warning: the outcome matrix contains NaNs or other                       than 0/1 entries.\n",
      "Warning: the outcome matrix contains NaNs or other                       than 0/1 entries.\n",
      "Warning: the outcome matrix contains NaNs or other                       than 0/1 entries.\n"
     ]
    },
    {
     "name": "stderr",
     "output_type": "stream",
     "text": [
      "\r",
      " 98%|██████████████████████████████████████████████████████████████████████████████▍ | 490/500 [01:10<00:01,  6.02it/s]"
     ]
    },
    {
     "name": "stdout",
     "output_type": "stream",
     "text": [
      "Warning: the outcome matrix contains NaNs or other                       than 0/1 entries.\n",
      "Warning: the outcome matrix contains NaNs or other                       than 0/1 entries.\n",
      "Warning: the outcome matrix contains NaNs or other                       than 0/1 entries.\n"
     ]
    },
    {
     "name": "stderr",
     "output_type": "stream",
     "text": [
      " 98%|██████████████████████████████████████████████████████████████████████████████▋ | 492/500 [01:10<00:01,  5.87it/s]"
     ]
    },
    {
     "name": "stdout",
     "output_type": "stream",
     "text": [
      "Warning: the outcome matrix contains NaNs or other                       than 0/1 entries.\n",
      "Warning: the outcome matrix contains NaNs or other                       than 0/1 entries.\n",
      "Warning: the outcome matrix contains NaNs or other                       than 0/1 entries.\n"
     ]
    },
    {
     "name": "stderr",
     "output_type": "stream",
     "text": [
      "\r",
      " 99%|██████████████████████████████████████████████████████████████████████████████▉ | 493/500 [01:10<00:01,  5.91it/s]"
     ]
    },
    {
     "name": "stdout",
     "output_type": "stream",
     "text": [
      "Warning: the outcome matrix contains NaNs or other                       than 0/1 entries.\n",
      "Warning: the outcome matrix contains NaNs or other                       than 0/1 entries.\n",
      "Warning: the outcome matrix contains NaNs or other                       than 0/1 entries.\n"
     ]
    },
    {
     "name": "stderr",
     "output_type": "stream",
     "text": [
      " 99%|███████████████████████████████████████████████████████████████████████████████▏| 495/500 [01:10<00:00,  5.94it/s]"
     ]
    },
    {
     "name": "stdout",
     "output_type": "stream",
     "text": [
      "Warning: the outcome matrix contains NaNs or other                       than 0/1 entries.\n",
      "Warning: the outcome matrix contains NaNs or other                       than 0/1 entries.\n",
      "Warning: the outcome matrix contains NaNs or other                       than 0/1 entries.\n"
     ]
    },
    {
     "name": "stderr",
     "output_type": "stream",
     "text": [
      "\r",
      " 99%|███████████████████████████████████████████████████████████████████████████████▎| 496/500 [01:11<00:00,  5.96it/s]"
     ]
    },
    {
     "name": "stdout",
     "output_type": "stream",
     "text": [
      "Warning: the outcome matrix contains NaNs or other                       than 0/1 entries.\n",
      "Warning: the outcome matrix contains NaNs or other                       than 0/1 entries.\n",
      "Warning: the outcome matrix contains NaNs or other                       than 0/1 entries.\n"
     ]
    },
    {
     "name": "stderr",
     "output_type": "stream",
     "text": [
      "100%|███████████████████████████████████████████████████████████████████████████████▋| 498/500 [01:11<00:00,  5.99it/s]"
     ]
    },
    {
     "name": "stdout",
     "output_type": "stream",
     "text": [
      "Warning: the outcome matrix contains NaNs or other                       than 0/1 entries.\n",
      "Warning: the outcome matrix contains NaNs or other                       than 0/1 entries.\n",
      "Warning: the outcome matrix contains NaNs or other                       than 0/1 entries.\n"
     ]
    },
    {
     "name": "stderr",
     "output_type": "stream",
     "text": [
      "\r",
      "100%|███████████████████████████████████████████████████████████████████████████████▊| 499/500 [01:11<00:00,  6.06it/s]"
     ]
    },
    {
     "name": "stdout",
     "output_type": "stream",
     "text": [
      "Warning: the outcome matrix contains NaNs or other                       than 0/1 entries.\n",
      "Warning: the outcome matrix contains NaNs or other                       than 0/1 entries.\n",
      "Warning: the outcome matrix contains NaNs or other                       than 0/1 entries.\n"
     ]
    },
    {
     "name": "stderr",
     "output_type": "stream",
     "text": [
      "100%|████████████████████████████████████████████████████████████████████████████████| 500/500 [01:11<00:00,  6.96it/s]\n"
     ]
    }
   ],
   "source": [
    "# compute percentile bootstrap (symmetric) CIs for standard deviation \n",
    "np.random.seed(2022) # replicability\n",
    "B = 500\n",
    "bs_samples_exp = np.random.choice(range(len(exp_ids)), size=(B, len(exp_ids)))\n",
    "bs_samples_imp = np.random.choice(range(len(imp_ids)), size=(B, len(imp_ids)))\n",
    "beta_res_exp = np.zeros((B, len(exp_ids), 1))\n",
    "beta_res_imp = np.zeros((B, len(imp_ids), 1))\n",
    "\n",
    "for b in tqdm(range(B)):\n",
    "    prob_mod_exp = TwoWayFPMLE(Xexp[bs_samples_exp[b]], yexp[bs_samples_exp[b]], 0, [0], model='probit', verbose=False)\n",
    "    beta_exp, _, _ = prob_mod_exp.fit(fast=True, hess=True, nu=1e-9, eps=1e-4, iter_max=2)\n",
    "    beta_res_exp[b,:, 0] = beta_exp[:,0]\n",
    "    prob_mod_imp = TwoWayFPMLE(Ximp[bs_samples_imp[b]], yimp[bs_samples_imp[b]], 0, [0], model='probit', verbose=False)\n",
    "    beta_imp, _, _ = prob_mod_imp.fit(fast=True, hess=True, nu=1e-9, eps=1e-4, iter_max=2)\n",
    "    beta_res_imp[b,:, 0] = beta_imp[:,0]\n",
    "\n",
    "bs_std_exp = np.std(beta_res_exp, axis=1)\n",
    "bs_std_imp = np.std(beta_res_imp, axis=1)\n",
    "bs_std = np.concatenate((bs_std_exp, bs_std_imp), axis=1)"
   ]
  },
  {
   "cell_type": "code",
   "execution_count": 20,
   "id": "6485b59d",
   "metadata": {},
   "outputs": [
    {
     "name": "stdout",
     "output_type": "stream",
     "text": [
      "exporter-specific importer-specific\n",
      "lower ends:  [0.06562919 0.03635777]\n",
      "upper ends:  [0.09149921 0.06108626]\n"
     ]
    }
   ],
   "source": [
    "# CI for standard deviation\n",
    "print('exporter-specific', 'importer-specific')\n",
    "print('lower ends: ', np.quantile(bs_std, 0.025, axis=0))\n",
    "print('upper ends: ', np.quantile(bs_std, 0.975, axis=0))"
   ]
  },
  {
   "cell_type": "markdown",
   "id": "f8dfc554",
   "metadata": {},
   "source": [
    "## References"
   ]
  },
  {
   "cell_type": "markdown",
   "id": "b616c86d",
   "metadata": {},
   "source": [
    "- Fernández-Val, I., and M. Weidner (2016): “Individual and time effects in nonlinear panel models with large N, T”, *Journal of Econometrics*, 192(1), 291–312.\n",
    "\n",
    "- Helpman, E., M. Melitz, and Y. Rubinstein (2008): “Estimating trade flows: Trading partners and trading volumes”, *The Quarterly Journal of Economics*, 123(2), 441–487.\n"
   ]
  }
 ],
 "metadata": {
  "kernelspec": {
   "display_name": "Python 3",
   "language": "python",
   "name": "python3"
  },
  "language_info": {
   "codemirror_mode": {
    "name": "ipython",
    "version": 3
   },
   "file_extension": ".py",
   "mimetype": "text/x-python",
   "name": "python",
   "nbconvert_exporter": "python",
   "pygments_lexer": "ipython3",
   "version": "3.8.8"
  }
 },
 "nbformat": 4,
 "nbformat_minor": 5
}
