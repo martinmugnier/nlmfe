{
 "cells": [
  {
   "cell_type": "markdown",
   "id": "659bf802",
   "metadata": {},
   "source": [
    "# NLMFE in practice\n",
    "\n",
    "This notebook aims at introducing the *nlmfe* package. The package provides a fast implementation of the FPMLE and FPMLE$^{++}$ algorithms, two coordinate-wise optimization algorithms developed in Mugnier and Wang (2022, WP) for computing the maximum likelihood estimator of two-way fixed effects probit, logit, and poisson models."
   ]
  },
  {
   "cell_type": "code",
   "execution_count": 1,
   "id": "141feb5c",
   "metadata": {},
   "outputs": [],
   "source": [
    "#Load nlmfe useful classes\n",
    "from nlmfe.TwoWayFPMLE import TwoWayFPMLE\n",
    "from nlmfe.BiasCorrections import BiasCorrections\n",
    "#help(TwoWayFPMLE)\n",
    "\n",
    "#Load other Python packages\n",
    "import numpy as np\n",
    "import pandas as pd\n",
    "from scipy.stats import norm\n",
    "from tqdm import tqdm"
   ]
  },
  {
   "cell_type": "markdown",
   "id": "d2771c17",
   "metadata": {},
   "source": [
    "## Application to simulated data"
   ]
  },
  {
   "cell_type": "markdown",
   "id": "b1c437c9",
   "metadata": {},
   "source": [
    "We start by simulating a simple two-way fixed effects binary logit model with homogeneous coefficient 500 times: \n",
    "\n",
    "$y_{it} \\in \\{0,1\\}$ and for all $i\\in\\{1,...,N\\}, t\\in\\{1,...,T\\}$ such that:\n",
    "\n",
    "\\begin{equation}\n",
    "Pr(y_{it} =1|x_{it}, \\alpha_i, \\xi_t) = \\frac{1}{1+\\exp(-(x_{it}\\beta + \\alpha_i + \\xi_t))}\n",
    "\\end{equation}\n",
    "\n",
    "with $\\beta=1$, $\\alpha_1=0$, $\\alpha_i \\overset{iid}{\\sim}\\mathcal N(0,1/16)$ for $i\\geq 2$, $\\xi_t \\overset{iid}{\\sim}\\mathcal N(0,1/16)$, and $x_{it} = v_{it} + \\alpha_i$, $v_{it}\\overset{iid}{\\sim}$Unif$[-\\sqrt{3},\\sqrt{3}]$. \n",
    "\n",
    "The random variables $\\alpha_i, \\xi_t,v_{it}$ are mutually independent. We set $N,T=200$."
   ]
  },
  {
   "cell_type": "code",
   "execution_count": 2,
   "id": "63c29bb6",
   "metadata": {},
   "outputs": [],
   "source": [
    "def logit_cdf(x):\n",
    "    \"\"\"\n",
    "    logit_cdf:\n",
    "        evaluate the logistic cumulative distribution function (cdf) at point x.\n",
    "        \n",
    "    :param x: evaluation point\n",
    "    \"\"\"\n",
    "    return 1. / (1. + np.exp(-x))\n",
    "\n",
    "def logit_pdf(x):\n",
    "    \"\"\"\n",
    "    logit_pdf:\n",
    "        evaluate the logistic probability density function (pdf) at point x.\n",
    "        \n",
    "    :param x: evaluation point\n",
    "    \"\"\"\n",
    "    return np.exp(x) / (1. + np.exp(x))**2"
   ]
  },
  {
   "cell_type": "code",
   "execution_count": 3,
   "id": "553d1d82",
   "metadata": {},
   "outputs": [],
   "source": [
    "seed = 2022\n",
    "np.random.seed(seed)\n",
    "\n",
    "B = 500\n",
    "n = 200\n",
    "T = 200\n",
    "beta = np.ones(1)\n",
    "alpha = np.random.normal(0, 1/4, size=(B,n))\n",
    "alpha[:,0] = 0 # normalization \n",
    "xi = np.random.normal(0, 1/4, size=(B,T)) \n",
    "X = np.random.uniform(-np.sqrt(3), np.sqrt(3), size=(B,n,T,len(beta))) + alpha[:,:,None,None]\n",
    "M = X.dot(beta) + alpha[:,:,None] + xi[:,None,:]\n",
    "Y = (np.random.uniform(size=(B,n,T)) <= logit_cdf(M)).astype(int)\n",
    "ape = beta*np.mean(logit_pdf(M), axis=(1,2))   "
   ]
  },
  {
   "cell_type": "markdown",
   "id": "765cca55",
   "metadata": {},
   "source": [
    "On our laptop, estimating the homogeneous slope coefficient ($\\beta$), individual-specific effects ($\\alpha_i$) and time-specific effects ($\\xi_t$) with FPMLE++ in all simulated data sets takes 4 seconds."
   ]
  },
  {
   "cell_type": "code",
   "execution_count": 4,
   "id": "5f6f5cab",
   "metadata": {},
   "outputs": [
    {
     "name": "stderr",
     "output_type": "stream",
     "text": [
      "100%|████████████████████████████████████████| 500/500 [00:03<00:00, 127.13it/s]\n"
     ]
    }
   ],
   "source": [
    "beta_hat = np.empty((B,1))\n",
    "alpha_hat = np.empty((B,n-1))\n",
    "xi_hat = np.empty((B,T))\n",
    "ape_hat = np.empty((B,1))\n",
    "\n",
    "for b in tqdm(range(B)):\n",
    "    logit_model = TwoWayFPMLE(X[b], Y[b], model='logit', verbose=False)\n",
    "    beta_hat[b], alpha_hat[b], xi_hat[b] = logit_model.fit(fast=True, hess=True, iter_max=2) #set fast=False for FPMLE\n",
    "    ape_hat[b] = beta_hat[b]*np.mean(logit_pdf(X[b].dot(beta_hat[b]) + np.insert(alpha_hat[b], 0, 0)[:,None] + xi_hat[b][None,:]))"
   ]
  },
  {
   "cell_type": "code",
   "execution_count": 5,
   "id": "ddafef4c",
   "metadata": {
    "scrolled": true
   },
   "outputs": [
    {
     "name": "stdout",
     "output_type": "stream",
     "text": [
      "True beta:  1.0\n",
      "Average bias beta_hat:  -0.004794109327612266\n",
      "Average RMSE beta_hat:  0.010150062045055513\n",
      "Average true average partial effect (APE):  0.19419937001920265\n",
      "Average bias APE_hat:  -0.0019422556896525403\n",
      "Average RMSE APE_hat:  0.0022028635393134145\n"
     ]
    }
   ],
   "source": [
    "print('True beta: ', beta[0])\n",
    "print('Average bias beta_hat: ', np.mean(beta_hat-beta))\n",
    "print('Average RMSE beta_hat: ', np.mean(np.abs(beta_hat-beta)))\n",
    "print('Average true average partial effect (APE): ', np.mean(ape))\n",
    "print('Average bias APE_hat: ', np.mean(ape_hat-ape))\n",
    "print('Average RMSE APE_hat: ', np.mean(np.abs(ape_hat-ape)))"
   ]
  },
  {
   "cell_type": "code",
   "execution_count": 6,
   "id": "411b94b0",
   "metadata": {},
   "outputs": [
    {
     "name": "stderr",
     "output_type": "stream",
     "text": [
      "100%|█████████████████████████████████████████| 500/500 [00:44<00:00, 11.29it/s]\n"
     ]
    }
   ],
   "source": [
    "#Compute analytically bias corrected estimates and standard errors (see Fernandez-Val and Weidner, 2016)\n",
    "beta_hat_BC = np.empty((B, 3))\n",
    "for b in tqdm(range(B)):\n",
    "    biascorrect = BiasCorrections(X[b], Y[b], model='logit')\n",
    "    for l in range(3):\n",
    "        beta_hat_BC[b,l], beta_hat_avar  = biascorrect.bias_correct(np.concatenate((beta_hat[b], alpha_hat[b],xi_hat[b])), L=l)"
   ]
  },
  {
   "cell_type": "markdown",
   "id": "1984235c",
   "metadata": {},
   "source": [
    "As displayed below, confidence intervals based on bias-corrected estimates of the slope have better coverage."
   ]
  },
  {
   "cell_type": "code",
   "execution_count": 7,
   "id": "9b6b9fb3",
   "metadata": {},
   "outputs": [
    {
     "name": "stdout",
     "output_type": "stream",
     "text": [
      "                              Bias      RMSE  Coverage (.95)\n",
      "beta_hat                 -0.004794  0.010150        0.853861\n",
      "beta_hat_corrected (L=0)  0.005611  0.010615        0.932000\n",
      "beta_hat_corrected (L=1)  0.005541  0.010590        0.934000\n",
      "beta_hat_corrected (L=2)  0.005536  0.010590        0.934000\n",
      " \n",
      "True beta:  1.0\n"
     ]
    }
   ],
   "source": [
    "table = np.empty((4, 3))\n",
    "table[0, 0] = np.mean(beta_hat-beta)\n",
    "table[1, 0] = np.mean(beta_hat_BC[:,0]-beta)\n",
    "table[2, 0] = np.mean(beta_hat_BC[:,1]-beta)\n",
    "table[3, 0] = np.mean(beta_hat_BC[:,2]-beta)\n",
    "\n",
    "table[0, 1] = np.nanmean(np.abs(beta_hat-beta))\n",
    "table[1, 1] = np.nanmean(np.abs(beta_hat_BC[:,0]-beta))\n",
    "table[2, 1] = np.nanmean(np.abs(beta_hat_BC[:,1]-beta))\n",
    "table[3, 1] = np.nanmean(np.abs(beta_hat_BC[:,2]-beta))\n",
    "\n",
    "\n",
    "table[0, 2] = np.mean(np.abs(beta_hat_BC-beta))/ np.sqrt(beta_hat_avar/(n*T)) \n",
    "table[1, 2] = np.mean((np.abs(beta_hat_BC[:,0]-beta) / np.sqrt(beta_hat_avar/(n*T)) <= norm.ppf(1-0.05/2)))\n",
    "table[2, 2] = np.mean((np.abs(beta_hat_BC[:,1]-beta) / np.sqrt(beta_hat_avar/(n*T)) <= norm.ppf(1-0.05/2)))\n",
    "table[3, 2] = np.mean((np.abs(beta_hat_BC[:,2]-beta) / np.sqrt(beta_hat_avar/(n*T)) <= norm.ppf(1-0.05/2)))\n",
    "\n",
    "res = pd.DataFrame(table)\n",
    "res.columns = ['Bias', 'RMSE', 'Coverage (.95)']\n",
    "res.index = ['beta_hat', 'beta_hat_corrected (L=0)', 'beta_hat_corrected (L=1)', 'beta_hat_corrected (L=2)']\n",
    "\n",
    "print(res)\n",
    "print(' ')\n",
    "print('True beta: ', beta[0])"
   ]
  },
  {
   "cell_type": "code",
   "execution_count": 8,
   "id": "fae730d1",
   "metadata": {},
   "outputs": [],
   "source": [
    "#Compute analytically bias corrected estimates and standard errors of the average partial effect on the first sample\n",
    "biascorrect = BiasCorrections(X[0], Y[0], model='logit')\n",
    "for l in range(1):\n",
    "        _, _, ape_hat_BC, ape_hat_se  = biascorrect.bias_correct(np.concatenate((beta_hat[b], alpha_hat[b],\n",
    "                                                                    xi_hat[b])), APE=True, L=l)\n"
   ]
  },
  {
   "cell_type": "code",
   "execution_count": 9,
   "id": "1961de46",
   "metadata": {},
   "outputs": [
    {
     "name": "stdout",
     "output_type": "stream",
     "text": [
      "True APE:  0.19378177651848616\n",
      "Estimated APE:  0.1934557954494277\n",
      "Bias-corrected estimated APE:  0.195144616031413\n",
      "Standard error bias-corrected estimated APE:  0.0024097157216737566\n"
     ]
    }
   ],
   "source": [
    "print('True APE: ', ape[0])\n",
    "print('Estimated APE: ', ape_hat[0,0])\n",
    "print('Bias-corrected estimated APE: ', ape_hat_BC[0])\n",
    "print('Standard error bias-corrected estimated APE: ', np.diag(ape_hat_se)[0])"
   ]
  },
  {
   "cell_type": "markdown",
   "id": "aed4eb8c",
   "metadata": {},
   "source": [
    "## Application to real data (selection into international trade)\n",
    "Helpman et al. (2008) estimate trade flows and explicitly take into account firm selection into export markets. Their method features a first step that estimates the establishment of exportation from one country to another using a binary model. Because of this step, they can then control for the fraction of firms that export (consistently estimated from the first step) and the selection effect due to zero trade flows when estimating the gravity equation in the second step. In the empirical application, this first step is implemented as following (see their equation 12 on page 455):\n",
    "\n",
    "\\begin{equation}\n",
    "\t\\Pr(T_{ij} = 1 \\mid \\text{dist}_{ij}, \\phi_{ij}, \\zeta_i, \\xi_j) = \\Phi\\left(-\\gamma\\text{dist}_{ij} + \\phi_{ij}\\kappa + \\zeta_i + \\xi_j\\right), i,j=1,...,N, i \\neq j, \\qquad (1)\n",
    "\\end{equation}\n",
    "\n",
    "where $T_{ij}=1$ when country $j$ exports to $i$ and zero otherwise, $\\text{dist}_{ij}$ is the distance between $i$ and $j$, $\\phi_{ij}$ is a vector of observed country-pair specific variables, $\\zeta_i$ ($\\xi_j$) is an importer (exporter) fixed effect, and $\\Phi$ is the standard normal cumulative distribution function. According to their theoretical model,  $\\gamma$ is interpreted as a constant elasticity of a firm's trade with respect to distance. \n",
    "\n",
    "\n",
    "Different from the original setting, we allow  $\\gamma$ to be country- and exporter-specific:\n",
    "\n",
    "\\begin{equation}\n",
    "\t\\Pr(T_{ij} = 1 \\mid \\text{dist}_{ij}, \\phi_{ij}, \\zeta_i, \\xi_j) = \\Phi(-\\gamma^{\\text{exp}}_j\\text{dist}_{ij} + \\phi_{ij}\\kappa + \\zeta_i + \\xi_j), i,j=1,...,N, i \\neq j. \\qquad (2)\n",
    "\\end{equation}\n",
    "\n",
    "Recent literature on international trade raises concerns about the assumption of constant trade elasticities that impose homogeneous effects of trade cost shifters (see Carrère et al. (2020); Chen and Novy (2021) for examples). The specification in (2) relaxes this assumption along two dimensions. First, it  allows firms from different countries to react differently to the same change in trade cost shifters when exporting to the same third country. Second, two countries in a trade relationship, when exporting to the other, can react differently to the same change in the trade cost shifters that affects the trade in both directions. Furthermore, this specification is implied by a theoretical model along the lines of Helpman et al. (2008) with demand elasticity in the product market being  country-specific. *[Concretely, denote by $\\varepsilon_j$ the demand elasticity in country $j$ in their equation 2 on page 449. Then, the log of trade cost,* $\\ln \\tau_{ij}$*, enters the first (and the second) step with a coefficient $\\varepsilon_j-1$. As a result, along the lines of their empirical specification, we can specify* $(\\varepsilon_j-1)\\ln\\tau_{ij}=\\gamma_j^{\\text{exp}}d_{ij}-u_{ij}$*.]* \n",
    "\n",
    "We also consider another specification that allows   $\\gamma$ to be country- and importer-specific:\n",
    "\n",
    "\\begin{equation}\n",
    "\t\t\\Pr(T_{ij} = 1 \\mid \\text{dist}_{ij}, \\phi_{ij}, \\zeta_i, \\xi_j) = \\Phi(-\\gamma^{\\text{imp}}_i\\text{dist}_{ij} + \\phi_{ij}\\kappa + \\zeta_i + \\xi_j), i,j=1,...,N, i \\neq j. \\qquad (3)\n",
    "\\end{equation}\n",
    "\n",
    "Similar to (2), the specification in (3) allows two countries in a trade relationship to react differently to the same change in the trade cost shifters that affects the trade in both directions. Moreover, (3) can also incorporate firm's heterogeneous reaction to the same change in trade cost shifters, depending on the country it exports to.  \n",
    "\n",
    "In what follows, we estimate the first step of the method by Helpman et al. (2008) using  (2) and (3), and quantify the extent to which the trade elasticity is heterogeneous among countries."
   ]
  },
  {
   "cell_type": "markdown",
   "id": "21bd544c",
   "metadata": {},
   "source": [
    "### Data"
   ]
  },
  {
   "cell_type": "code",
   "execution_count": 10,
   "id": "5cc6e1c8",
   "metadata": {},
   "outputs": [
    {
     "name": "stdout",
     "output_type": "stream",
     "text": [
      "Requirement already satisfied: wget in /Users/econ0677/anaconda3/lib/python3.11/site-packages (3.2)\n",
      "Note: you may need to restart the kernel to use updated packages.\n"
     ]
    }
   ],
   "source": [
    "pip install wget"
   ]
  },
  {
   "cell_type": "code",
   "execution_count": 11,
   "id": "572aca67",
   "metadata": {},
   "outputs": [
    {
     "name": "stdout",
     "output_type": "stream",
     "text": [
      "100% [......................................................] 1532500 / 1532500"
     ]
    }
   ],
   "source": [
    "import wget\n",
    "import zipfile as zf\n",
    "\n",
    "# import Helpman et al. (2008) data\n",
    "url = 'https://scholar.harvard.edu/files/melitz/files/gravity_data_share.zip'\n",
    "wget.download(url)\n",
    "files = zf.ZipFile('gravity_data_share.zip','r')\n",
    "files.extractall()\n",
    "files.close()"
   ]
  },
  {
   "cell_type": "code",
   "execution_count": 12,
   "id": "091d65dc",
   "metadata": {},
   "outputs": [
    {
     "data": {
      "text/html": [
       "<div>\n",
       "<style scoped>\n",
       "    .dataframe tbody tr th:only-of-type {\n",
       "        vertical-align: middle;\n",
       "    }\n",
       "\n",
       "    .dataframe tbody tr th {\n",
       "        vertical-align: top;\n",
       "    }\n",
       "\n",
       "    .dataframe thead th {\n",
       "        text-align: right;\n",
       "    }\n",
       "</style>\n",
       "<table border=\"1\" class=\"dataframe\">\n",
       "  <thead>\n",
       "    <tr style=\"text-align: right;\">\n",
       "      <th></th>\n",
       "      <th>year</th>\n",
       "      <th>expcode</th>\n",
       "      <th>impcode</th>\n",
       "      <th>common_lang</th>\n",
       "      <th>legalsystem_same</th>\n",
       "      <th>religion_same</th>\n",
       "      <th>religion_same_recoded</th>\n",
       "      <th>border</th>\n",
       "      <th>cu</th>\n",
       "      <th>ln_distance</th>\n",
       "      <th>fta</th>\n",
       "      <th>ln_trade</th>\n",
       "      <th>colonial</th>\n",
       "      <th>gatt_wto</th>\n",
       "      <th>n_islands</th>\n",
       "      <th>n_landlock</th>\n",
       "      <th>trade</th>\n",
       "    </tr>\n",
       "  </thead>\n",
       "  <tbody>\n",
       "    <tr>\n",
       "      <th>5</th>\n",
       "      <td>1986</td>\n",
       "      <td>117100</td>\n",
       "      <td>130120</td>\n",
       "      <td>0</td>\n",
       "      <td>0</td>\n",
       "      <td>0.013403</td>\n",
       "      <td>0.013403</td>\n",
       "      <td>0</td>\n",
       "      <td>0</td>\n",
       "      <td>4.106691</td>\n",
       "      <td>0</td>\n",
       "      <td>6.761573</td>\n",
       "      <td>0</td>\n",
       "      <td>1</td>\n",
       "      <td>0</td>\n",
       "      <td>0</td>\n",
       "      <td>1.0</td>\n",
       "    </tr>\n",
       "    <tr>\n",
       "      <th>17</th>\n",
       "      <td>1986</td>\n",
       "      <td>117100</td>\n",
       "      <td>134340</td>\n",
       "      <td>1</td>\n",
       "      <td>0</td>\n",
       "      <td>0.012962</td>\n",
       "      <td>0.013351</td>\n",
       "      <td>0</td>\n",
       "      <td>0</td>\n",
       "      <td>3.997316</td>\n",
       "      <td>0</td>\n",
       "      <td>NaN</td>\n",
       "      <td>0</td>\n",
       "      <td>1</td>\n",
       "      <td>0</td>\n",
       "      <td>0</td>\n",
       "      <td>0.0</td>\n",
       "    </tr>\n",
       "    <tr>\n",
       "      <th>22</th>\n",
       "      <td>1986</td>\n",
       "      <td>117100</td>\n",
       "      <td>135040</td>\n",
       "      <td>0</td>\n",
       "      <td>0</td>\n",
       "      <td>0.013130</td>\n",
       "      <td>0.013130</td>\n",
       "      <td>0</td>\n",
       "      <td>0</td>\n",
       "      <td>4.212758</td>\n",
       "      <td>0</td>\n",
       "      <td>8.024535</td>\n",
       "      <td>0</td>\n",
       "      <td>1</td>\n",
       "      <td>0</td>\n",
       "      <td>0</td>\n",
       "      <td>1.0</td>\n",
       "    </tr>\n",
       "    <tr>\n",
       "      <th>30</th>\n",
       "      <td>1986</td>\n",
       "      <td>117100</td>\n",
       "      <td>137320</td>\n",
       "      <td>0</td>\n",
       "      <td>0</td>\n",
       "      <td>0.013000</td>\n",
       "      <td>0.013000</td>\n",
       "      <td>0</td>\n",
       "      <td>0</td>\n",
       "      <td>3.991379</td>\n",
       "      <td>0</td>\n",
       "      <td>NaN</td>\n",
       "      <td>0</td>\n",
       "      <td>1</td>\n",
       "      <td>0</td>\n",
       "      <td>0</td>\n",
       "      <td>0.0</td>\n",
       "    </tr>\n",
       "    <tr>\n",
       "      <th>49</th>\n",
       "      <td>1986</td>\n",
       "      <td>117100</td>\n",
       "      <td>137360</td>\n",
       "      <td>1</td>\n",
       "      <td>1</td>\n",
       "      <td>0.014067</td>\n",
       "      <td>0.014456</td>\n",
       "      <td>0</td>\n",
       "      <td>0</td>\n",
       "      <td>3.793402</td>\n",
       "      <td>0</td>\n",
       "      <td>NaN</td>\n",
       "      <td>0</td>\n",
       "      <td>1</td>\n",
       "      <td>0</td>\n",
       "      <td>0</td>\n",
       "      <td>0.0</td>\n",
       "    </tr>\n",
       "  </tbody>\n",
       "</table>\n",
       "</div>"
      ],
      "text/plain": [
       "    year  expcode  impcode  common_lang  legalsystem_same  religion_same  \\\n",
       "5   1986   117100   130120            0                 0       0.013403   \n",
       "17  1986   117100   134340            1                 0       0.012962   \n",
       "22  1986   117100   135040            0                 0       0.013130   \n",
       "30  1986   117100   137320            0                 0       0.013000   \n",
       "49  1986   117100   137360            1                 1       0.014067   \n",
       "\n",
       "    religion_same_recoded  border  cu  ln_distance  fta  ln_trade  colonial  \\\n",
       "5                0.013403       0   0     4.106691    0  6.761573         0   \n",
       "17               0.013351       0   0     3.997316    0       NaN         0   \n",
       "22               0.013130       0   0     4.212758    0  8.024535         0   \n",
       "30               0.013000       0   0     3.991379    0       NaN         0   \n",
       "49               0.014456       0   0     3.793402    0       NaN         0   \n",
       "\n",
       "    gatt_wto  n_islands  n_landlock  trade  \n",
       "5          1          0           0    1.0  \n",
       "17         1          0           0    0.0  \n",
       "22         1          0           0    1.0  \n",
       "30         1          0           0    0.0  \n",
       "49         1          0           0    0.0  "
      ]
     },
     "execution_count": 12,
     "metadata": {},
     "output_type": "execute_result"
    }
   ],
   "source": [
    "# read data\n",
    "data = pd.read_stata('data1980s_share.dta', convert_dates=False, convert_categoricals=False, preserve_dtypes=True)\n",
    "\n",
    "# keep if year==1986\n",
    "data = data[data['year']==1986]\n",
    "\n",
    "# drop CONGO as exporter because it did not export to any country in 1986\n",
    "data = data[data['expcode']!=141780]\n",
    "\n",
    "# create trade dummy \n",
    "data['trade'] = (data['ln_trade'].isna()==False).astype(float) \n",
    "\n",
    "data.head()"
   ]
  },
  {
   "cell_type": "code",
   "execution_count": 13,
   "id": "8c2d595a",
   "metadata": {},
   "outputs": [
    {
     "name": "stdout",
     "output_type": "stream",
     "text": [
      "157\n",
      "158\n"
     ]
    }
   ],
   "source": [
    "print(len(np.unique(data['expcode'])))\n",
    "print(len(np.unique(data['impcode'])))"
   ]
  },
  {
   "cell_type": "markdown",
   "id": "718177b3",
   "metadata": {},
   "source": [
    "### Estimate exporter-specific effects"
   ]
  },
  {
   "cell_type": "code",
   "execution_count": 14,
   "id": "9b46e0ab",
   "metadata": {},
   "outputs": [],
   "source": [
    "# sort columns and convert data to numeric\n",
    "data = data[['expcode', 'impcode', 'ln_distance', 'border', 'n_islands', 'n_landlock', 'legalsystem_same','common_lang', \n",
    "             'colonial', 'cu', 'fta', 'religion_same', 'trade']]\n",
    "for j in data.columns[2:]:\n",
    "    data[j] = pd.to_numeric(data[j])\n",
    "\n",
    "# nlmfe need some preprocessing of the data into N x T x K panel structure\n",
    "from nlmfe.PanelPreProcess import PanelPreProcess\n",
    "PanelPreProcess = PanelPreProcess()\n",
    "data = data.sort_values(['expcode', 'impcode'])\n",
    "Xexp, yexp, exp_ids, _ = PanelPreProcess.reshape_MaR(np.array(data)[:,:-1],  np.array(data)[:,-1], 0, 1)"
   ]
  },
  {
   "cell_type": "code",
   "execution_count": 15,
   "id": "cf4ada98",
   "metadata": {},
   "outputs": [
    {
     "name": "stdout",
     "output_type": "stream",
     "text": [
      "Mixed heterogeneous and homogeneous slopes model.\n",
      "Warning: the outcome matrix contains NaNs or other                       than 0/1 entries.\n"
     ]
    }
   ],
   "source": [
    "# estimate exporter-specific distance effects \n",
    "# normalize exporter fixed effect by first alphabetic country: AFGHANISTAN  (see https://www23.statcan.gc.ca/imdb-bmdi/pub/document/2201_DLI_D7_T22_V1-fra.pdf)\n",
    "AFG = np.where(exp_ids==450040)[0]\n",
    "\n",
    "probit_model = TwoWayFPMLE(Xexp, yexp, indiv_ref=AFG, het_exog=[0], model='probit')\n",
    "beta_exp, alpha_exp, xi_exp = probit_model.fit(fast=True, hess=True, iter_max=2)\n",
    "marginal_effect_at_mean_exp = np.mean(beta_exp[:,0])*norm.pdf(np.nanmean(np.einsum('ijk,ik->ij', Xexp, beta_exp) \n",
    "                + np.insert(alpha_exp, AFG, 0)[:,None] + xi_exp[None,:]))\n",
    "average_partial_effect_exp = np.nanmean(beta_exp[:,0].reshape(len(exp_ids))[:,None]*norm.pdf(\n",
    "                np.einsum('ijk,ik->ij', Xexp, beta_exp)  + np.insert(alpha_exp, AFG, 0)[:,None] + xi_exp[None,:]))"
   ]
  },
  {
   "cell_type": "code",
   "execution_count": 16,
   "id": "1acb70db",
   "metadata": {},
   "outputs": [
    {
     "data": {
      "image/png": "[encoded data removed]",
      "text/plain": [
       "<Figure size 600x400 with 1 Axes>"
      ]
     },
     "metadata": {},
     "output_type": "display_data"
    }
   ],
   "source": [
    "# histogram of heterogeneous effects\n",
    "from matplotlib import pyplot as plt\n",
    "\n",
    "fig, ax = plt.subplots(figsize = (6,4))\n",
    "plt.axvline(x=np.mean(beta_exp[:,0]), color='red', linestyle='--', linewidth=0.7)\n",
    "plt.hist(beta_exp[:,0], bins=50, rwidth=0.9, color='#0504aa')\n",
    "plt.grid(axis='y', alpha=0.75)\n",
    "plt.ylabel('Country count')\n",
    "plt.xlabel(r'$-\\hat \\gamma_{j}$')\n",
    "plt.title('Exporter-specific distance effect')\n",
    "plt.show()"
   ]
  },
  {
   "cell_type": "code",
   "execution_count": 17,
   "id": "ab763278",
   "metadata": {},
   "outputs": [
    {
     "name": "stdout",
     "output_type": "stream",
     "text": [
      "[-0.0096 -0.0038 -0.0048]\n"
     ]
    }
   ],
   "source": [
    "print(np.round([np.mean(beta_exp[:,0]), marginal_effect_at_mean_exp, average_partial_effect_exp], 4))"
   ]
  },
  {
   "cell_type": "markdown",
   "id": "74ea730a",
   "metadata": {},
   "source": [
    "### Estimate importer-specific effects"
   ]
  },
  {
   "cell_type": "code",
   "execution_count": 18,
   "id": "7ee093a6",
   "metadata": {},
   "outputs": [
    {
     "name": "stdout",
     "output_type": "stream",
     "text": [
      "Mixed heterogeneous and homogeneous slopes model.\n",
      "Warning: the outcome matrix contains NaNs or other                       than 0/1 entries.\n"
     ]
    }
   ],
   "source": [
    "# estimate importer-specific distance effects \n",
    "from nlmfe.PanelPreProcess import PanelPreProcess\n",
    "PanelPreProcess = PanelPreProcess()\n",
    "data = data.sort_values(['impcode', 'expcode'])\n",
    "Ximp, yimp, imp_ids, _ = PanelPreProcess.reshape_MaR(np.array(data)[:,:-1], np.array(data)[:,-1], 1, 0)\n",
    "\n",
    "prob_mod = TwoWayFPMLE(Ximp, yimp, AFG, [0], model='probit')\n",
    "beta_imp, alpha_imp, xi_imp = prob_mod.fit(fast=True, hess=True, iter_max=2)\n",
    "marginal_effect_at_mean_imp = np.mean(beta_imp[:,0])*norm.pdf(np.nanmean(np.einsum('ijk,ik->ij', Ximp, beta_imp) \n",
    "                                + np.insert(alpha_imp, AFG, 0)[:,None] + xi_imp[None,:]))\n",
    "average_partial_effect_imp = np.nanmean(beta_imp[:,0].reshape(len(imp_ids))[:,None]*norm.pdf(np.einsum('ijk,ik->ij', \n",
    "                                Ximp, beta_imp) + np.insert(alpha_imp, AFG, 0)[:,None] + xi_imp[None,:]))"
   ]
  },
  {
   "cell_type": "code",
   "execution_count": 19,
   "id": "98de1bd9",
   "metadata": {},
   "outputs": [
    {
     "data": {
      "image/png": "[encoded data removed]",
      "text/plain": [
       "<Figure size 600x400 with 1 Axes>"
      ]
     },
     "metadata": {},
     "output_type": "display_data"
    }
   ],
   "source": [
    "# histogram of heterogeneous effects\n",
    "fig, ax = plt.subplots(figsize = (6,4))\n",
    "plt.axvline(x=np.mean(beta_imp[:,0]), color='red', linestyle='--', linewidth=0.7)\n",
    "plt.hist(beta_imp[:,0], bins=50, rwidth=0.9, color='#0504aa')\n",
    "plt.grid(axis='y', alpha=0.75)\n",
    "plt.ylabel('Country count')\n",
    "plt.xlabel(r'$-\\hat \\gamma_{i}$')\n",
    "plt.title('Importer-specific distance effect')\n",
    "plt.show()"
   ]
  },
  {
   "cell_type": "code",
   "execution_count": 20,
   "id": "41b821a5",
   "metadata": {},
   "outputs": [
    {
     "name": "stdout",
     "output_type": "stream",
     "text": [
      "[-0.0143 -0.0057 -0.0039]\n"
     ]
    }
   ],
   "source": [
    "print(np.round([np.mean(beta_imp[:,0]), marginal_effect_at_mean_imp, average_partial_effect_imp], 4))"
   ]
  },
  {
   "cell_type": "markdown",
   "id": "62ad49dc",
   "metadata": {},
   "source": [
    "### Percentile bootstrap (symmetric) CIs for standard deviation"
   ]
  },
  {
   "cell_type": "code",
   "execution_count": 21,
   "id": "e73a1de9",
   "metadata": {},
   "outputs": [
    {
     "name": "stderr",
     "output_type": "stream",
     "text": [
      "  0%|▏                                          | 2/500 [00:00<00:39, 12.52it/s]"
     ]
    },
    {
     "name": "stdout",
     "output_type": "stream",
     "text": [
      "Warning: the outcome matrix contains NaNs or other                       than 0/1 entries.\n",
      "Warning: the outcome matrix contains NaNs or other                       than 0/1 entries.\n",
      "Dropped  8  time periods with no outcome variations\n",
      "Warning: the outcome matrix contains NaNs or other                       than 0/1 entries.\n",
      "Warning: the outcome matrix contains NaNs or other                       than 0/1 entries.\n",
      "Warning: the outcome matrix contains NaNs or other                       than 0/1 entries.\n"
     ]
    },
    {
     "name": "stderr",
     "output_type": "stream",
     "text": [
      "\r",
      "  1%|▎                                          | 4/500 [00:00<00:40, 12.14it/s]"
     ]
    },
    {
     "name": "stdout",
     "output_type": "stream",
     "text": [
      "Warning: the outcome matrix contains NaNs or other                       than 0/1 entries.\n",
      "Warning: the outcome matrix contains NaNs or other                       than 0/1 entries.\n",
      "Dropped  1  time periods with no outcome variations\n",
      "Warning: the outcome matrix contains NaNs or other                       than 0/1 entries.\n",
      "Warning: the outcome matrix contains NaNs or other                       than 0/1 entries.\n",
      "Warning: the outcome matrix contains NaNs or other                       than 0/1 entries.\n",
      "Warning: the outcome matrix contains NaNs or other                       than 0/1 entries.\n"
     ]
    },
    {
     "name": "stderr",
     "output_type": "stream",
     "text": [
      "  2%|▋                                          | 8/500 [00:00<00:39, 12.54it/s]"
     ]
    },
    {
     "name": "stdout",
     "output_type": "stream",
     "text": [
      "Warning: the outcome matrix contains NaNs or other                       than 0/1 entries.\n",
      "Dropped  8  time periods with no outcome variations\n",
      "Warning: the outcome matrix contains NaNs or other                       than 0/1 entries.\n",
      "Warning: the outcome matrix contains NaNs or other                       than 0/1 entries.\n",
      "Warning: the outcome matrix contains NaNs or other                       than 0/1 entries.\n",
      "Warning: the outcome matrix contains NaNs or other                       than 0/1 entries.\n",
      "Dropped  8  time periods with no outcome variations\n"
     ]
    },
    {
     "name": "stderr",
     "output_type": "stream",
     "text": [
      "\r",
      "  2%|▊                                         | 10/500 [00:00<00:40, 12.21it/s]"
     ]
    },
    {
     "name": "stdout",
     "output_type": "stream",
     "text": [
      "Warning: the outcome matrix contains NaNs or other                       than 0/1 entries.\n",
      "Warning: the outcome matrix contains NaNs or other                       than 0/1 entries.\n",
      "Warning: the outcome matrix contains NaNs or other                       than 0/1 entries.\n",
      "Warning: the outcome matrix contains NaNs or other                       than 0/1 entries.\n",
      "Dropped  1  time periods with no outcome variations\n",
      "Warning: the outcome matrix contains NaNs or other                       than 0/1 entries.\n"
     ]
    },
    {
     "name": "stderr",
     "output_type": "stream",
     "text": [
      "\r",
      "  2%|█                                         | 12/500 [00:00<00:40, 12.07it/s]"
     ]
    },
    {
     "name": "stdout",
     "output_type": "stream",
     "text": [
      "Warning: the outcome matrix contains NaNs or other                       than 0/1 entries.\n",
      "Warning: the outcome matrix contains NaNs or other                       than 0/1 entries.\n",
      "Dropped  1  time periods with no outcome variations\n",
      "Warning: the outcome matrix contains NaNs or other                       than 0/1 entries.\n",
      "Dropped  12  time periods with no outcome variations\n",
      "Warning: the outcome matrix contains NaNs or other                       than 0/1 entries.\n",
      "Warning: the outcome matrix contains NaNs or other                       than 0/1 entries.\n",
      "Warning: the outcome matrix contains NaNs or other                       than 0/1 entries.\n"
     ]
    },
    {
     "name": "stderr",
     "output_type": "stream",
     "text": [
      "\r",
      "  3%|█▏                                        | 14/500 [00:01<00:41, 11.78it/s]"
     ]
    },
    {
     "name": "stdout",
     "output_type": "stream",
     "text": [
      "Warning: the outcome matrix contains NaNs or other                       than 0/1 entries.\n",
      "Warning: the outcome matrix contains NaNs or other                       than 0/1 entries.\n",
      "Warning: the outcome matrix contains NaNs or other                       than 0/1 entries.\n",
      "Dropped  7  time periods with no outcome variations\n",
      "Warning: the outcome matrix contains NaNs or other                       than 0/1 entries.\n",
      "Dropped  1  time periods with no outcome variations\n",
      "Warning: the outcome matrix contains NaNs or other                       than 0/1 entries.\n",
      "Dropped  6  time periods with no outcome variations\n"
     ]
    },
    {
     "name": "stderr",
     "output_type": "stream",
     "text": [
      "/Users/econ0677/Library/CloudStorage/Dropbox/2020_long_panel_two_way_fixed_effects/online_package_24_07_2022/func.py:460: RuntimeWarning: divide by zero encountered in divide\n",
      "  hess = A[:,:,:,None]*A[:,:,None,:] * (m**2/ (M*(1-M)))[:,:, None, None]\n",
      "/Users/econ0677/Library/CloudStorage/Dropbox/2020_long_panel_two_way_fixed_effects/online_package_24_07_2022/func.py:460: RuntimeWarning: invalid value encountered in multiply\n",
      "  hess = A[:,:,:,None]*A[:,:,None,:] * (m**2/ (M*(1-M)))[:,:, None, None]\n",
      "/Users/econ0677/Library/CloudStorage/Dropbox/2020_long_panel_two_way_fixed_effects/online_package_24_07_2022/func.py:260: RuntimeWarning: divide by zero encountered in divide\n",
      "  grad = np.nansum(A * ((m/(M*(1-M))) * (b-M))[:,:,None], axis)\n",
      "/Users/econ0677/Library/CloudStorage/Dropbox/2020_long_panel_two_way_fixed_effects/online_package_24_07_2022/func.py:260: RuntimeWarning: invalid value encountered in multiply\n",
      "  grad = np.nansum(A * ((m/(M*(1-M))) * (b-M))[:,:,None], axis)\n",
      "  4%|█▌                                        | 18/500 [00:01<00:40, 12.01it/s]"
     ]
    },
    {
     "name": "stdout",
     "output_type": "stream",
     "text": [
      "Warning: the outcome matrix contains NaNs or other                       than 0/1 entries.\n",
      "Warning: the outcome matrix contains NaNs or other                       than 0/1 entries.\n",
      "Warning: the outcome matrix contains NaNs or other                       than 0/1 entries.\n",
      "Warning: the outcome matrix contains NaNs or other                       than 0/1 entries.\n",
      "Dropped  7  time periods with no outcome variations\n",
      "Warning: the outcome matrix contains NaNs or other                       than 0/1 entries.\n",
      "Warning: the outcome matrix contains NaNs or other                       than 0/1 entries.\n",
      "Dropped  8  time periods with no outcome variations\n"
     ]
    },
    {
     "name": "stderr",
     "output_type": "stream",
     "text": [
      "\r",
      "  4%|█▋                                        | 20/500 [00:01<00:40, 11.95it/s]"
     ]
    },
    {
     "name": "stdout",
     "output_type": "stream",
     "text": [
      "Warning: the outcome matrix contains NaNs or other                       than 0/1 entries.\n",
      "Warning: the outcome matrix contains NaNs or other                       than 0/1 entries.\n",
      "Warning: the outcome matrix contains NaNs or other                       than 0/1 entries.\n",
      "Warning: the outcome matrix contains NaNs or other                       than 0/1 entries.\n",
      "Dropped  7  time periods with no outcome variations\n",
      "Warning: the outcome matrix contains NaNs or other                       than 0/1 entries.\n",
      "Dropped  1  time periods with no outcome variations\n",
      "Warning: the outcome matrix contains NaNs or other                       than 0/1 entries.\n"
     ]
    },
    {
     "name": "stderr",
     "output_type": "stream",
     "text": [
      "  5%|██                                        | 24/500 [00:01<00:40, 11.84it/s]"
     ]
    },
    {
     "name": "stdout",
     "output_type": "stream",
     "text": [
      "Warning: the outcome matrix contains NaNs or other                       than 0/1 entries.\n",
      "Warning: the outcome matrix contains NaNs or other                       than 0/1 entries.\n",
      "Warning: the outcome matrix contains NaNs or other                       than 0/1 entries.\n",
      "Warning: the outcome matrix contains NaNs or other                       than 0/1 entries.\n",
      "Warning: the outcome matrix contains NaNs or other                       than 0/1 entries.\n"
     ]
    },
    {
     "name": "stderr",
     "output_type": "stream",
     "text": [
      "\r",
      "  5%|██▏                                       | 26/500 [00:02<00:40, 11.69it/s]"
     ]
    },
    {
     "name": "stdout",
     "output_type": "stream",
     "text": [
      "Warning: the outcome matrix contains NaNs or other                       than 0/1 entries.\n",
      "Dropped  6  time periods with no outcome variations\n",
      "Warning: the outcome matrix contains NaNs or other                       than 0/1 entries.\n",
      "Warning: the outcome matrix contains NaNs or other                       than 0/1 entries.\n",
      "Warning: the outcome matrix contains NaNs or other                       than 0/1 entries.\n",
      "Warning: the outcome matrix contains NaNs or other                       than 0/1 entries.\n",
      "Dropped  6  time periods with no outcome variations\n"
     ]
    },
    {
     "name": "stderr",
     "output_type": "stream",
     "text": [
      "\r",
      "  6%|██▎                                       | 28/500 [00:02<00:41, 11.40it/s]"
     ]
    },
    {
     "name": "stdout",
     "output_type": "stream",
     "text": [
      "Warning: the outcome matrix contains NaNs or other                       than 0/1 entries.\n",
      "Warning: the outcome matrix contains NaNs or other                       than 0/1 entries.\n",
      "Warning: the outcome matrix contains NaNs or other                       than 0/1 entries.\n",
      "Warning: the outcome matrix contains NaNs or other                       than 0/1 entries.\n",
      "Warning: the outcome matrix contains NaNs or other                       than 0/1 entries.\n"
     ]
    },
    {
     "name": "stderr",
     "output_type": "stream",
     "text": [
      "\r",
      "  6%|██▌                                       | 30/500 [00:02<00:40, 11.57it/s]"
     ]
    },
    {
     "name": "stdout",
     "output_type": "stream",
     "text": [
      "Warning: the outcome matrix contains NaNs or other                       than 0/1 entries.\n",
      "Dropped  9  time periods with no outcome variations\n",
      "Warning: the outcome matrix contains NaNs or other                       than 0/1 entries.\n",
      "Dropped  1  time periods with no outcome variations\n",
      "Warning: the outcome matrix contains NaNs or other                       than 0/1 entries.\n",
      "Warning: the outcome matrix contains NaNs or other                       than 0/1 entries.\n",
      "Warning: the outcome matrix contains NaNs or other                       than 0/1 entries.\n"
     ]
    },
    {
     "name": "stderr",
     "output_type": "stream",
     "text": [
      "  7%|██▊                                       | 34/500 [00:02<00:41, 11.30it/s]"
     ]
    },
    {
     "name": "stdout",
     "output_type": "stream",
     "text": [
      "Warning: the outcome matrix contains NaNs or other                       than 0/1 entries.\n",
      "Warning: the outcome matrix contains NaNs or other                       than 0/1 entries.\n",
      "Warning: the outcome matrix contains NaNs or other                       than 0/1 entries.\n",
      "Warning: the outcome matrix contains NaNs or other                       than 0/1 entries.\n",
      "Warning: the outcome matrix contains NaNs or other                       than 0/1 entries.\n",
      "Dropped  1  time periods with no outcome variations\n"
     ]
    },
    {
     "name": "stderr",
     "output_type": "stream",
     "text": [
      "\r",
      "  7%|███                                       | 36/500 [00:03<00:40, 11.42it/s]"
     ]
    },
    {
     "name": "stdout",
     "output_type": "stream",
     "text": [
      "Warning: the outcome matrix contains NaNs or other                       than 0/1 entries.\n",
      "Warning: the outcome matrix contains NaNs or other                       than 0/1 entries.\n",
      "Warning: the outcome matrix contains NaNs or other                       than 0/1 entries.\n",
      "Warning: the outcome matrix contains NaNs or other                       than 0/1 entries.\n",
      "Warning: the outcome matrix contains NaNs or other                       than 0/1 entries.\n"
     ]
    },
    {
     "name": "stderr",
     "output_type": "stream",
     "text": [
      "\r",
      "  8%|███▏                                      | 38/500 [00:03<00:40, 11.48it/s]"
     ]
    },
    {
     "name": "stdout",
     "output_type": "stream",
     "text": [
      "Warning: the outcome matrix contains NaNs or other                       than 0/1 entries.\n",
      "Warning: the outcome matrix contains NaNs or other                       than 0/1 entries.\n",
      "Dropped  8  time periods with no outcome variations\n",
      "Warning: the outcome matrix contains NaNs or other                       than 0/1 entries.\n",
      "Warning: the outcome matrix contains NaNs or other                       than 0/1 entries.\n",
      "Warning: the outcome matrix contains NaNs or other                       than 0/1 entries.\n",
      "Dropped  1  time periods with no outcome variations\n"
     ]
    },
    {
     "name": "stderr",
     "output_type": "stream",
     "text": [
      "\r",
      "  8%|███▎                                      | 40/500 [00:03<00:40, 11.50it/s]"
     ]
    },
    {
     "name": "stdout",
     "output_type": "stream",
     "text": [
      "Warning: the outcome matrix contains NaNs or other                       than 0/1 entries.\n",
      "Warning: the outcome matrix contains NaNs or other                       than 0/1 entries.\n",
      "Warning: the outcome matrix contains NaNs or other                       than 0/1 entries.\n",
      "Warning: the outcome matrix contains NaNs or other                       than 0/1 entries.\n",
      "Warning: the outcome matrix contains NaNs or other                       than 0/1 entries.\n"
     ]
    },
    {
     "name": "stderr",
     "output_type": "stream",
     "text": [
      "  9%|███▋                                      | 44/500 [00:03<00:38, 11.85it/s]"
     ]
    },
    {
     "name": "stdout",
     "output_type": "stream",
     "text": [
      "Warning: the outcome matrix contains NaNs or other                       than 0/1 entries.\n",
      "Warning: the outcome matrix contains NaNs or other                       than 0/1 entries.\n",
      "Warning: the outcome matrix contains NaNs or other                       than 0/1 entries.\n",
      "Warning: the outcome matrix contains NaNs or other                       than 0/1 entries.\n",
      "Dropped  7  time periods with no outcome variations\n",
      "Warning: the outcome matrix contains NaNs or other                       than 0/1 entries.\n",
      "Dropped  2  time periods with no outcome variations\n",
      "Warning: the outcome matrix contains NaNs or other                       than 0/1 entries.\n",
      "Dropped  9  time periods with no outcome variations\n"
     ]
    },
    {
     "name": "stderr",
     "output_type": "stream",
     "text": [
      "\r",
      "  9%|███▊                                      | 46/500 [00:03<00:37, 12.05it/s]"
     ]
    },
    {
     "name": "stdout",
     "output_type": "stream",
     "text": [
      "Warning: the outcome matrix contains NaNs or other                       than 0/1 entries.\n",
      "Warning: the outcome matrix contains NaNs or other                       than 0/1 entries.\n",
      "Warning: the outcome matrix contains NaNs or other                       than 0/1 entries.\n",
      "Dropped  1  time periods with no outcome variations\n",
      "Warning: the outcome matrix contains NaNs or other                       than 0/1 entries.\n",
      "Warning: the outcome matrix contains NaNs or other                       than 0/1 entries.\n",
      "Dropped  1  time periods with no outcome variations\n",
      "Warning: the outcome matrix contains NaNs or other                       than 0/1 entries.\n",
      "Dropped  1  time periods with no outcome variations\n"
     ]
    },
    {
     "name": "stderr",
     "output_type": "stream",
     "text": [
      " 10%|████▏                                     | 50/500 [00:04<00:37, 12.12it/s]"
     ]
    },
    {
     "name": "stdout",
     "output_type": "stream",
     "text": [
      "Warning: the outcome matrix contains NaNs or other                       than 0/1 entries.\n",
      "Dropped  1  time periods with no outcome variations\n",
      "Warning: the outcome matrix contains NaNs or other                       than 0/1 entries.\n",
      "Dropped  9  time periods with no outcome variations\n",
      "Warning: the outcome matrix contains NaNs or other                       than 0/1 entries.\n",
      "Warning: the outcome matrix contains NaNs or other                       than 0/1 entries.\n",
      "Warning: the outcome matrix contains NaNs or other                       than 0/1 entries.\n"
     ]
    },
    {
     "name": "stderr",
     "output_type": "stream",
     "text": [
      "\r",
      " 10%|████▎                                     | 52/500 [00:04<00:36, 12.22it/s]"
     ]
    },
    {
     "name": "stdout",
     "output_type": "stream",
     "text": [
      "Warning: the outcome matrix contains NaNs or other                       than 0/1 entries.\n",
      "Dropped  8  time periods with no outcome variations\n",
      "Warning: the outcome matrix contains NaNs or other                       than 0/1 entries.\n",
      "Warning: the outcome matrix contains NaNs or other                       than 0/1 entries.\n",
      "Warning: the outcome matrix contains NaNs or other                       than 0/1 entries.\n",
      "Warning: the outcome matrix contains NaNs or other                       than 0/1 entries.\n"
     ]
    },
    {
     "name": "stderr",
     "output_type": "stream",
     "text": [
      "\r",
      " 11%|████▌                                     | 54/500 [00:04<00:37, 11.85it/s]"
     ]
    },
    {
     "name": "stdout",
     "output_type": "stream",
     "text": [
      "Warning: the outcome matrix contains NaNs or other                       than 0/1 entries.\n",
      "Warning: the outcome matrix contains NaNs or other                       than 0/1 entries.\n",
      "Dropped  1  time periods with no outcome variations\n",
      "Warning: the outcome matrix contains NaNs or other                       than 0/1 entries.\n",
      "Warning: the outcome matrix contains NaNs or other                       than 0/1 entries.\n",
      "Warning: the outcome matrix contains NaNs or other                       than 0/1 entries.\n",
      "Warning: the outcome matrix contains NaNs or other                       than 0/1 entries.\n"
     ]
    },
    {
     "name": "stderr",
     "output_type": "stream",
     "text": [
      " 12%|████▊                                     | 58/500 [00:04<00:37, 11.87it/s]"
     ]
    },
    {
     "name": "stdout",
     "output_type": "stream",
     "text": [
      "Warning: the outcome matrix contains NaNs or other                       than 0/1 entries.\n",
      "Warning: the outcome matrix contains NaNs or other                       than 0/1 entries.\n",
      "Dropped  7  time periods with no outcome variations\n",
      "Warning: the outcome matrix contains NaNs or other                       than 0/1 entries.\n",
      "Warning: the outcome matrix contains NaNs or other                       than 0/1 entries.\n",
      "Warning: the outcome matrix contains NaNs or other                       than 0/1 entries.\n",
      "Dropped  1  time periods with no outcome variations\n"
     ]
    },
    {
     "name": "stderr",
     "output_type": "stream",
     "text": [
      "\r",
      " 12%|█████                                     | 60/500 [00:05<00:36, 11.90it/s]"
     ]
    },
    {
     "name": "stdout",
     "output_type": "stream",
     "text": [
      "Warning: the outcome matrix contains NaNs or other                       than 0/1 entries.\n",
      "Warning: the outcome matrix contains NaNs or other                       than 0/1 entries.\n",
      "Warning: the outcome matrix contains NaNs or other                       than 0/1 entries.\n",
      "Dropped  1  time periods with no outcome variations\n",
      "Warning: the outcome matrix contains NaNs or other                       than 0/1 entries.\n",
      "Dropped  1  time periods with no outcome variations\n",
      "Warning: the outcome matrix contains NaNs or other                       than 0/1 entries.\n"
     ]
    },
    {
     "name": "stderr",
     "output_type": "stream",
     "text": [
      "\r",
      " 12%|█████▏                                    | 62/500 [00:05<00:36, 11.90it/s]"
     ]
    },
    {
     "name": "stdout",
     "output_type": "stream",
     "text": [
      "Warning: the outcome matrix contains NaNs or other                       than 0/1 entries.\n",
      "Dropped  2  time periods with no outcome variations\n",
      "Warning: the outcome matrix contains NaNs or other                       than 0/1 entries.\n",
      "Warning: the outcome matrix contains NaNs or other                       than 0/1 entries.\n",
      "Warning: the outcome matrix contains NaNs or other                       than 0/1 entries.\n",
      "Dropped  6  time periods with no outcome variations\n",
      "Warning: the outcome matrix contains NaNs or other                       than 0/1 entries.\n"
     ]
    },
    {
     "name": "stderr",
     "output_type": "stream",
     "text": [
      "\r",
      " 13%|█████▍                                    | 64/500 [00:05<00:36, 11.89it/s]"
     ]
    },
    {
     "name": "stdout",
     "output_type": "stream",
     "text": [
      "Warning: the outcome matrix contains NaNs or other                       than 0/1 entries.\n",
      "Warning: the outcome matrix contains NaNs or other                       than 0/1 entries.\n",
      "Warning: the outcome matrix contains NaNs or other                       than 0/1 entries.\n",
      "Warning: the outcome matrix contains NaNs or other                       than 0/1 entries.\n",
      "Warning: the outcome matrix contains NaNs or other                       than 0/1 entries.\n"
     ]
    },
    {
     "name": "stderr",
     "output_type": "stream",
     "text": [
      " 14%|█████▋                                    | 68/500 [00:05<00:36, 11.74it/s]"
     ]
    },
    {
     "name": "stdout",
     "output_type": "stream",
     "text": [
      "Warning: the outcome matrix contains NaNs or other                       than 0/1 entries.\n",
      "Warning: the outcome matrix contains NaNs or other                       than 0/1 entries.\n",
      "Warning: the outcome matrix contains NaNs or other                       than 0/1 entries.\n",
      "Warning: the outcome matrix contains NaNs or other                       than 0/1 entries.\n",
      "Dropped  7  time periods with no outcome variations\n",
      "Warning: the outcome matrix contains NaNs or other                       than 0/1 entries.\n"
     ]
    },
    {
     "name": "stderr",
     "output_type": "stream",
     "text": [
      "\r",
      " 14%|█████▉                                    | 70/500 [00:05<00:37, 11.58it/s]"
     ]
    },
    {
     "name": "stdout",
     "output_type": "stream",
     "text": [
      "Warning: the outcome matrix contains NaNs or other                       than 0/1 entries.\n",
      "Dropped  6  time periods with no outcome variations\n",
      "Warning: the outcome matrix contains NaNs or other                       than 0/1 entries.\n",
      "Dropped  1  time periods with no outcome variations\n",
      "Warning: the outcome matrix contains NaNs or other                       than 0/1 entries.\n",
      "Warning: the outcome matrix contains NaNs or other                       than 0/1 entries.\n",
      "Warning: the outcome matrix contains NaNs or other                       than 0/1 entries.\n"
     ]
    },
    {
     "name": "stderr",
     "output_type": "stream",
     "text": [
      "\r",
      " 14%|██████                                    | 72/500 [00:06<00:36, 11.73it/s]"
     ]
    },
    {
     "name": "stdout",
     "output_type": "stream",
     "text": [
      "Warning: the outcome matrix contains NaNs or other                       than 0/1 entries.\n",
      "Dropped  1  time periods with no outcome variations\n",
      "Warning: the outcome matrix contains NaNs or other                       than 0/1 entries.\n",
      "Dropped  8  time periods with no outcome variations\n",
      "Warning: the outcome matrix contains NaNs or other                       than 0/1 entries.\n",
      "Warning: the outcome matrix contains NaNs or other                       than 0/1 entries.\n",
      "Warning: the outcome matrix contains NaNs or other                       than 0/1 entries.\n",
      "Warning: the outcome matrix contains NaNs or other                       than 0/1 entries.\n"
     ]
    },
    {
     "name": "stderr",
     "output_type": "stream",
     "text": [
      " 15%|██████▍                                   | 76/500 [00:06<00:36, 11.61it/s]"
     ]
    },
    {
     "name": "stdout",
     "output_type": "stream",
     "text": [
      "Warning: the outcome matrix contains NaNs or other                       than 0/1 entries.\n",
      "Warning: the outcome matrix contains NaNs or other                       than 0/1 entries.\n",
      "Warning: the outcome matrix contains NaNs or other                       than 0/1 entries.\n",
      "Warning: the outcome matrix contains NaNs or other                       than 0/1 entries.\n",
      "Dropped  6  time periods with no outcome variations\n",
      "Warning: the outcome matrix contains NaNs or other                       than 0/1 entries.\n"
     ]
    },
    {
     "name": "stderr",
     "output_type": "stream",
     "text": [
      "\r",
      " 16%|██████▌                                   | 78/500 [00:06<00:36, 11.52it/s]"
     ]
    },
    {
     "name": "stdout",
     "output_type": "stream",
     "text": [
      "Warning: the outcome matrix contains NaNs or other                       than 0/1 entries.\n",
      "Dropped  6  time periods with no outcome variations\n",
      "Warning: the outcome matrix contains NaNs or other                       than 0/1 entries.\n",
      "Dropped  1  time periods with no outcome variations\n",
      "Warning: the outcome matrix contains NaNs or other                       than 0/1 entries.\n",
      "Warning: the outcome matrix contains NaNs or other                       than 0/1 entries.\n",
      "Warning: the outcome matrix contains NaNs or other                       than 0/1 entries.\n"
     ]
    },
    {
     "name": "stderr",
     "output_type": "stream",
     "text": [
      "\r",
      " 16%|██████▋                                   | 80/500 [00:06<00:36, 11.60it/s]"
     ]
    },
    {
     "name": "stdout",
     "output_type": "stream",
     "text": [
      "Warning: the outcome matrix contains NaNs or other                       than 0/1 entries.\n",
      "Warning: the outcome matrix contains NaNs or other                       than 0/1 entries.\n",
      "Warning: the outcome matrix contains NaNs or other                       than 0/1 entries.\n",
      "Warning: the outcome matrix contains NaNs or other                       than 0/1 entries.\n",
      "Warning: the outcome matrix contains NaNs or other                       than 0/1 entries.\n"
     ]
    },
    {
     "name": "stderr",
     "output_type": "stream",
     "text": [
      "\r",
      " 16%|██████▉                                   | 82/500 [00:06<00:35, 11.76it/s]"
     ]
    },
    {
     "name": "stdout",
     "output_type": "stream",
     "text": [
      "Warning: the outcome matrix contains NaNs or other                       than 0/1 entries.\n",
      "Dropped  10  time periods with no outcome variations\n",
      "Warning: the outcome matrix contains NaNs or other                       than 0/1 entries.\n",
      "Warning: the outcome matrix contains NaNs or other                       than 0/1 entries.\n",
      "Warning: the outcome matrix contains NaNs or other                       than 0/1 entries.\n",
      "Dropped  1  time periods with no outcome variations\n",
      "Warning: the outcome matrix contains NaNs or other                       than 0/1 entries.\n",
      "Dropped  7  time periods with no outcome variations\n"
     ]
    },
    {
     "name": "stderr",
     "output_type": "stream",
     "text": [
      " 17%|███████▏                                  | 86/500 [00:07<00:35, 11.75it/s]"
     ]
    },
    {
     "name": "stdout",
     "output_type": "stream",
     "text": [
      "Warning: the outcome matrix contains NaNs or other                       than 0/1 entries.\n",
      "Warning: the outcome matrix contains NaNs or other                       than 0/1 entries.\n",
      "Dropped  8  time periods with no outcome variations\n",
      "Warning: the outcome matrix contains NaNs or other                       than 0/1 entries.\n",
      "Warning: the outcome matrix contains NaNs or other                       than 0/1 entries.\n",
      "Warning: the outcome matrix contains NaNs or other                       than 0/1 entries.\n",
      "Dropped  1  time periods with no outcome variations\n",
      "Warning: the outcome matrix contains NaNs or other                       than 0/1 entries.\n"
     ]
    },
    {
     "name": "stderr",
     "output_type": "stream",
     "text": [
      "\r",
      " 18%|███████▍                                  | 88/500 [00:07<00:34, 12.11it/s]"
     ]
    },
    {
     "name": "stdout",
     "output_type": "stream",
     "text": [
      "Warning: the outcome matrix contains NaNs or other                       than 0/1 entries.\n",
      "Warning: the outcome matrix contains NaNs or other                       than 0/1 entries.\n",
      "Dropped  7  time periods with no outcome variations\n",
      "Warning: the outcome matrix contains NaNs or other                       than 0/1 entries.\n",
      "Dropped  1  time periods with no outcome variations\n",
      "Warning: the outcome matrix contains NaNs or other                       than 0/1 entries.\n",
      "Dropped  9  time periods with no outcome variations\n",
      "Warning: the outcome matrix contains NaNs or other                       than 0/1 entries.\n",
      "Dropped  1  time periods with no outcome variations\n",
      "Warning: the outcome matrix contains NaNs or other                       than 0/1 entries.\n",
      "Dropped  1  time periods with no outcome variations\n"
     ]
    },
    {
     "name": "stderr",
     "output_type": "stream",
     "text": [
      " 18%|███████▋                                  | 92/500 [00:07<00:32, 12.39it/s]"
     ]
    },
    {
     "name": "stdout",
     "output_type": "stream",
     "text": [
      "Warning: the outcome matrix contains NaNs or other                       than 0/1 entries.\n",
      "Dropped  1  time periods with no outcome variations\n",
      "Warning: the outcome matrix contains NaNs or other                       than 0/1 entries.\n",
      "Warning: the outcome matrix contains NaNs or other                       than 0/1 entries.\n",
      "Warning: the outcome matrix contains NaNs or other                       than 0/1 entries.\n",
      "Warning: the outcome matrix contains NaNs or other                       than 0/1 entries.\n",
      "Warning: the outcome matrix contains NaNs or other                       than 0/1 entries.\n"
     ]
    },
    {
     "name": "stderr",
     "output_type": "stream",
     "text": [
      "\r",
      " 19%|███████▉                                  | 94/500 [00:07<00:32, 12.38it/s]"
     ]
    },
    {
     "name": "stdout",
     "output_type": "stream",
     "text": [
      "Warning: the outcome matrix contains NaNs or other                       than 0/1 entries.\n",
      "Warning: the outcome matrix contains NaNs or other                       than 0/1 entries.\n",
      "Dropped  8  time periods with no outcome variations\n",
      "Warning: the outcome matrix contains NaNs or other                       than 0/1 entries.\n",
      "Warning: the outcome matrix contains NaNs or other                       than 0/1 entries.\n",
      "Warning: the outcome matrix contains NaNs or other                       than 0/1 entries.\n"
     ]
    },
    {
     "name": "stderr",
     "output_type": "stream",
     "text": [
      "\r",
      " 19%|████████                                  | 96/500 [00:08<00:34, 11.85it/s]"
     ]
    },
    {
     "name": "stdout",
     "output_type": "stream",
     "text": [
      "Warning: the outcome matrix contains NaNs or other                       than 0/1 entries.\n",
      "Warning: the outcome matrix contains NaNs or other                       than 0/1 entries.\n",
      "Warning: the outcome matrix contains NaNs or other                       than 0/1 entries.\n",
      "Dropped  1  time periods with no outcome variations\n",
      "Warning: the outcome matrix contains NaNs or other                       than 0/1 entries.\n",
      "Warning: the outcome matrix contains NaNs or other                       than 0/1 entries.\n",
      "Dropped  12  time periods with no outcome variations\n"
     ]
    },
    {
     "name": "stderr",
     "output_type": "stream",
     "text": [
      " 20%|████████▏                                | 100/500 [00:08<00:32, 12.35it/s]"
     ]
    },
    {
     "name": "stdout",
     "output_type": "stream",
     "text": [
      "Warning: the outcome matrix contains NaNs or other                       than 0/1 entries.\n",
      "Warning: the outcome matrix contains NaNs or other                       than 0/1 entries.\n",
      "Warning: the outcome matrix contains NaNs or other                       than 0/1 entries.\n",
      "Warning: the outcome matrix contains NaNs or other                       than 0/1 entries.\n",
      "Dropped  6  time periods with no outcome variations\n",
      "Warning: the outcome matrix contains NaNs or other                       than 0/1 entries.\n",
      "Warning: the outcome matrix contains NaNs or other                       than 0/1 entries.\n",
      "Dropped  7  time periods with no outcome variations\n"
     ]
    },
    {
     "name": "stderr",
     "output_type": "stream",
     "text": [
      "\r",
      " 20%|████████▎                                | 102/500 [00:08<00:32, 12.38it/s]"
     ]
    },
    {
     "name": "stdout",
     "output_type": "stream",
     "text": [
      "Warning: the outcome matrix contains NaNs or other                       than 0/1 entries.\n",
      "Warning: the outcome matrix contains NaNs or other                       than 0/1 entries.\n",
      "Dropped  7  time periods with no outcome variations\n",
      "Warning: the outcome matrix contains NaNs or other                       than 0/1 entries.\n",
      "Dropped  2  time periods with no outcome variations\n",
      "Warning: the outcome matrix contains NaNs or other                       than 0/1 entries.\n",
      "Dropped  7  time periods with no outcome variations\n",
      "Warning: the outcome matrix contains NaNs or other                       than 0/1 entries.\n"
     ]
    },
    {
     "name": "stderr",
     "output_type": "stream",
     "text": [
      " 21%|████████▋                                | 106/500 [00:08<00:32, 12.31it/s]"
     ]
    },
    {
     "name": "stdout",
     "output_type": "stream",
     "text": [
      "Warning: the outcome matrix contains NaNs or other                       than 0/1 entries.\n",
      "Warning: the outcome matrix contains NaNs or other                       than 0/1 entries.\n",
      "Warning: the outcome matrix contains NaNs or other                       than 0/1 entries.\n",
      "Dropped  9  time periods with no outcome variations\n",
      "Warning: the outcome matrix contains NaNs or other                       than 0/1 entries.\n",
      "Warning: the outcome matrix contains NaNs or other                       than 0/1 entries.\n"
     ]
    },
    {
     "name": "stderr",
     "output_type": "stream",
     "text": [
      "\r",
      " 22%|████████▊                                | 108/500 [00:09<00:31, 12.28it/s]"
     ]
    },
    {
     "name": "stdout",
     "output_type": "stream",
     "text": [
      "Warning: the outcome matrix contains NaNs or other                       than 0/1 entries.\n",
      "Warning: the outcome matrix contains NaNs or other                       than 0/1 entries.\n",
      "Dropped  6  time periods with no outcome variations\n",
      "Warning: the outcome matrix contains NaNs or other                       than 0/1 entries.\n",
      "Dropped  1  time periods with no outcome variations\n",
      "Warning: the outcome matrix contains NaNs or other                       than 0/1 entries.\n",
      "Warning: the outcome matrix contains NaNs or other                       than 0/1 entries.\n"
     ]
    },
    {
     "name": "stderr",
     "output_type": "stream",
     "text": [
      "\r",
      " 22%|█████████                                | 110/500 [00:09<00:31, 12.31it/s]"
     ]
    },
    {
     "name": "stdout",
     "output_type": "stream",
     "text": [
      "Warning: the outcome matrix contains NaNs or other                       than 0/1 entries.\n",
      "Warning: the outcome matrix contains NaNs or other                       than 0/1 entries.\n",
      "Warning: the outcome matrix contains NaNs or other                       than 0/1 entries.\n",
      "Dropped  7  time periods with no outcome variations\n",
      "Warning: the outcome matrix contains NaNs or other                       than 0/1 entries.\n",
      "Warning: the outcome matrix contains NaNs or other                       than 0/1 entries.\n",
      "Dropped  1  time periods with no outcome variations\n",
      "Warning: the outcome matrix contains NaNs or other                       than 0/1 entries.\n",
      "Dropped  1  time periods with no outcome variations\n"
     ]
    },
    {
     "name": "stderr",
     "output_type": "stream",
     "text": [
      " 23%|█████████▎                               | 114/500 [00:09<00:31, 12.41it/s]"
     ]
    },
    {
     "name": "stdout",
     "output_type": "stream",
     "text": [
      "Warning: the outcome matrix contains NaNs or other                       than 0/1 entries.\n",
      "Warning: the outcome matrix contains NaNs or other                       than 0/1 entries.\n",
      "Warning: the outcome matrix contains NaNs or other                       than 0/1 entries.\n",
      "Warning: the outcome matrix contains NaNs or other                       than 0/1 entries.\n",
      "Warning: the outcome matrix contains NaNs or other                       than 0/1 entries.\n"
     ]
    },
    {
     "name": "stderr",
     "output_type": "stream",
     "text": [
      "\r",
      " 23%|█████████▌                               | 116/500 [00:09<00:31, 12.32it/s]"
     ]
    },
    {
     "name": "stdout",
     "output_type": "stream",
     "text": [
      "Warning: the outcome matrix contains NaNs or other                       than 0/1 entries.\n",
      "Warning: the outcome matrix contains NaNs or other                       than 0/1 entries.\n",
      "Warning: the outcome matrix contains NaNs or other                       than 0/1 entries.\n",
      "Warning: the outcome matrix contains NaNs or other                       than 0/1 entries.\n",
      "Warning: the outcome matrix contains NaNs or other                       than 0/1 entries.\n",
      "Warning: the outcome matrix contains NaNs or other                       than 0/1 entries.\n",
      "Dropped  1  time periods with no outcome variations\n"
     ]
    },
    {
     "name": "stderr",
     "output_type": "stream",
     "text": [
      "\r",
      " 24%|█████████▋                               | 118/500 [00:09<00:30, 12.48it/s]"
     ]
    },
    {
     "name": "stdout",
     "output_type": "stream",
     "text": [
      "Warning: the outcome matrix contains NaNs or other                       than 0/1 entries.\n",
      "Warning: the outcome matrix contains NaNs or other                       than 0/1 entries.\n",
      "Warning: the outcome matrix contains NaNs or other                       than 0/1 entries.\n",
      "Warning: the outcome matrix contains NaNs or other                       than 0/1 entries.\n",
      "Warning: the outcome matrix contains NaNs or other                       than 0/1 entries.\n",
      "Warning: the outcome matrix contains NaNs or other                       than 0/1 entries.\n",
      "Dropped  9  time periods with no outcome variations\n"
     ]
    },
    {
     "name": "stderr",
     "output_type": "stream",
     "text": [
      " 24%|██████████                               | 122/500 [00:10<00:30, 12.48it/s]"
     ]
    },
    {
     "name": "stdout",
     "output_type": "stream",
     "text": [
      "Warning: the outcome matrix contains NaNs or other                       than 0/1 entries.\n",
      "Warning: the outcome matrix contains NaNs or other                       than 0/1 entries.\n",
      "Dropped  9  time periods with no outcome variations\n",
      "Warning: the outcome matrix contains NaNs or other                       than 0/1 entries.\n",
      "Warning: the outcome matrix contains NaNs or other                       than 0/1 entries.\n",
      "Warning: the outcome matrix contains NaNs or other                       than 0/1 entries.\n",
      "Warning: the outcome matrix contains NaNs or other                       than 0/1 entries.\n",
      "Dropped  7  time periods with no outcome variations\n"
     ]
    },
    {
     "name": "stderr",
     "output_type": "stream",
     "text": [
      "\r",
      " 25%|██████████▏                              | 124/500 [00:10<00:29, 12.67it/s]"
     ]
    },
    {
     "name": "stdout",
     "output_type": "stream",
     "text": [
      "Warning: the outcome matrix contains NaNs or other                       than 0/1 entries.\n",
      "Warning: the outcome matrix contains NaNs or other                       than 0/1 entries.\n",
      "Dropped  7  time periods with no outcome variations\n",
      "Warning: the outcome matrix contains NaNs or other                       than 0/1 entries.\n",
      "Warning: the outcome matrix contains NaNs or other                       than 0/1 entries.\n",
      "Dropped  6  time periods with no outcome variations\n",
      "Warning: the outcome matrix contains NaNs or other                       than 0/1 entries.\n"
     ]
    },
    {
     "name": "stderr",
     "output_type": "stream",
     "text": [
      "\r",
      " 25%|██████████▎                              | 126/500 [00:10<00:30, 12.42it/s]"
     ]
    },
    {
     "name": "stdout",
     "output_type": "stream",
     "text": [
      "Warning: the outcome matrix contains NaNs or other                       than 0/1 entries.\n",
      "Warning: the outcome matrix contains NaNs or other                       than 0/1 entries.\n",
      "Warning: the outcome matrix contains NaNs or other                       than 0/1 entries.\n",
      "Warning: the outcome matrix contains NaNs or other                       than 0/1 entries.\n",
      "Warning: the outcome matrix contains NaNs or other                       than 0/1 entries.\n",
      "Dropped  7  time periods with no outcome variations\n"
     ]
    },
    {
     "name": "stderr",
     "output_type": "stream",
     "text": [
      " 26%|██████████▋                              | 130/500 [00:10<00:30, 12.12it/s]"
     ]
    },
    {
     "name": "stdout",
     "output_type": "stream",
     "text": [
      "Warning: the outcome matrix contains NaNs or other                       than 0/1 entries.\n",
      "Warning: the outcome matrix contains NaNs or other                       than 0/1 entries.\n",
      "Warning: the outcome matrix contains NaNs or other                       than 0/1 entries.\n",
      "Dropped  1  time periods with no outcome variations\n",
      "Warning: the outcome matrix contains NaNs or other                       than 0/1 entries.\n",
      "Warning: the outcome matrix contains NaNs or other                       than 0/1 entries.\n",
      "Warning: the outcome matrix contains NaNs or other                       than 0/1 entries.\n"
     ]
    },
    {
     "name": "stderr",
     "output_type": "stream",
     "text": [
      "\r",
      " 26%|██████████▊                              | 132/500 [00:11<00:30, 12.14it/s]"
     ]
    },
    {
     "name": "stdout",
     "output_type": "stream",
     "text": [
      "Warning: the outcome matrix contains NaNs or other                       than 0/1 entries.\n",
      "Warning: the outcome matrix contains NaNs or other                       than 0/1 entries.\n",
      "Dropped  6  time periods with no outcome variations\n",
      "Warning: the outcome matrix contains NaNs or other                       than 0/1 entries.\n",
      "Warning: the outcome matrix contains NaNs or other                       than 0/1 entries.\n",
      "Warning: the outcome matrix contains NaNs or other                       than 0/1 entries.\n",
      "Warning: the outcome matrix contains NaNs or other                       than 0/1 entries.\n"
     ]
    },
    {
     "name": "stderr",
     "output_type": "stream",
     "text": [
      " 27%|███████████▏                             | 136/500 [00:11<00:29, 12.35it/s]"
     ]
    },
    {
     "name": "stdout",
     "output_type": "stream",
     "text": [
      "Warning: the outcome matrix contains NaNs or other                       than 0/1 entries.\n",
      "Warning: the outcome matrix contains NaNs or other                       than 0/1 entries.\n",
      "Warning: the outcome matrix contains NaNs or other                       than 0/1 entries.\n",
      "Warning: the outcome matrix contains NaNs or other                       than 0/1 entries.\n",
      "Warning: the outcome matrix contains NaNs or other                       than 0/1 entries.\n",
      "Warning: the outcome matrix contains NaNs or other                       than 0/1 entries.\n"
     ]
    },
    {
     "name": "stderr",
     "output_type": "stream",
     "text": [
      "\r",
      " 28%|███████████▎                             | 138/500 [00:11<00:29, 12.11it/s]"
     ]
    },
    {
     "name": "stdout",
     "output_type": "stream",
     "text": [
      "Warning: the outcome matrix contains NaNs or other                       than 0/1 entries.\n",
      "Warning: the outcome matrix contains NaNs or other                       than 0/1 entries.\n",
      "Warning: the outcome matrix contains NaNs or other                       than 0/1 entries.\n",
      "Dropped  1  time periods with no outcome variations\n",
      "Warning: the outcome matrix contains NaNs or other                       than 0/1 entries.\n",
      "Dropped  6  time periods with no outcome variations\n",
      "Warning: the outcome matrix contains NaNs or other                       than 0/1 entries.\n",
      "Dropped  1  time periods with no outcome variations\n"
     ]
    },
    {
     "name": "stderr",
     "output_type": "stream",
     "text": [
      "\r",
      " 28%|███████████▍                             | 140/500 [00:11<00:30, 11.90it/s]"
     ]
    },
    {
     "name": "stdout",
     "output_type": "stream",
     "text": [
      "Warning: the outcome matrix contains NaNs or other                       than 0/1 entries.\n",
      "Warning: the outcome matrix contains NaNs or other                       than 0/1 entries.\n",
      "Warning: the outcome matrix contains NaNs or other                       than 0/1 entries.\n",
      "Dropped  8  time periods with no outcome variations\n",
      "Warning: the outcome matrix contains NaNs or other                       than 0/1 entries.\n",
      "Warning: the outcome matrix contains NaNs or other                       than 0/1 entries.\n",
      "Dropped  6  time periods with no outcome variations\n"
     ]
    },
    {
     "name": "stderr",
     "output_type": "stream",
     "text": [
      " 29%|███████████▊                             | 144/500 [00:12<00:30, 11.63it/s]"
     ]
    },
    {
     "name": "stdout",
     "output_type": "stream",
     "text": [
      "Warning: the outcome matrix contains NaNs or other                       than 0/1 entries.\n",
      "Dropped  1  time periods with no outcome variations\n",
      "Warning: the outcome matrix contains NaNs or other                       than 0/1 entries.\n",
      "Dropped  6  time periods with no outcome variations\n",
      "Warning: the outcome matrix contains NaNs or other                       than 0/1 entries.\n",
      "Warning: the outcome matrix contains NaNs or other                       than 0/1 entries.\n",
      "Dropped  1  time periods with no outcome variations\n",
      "Warning: the outcome matrix contains NaNs or other                       than 0/1 entries.\n"
     ]
    },
    {
     "name": "stderr",
     "output_type": "stream",
     "text": [
      "\r",
      " 29%|███████████▉                             | 146/500 [00:12<00:29, 11.83it/s]"
     ]
    },
    {
     "name": "stdout",
     "output_type": "stream",
     "text": [
      "Warning: the outcome matrix contains NaNs or other                       than 0/1 entries.\n",
      "Dropped  10  time periods with no outcome variations\n",
      "Warning: the outcome matrix contains NaNs or other                       than 0/1 entries.\n",
      "Warning: the outcome matrix contains NaNs or other                       than 0/1 entries.\n",
      "Warning: the outcome matrix contains NaNs or other                       than 0/1 entries.\n",
      "Warning: the outcome matrix contains NaNs or other                       than 0/1 entries.\n"
     ]
    },
    {
     "name": "stderr",
     "output_type": "stream",
     "text": [
      "\r",
      " 30%|████████████▏                            | 148/500 [00:12<00:29, 11.79it/s]"
     ]
    },
    {
     "name": "stdout",
     "output_type": "stream",
     "text": [
      "Warning: the outcome matrix contains NaNs or other                       than 0/1 entries.\n",
      "Warning: the outcome matrix contains NaNs or other                       than 0/1 entries.\n",
      "Dropped  7  time periods with no outcome variations\n",
      "Warning: the outcome matrix contains NaNs or other                       than 0/1 entries.\n",
      "Warning: the outcome matrix contains NaNs or other                       than 0/1 entries.\n",
      "Dropped  7  time periods with no outcome variations\n",
      "Warning: the outcome matrix contains NaNs or other                       than 0/1 entries.\n",
      "Dropped  2  time periods with no outcome variations\n",
      "Warning: the outcome matrix contains NaNs or other                       than 0/1 entries.\n"
     ]
    },
    {
     "name": "stderr",
     "output_type": "stream",
     "text": [
      " 30%|████████████▍                            | 152/500 [00:12<00:29, 11.64it/s]"
     ]
    },
    {
     "name": "stdout",
     "output_type": "stream",
     "text": [
      "Warning: the outcome matrix contains NaNs or other                       than 0/1 entries.\n",
      "Warning: the outcome matrix contains NaNs or other                       than 0/1 entries.\n",
      "Warning: the outcome matrix contains NaNs or other                       than 0/1 entries.\n",
      "Warning: the outcome matrix contains NaNs or other                       than 0/1 entries.\n",
      "Dropped  8  time periods with no outcome variations\n",
      "Warning: the outcome matrix contains NaNs or other                       than 0/1 entries.\n"
     ]
    },
    {
     "name": "stderr",
     "output_type": "stream",
     "text": [
      "\r",
      " 31%|████████████▋                            | 154/500 [00:12<00:29, 11.73it/s]"
     ]
    },
    {
     "name": "stdout",
     "output_type": "stream",
     "text": [
      "Warning: the outcome matrix contains NaNs or other                       than 0/1 entries.\n",
      "Warning: the outcome matrix contains NaNs or other                       than 0/1 entries.\n",
      "Dropped  1  time periods with no outcome variations\n",
      "Warning: the outcome matrix contains NaNs or other                       than 0/1 entries.\n",
      "Warning: the outcome matrix contains NaNs or other                       than 0/1 entries.\n",
      "Warning: the outcome matrix contains NaNs or other                       than 0/1 entries.\n"
     ]
    },
    {
     "name": "stderr",
     "output_type": "stream",
     "text": [
      "\r",
      " 31%|████████████▊                            | 156/500 [00:13<00:29, 11.79it/s]"
     ]
    },
    {
     "name": "stdout",
     "output_type": "stream",
     "text": [
      "Warning: the outcome matrix contains NaNs or other                       than 0/1 entries.\n",
      "Warning: the outcome matrix contains NaNs or other                       than 0/1 entries.\n",
      "Warning: the outcome matrix contains NaNs or other                       than 0/1 entries.\n",
      "Warning: the outcome matrix contains NaNs or other                       than 0/1 entries.\n",
      "Warning: the outcome matrix contains NaNs or other                       than 0/1 entries.\n"
     ]
    },
    {
     "name": "stderr",
     "output_type": "stream",
     "text": [
      " 32%|█████████████                            | 160/500 [00:13<00:27, 12.20it/s]"
     ]
    },
    {
     "name": "stdout",
     "output_type": "stream",
     "text": [
      "Warning: the outcome matrix contains NaNs or other                       than 0/1 entries.\n",
      "Dropped  8  time periods with no outcome variations\n",
      "Warning: the outcome matrix contains NaNs or other                       than 0/1 entries.\n",
      "Dropped  3  time periods with no outcome variations\n",
      "Warning: the outcome matrix contains NaNs or other                       than 0/1 entries.\n",
      "Warning: the outcome matrix contains NaNs or other                       than 0/1 entries.\n",
      "Warning: the outcome matrix contains NaNs or other                       than 0/1 entries.\n"
     ]
    },
    {
     "name": "stderr",
     "output_type": "stream",
     "text": [
      "\r",
      " 32%|█████████████▎                           | 162/500 [00:13<00:27, 12.24it/s]"
     ]
    },
    {
     "name": "stdout",
     "output_type": "stream",
     "text": [
      "Warning: the outcome matrix contains NaNs or other                       than 0/1 entries.\n",
      "Warning: the outcome matrix contains NaNs or other                       than 0/1 entries.\n",
      "Warning: the outcome matrix contains NaNs or other                       than 0/1 entries.\n",
      "Dropped  1  time periods with no outcome variations\n",
      "Warning: the outcome matrix contains NaNs or other                       than 0/1 entries.\n",
      "Dropped  8  time periods with no outcome variations\n",
      "Warning: the outcome matrix contains NaNs or other                       than 0/1 entries.\n",
      "Warning: the outcome matrix contains NaNs or other                       than 0/1 entries.\n",
      "Dropped  6  time periods with no outcome variations\n"
     ]
    },
    {
     "name": "stderr",
     "output_type": "stream",
     "text": [
      "\r",
      " 33%|█████████████▍                           | 164/500 [00:13<00:27, 12.20it/s]"
     ]
    },
    {
     "name": "stdout",
     "output_type": "stream",
     "text": [
      "Warning: the outcome matrix contains NaNs or other                       than 0/1 entries.\n",
      "Dropped  1  time periods with no outcome variations\n",
      "Warning: the outcome matrix contains NaNs or other                       than 0/1 entries.\n",
      "Warning: the outcome matrix contains NaNs or other                       than 0/1 entries.\n",
      "Warning: the outcome matrix contains NaNs or other                       than 0/1 entries.\n",
      "Dropped  1  time periods with no outcome variations\n",
      "Warning: the outcome matrix contains NaNs or other                       than 0/1 entries.\n",
      "Warning: the outcome matrix contains NaNs or other                       than 0/1 entries.\n",
      "Dropped  1  time periods with no outcome variations\n"
     ]
    },
    {
     "name": "stderr",
     "output_type": "stream",
     "text": [
      " 34%|█████████████▊                           | 168/500 [00:14<00:27, 12.09it/s]"
     ]
    },
    {
     "name": "stdout",
     "output_type": "stream",
     "text": [
      "Warning: the outcome matrix contains NaNs or other                       than 0/1 entries.\n",
      "Warning: the outcome matrix contains NaNs or other                       than 0/1 entries.\n",
      "Warning: the outcome matrix contains NaNs or other                       than 0/1 entries.\n",
      "Dropped  1  time periods with no outcome variations\n",
      "Warning: the outcome matrix contains NaNs or other                       than 0/1 entries.\n",
      "Warning: the outcome matrix contains NaNs or other                       than 0/1 entries.\n",
      "Warning: the outcome matrix contains NaNs or other                       than 0/1 entries.\n"
     ]
    },
    {
     "name": "stderr",
     "output_type": "stream",
     "text": [
      "\r",
      " 34%|█████████████▉                           | 170/500 [00:14<00:26, 12.43it/s]"
     ]
    },
    {
     "name": "stdout",
     "output_type": "stream",
     "text": [
      "Warning: the outcome matrix contains NaNs or other                       than 0/1 entries.\n",
      "Dropped  1  time periods with no outcome variations\n",
      "Warning: the outcome matrix contains NaNs or other                       than 0/1 entries.\n",
      "Dropped  11  time periods with no outcome variations\n",
      "Warning: the outcome matrix contains NaNs or other                       than 0/1 entries.\n",
      "Warning: the outcome matrix contains NaNs or other                       than 0/1 entries.\n",
      "Warning: the outcome matrix contains NaNs or other                       than 0/1 entries.\n",
      "Warning: the outcome matrix contains NaNs or other                       than 0/1 entries.\n"
     ]
    },
    {
     "name": "stderr",
     "output_type": "stream",
     "text": [
      " 35%|██████████████▎                          | 174/500 [00:14<00:27, 11.97it/s]"
     ]
    },
    {
     "name": "stdout",
     "output_type": "stream",
     "text": [
      "Warning: the outcome matrix contains NaNs or other                       than 0/1 entries.\n",
      "Warning: the outcome matrix contains NaNs or other                       than 0/1 entries.\n",
      "Dropped  7  time periods with no outcome variations\n",
      "Warning: the outcome matrix contains NaNs or other                       than 0/1 entries.\n",
      "Warning: the outcome matrix contains NaNs or other                       than 0/1 entries.\n",
      "Dropped  11  time periods with no outcome variations\n",
      "Warning: the outcome matrix contains NaNs or other                       than 0/1 entries.\n",
      "Dropped  1  time periods with no outcome variations\n",
      "Warning: the outcome matrix contains NaNs or other                       than 0/1 entries.\n"
     ]
    },
    {
     "name": "stderr",
     "output_type": "stream",
     "text": [
      "\r",
      " 35%|██████████████▍                          | 176/500 [00:14<00:26, 12.18it/s]"
     ]
    },
    {
     "name": "stdout",
     "output_type": "stream",
     "text": [
      "Warning: the outcome matrix contains NaNs or other                       than 0/1 entries.\n",
      "Warning: the outcome matrix contains NaNs or other                       than 0/1 entries.\n",
      "Dropped  7  time periods with no outcome variations\n",
      "Warning: the outcome matrix contains NaNs or other                       than 0/1 entries.\n",
      "Dropped  1  time periods with no outcome variations\n",
      "Warning: the outcome matrix contains NaNs or other                       than 0/1 entries.\n",
      "Warning: the outcome matrix contains NaNs or other                       than 0/1 entries.\n",
      "Warning: the outcome matrix contains NaNs or other                       than 0/1 entries.\n"
     ]
    },
    {
     "name": "stderr",
     "output_type": "stream",
     "text": [
      " 36%|██████████████▊                          | 180/500 [00:15<00:27, 11.57it/s]"
     ]
    },
    {
     "name": "stdout",
     "output_type": "stream",
     "text": [
      "Warning: the outcome matrix contains NaNs or other                       than 0/1 entries.\n",
      "Warning: the outcome matrix contains NaNs or other                       than 0/1 entries.\n",
      "Dropped  6  time periods with no outcome variations\n",
      "Warning: the outcome matrix contains NaNs or other                       than 0/1 entries.\n",
      "Warning: the outcome matrix contains NaNs or other                       than 0/1 entries.\n",
      "Dropped  6  time periods with no outcome variations\n",
      "Warning: the outcome matrix contains NaNs or other                       than 0/1 entries.\n",
      "Dropped  1  time periods with no outcome variations\n"
     ]
    },
    {
     "name": "stderr",
     "output_type": "stream",
     "text": [
      "\r",
      " 36%|██████████████▉                          | 182/500 [00:15<00:27, 11.62it/s]"
     ]
    },
    {
     "name": "stdout",
     "output_type": "stream",
     "text": [
      "Warning: the outcome matrix contains NaNs or other                       than 0/1 entries.\n",
      "Dropped  1  time periods with no outcome variations\n",
      "Warning: the outcome matrix contains NaNs or other                       than 0/1 entries.\n",
      "Dropped  1  time periods with no outcome variations\n",
      "Warning: the outcome matrix contains NaNs or other                       than 0/1 entries.\n",
      "Dropped  9  time periods with no outcome variations\n",
      "Warning: the outcome matrix contains NaNs or other                       than 0/1 entries.\n",
      "Warning: the outcome matrix contains NaNs or other                       than 0/1 entries.\n",
      "Dropped  7  time periods with no outcome variations\n"
     ]
    },
    {
     "name": "stderr",
     "output_type": "stream",
     "text": [
      "\r",
      " 37%|███████████████                          | 184/500 [00:15<00:26, 11.72it/s]"
     ]
    },
    {
     "name": "stdout",
     "output_type": "stream",
     "text": [
      "Warning: the outcome matrix contains NaNs or other                       than 0/1 entries.\n",
      "Warning: the outcome matrix contains NaNs or other                       than 0/1 entries.\n",
      "Warning: the outcome matrix contains NaNs or other                       than 0/1 entries.\n",
      "Dropped  1  time periods with no outcome variations\n",
      "Warning: the outcome matrix contains NaNs or other                       than 0/1 entries.\n",
      "Warning: the outcome matrix contains NaNs or other                       than 0/1 entries.\n",
      "Dropped  2  time periods with no outcome variations\n"
     ]
    },
    {
     "name": "stderr",
     "output_type": "stream",
     "text": [
      "\r",
      " 37%|███████████████▎                         | 186/500 [00:15<00:26, 11.88it/s]"
     ]
    },
    {
     "name": "stdout",
     "output_type": "stream",
     "text": [
      "Warning: the outcome matrix contains NaNs or other                       than 0/1 entries.\n",
      "Dropped  9  time periods with no outcome variations\n",
      "Warning: the outcome matrix contains NaNs or other                       than 0/1 entries.\n",
      "Warning: the outcome matrix contains NaNs or other                       than 0/1 entries.\n",
      "Warning: the outcome matrix contains NaNs or other                       than 0/1 entries.\n",
      "Warning: the outcome matrix contains NaNs or other                       than 0/1 entries.\n"
     ]
    },
    {
     "name": "stderr",
     "output_type": "stream",
     "text": [
      " 38%|███████████████▌                         | 190/500 [00:15<00:26, 11.66it/s]"
     ]
    },
    {
     "name": "stdout",
     "output_type": "stream",
     "text": [
      "Warning: the outcome matrix contains NaNs or other                       than 0/1 entries.\n",
      "Dropped  1  time periods with no outcome variations\n",
      "Warning: the outcome matrix contains NaNs or other                       than 0/1 entries.\n",
      "Warning: the outcome matrix contains NaNs or other                       than 0/1 entries.\n",
      "Warning: the outcome matrix contains NaNs or other                       than 0/1 entries.\n",
      "Dropped  1  time periods with no outcome variations\n",
      "Warning: the outcome matrix contains NaNs or other                       than 0/1 entries.\n"
     ]
    },
    {
     "name": "stderr",
     "output_type": "stream",
     "text": [
      "\r",
      " 38%|███████████████▋                         | 192/500 [00:16<00:25, 11.97it/s]"
     ]
    },
    {
     "name": "stdout",
     "output_type": "stream",
     "text": [
      "Warning: the outcome matrix contains NaNs or other                       than 0/1 entries.\n",
      "Warning: the outcome matrix contains NaNs or other                       than 0/1 entries.\n",
      "Dropped  2  time periods with no outcome variations\n",
      "Warning: the outcome matrix contains NaNs or other                       than 0/1 entries.\n",
      "Warning: the outcome matrix contains NaNs or other                       than 0/1 entries.\n",
      "Dropped  1  time periods with no outcome variations\n",
      "Warning: the outcome matrix contains NaNs or other                       than 0/1 entries.\n",
      "Dropped  7  time periods with no outcome variations\n",
      "Warning: the outcome matrix contains NaNs or other                       than 0/1 entries.\n",
      "Dropped  2  time periods with no outcome variations\n"
     ]
    },
    {
     "name": "stderr",
     "output_type": "stream",
     "text": [
      " 39%|████████████████                         | 196/500 [00:16<00:24, 12.26it/s]"
     ]
    },
    {
     "name": "stdout",
     "output_type": "stream",
     "text": [
      "Warning: the outcome matrix contains NaNs or other                       than 0/1 entries.\n",
      "Warning: the outcome matrix contains NaNs or other                       than 0/1 entries.\n",
      "Warning: the outcome matrix contains NaNs or other                       than 0/1 entries.\n",
      "Warning: the outcome matrix contains NaNs or other                       than 0/1 entries.\n",
      "Dropped  4  time periods with no outcome variations\n",
      "Warning: the outcome matrix contains NaNs or other                       than 0/1 entries.\n"
     ]
    },
    {
     "name": "stderr",
     "output_type": "stream",
     "text": [
      "\r",
      " 40%|████████████████▏                        | 198/500 [00:16<00:24, 12.15it/s]"
     ]
    },
    {
     "name": "stdout",
     "output_type": "stream",
     "text": [
      "Warning: the outcome matrix contains NaNs or other                       than 0/1 entries.\n",
      "Warning: the outcome matrix contains NaNs or other                       than 0/1 entries.\n",
      "Dropped  6  time periods with no outcome variations\n",
      "Warning: the outcome matrix contains NaNs or other                       than 0/1 entries.\n",
      "Dropped  1  time periods with no outcome variations\n",
      "Warning: the outcome matrix contains NaNs or other                       than 0/1 entries.\n",
      "Dropped  7  time periods with no outcome variations\n",
      "Warning: the outcome matrix contains NaNs or other                       than 0/1 entries.\n",
      "Warning: the outcome matrix contains NaNs or other                       than 0/1 entries.\n",
      "Dropped  7  time periods with no outcome variations\n"
     ]
    },
    {
     "name": "stderr",
     "output_type": "stream",
     "text": [
      "\r",
      " 40%|████████████████▍                        | 200/500 [00:16<00:25, 12.00it/s]"
     ]
    },
    {
     "name": "stdout",
     "output_type": "stream",
     "text": [
      "Warning: the outcome matrix contains NaNs or other                       than 0/1 entries.\n",
      "Warning: the outcome matrix contains NaNs or other                       than 0/1 entries.\n",
      "Warning: the outcome matrix contains NaNs or other                       than 0/1 entries.\n",
      "Warning: the outcome matrix contains NaNs or other                       than 0/1 entries.\n",
      "Dropped  6  time periods with no outcome variations\n",
      "Warning: the outcome matrix contains NaNs or other                       than 0/1 entries.\n"
     ]
    },
    {
     "name": "stderr",
     "output_type": "stream",
     "text": [
      "\r",
      " 40%|████████████████▌                        | 202/500 [00:16<00:25, 11.65it/s]"
     ]
    },
    {
     "name": "stdout",
     "output_type": "stream",
     "text": [
      "Warning: the outcome matrix contains NaNs or other                       than 0/1 entries.\n",
      "Dropped  7  time periods with no outcome variations\n",
      "Warning: the outcome matrix contains NaNs or other                       than 0/1 entries.\n",
      "Warning: the outcome matrix contains NaNs or other                       than 0/1 entries.\n",
      "Dropped  7  time periods with no outcome variations\n",
      "Warning: the outcome matrix contains NaNs or other                       than 0/1 entries.\n",
      "Warning: the outcome matrix contains NaNs or other                       than 0/1 entries.\n",
      "Dropped  1  time periods with no outcome variations\n"
     ]
    },
    {
     "name": "stderr",
     "output_type": "stream",
     "text": [
      " 41%|████████████████▉                        | 206/500 [00:17<00:24, 11.78it/s]"
     ]
    },
    {
     "name": "stdout",
     "output_type": "stream",
     "text": [
      "Warning: the outcome matrix contains NaNs or other                       than 0/1 entries.\n",
      "Warning: the outcome matrix contains NaNs or other                       than 0/1 entries.\n",
      "Warning: the outcome matrix contains NaNs or other                       than 0/1 entries.\n",
      "Warning: the outcome matrix contains NaNs or other                       than 0/1 entries.\n",
      "Warning: the outcome matrix contains NaNs or other                       than 0/1 entries.\n",
      "Warning: the outcome matrix contains NaNs or other                       than 0/1 entries.\n"
     ]
    },
    {
     "name": "stderr",
     "output_type": "stream",
     "text": [
      "\r",
      " 42%|█████████████████                        | 208/500 [00:17<00:24, 11.83it/s]"
     ]
    },
    {
     "name": "stdout",
     "output_type": "stream",
     "text": [
      "Warning: the outcome matrix contains NaNs or other                       than 0/1 entries.\n",
      "Warning: the outcome matrix contains NaNs or other                       than 0/1 entries.\n",
      "Warning: the outcome matrix contains NaNs or other                       than 0/1 entries.\n",
      "Warning: the outcome matrix contains NaNs or other                       than 0/1 entries.\n",
      "Dropped  6  time periods with no outcome variations\n",
      "Warning: the outcome matrix contains NaNs or other                       than 0/1 entries.\n",
      "Warning: the outcome matrix contains NaNs or other                       than 0/1 entries.\n"
     ]
    },
    {
     "name": "stderr",
     "output_type": "stream",
     "text": [
      " 42%|█████████████████▍                       | 212/500 [00:17<00:23, 12.11it/s]"
     ]
    },
    {
     "name": "stdout",
     "output_type": "stream",
     "text": [
      "Warning: the outcome matrix contains NaNs or other                       than 0/1 entries.\n",
      "Warning: the outcome matrix contains NaNs or other                       than 0/1 entries.\n",
      "Warning: the outcome matrix contains NaNs or other                       than 0/1 entries.\n",
      "Warning: the outcome matrix contains NaNs or other                       than 0/1 entries.\n",
      "Dropped  6  time periods with no outcome variations\n",
      "Warning: the outcome matrix contains NaNs or other                       than 0/1 entries.\n",
      "Dropped  1  time periods with no outcome variations\n"
     ]
    },
    {
     "name": "stderr",
     "output_type": "stream",
     "text": [
      "\r",
      " 43%|█████████████████▌                       | 214/500 [00:17<00:23, 12.28it/s]"
     ]
    },
    {
     "name": "stdout",
     "output_type": "stream",
     "text": [
      "Warning: the outcome matrix contains NaNs or other                       than 0/1 entries.\n",
      "Warning: the outcome matrix contains NaNs or other                       than 0/1 entries.\n",
      "Warning: the outcome matrix contains NaNs or other                       than 0/1 entries.\n",
      "Warning: the outcome matrix contains NaNs or other                       than 0/1 entries.\n",
      "Warning: the outcome matrix contains NaNs or other                       than 0/1 entries.\n",
      "Warning: the outcome matrix contains NaNs or other                       than 0/1 entries.\n"
     ]
    },
    {
     "name": "stderr",
     "output_type": "stream",
     "text": [
      " 44%|█████████████████▉                       | 218/500 [00:18<00:22, 12.49it/s]"
     ]
    },
    {
     "name": "stdout",
     "output_type": "stream",
     "text": [
      "Warning: the outcome matrix contains NaNs or other                       than 0/1 entries.\n",
      "Warning: the outcome matrix contains NaNs or other                       than 0/1 entries.\n",
      "Warning: the outcome matrix contains NaNs or other                       than 0/1 entries.\n",
      "Warning: the outcome matrix contains NaNs or other                       than 0/1 entries.\n",
      "Dropped  2  time periods with no outcome variations\n",
      "Warning: the outcome matrix contains NaNs or other                       than 0/1 entries.\n",
      "Warning: the outcome matrix contains NaNs or other                       than 0/1 entries.\n"
     ]
    },
    {
     "name": "stderr",
     "output_type": "stream",
     "text": [
      "\r",
      " 44%|██████████████████                       | 220/500 [00:18<00:22, 12.28it/s]"
     ]
    },
    {
     "name": "stdout",
     "output_type": "stream",
     "text": [
      "Warning: the outcome matrix contains NaNs or other                       than 0/1 entries.\n",
      "Dropped  1  time periods with no outcome variations\n",
      "Warning: the outcome matrix contains NaNs or other                       than 0/1 entries.\n",
      "Warning: the outcome matrix contains NaNs or other                       than 0/1 entries.\n",
      "Warning: the outcome matrix contains NaNs or other                       than 0/1 entries.\n",
      "Dropped  1  time periods with no outcome variations\n",
      "Warning: the outcome matrix contains NaNs or other                       than 0/1 entries.\n",
      "Dropped  1  time periods with no outcome variations\n"
     ]
    },
    {
     "name": "stderr",
     "output_type": "stream",
     "text": [
      "\r",
      " 44%|██████████████████▏                      | 222/500 [00:18<00:22, 12.43it/s]"
     ]
    },
    {
     "name": "stdout",
     "output_type": "stream",
     "text": [
      "Warning: the outcome matrix contains NaNs or other                       than 0/1 entries.\n",
      "Warning: the outcome matrix contains NaNs or other                       than 0/1 entries.\n",
      "Dropped  6  time periods with no outcome variations\n",
      "Warning: the outcome matrix contains NaNs or other                       than 0/1 entries.\n",
      "Dropped  1  time periods with no outcome variations\n",
      "Warning: the outcome matrix contains NaNs or other                       than 0/1 entries.\n",
      "Dropped  7  time periods with no outcome variations\n",
      "Warning: the outcome matrix contains NaNs or other                       than 0/1 entries.\n"
     ]
    },
    {
     "name": "stderr",
     "output_type": "stream",
     "text": [
      "\r",
      " 45%|██████████████████▎                      | 224/500 [00:18<00:22, 12.05it/s]"
     ]
    },
    {
     "name": "stdout",
     "output_type": "stream",
     "text": [
      "Warning: the outcome matrix contains NaNs or other                       than 0/1 entries.\n",
      "Dropped  7  time periods with no outcome variations\n",
      "Warning: the outcome matrix contains NaNs or other                       than 0/1 entries.\n",
      "Warning: the outcome matrix contains NaNs or other                       than 0/1 entries.\n",
      "Warning: the outcome matrix contains NaNs or other                       than 0/1 entries.\n",
      "Warning: the outcome matrix contains NaNs or other                       than 0/1 entries.\n"
     ]
    },
    {
     "name": "stderr",
     "output_type": "stream",
     "text": [
      " 46%|██████████████████▋                      | 228/500 [00:19<00:22, 11.85it/s]"
     ]
    },
    {
     "name": "stdout",
     "output_type": "stream",
     "text": [
      "Warning: the outcome matrix contains NaNs or other                       than 0/1 entries.\n",
      "Warning: the outcome matrix contains NaNs or other                       than 0/1 entries.\n",
      "Dropped  8  time periods with no outcome variations\n",
      "Warning: the outcome matrix contains NaNs or other                       than 0/1 entries.\n",
      "Warning: the outcome matrix contains NaNs or other                       than 0/1 entries.\n",
      "Dropped  7  time periods with no outcome variations\n",
      "Warning: the outcome matrix contains NaNs or other                       than 0/1 entries.\n"
     ]
    },
    {
     "name": "stderr",
     "output_type": "stream",
     "text": [
      "\r",
      " 46%|██████████████████▊                      | 230/500 [00:19<00:22, 11.96it/s]"
     ]
    },
    {
     "name": "stdout",
     "output_type": "stream",
     "text": [
      "Warning: the outcome matrix contains NaNs or other                       than 0/1 entries.\n",
      "Warning: the outcome matrix contains NaNs or other                       than 0/1 entries.\n",
      "Warning: the outcome matrix contains NaNs or other                       than 0/1 entries.\n",
      "Warning: the outcome matrix contains NaNs or other                       than 0/1 entries.\n",
      "Warning: the outcome matrix contains NaNs or other                       than 0/1 entries.\n",
      "Dropped  6  time periods with no outcome variations\n",
      "Warning: the outcome matrix contains NaNs or other                       than 0/1 entries.\n",
      "Dropped  1  time periods with no outcome variations\n"
     ]
    },
    {
     "name": "stderr",
     "output_type": "stream",
     "text": [
      " 47%|███████████████████▏                     | 234/500 [00:19<00:22, 12.08it/s]"
     ]
    },
    {
     "name": "stdout",
     "output_type": "stream",
     "text": [
      "Warning: the outcome matrix contains NaNs or other                       than 0/1 entries.\n",
      "Warning: the outcome matrix contains NaNs or other                       than 0/1 entries.\n",
      "Warning: the outcome matrix contains NaNs or other                       than 0/1 entries.\n",
      "Warning: the outcome matrix contains NaNs or other                       than 0/1 entries.\n",
      "Warning: the outcome matrix contains NaNs or other                       than 0/1 entries.\n",
      "Dropped  8  time periods with no outcome variations\n"
     ]
    },
    {
     "name": "stderr",
     "output_type": "stream",
     "text": [
      "\r",
      " 47%|███████████████████▎                     | 236/500 [00:19<00:22, 11.88it/s]"
     ]
    },
    {
     "name": "stdout",
     "output_type": "stream",
     "text": [
      "Warning: the outcome matrix contains NaNs or other                       than 0/1 entries.\n",
      "Dropped  1  time periods with no outcome variations\n",
      "Warning: the outcome matrix contains NaNs or other                       than 0/1 entries.\n",
      "Warning: the outcome matrix contains NaNs or other                       than 0/1 entries.\n",
      "Dropped  2  time periods with no outcome variations\n",
      "Warning: the outcome matrix contains NaNs or other                       than 0/1 entries.\n",
      "Warning: the outcome matrix contains NaNs or other                       than 0/1 entries.\n"
     ]
    },
    {
     "name": "stderr",
     "output_type": "stream",
     "text": [
      "\r",
      " 48%|███████████████████▌                     | 238/500 [00:19<00:22, 11.76it/s]"
     ]
    },
    {
     "name": "stdout",
     "output_type": "stream",
     "text": [
      "Warning: the outcome matrix contains NaNs or other                       than 0/1 entries.\n",
      "Warning: the outcome matrix contains NaNs or other                       than 0/1 entries.\n",
      "Warning: the outcome matrix contains NaNs or other                       than 0/1 entries.\n",
      "Warning: the outcome matrix contains NaNs or other                       than 0/1 entries.\n",
      "Warning: the outcome matrix contains NaNs or other                       than 0/1 entries.\n"
     ]
    },
    {
     "name": "stderr",
     "output_type": "stream",
     "text": [
      "\r",
      " 48%|███████████████████▋                     | 240/500 [00:20<00:22, 11.61it/s]"
     ]
    },
    {
     "name": "stdout",
     "output_type": "stream",
     "text": [
      "Warning: the outcome matrix contains NaNs or other                       than 0/1 entries.\n",
      "Warning: the outcome matrix contains NaNs or other                       than 0/1 entries.\n",
      "Dropped  6  time periods with no outcome variations\n",
      "Warning: the outcome matrix contains NaNs or other                       than 0/1 entries.\n",
      "Dropped  1  time periods with no outcome variations\n",
      "Warning: the outcome matrix contains NaNs or other                       than 0/1 entries.\n",
      "Warning: the outcome matrix contains NaNs or other                       than 0/1 entries.\n"
     ]
    },
    {
     "name": "stderr",
     "output_type": "stream",
     "text": [
      "\r",
      " 48%|███████████████████▊                     | 242/500 [00:20<00:22, 11.57it/s]"
     ]
    },
    {
     "name": "stdout",
     "output_type": "stream",
     "text": [
      "Warning: the outcome matrix contains NaNs or other                       than 0/1 entries.\n",
      "Dropped  6  time periods with no outcome variations\n",
      "Warning: the outcome matrix contains NaNs or other                       than 0/1 entries.\n",
      "Dropped  1  time periods with no outcome variations\n",
      "Warning: the outcome matrix contains NaNs or other                       than 0/1 entries.\n",
      "Dropped  1  time periods with no outcome variations\n",
      "Warning: the outcome matrix contains NaNs or other                       than 0/1 entries.\n",
      "Warning: the outcome matrix contains NaNs or other                       than 0/1 entries.\n",
      "Dropped  8  time periods with no outcome variations\n"
     ]
    },
    {
     "name": "stderr",
     "output_type": "stream",
     "text": [
      " 49%|████████████████████▏                    | 246/500 [00:20<00:21, 11.88it/s]"
     ]
    },
    {
     "name": "stdout",
     "output_type": "stream",
     "text": [
      "Warning: the outcome matrix contains NaNs or other                       than 0/1 entries.\n",
      "Warning: the outcome matrix contains NaNs or other                       than 0/1 entries.\n",
      "Warning: the outcome matrix contains NaNs or other                       than 0/1 entries.\n",
      "Warning: the outcome matrix contains NaNs or other                       than 0/1 entries.\n",
      "Warning: the outcome matrix contains NaNs or other                       than 0/1 entries.\n",
      "Dropped  1  time periods with no outcome variations\n"
     ]
    },
    {
     "name": "stderr",
     "output_type": "stream",
     "text": [
      "\r",
      " 50%|████████████████████▎                    | 248/500 [00:20<00:21, 11.98it/s]"
     ]
    },
    {
     "name": "stdout",
     "output_type": "stream",
     "text": [
      "Warning: the outcome matrix contains NaNs or other                       than 0/1 entries.\n",
      "Warning: the outcome matrix contains NaNs or other                       than 0/1 entries.\n",
      "Warning: the outcome matrix contains NaNs or other                       than 0/1 entries.\n",
      "Warning: the outcome matrix contains NaNs or other                       than 0/1 entries.\n",
      "Warning: the outcome matrix contains NaNs or other                       than 0/1 entries.\n",
      "Warning: the outcome matrix contains NaNs or other                       than 0/1 entries.\n"
     ]
    },
    {
     "name": "stderr",
     "output_type": "stream",
     "text": [
      "\r",
      " 50%|████████████████████▌                    | 250/500 [00:20<00:20, 12.00it/s]"
     ]
    },
    {
     "name": "stdout",
     "output_type": "stream",
     "text": [
      "Warning: the outcome matrix contains NaNs or other                       than 0/1 entries.\n",
      "Warning: the outcome matrix contains NaNs or other                       than 0/1 entries.\n",
      "Warning: the outcome matrix contains NaNs or other                       than 0/1 entries.\n",
      "Warning: the outcome matrix contains NaNs or other                       than 0/1 entries.\n",
      "Warning: the outcome matrix contains NaNs or other                       than 0/1 entries.\n"
     ]
    },
    {
     "name": "stderr",
     "output_type": "stream",
     "text": [
      " 51%|████████████████████▊                    | 254/500 [00:21<00:20, 12.07it/s]"
     ]
    },
    {
     "name": "stdout",
     "output_type": "stream",
     "text": [
      "Warning: the outcome matrix contains NaNs or other                       than 0/1 entries.\n",
      "Warning: the outcome matrix contains NaNs or other                       than 0/1 entries.\n",
      "Warning: the outcome matrix contains NaNs or other                       than 0/1 entries.\n",
      "Warning: the outcome matrix contains NaNs or other                       than 0/1 entries.\n",
      "Dropped  7  time periods with no outcome variations\n",
      "Warning: the outcome matrix contains NaNs or other                       than 0/1 entries.\n",
      "Warning: the outcome matrix contains NaNs or other                       than 0/1 entries.\n",
      "Dropped  7  time periods with no outcome variations\n"
     ]
    },
    {
     "name": "stderr",
     "output_type": "stream",
     "text": [
      "\r",
      " 51%|████████████████████▉                    | 256/500 [00:21<00:20, 11.97it/s]"
     ]
    },
    {
     "name": "stdout",
     "output_type": "stream",
     "text": [
      "Warning: the outcome matrix contains NaNs or other                       than 0/1 entries.\n",
      "Warning: the outcome matrix contains NaNs or other                       than 0/1 entries.\n",
      "Warning: the outcome matrix contains NaNs or other                       than 0/1 entries.\n",
      "Warning: the outcome matrix contains NaNs or other                       than 0/1 entries.\n",
      "Warning: the outcome matrix contains NaNs or other                       than 0/1 entries.\n"
     ]
    },
    {
     "name": "stderr",
     "output_type": "stream",
     "text": [
      "\r",
      " 52%|█████████████████████▏                   | 258/500 [00:21<00:20, 11.69it/s]"
     ]
    },
    {
     "name": "stdout",
     "output_type": "stream",
     "text": [
      "Warning: the outcome matrix contains NaNs or other                       than 0/1 entries.\n",
      "Warning: the outcome matrix contains NaNs or other                       than 0/1 entries.\n",
      "Warning: the outcome matrix contains NaNs or other                       than 0/1 entries.\n",
      "Dropped  6  time periods with no outcome variations\n",
      "Warning: the outcome matrix contains NaNs or other                       than 0/1 entries.\n",
      "Warning: the outcome matrix contains NaNs or other                       than 0/1 entries.\n"
     ]
    },
    {
     "name": "stderr",
     "output_type": "stream",
     "text": [
      " 52%|█████████████████████▍                   | 262/500 [00:21<00:20, 11.89it/s]"
     ]
    },
    {
     "name": "stdout",
     "output_type": "stream",
     "text": [
      "Warning: the outcome matrix contains NaNs or other                       than 0/1 entries.\n",
      "Warning: the outcome matrix contains NaNs or other                       than 0/1 entries.\n",
      "Dropped  7  time periods with no outcome variations\n",
      "Warning: the outcome matrix contains NaNs or other                       than 0/1 entries.\n",
      "Warning: the outcome matrix contains NaNs or other                       than 0/1 entries.\n",
      "Warning: the outcome matrix contains NaNs or other                       than 0/1 entries.\n",
      "Dropped  1  time periods with no outcome variations\n"
     ]
    },
    {
     "name": "stderr",
     "output_type": "stream",
     "text": [
      "\r",
      " 53%|█████████████████████▋                   | 264/500 [00:22<00:19, 12.00it/s]"
     ]
    },
    {
     "name": "stdout",
     "output_type": "stream",
     "text": [
      "Warning: the outcome matrix contains NaNs or other                       than 0/1 entries.\n",
      "Dropped  6  time periods with no outcome variations\n",
      "Warning: the outcome matrix contains NaNs or other                       than 0/1 entries.\n",
      "Dropped  1  time periods with no outcome variations\n",
      "Warning: the outcome matrix contains NaNs or other                       than 0/1 entries.\n",
      "Warning: the outcome matrix contains NaNs or other                       than 0/1 entries.\n",
      "Warning: the outcome matrix contains NaNs or other                       than 0/1 entries.\n"
     ]
    },
    {
     "name": "stderr",
     "output_type": "stream",
     "text": [
      "\r",
      " 53%|█████████████████████▊                   | 266/500 [00:22<00:19, 11.96it/s]"
     ]
    },
    {
     "name": "stdout",
     "output_type": "stream",
     "text": [
      "Warning: the outcome matrix contains NaNs or other                       than 0/1 entries.\n",
      "Warning: the outcome matrix contains NaNs or other                       than 0/1 entries.\n",
      "Dropped  8  time periods with no outcome variations\n",
      "Warning: the outcome matrix contains NaNs or other                       than 0/1 entries.\n",
      "Dropped  1  time periods with no outcome variations\n",
      "Warning: the outcome matrix contains NaNs or other                       than 0/1 entries.\n",
      "Warning: the outcome matrix contains NaNs or other                       than 0/1 entries.\n"
     ]
    },
    {
     "name": "stderr",
     "output_type": "stream",
     "text": [
      " 54%|██████████████████████▏                  | 270/500 [00:22<00:18, 12.32it/s]"
     ]
    },
    {
     "name": "stdout",
     "output_type": "stream",
     "text": [
      "Warning: the outcome matrix contains NaNs or other                       than 0/1 entries.\n",
      "Warning: the outcome matrix contains NaNs or other                       than 0/1 entries.\n",
      "Warning: the outcome matrix contains NaNs or other                       than 0/1 entries.\n",
      "Warning: the outcome matrix contains NaNs or other                       than 0/1 entries.\n",
      "Dropped  1  time periods with no outcome variations\n",
      "Warning: the outcome matrix contains NaNs or other                       than 0/1 entries.\n",
      "Dropped  6  time periods with no outcome variations\n",
      "Warning: the outcome matrix contains NaNs or other                       than 0/1 entries.\n",
      "Dropped  2  time periods with no outcome variations\n"
     ]
    },
    {
     "name": "stderr",
     "output_type": "stream",
     "text": [
      "\r",
      " 54%|██████████████████████▎                  | 272/500 [00:22<00:18, 12.56it/s]"
     ]
    },
    {
     "name": "stdout",
     "output_type": "stream",
     "text": [
      "Warning: the outcome matrix contains NaNs or other                       than 0/1 entries.\n",
      "Warning: the outcome matrix contains NaNs or other                       than 0/1 entries.\n",
      "Dropped  1  time periods with no outcome variations\n",
      "Warning: the outcome matrix contains NaNs or other                       than 0/1 entries.\n",
      "Dropped  7  time periods with no outcome variations\n",
      "Warning: the outcome matrix contains NaNs or other                       than 0/1 entries.\n",
      "Warning: the outcome matrix contains NaNs or other                       than 0/1 entries.\n",
      "Warning: the outcome matrix contains NaNs or other                       than 0/1 entries.\n"
     ]
    },
    {
     "name": "stderr",
     "output_type": "stream",
     "text": [
      " 55%|██████████████████████▋                  | 276/500 [00:23<00:17, 12.74it/s]"
     ]
    },
    {
     "name": "stdout",
     "output_type": "stream",
     "text": [
      "Warning: the outcome matrix contains NaNs or other                       than 0/1 entries.\n",
      "Dropped  7  time periods with no outcome variations\n",
      "Warning: the outcome matrix contains NaNs or other                       than 0/1 entries.\n",
      "Warning: the outcome matrix contains NaNs or other                       than 0/1 entries.\n",
      "Dropped  8  time periods with no outcome variations\n",
      "Warning: the outcome matrix contains NaNs or other                       than 0/1 entries.\n",
      "Warning: the outcome matrix contains NaNs or other                       than 0/1 entries.\n",
      "Warning: the outcome matrix contains NaNs or other                       than 0/1 entries.\n"
     ]
    },
    {
     "name": "stderr",
     "output_type": "stream",
     "text": [
      "\r",
      " 56%|██████████████████████▊                  | 278/500 [00:23<00:17, 12.37it/s]"
     ]
    },
    {
     "name": "stdout",
     "output_type": "stream",
     "text": [
      "Warning: the outcome matrix contains NaNs or other                       than 0/1 entries.\n",
      "Dropped  8  time periods with no outcome variations\n",
      "Warning: the outcome matrix contains NaNs or other                       than 0/1 entries.\n",
      "Warning: the outcome matrix contains NaNs or other                       than 0/1 entries.\n",
      "Warning: the outcome matrix contains NaNs or other                       than 0/1 entries.\n",
      "Warning: the outcome matrix contains NaNs or other                       than 0/1 entries.\n"
     ]
    },
    {
     "name": "stderr",
     "output_type": "stream",
     "text": [
      "\r",
      " 56%|██████████████████████▉                  | 280/500 [00:23<00:18, 11.64it/s]"
     ]
    },
    {
     "name": "stdout",
     "output_type": "stream",
     "text": [
      "Warning: the outcome matrix contains NaNs or other                       than 0/1 entries.\n",
      "Warning: the outcome matrix contains NaNs or other                       than 0/1 entries.\n",
      "Warning: the outcome matrix contains NaNs or other                       than 0/1 entries.\n",
      "Warning: the outcome matrix contains NaNs or other                       than 0/1 entries.\n",
      "Warning: the outcome matrix contains NaNs or other                       than 0/1 entries.\n",
      "Dropped  1  time periods with no outcome variations\n"
     ]
    },
    {
     "name": "stderr",
     "output_type": "stream",
     "text": [
      " 57%|███████████████████████▎                 | 284/500 [00:23<00:17, 12.04it/s]"
     ]
    },
    {
     "name": "stdout",
     "output_type": "stream",
     "text": [
      "Warning: the outcome matrix contains NaNs or other                       than 0/1 entries.\n",
      "Warning: the outcome matrix contains NaNs or other                       than 0/1 entries.\n",
      "Warning: the outcome matrix contains NaNs or other                       than 0/1 entries.\n",
      "Warning: the outcome matrix contains NaNs or other                       than 0/1 entries.\n",
      "Warning: the outcome matrix contains NaNs or other                       than 0/1 entries.\n"
     ]
    },
    {
     "name": "stderr",
     "output_type": "stream",
     "text": [
      "\r",
      " 57%|███████████████████████▍                 | 286/500 [00:23<00:17, 12.26it/s]"
     ]
    },
    {
     "name": "stdout",
     "output_type": "stream",
     "text": [
      "Warning: the outcome matrix contains NaNs or other                       than 0/1 entries.\n",
      "Warning: the outcome matrix contains NaNs or other                       than 0/1 entries.\n",
      "Warning: the outcome matrix contains NaNs or other                       than 0/1 entries.\n",
      "Warning: the outcome matrix contains NaNs or other                       than 0/1 entries.\n",
      "Dropped  7  time periods with no outcome variations\n",
      "Warning: the outcome matrix contains NaNs or other                       than 0/1 entries.\n",
      "Warning: the outcome matrix contains NaNs or other                       than 0/1 entries.\n",
      "Dropped  1  time periods with no outcome variations\n"
     ]
    },
    {
     "name": "stderr",
     "output_type": "stream",
     "text": [
      "\r",
      " 58%|███████████████████████▌                 | 288/500 [00:24<00:17, 12.29it/s]"
     ]
    },
    {
     "name": "stdout",
     "output_type": "stream",
     "text": [
      "Warning: the outcome matrix contains NaNs or other                       than 0/1 entries.\n",
      "Warning: the outcome matrix contains NaNs or other                       than 0/1 entries.\n",
      "Warning: the outcome matrix contains NaNs or other                       than 0/1 entries.\n",
      "Warning: the outcome matrix contains NaNs or other                       than 0/1 entries.\n",
      "Warning: the outcome matrix contains NaNs or other                       than 0/1 entries.\n",
      "Dropped  1  time periods with no outcome variations\n"
     ]
    },
    {
     "name": "stderr",
     "output_type": "stream",
     "text": [
      " 58%|███████████████████████▉                 | 292/500 [00:24<00:16, 12.57it/s]"
     ]
    },
    {
     "name": "stdout",
     "output_type": "stream",
     "text": [
      "Warning: the outcome matrix contains NaNs or other                       than 0/1 entries.\n",
      "Warning: the outcome matrix contains NaNs or other                       than 0/1 entries.\n",
      "Warning: the outcome matrix contains NaNs or other                       than 0/1 entries.\n",
      "Dropped  6  time periods with no outcome variations\n",
      "Warning: the outcome matrix contains NaNs or other                       than 0/1 entries.\n",
      "Warning: the outcome matrix contains NaNs or other                       than 0/1 entries.\n",
      "Warning: the outcome matrix contains NaNs or other                       than 0/1 entries.\n"
     ]
    },
    {
     "name": "stderr",
     "output_type": "stream",
     "text": [
      "\r",
      " 59%|████████████████████████                 | 294/500 [00:24<00:16, 12.28it/s]"
     ]
    },
    {
     "name": "stdout",
     "output_type": "stream",
     "text": [
      "Warning: the outcome matrix contains NaNs or other                       than 0/1 entries.\n",
      "Warning: the outcome matrix contains NaNs or other                       than 0/1 entries.\n",
      "Warning: the outcome matrix contains NaNs or other                       than 0/1 entries.\n",
      "Dropped  7  time periods with no outcome variations\n",
      "Warning: the outcome matrix contains NaNs or other                       than 0/1 entries.\n",
      "Warning: the outcome matrix contains NaNs or other                       than 0/1 entries.\n",
      "Dropped  7  time periods with no outcome variations\n"
     ]
    },
    {
     "name": "stderr",
     "output_type": "stream",
     "text": [
      "\r",
      " 59%|████████████████████████▎                | 296/500 [00:24<00:16, 12.24it/s]"
     ]
    },
    {
     "name": "stdout",
     "output_type": "stream",
     "text": [
      "Warning: the outcome matrix contains NaNs or other                       than 0/1 entries.\n",
      "Warning: the outcome matrix contains NaNs or other                       than 0/1 entries.\n",
      "Warning: the outcome matrix contains NaNs or other                       than 0/1 entries.\n",
      "Warning: the outcome matrix contains NaNs or other                       than 0/1 entries.\n",
      "Warning: the outcome matrix contains NaNs or other                       than 0/1 entries.\n",
      "Warning: the outcome matrix contains NaNs or other                       than 0/1 entries.\n",
      "Dropped  7  time periods with no outcome variations\n"
     ]
    },
    {
     "name": "stderr",
     "output_type": "stream",
     "text": [
      " 60%|████████████████████████▌                | 300/500 [00:25<00:16, 12.28it/s]"
     ]
    },
    {
     "name": "stdout",
     "output_type": "stream",
     "text": [
      "Warning: the outcome matrix contains NaNs or other                       than 0/1 entries.\n",
      "Warning: the outcome matrix contains NaNs or other                       than 0/1 entries.\n",
      "Warning: the outcome matrix contains NaNs or other                       than 0/1 entries.\n",
      "Warning: the outcome matrix contains NaNs or other                       than 0/1 entries.\n",
      "Dropped  7  time periods with no outcome variations\n",
      "Warning: the outcome matrix contains NaNs or other                       than 0/1 entries.\n"
     ]
    },
    {
     "name": "stderr",
     "output_type": "stream",
     "text": [
      "\r",
      " 60%|████████████████████████▊                | 302/500 [00:25<00:16, 12.21it/s]"
     ]
    },
    {
     "name": "stdout",
     "output_type": "stream",
     "text": [
      "Warning: the outcome matrix contains NaNs or other                       than 0/1 entries.\n",
      "Warning: the outcome matrix contains NaNs or other                       than 0/1 entries.\n",
      "Warning: the outcome matrix contains NaNs or other                       than 0/1 entries.\n",
      "Warning: the outcome matrix contains NaNs or other                       than 0/1 entries.\n",
      "Warning: the outcome matrix contains NaNs or other                       than 0/1 entries.\n"
     ]
    },
    {
     "name": "stderr",
     "output_type": "stream",
     "text": [
      "\r",
      " 61%|████████████████████████▉                | 304/500 [00:25<00:16, 12.23it/s]"
     ]
    },
    {
     "name": "stdout",
     "output_type": "stream",
     "text": [
      "Warning: the outcome matrix contains NaNs or other                       than 0/1 entries.\n",
      "Warning: the outcome matrix contains NaNs or other                       than 0/1 entries.\n",
      "Warning: the outcome matrix contains NaNs or other                       than 0/1 entries.\n",
      "Dropped  2  time periods with no outcome variations\n",
      "Warning: the outcome matrix contains NaNs or other                       than 0/1 entries.\n",
      "Dropped  6  time periods with no outcome variations\n",
      "Warning: the outcome matrix contains NaNs or other                       than 0/1 entries.\n",
      "Warning: the outcome matrix contains NaNs or other                       than 0/1 entries.\n"
     ]
    },
    {
     "name": "stderr",
     "output_type": "stream",
     "text": [
      " 62%|█████████████████████████▎               | 308/500 [00:25<00:15, 12.58it/s]"
     ]
    },
    {
     "name": "stdout",
     "output_type": "stream",
     "text": [
      "Warning: the outcome matrix contains NaNs or other                       than 0/1 entries.\n",
      "Warning: the outcome matrix contains NaNs or other                       than 0/1 entries.\n",
      "Dropped  1  time periods with no outcome variations\n",
      "Warning: the outcome matrix contains NaNs or other                       than 0/1 entries.\n",
      "Warning: the outcome matrix contains NaNs or other                       than 0/1 entries.\n",
      "Dropped  9  time periods with no outcome variations\n",
      "Warning: the outcome matrix contains NaNs or other                       than 0/1 entries.\n",
      "Dropped  1  time periods with no outcome variations\n",
      "Warning: the outcome matrix contains NaNs or other                       than 0/1 entries.\n"
     ]
    },
    {
     "name": "stderr",
     "output_type": "stream",
     "text": [
      "\r",
      " 62%|█████████████████████████▍               | 310/500 [00:25<00:15, 12.60it/s]"
     ]
    },
    {
     "name": "stdout",
     "output_type": "stream",
     "text": [
      "Warning: the outcome matrix contains NaNs or other                       than 0/1 entries.\n",
      "Warning: the outcome matrix contains NaNs or other                       than 0/1 entries.\n",
      "Warning: the outcome matrix contains NaNs or other                       than 0/1 entries.\n",
      "Warning: the outcome matrix contains NaNs or other                       than 0/1 entries.\n",
      "Warning: the outcome matrix contains NaNs or other                       than 0/1 entries.\n",
      "Warning: the outcome matrix contains NaNs or other                       than 0/1 entries.\n"
     ]
    },
    {
     "name": "stderr",
     "output_type": "stream",
     "text": [
      " 63%|█████████████████████████▋               | 314/500 [00:26<00:14, 12.56it/s]"
     ]
    },
    {
     "name": "stdout",
     "output_type": "stream",
     "text": [
      "Warning: the outcome matrix contains NaNs or other                       than 0/1 entries.\n",
      "Warning: the outcome matrix contains NaNs or other                       than 0/1 entries.\n",
      "Warning: the outcome matrix contains NaNs or other                       than 0/1 entries.\n",
      "Warning: the outcome matrix contains NaNs or other                       than 0/1 entries.\n",
      "Dropped  6  time periods with no outcome variations\n",
      "Warning: the outcome matrix contains NaNs or other                       than 0/1 entries.\n"
     ]
    },
    {
     "name": "stderr",
     "output_type": "stream",
     "text": [
      "\r",
      " 63%|█████████████████████████▉               | 316/500 [00:26<00:15, 12.24it/s]"
     ]
    },
    {
     "name": "stdout",
     "output_type": "stream",
     "text": [
      "Warning: the outcome matrix contains NaNs or other                       than 0/1 entries.\n",
      "Dropped  7  time periods with no outcome variations\n",
      "Warning: the outcome matrix contains NaNs or other                       than 0/1 entries.\n",
      "Warning: the outcome matrix contains NaNs or other                       than 0/1 entries.\n",
      "Dropped  1  time periods with no outcome variations\n",
      "Warning: the outcome matrix contains NaNs or other                       than 0/1 entries.\n",
      "Warning: the outcome matrix contains NaNs or other                       than 0/1 entries.\n"
     ]
    },
    {
     "name": "stderr",
     "output_type": "stream",
     "text": [
      "\r",
      " 64%|██████████████████████████               | 318/500 [00:26<00:15, 12.13it/s]"
     ]
    },
    {
     "name": "stdout",
     "output_type": "stream",
     "text": [
      "Warning: the outcome matrix contains NaNs or other                       than 0/1 entries.\n",
      "Warning: the outcome matrix contains NaNs or other                       than 0/1 entries.\n",
      "Dropped  7  time periods with no outcome variations\n",
      "Warning: the outcome matrix contains NaNs or other                       than 0/1 entries.\n",
      "Warning: the outcome matrix contains NaNs or other                       than 0/1 entries.\n",
      "Dropped  1  time periods with no outcome variations\n",
      "Warning: the outcome matrix contains NaNs or other                       than 0/1 entries.\n",
      "Dropped  1  time periods with no outcome variations\n",
      "Warning: the outcome matrix contains NaNs or other                       than 0/1 entries.\n",
      "Dropped  6  time periods with no outcome variations\n"
     ]
    },
    {
     "name": "stderr",
     "output_type": "stream",
     "text": [
      " 64%|██████████████████████████▍              | 322/500 [00:26<00:14, 12.37it/s]"
     ]
    },
    {
     "name": "stdout",
     "output_type": "stream",
     "text": [
      "Warning: the outcome matrix contains NaNs or other                       than 0/1 entries.\n",
      "Warning: the outcome matrix contains NaNs or other                       than 0/1 entries.\n",
      "Warning: the outcome matrix contains NaNs or other                       than 0/1 entries.\n",
      "Dropped  1  time periods with no outcome variations\n",
      "Warning: the outcome matrix contains NaNs or other                       than 0/1 entries.\n",
      "Warning: the outcome matrix contains NaNs or other                       than 0/1 entries.\n"
     ]
    },
    {
     "name": "stderr",
     "output_type": "stream",
     "text": [
      "\r",
      " 65%|██████████████████████████▌              | 324/500 [00:26<00:14, 12.37it/s]"
     ]
    },
    {
     "name": "stdout",
     "output_type": "stream",
     "text": [
      "Warning: the outcome matrix contains NaNs or other                       than 0/1 entries.\n",
      "Dropped  8  time periods with no outcome variations\n",
      "Warning: the outcome matrix contains NaNs or other                       than 0/1 entries.\n",
      "Dropped  1  time periods with no outcome variations\n",
      "Warning: the outcome matrix contains NaNs or other                       than 0/1 entries.\n",
      "Warning: the outcome matrix contains NaNs or other                       than 0/1 entries.\n",
      "Dropped  1  time periods with no outcome variations\n",
      "Warning: the outcome matrix contains NaNs or other                       than 0/1 entries.\n",
      "Warning: the outcome matrix contains NaNs or other                       than 0/1 entries.\n"
     ]
    },
    {
     "name": "stderr",
     "output_type": "stream",
     "text": [
      "\r",
      " 65%|██████████████████████████▋              | 326/500 [00:27<00:14, 12.24it/s]"
     ]
    },
    {
     "name": "stdout",
     "output_type": "stream",
     "text": [
      "Warning: the outcome matrix contains NaNs or other                       than 0/1 entries.\n",
      "Warning: the outcome matrix contains NaNs or other                       than 0/1 entries.\n",
      "Warning: the outcome matrix contains NaNs or other                       than 0/1 entries.\n",
      "Warning: the outcome matrix contains NaNs or other                       than 0/1 entries.\n",
      "Dropped  1  time periods with no outcome variations\n",
      "Warning: the outcome matrix contains NaNs or other                       than 0/1 entries.\n",
      "Dropped  7  time periods with no outcome variations\n"
     ]
    },
    {
     "name": "stderr",
     "output_type": "stream",
     "text": [
      " 66%|███████████████████████████              | 330/500 [00:27<00:13, 12.35it/s]"
     ]
    },
    {
     "name": "stdout",
     "output_type": "stream",
     "text": [
      "Warning: the outcome matrix contains NaNs or other                       than 0/1 entries.\n",
      "Warning: the outcome matrix contains NaNs or other                       than 0/1 entries.\n",
      "Dropped  6  time periods with no outcome variations\n",
      "Warning: the outcome matrix contains NaNs or other                       than 0/1 entries.\n",
      "Warning: the outcome matrix contains NaNs or other                       than 0/1 entries.\n",
      "Warning: the outcome matrix contains NaNs or other                       than 0/1 entries.\n",
      "Dropped  1  time periods with no outcome variations\n",
      "Warning: the outcome matrix contains NaNs or other                       than 0/1 entries.\n"
     ]
    },
    {
     "name": "stderr",
     "output_type": "stream",
     "text": [
      "\r",
      " 66%|███████████████████████████▏             | 332/500 [00:27<00:13, 12.37it/s]"
     ]
    },
    {
     "name": "stdout",
     "output_type": "stream",
     "text": [
      "Warning: the outcome matrix contains NaNs or other                       than 0/1 entries.\n",
      "Dropped  1  time periods with no outcome variations\n",
      "Warning: the outcome matrix contains NaNs or other                       than 0/1 entries.\n",
      "Warning: the outcome matrix contains NaNs or other                       than 0/1 entries.\n",
      "Warning: the outcome matrix contains NaNs or other                       than 0/1 entries.\n",
      "Dropped  6  time periods with no outcome variations\n",
      "Warning: the outcome matrix contains NaNs or other                       than 0/1 entries.\n",
      "Dropped  1  time periods with no outcome variations\n"
     ]
    },
    {
     "name": "stderr",
     "output_type": "stream",
     "text": [
      " 67%|███████████████████████████▌             | 336/500 [00:27<00:13, 12.38it/s]"
     ]
    },
    {
     "name": "stdout",
     "output_type": "stream",
     "text": [
      "Warning: the outcome matrix contains NaNs or other                       than 0/1 entries.\n",
      "Warning: the outcome matrix contains NaNs or other                       than 0/1 entries.\n",
      "Dropped  1  time periods with no outcome variations\n",
      "Warning: the outcome matrix contains NaNs or other                       than 0/1 entries.\n",
      "Warning: the outcome matrix contains NaNs or other                       than 0/1 entries.\n",
      "Warning: the outcome matrix contains NaNs or other                       than 0/1 entries.\n",
      "Warning: the outcome matrix contains NaNs or other                       than 0/1 entries.\n"
     ]
    },
    {
     "name": "stderr",
     "output_type": "stream",
     "text": [
      "\r",
      " 68%|███████████████████████████▋             | 338/500 [00:28<00:13, 12.15it/s]"
     ]
    },
    {
     "name": "stdout",
     "output_type": "stream",
     "text": [
      "Warning: the outcome matrix contains NaNs or other                       than 0/1 entries.\n",
      "Dropped  1  time periods with no outcome variations\n",
      "Warning: the outcome matrix contains NaNs or other                       than 0/1 entries.\n",
      "Warning: the outcome matrix contains NaNs or other                       than 0/1 entries.\n",
      "Dropped  6  time periods with no outcome variations\n",
      "Warning: the outcome matrix contains NaNs or other                       than 0/1 entries.\n",
      "Warning: the outcome matrix contains NaNs or other                       than 0/1 entries.\n",
      "Warning: the outcome matrix contains NaNs or other                       than 0/1 entries.\n"
     ]
    },
    {
     "name": "stderr",
     "output_type": "stream",
     "text": [
      " 68%|████████████████████████████             | 342/500 [00:28<00:12, 12.31it/s]"
     ]
    },
    {
     "name": "stdout",
     "output_type": "stream",
     "text": [
      "Warning: the outcome matrix contains NaNs or other                       than 0/1 entries.\n",
      "Dropped  1  time periods with no outcome variations\n",
      "Warning: the outcome matrix contains NaNs or other                       than 0/1 entries.\n",
      "Warning: the outcome matrix contains NaNs or other                       than 0/1 entries.\n",
      "Warning: the outcome matrix contains NaNs or other                       than 0/1 entries.\n",
      "Dropped  1  time periods with no outcome variations\n",
      "Warning: the outcome matrix contains NaNs or other                       than 0/1 entries.\n"
     ]
    },
    {
     "name": "stderr",
     "output_type": "stream",
     "text": [
      "\r",
      " 69%|████████████████████████████▏            | 344/500 [00:28<00:12, 12.13it/s]"
     ]
    },
    {
     "name": "stdout",
     "output_type": "stream",
     "text": [
      "Warning: the outcome matrix contains NaNs or other                       than 0/1 entries.\n",
      "Warning: the outcome matrix contains NaNs or other                       than 0/1 entries.\n",
      "Warning: the outcome matrix contains NaNs or other                       than 0/1 entries.\n",
      "Warning: the outcome matrix contains NaNs or other                       than 0/1 entries.\n",
      "Dropped  7  time periods with no outcome variations\n",
      "Warning: the outcome matrix contains NaNs or other                       than 0/1 entries.\n",
      "Dropped  1  time periods with no outcome variations\n"
     ]
    },
    {
     "name": "stderr",
     "output_type": "stream",
     "text": [
      "\r",
      " 69%|████████████████████████████▎            | 346/500 [00:28<00:12, 12.17it/s]"
     ]
    },
    {
     "name": "stdout",
     "output_type": "stream",
     "text": [
      "Warning: the outcome matrix contains NaNs or other                       than 0/1 entries.\n",
      "Warning: the outcome matrix contains NaNs or other                       than 0/1 entries.\n",
      "Warning: the outcome matrix contains NaNs or other                       than 0/1 entries.\n",
      "Warning: the outcome matrix contains NaNs or other                       than 0/1 entries.\n",
      "Warning: the outcome matrix contains NaNs or other                       than 0/1 entries.\n",
      "Dropped  6  time periods with no outcome variations\n",
      "Warning: the outcome matrix contains NaNs or other                       than 0/1 entries.\n"
     ]
    },
    {
     "name": "stderr",
     "output_type": "stream",
     "text": [
      "\r",
      " 70%|████████████████████████████▌            | 348/500 [00:28<00:12, 12.10it/s]"
     ]
    },
    {
     "name": "stdout",
     "output_type": "stream",
     "text": [
      "Warning: the outcome matrix contains NaNs or other                       than 0/1 entries.\n",
      "Warning: the outcome matrix contains NaNs or other                       than 0/1 entries.\n",
      "Warning: the outcome matrix contains NaNs or other                       than 0/1 entries.\n",
      "Dropped  7  time periods with no outcome variations\n",
      "Warning: the outcome matrix contains NaNs or other                       than 0/1 entries.\n",
      "Warning: the outcome matrix contains NaNs or other                       than 0/1 entries.\n",
      "Dropped  6  time periods with no outcome variations\n"
     ]
    },
    {
     "name": "stderr",
     "output_type": "stream",
     "text": [
      " 70%|████████████████████████████▊            | 352/500 [00:29<00:12, 11.92it/s]"
     ]
    },
    {
     "name": "stdout",
     "output_type": "stream",
     "text": [
      "Warning: the outcome matrix contains NaNs or other                       than 0/1 entries.\n",
      "Warning: the outcome matrix contains NaNs or other                       than 0/1 entries.\n",
      "Warning: the outcome matrix contains NaNs or other                       than 0/1 entries.\n",
      "Warning: the outcome matrix contains NaNs or other                       than 0/1 entries.\n",
      "Warning: the outcome matrix contains NaNs or other                       than 0/1 entries.\n"
     ]
    },
    {
     "name": "stderr",
     "output_type": "stream",
     "text": [
      "\r",
      " 71%|█████████████████████████████            | 354/500 [00:29<00:12, 11.98it/s]"
     ]
    },
    {
     "name": "stdout",
     "output_type": "stream",
     "text": [
      "Warning: the outcome matrix contains NaNs or other                       than 0/1 entries.\n",
      "Warning: the outcome matrix contains NaNs or other                       than 0/1 entries.\n",
      "Warning: the outcome matrix contains NaNs or other                       than 0/1 entries.\n",
      "Warning: the outcome matrix contains NaNs or other                       than 0/1 entries.\n",
      "Warning: the outcome matrix contains NaNs or other                       than 0/1 entries.\n",
      "Warning: the outcome matrix contains NaNs or other                       than 0/1 entries.\n"
     ]
    },
    {
     "name": "stderr",
     "output_type": "stream",
     "text": [
      " 72%|█████████████████████████████▎           | 358/500 [00:29<00:11, 12.53it/s]"
     ]
    },
    {
     "name": "stdout",
     "output_type": "stream",
     "text": [
      "Warning: the outcome matrix contains NaNs or other                       than 0/1 entries.\n",
      "Warning: the outcome matrix contains NaNs or other                       than 0/1 entries.\n",
      "Warning: the outcome matrix contains NaNs or other                       than 0/1 entries.\n",
      "Dropped  7  time periods with no outcome variations\n",
      "Warning: the outcome matrix contains NaNs or other                       than 0/1 entries.\n",
      "Warning: the outcome matrix contains NaNs or other                       than 0/1 entries.\n",
      "Warning: the outcome matrix contains NaNs or other                       than 0/1 entries.\n"
     ]
    },
    {
     "name": "stderr",
     "output_type": "stream",
     "text": [
      "\r",
      " 72%|█████████████████████████████▌           | 360/500 [00:29<00:11, 12.32it/s]"
     ]
    },
    {
     "name": "stdout",
     "output_type": "stream",
     "text": [
      "Warning: the outcome matrix contains NaNs or other                       than 0/1 entries.\n",
      "Warning: the outcome matrix contains NaNs or other                       than 0/1 entries.\n",
      "Dropped  1  time periods with no outcome variations\n",
      "Warning: the outcome matrix contains NaNs or other                       than 0/1 entries.\n",
      "Warning: the outcome matrix contains NaNs or other                       than 0/1 entries.\n",
      "Warning: the outcome matrix contains NaNs or other                       than 0/1 entries.\n",
      "Dropped  8  time periods with no outcome variations\n"
     ]
    },
    {
     "name": "stderr",
     "output_type": "stream",
     "text": [
      "\r",
      " 72%|█████████████████████████████▋           | 362/500 [00:30<00:11, 11.87it/s]"
     ]
    },
    {
     "name": "stdout",
     "output_type": "stream",
     "text": [
      "Warning: the outcome matrix contains NaNs or other                       than 0/1 entries.\n",
      "Warning: the outcome matrix contains NaNs or other                       than 0/1 entries.\n",
      "Warning: the outcome matrix contains NaNs or other                       than 0/1 entries.\n",
      "Dropped  3  time periods with no outcome variations\n",
      "Warning: the outcome matrix contains NaNs or other                       than 0/1 entries.\n",
      "Warning: the outcome matrix contains NaNs or other                       than 0/1 entries.\n"
     ]
    },
    {
     "name": "stderr",
     "output_type": "stream",
     "text": [
      "\r",
      " 73%|█████████████████████████████▊           | 364/500 [00:30<00:11, 11.88it/s]"
     ]
    },
    {
     "name": "stdout",
     "output_type": "stream",
     "text": [
      "Warning: the outcome matrix contains NaNs or other                       than 0/1 entries.\n",
      "Dropped  6  time periods with no outcome variations\n",
      "Warning: the outcome matrix contains NaNs or other                       than 0/1 entries.\n",
      "Warning: the outcome matrix contains NaNs or other                       than 0/1 entries.\n",
      "Dropped  6  time periods with no outcome variations\n",
      "Warning: the outcome matrix contains NaNs or other                       than 0/1 entries.\n",
      "Warning: the outcome matrix contains NaNs or other                       than 0/1 entries.\n"
     ]
    },
    {
     "name": "stderr",
     "output_type": "stream",
     "text": [
      " 74%|██████████████████████████████▏          | 368/500 [00:30<00:11, 11.79it/s]"
     ]
    },
    {
     "name": "stdout",
     "output_type": "stream",
     "text": [
      "Warning: the outcome matrix contains NaNs or other                       than 0/1 entries.\n",
      "Warning: the outcome matrix contains NaNs or other                       than 0/1 entries.\n",
      "Warning: the outcome matrix contains NaNs or other                       than 0/1 entries.\n",
      "Warning: the outcome matrix contains NaNs or other                       than 0/1 entries.\n",
      "Dropped  1  time periods with no outcome variations\n",
      "Warning: the outcome matrix contains NaNs or other                       than 0/1 entries.\n"
     ]
    },
    {
     "name": "stderr",
     "output_type": "stream",
     "text": [
      "\r",
      " 74%|██████████████████████████████▎          | 370/500 [00:30<00:10, 11.83it/s]"
     ]
    },
    {
     "name": "stdout",
     "output_type": "stream",
     "text": [
      "Warning: the outcome matrix contains NaNs or other                       than 0/1 entries.\n",
      "Warning: the outcome matrix contains NaNs or other                       than 0/1 entries.\n",
      "Warning: the outcome matrix contains NaNs or other                       than 0/1 entries.\n",
      "Dropped  2  time periods with no outcome variations\n",
      "Warning: the outcome matrix contains NaNs or other                       than 0/1 entries.\n",
      "Warning: the outcome matrix contains NaNs or other                       than 0/1 entries.\n"
     ]
    },
    {
     "name": "stderr",
     "output_type": "stream",
     "text": [
      "\r",
      " 74%|██████████████████████████████▌          | 372/500 [00:30<00:10, 11.75it/s]"
     ]
    },
    {
     "name": "stdout",
     "output_type": "stream",
     "text": [
      "Warning: the outcome matrix contains NaNs or other                       than 0/1 entries.\n",
      "Warning: the outcome matrix contains NaNs or other                       than 0/1 entries.\n",
      "Warning: the outcome matrix contains NaNs or other                       than 0/1 entries.\n",
      "Warning: the outcome matrix contains NaNs or other                       than 0/1 entries.\n",
      "Warning: the outcome matrix contains NaNs or other                       than 0/1 entries.\n",
      "Dropped  1  time periods with no outcome variations\n",
      "Warning: the outcome matrix contains NaNs or other                       than 0/1 entries.\n"
     ]
    },
    {
     "name": "stderr",
     "output_type": "stream",
     "text": [
      " 75%|██████████████████████████████▊          | 376/500 [00:31<00:10, 11.80it/s]"
     ]
    },
    {
     "name": "stdout",
     "output_type": "stream",
     "text": [
      "Warning: the outcome matrix contains NaNs or other                       than 0/1 entries.\n",
      "Warning: the outcome matrix contains NaNs or other                       than 0/1 entries.\n",
      "Warning: the outcome matrix contains NaNs or other                       than 0/1 entries.\n",
      "Warning: the outcome matrix contains NaNs or other                       than 0/1 entries.\n",
      "Warning: the outcome matrix contains NaNs or other                       than 0/1 entries.\n",
      "Dropped  2  time periods with no outcome variations\n"
     ]
    },
    {
     "name": "stderr",
     "output_type": "stream",
     "text": [
      "\r",
      " 76%|██████████████████████████████▉          | 378/500 [00:31<00:10, 11.96it/s]"
     ]
    },
    {
     "name": "stdout",
     "output_type": "stream",
     "text": [
      "Warning: the outcome matrix contains NaNs or other                       than 0/1 entries.\n",
      "Dropped  7  time periods with no outcome variations\n",
      "Warning: the outcome matrix contains NaNs or other                       than 0/1 entries.\n",
      "Warning: the outcome matrix contains NaNs or other                       than 0/1 entries.\n",
      "Warning: the outcome matrix contains NaNs or other                       than 0/1 entries.\n",
      "Warning: the outcome matrix contains NaNs or other                       than 0/1 entries.\n"
     ]
    },
    {
     "name": "stderr",
     "output_type": "stream",
     "text": [
      "\r",
      " 76%|███████████████████████████████▏         | 380/500 [00:31<00:10, 11.81it/s]"
     ]
    },
    {
     "name": "stdout",
     "output_type": "stream",
     "text": [
      "Warning: the outcome matrix contains NaNs or other                       than 0/1 entries.\n",
      "Dropped  1  time periods with no outcome variations\n",
      "Warning: the outcome matrix contains NaNs or other                       than 0/1 entries.\n",
      "Warning: the outcome matrix contains NaNs or other                       than 0/1 entries.\n",
      "Warning: the outcome matrix contains NaNs or other                       than 0/1 entries.\n",
      "Dropped  9  time periods with no outcome variations\n",
      "Warning: the outcome matrix contains NaNs or other                       than 0/1 entries.\n"
     ]
    },
    {
     "name": "stderr",
     "output_type": "stream",
     "text": [
      "\r",
      " 76%|███████████████████████████████▎         | 382/500 [00:31<00:09, 11.94it/s]"
     ]
    },
    {
     "name": "stdout",
     "output_type": "stream",
     "text": [
      "Warning: the outcome matrix contains NaNs or other                       than 0/1 entries.\n",
      "Warning: the outcome matrix contains NaNs or other                       than 0/1 entries.\n",
      "Dropped  1  time periods with no outcome variations\n",
      "Warning: the outcome matrix contains NaNs or other                       than 0/1 entries.\n",
      "Dropped  9  time periods with no outcome variations\n",
      "Warning: the outcome matrix contains NaNs or other                       than 0/1 entries.\n",
      "Warning: the outcome matrix contains NaNs or other                       than 0/1 entries.\n"
     ]
    },
    {
     "name": "stderr",
     "output_type": "stream",
     "text": [
      " 77%|███████████████████████████████▋         | 386/500 [00:32<00:09, 11.71it/s]"
     ]
    },
    {
     "name": "stdout",
     "output_type": "stream",
     "text": [
      "Warning: the outcome matrix contains NaNs or other                       than 0/1 entries.\n",
      "Warning: the outcome matrix contains NaNs or other                       than 0/1 entries.\n",
      "Dropped  7  time periods with no outcome variations\n",
      "Warning: the outcome matrix contains NaNs or other                       than 0/1 entries.\n",
      "Warning: the outcome matrix contains NaNs or other                       than 0/1 entries.\n",
      "Warning: the outcome matrix contains NaNs or other                       than 0/1 entries.\n"
     ]
    },
    {
     "name": "stderr",
     "output_type": "stream",
     "text": [
      "\r",
      " 78%|███████████████████████████████▊         | 388/500 [00:32<00:09, 11.87it/s]"
     ]
    },
    {
     "name": "stdout",
     "output_type": "stream",
     "text": [
      "Warning: the outcome matrix contains NaNs or other                       than 0/1 entries.\n",
      "Warning: the outcome matrix contains NaNs or other                       than 0/1 entries.\n",
      "Dropped  2  time periods with no outcome variations\n",
      "Warning: the outcome matrix contains NaNs or other                       than 0/1 entries.\n",
      "Dropped  8  time periods with no outcome variations\n",
      "Warning: the outcome matrix contains NaNs or other                       than 0/1 entries.\n",
      "Warning: the outcome matrix contains NaNs or other                       than 0/1 entries.\n"
     ]
    },
    {
     "name": "stderr",
     "output_type": "stream",
     "text": [
      "\r",
      " 78%|███████████████████████████████▉         | 390/500 [00:32<00:09, 11.71it/s]"
     ]
    },
    {
     "name": "stdout",
     "output_type": "stream",
     "text": [
      "Warning: the outcome matrix contains NaNs or other                       than 0/1 entries.\n",
      "Dropped  1  time periods with no outcome variations\n",
      "Warning: the outcome matrix contains NaNs or other                       than 0/1 entries.\n",
      "Dropped  8  time periods with no outcome variations\n",
      "Warning: the outcome matrix contains NaNs or other                       than 0/1 entries.\n",
      "Warning: the outcome matrix contains NaNs or other                       than 0/1 entries.\n",
      "Dropped  6  time periods with no outcome variations\n",
      "Warning: the outcome matrix contains NaNs or other                       than 0/1 entries.\n"
     ]
    },
    {
     "name": "stderr",
     "output_type": "stream",
     "text": [
      "\r",
      " 78%|████████████████████████████████▏        | 392/500 [00:32<00:09, 11.81it/s]"
     ]
    },
    {
     "name": "stdout",
     "output_type": "stream",
     "text": [
      "Warning: the outcome matrix contains NaNs or other                       than 0/1 entries.\n",
      "Dropped  7  time periods with no outcome variations\n",
      "Warning: the outcome matrix contains NaNs or other                       than 0/1 entries.\n",
      "Dropped  1  time periods with no outcome variations\n",
      "Warning: the outcome matrix contains NaNs or other                       than 0/1 entries.\n",
      "Dropped  7  time periods with no outcome variations\n",
      "Warning: the outcome matrix contains NaNs or other                       than 0/1 entries.\n",
      "Warning: the outcome matrix contains NaNs or other                       than 0/1 entries.\n"
     ]
    },
    {
     "name": "stderr",
     "output_type": "stream",
     "text": [
      " 79%|████████████████████████████████▍        | 396/500 [00:32<00:08, 11.79it/s]"
     ]
    },
    {
     "name": "stdout",
     "output_type": "stream",
     "text": [
      "Warning: the outcome matrix contains NaNs or other                       than 0/1 entries.\n",
      "Warning: the outcome matrix contains NaNs or other                       than 0/1 entries.\n",
      "Dropped  7  time periods with no outcome variations\n",
      "Warning: the outcome matrix contains NaNs or other                       than 0/1 entries.\n",
      "Warning: the outcome matrix contains NaNs or other                       than 0/1 entries.\n",
      "Dropped  8  time periods with no outcome variations\n",
      "Warning: the outcome matrix contains NaNs or other                       than 0/1 entries.\n"
     ]
    },
    {
     "name": "stderr",
     "output_type": "stream",
     "text": [
      "\r",
      " 80%|████████████████████████████████▋        | 398/500 [00:33<00:09, 11.22it/s]"
     ]
    },
    {
     "name": "stdout",
     "output_type": "stream",
     "text": [
      "Warning: the outcome matrix contains NaNs or other                       than 0/1 entries.\n",
      "Warning: the outcome matrix contains NaNs or other                       than 0/1 entries.\n",
      "Warning: the outcome matrix contains NaNs or other                       than 0/1 entries.\n",
      "Warning: the outcome matrix contains NaNs or other                       than 0/1 entries.\n",
      "Warning: the outcome matrix contains NaNs or other                       than 0/1 entries.\n"
     ]
    },
    {
     "name": "stderr",
     "output_type": "stream",
     "text": [
      "\r",
      " 80%|████████████████████████████████▊        | 400/500 [00:33<00:08, 11.40it/s]"
     ]
    },
    {
     "name": "stdout",
     "output_type": "stream",
     "text": [
      "Warning: the outcome matrix contains NaNs or other                       than 0/1 entries.\n",
      "Warning: the outcome matrix contains NaNs or other                       than 0/1 entries.\n",
      "Dropped  6  time periods with no outcome variations\n",
      "Warning: the outcome matrix contains NaNs or other                       than 0/1 entries.\n",
      "Warning: the outcome matrix contains NaNs or other                       than 0/1 entries.\n",
      "Dropped  6  time periods with no outcome variations\n",
      "Warning: the outcome matrix contains NaNs or other                       than 0/1 entries.\n",
      "Warning: the outcome matrix contains NaNs or other                       than 0/1 entries.\n"
     ]
    },
    {
     "name": "stderr",
     "output_type": "stream",
     "text": [
      " 81%|█████████████████████████████████▏       | 404/500 [00:33<00:08, 11.80it/s]"
     ]
    },
    {
     "name": "stdout",
     "output_type": "stream",
     "text": [
      "Warning: the outcome matrix contains NaNs or other                       than 0/1 entries.\n",
      "Warning: the outcome matrix contains NaNs or other                       than 0/1 entries.\n",
      "Dropped  8  time periods with no outcome variations\n",
      "Warning: the outcome matrix contains NaNs or other                       than 0/1 entries.\n",
      "Warning: the outcome matrix contains NaNs or other                       than 0/1 entries.\n",
      "Dropped  8  time periods with no outcome variations\n",
      "Warning: the outcome matrix contains NaNs or other                       than 0/1 entries.\n",
      "Dropped  1  time periods with no outcome variations\n"
     ]
    },
    {
     "name": "stderr",
     "output_type": "stream",
     "text": [
      "\r",
      " 81%|█████████████████████████████████▎       | 406/500 [00:33<00:07, 11.93it/s]"
     ]
    },
    {
     "name": "stdout",
     "output_type": "stream",
     "text": [
      "Warning: the outcome matrix contains NaNs or other                       than 0/1 entries.\n",
      "Dropped  8  time periods with no outcome variations\n",
      "Warning: the outcome matrix contains NaNs or other                       than 0/1 entries.\n",
      "Warning: the outcome matrix contains NaNs or other                       than 0/1 entries.\n",
      "Dropped  6  time periods with no outcome variations\n",
      "Warning: the outcome matrix contains NaNs or other                       than 0/1 entries.\n",
      "Dropped  2  time periods with no outcome variations\n",
      "Warning: the outcome matrix contains NaNs or other                       than 0/1 entries.\n",
      "Dropped  1  time periods with no outcome variations\n",
      "Warning: the outcome matrix contains NaNs or other                       than 0/1 entries.\n",
      "Dropped  1  time periods with no outcome variations\n"
     ]
    },
    {
     "name": "stderr",
     "output_type": "stream",
     "text": [
      " 82%|█████████████████████████████████▌       | 410/500 [00:34<00:07, 12.10it/s]"
     ]
    },
    {
     "name": "stdout",
     "output_type": "stream",
     "text": [
      "Warning: the outcome matrix contains NaNs or other                       than 0/1 entries.\n",
      "Warning: the outcome matrix contains NaNs or other                       than 0/1 entries.\n",
      "Warning: the outcome matrix contains NaNs or other                       than 0/1 entries.\n",
      "Warning: the outcome matrix contains NaNs or other                       than 0/1 entries.\n",
      "Warning: the outcome matrix contains NaNs or other                       than 0/1 entries.\n",
      "Dropped  6  time periods with no outcome variations\n"
     ]
    },
    {
     "name": "stderr",
     "output_type": "stream",
     "text": [
      "\r",
      " 82%|█████████████████████████████████▊       | 412/500 [00:34<00:07, 11.74it/s]"
     ]
    },
    {
     "name": "stdout",
     "output_type": "stream",
     "text": [
      "Warning: the outcome matrix contains NaNs or other                       than 0/1 entries.\n",
      "Warning: the outcome matrix contains NaNs or other                       than 0/1 entries.\n",
      "Dropped  8  time periods with no outcome variations\n",
      "Warning: the outcome matrix contains NaNs or other                       than 0/1 entries.\n",
      "Dropped  1  time periods with no outcome variations\n",
      "Warning: the outcome matrix contains NaNs or other                       than 0/1 entries.\n",
      "Dropped  8  time periods with no outcome variations\n",
      "Warning: the outcome matrix contains NaNs or other                       than 0/1 entries.\n",
      "Dropped  2  time periods with no outcome variations\n"
     ]
    },
    {
     "name": "stderr",
     "output_type": "stream",
     "text": [
      "\r",
      " 83%|█████████████████████████████████▉       | 414/500 [00:34<00:07, 12.03it/s]"
     ]
    },
    {
     "name": "stdout",
     "output_type": "stream",
     "text": [
      "Warning: the outcome matrix contains NaNs or other                       than 0/1 entries.\n",
      "Warning: the outcome matrix contains NaNs or other                       than 0/1 entries.\n",
      "Warning: the outcome matrix contains NaNs or other                       than 0/1 entries.\n",
      "Dropped  10  time periods with no outcome variations\n",
      "Warning: the outcome matrix contains NaNs or other                       than 0/1 entries.\n",
      "Warning: the outcome matrix contains NaNs or other                       than 0/1 entries.\n",
      "Dropped  7  time periods with no outcome variations\n",
      "Warning: the outcome matrix contains NaNs or other                       than 0/1 entries.\n"
     ]
    },
    {
     "name": "stderr",
     "output_type": "stream",
     "text": [
      "\r",
      " 83%|██████████████████████████████████       | 416/500 [00:34<00:06, 12.16it/s]"
     ]
    },
    {
     "name": "stdout",
     "output_type": "stream",
     "text": [
      "Warning: the outcome matrix contains NaNs or other                       than 0/1 entries.\n",
      "Dropped  6  time periods with no outcome variations\n",
      "Warning: the outcome matrix contains NaNs or other                       than 0/1 entries.\n",
      "Warning: the outcome matrix contains NaNs or other                       than 0/1 entries.\n",
      "Dropped  7  time periods with no outcome variations\n",
      "Warning: the outcome matrix contains NaNs or other                       than 0/1 entries.\n",
      "Warning: the outcome matrix contains NaNs or other                       than 0/1 entries.\n",
      "Dropped  7  time periods with no outcome variations\n"
     ]
    },
    {
     "name": "stderr",
     "output_type": "stream",
     "text": [
      " 84%|██████████████████████████████████▍      | 420/500 [00:34<00:06, 11.82it/s]"
     ]
    },
    {
     "name": "stdout",
     "output_type": "stream",
     "text": [
      "Warning: the outcome matrix contains NaNs or other                       than 0/1 entries.\n",
      "Warning: the outcome matrix contains NaNs or other                       than 0/1 entries.\n",
      "Warning: the outcome matrix contains NaNs or other                       than 0/1 entries.\n",
      "Warning: the outcome matrix contains NaNs or other                       than 0/1 entries.\n",
      "Dropped  7  time periods with no outcome variations\n",
      "Warning: the outcome matrix contains NaNs or other                       than 0/1 entries.\n"
     ]
    },
    {
     "name": "stderr",
     "output_type": "stream",
     "text": [
      "\r",
      " 84%|██████████████████████████████████▌      | 422/500 [00:35<00:06, 11.88it/s]"
     ]
    },
    {
     "name": "stdout",
     "output_type": "stream",
     "text": [
      "Warning: the outcome matrix contains NaNs or other                       than 0/1 entries.\n",
      "Dropped  7  time periods with no outcome variations\n",
      "Warning: the outcome matrix contains NaNs or other                       than 0/1 entries.\n",
      "Warning: the outcome matrix contains NaNs or other                       than 0/1 entries.\n",
      "Dropped  6  time periods with no outcome variations\n",
      "Warning: the outcome matrix contains NaNs or other                       than 0/1 entries.\n",
      "Warning: the outcome matrix contains NaNs or other                       than 0/1 entries.\n"
     ]
    },
    {
     "name": "stderr",
     "output_type": "stream",
     "text": [
      "\r",
      " 85%|██████████████████████████████████▊      | 424/500 [00:35<00:06, 11.90it/s]"
     ]
    },
    {
     "name": "stdout",
     "output_type": "stream",
     "text": [
      "Warning: the outcome matrix contains NaNs or other                       than 0/1 entries.\n",
      "Warning: the outcome matrix contains NaNs or other                       than 0/1 entries.\n",
      "Dropped  7  time periods with no outcome variations\n",
      "Warning: the outcome matrix contains NaNs or other                       than 0/1 entries.\n",
      "Warning: the outcome matrix contains NaNs or other                       than 0/1 entries.\n",
      "Warning: the outcome matrix contains NaNs or other                       than 0/1 entries.\n",
      "Warning: the outcome matrix contains NaNs or other                       than 0/1 entries.\n"
     ]
    },
    {
     "name": "stderr",
     "output_type": "stream",
     "text": [
      " 86%|███████████████████████████████████      | 428/500 [00:35<00:06, 11.70it/s]"
     ]
    },
    {
     "name": "stdout",
     "output_type": "stream",
     "text": [
      "Warning: the outcome matrix contains NaNs or other                       than 0/1 entries.\n",
      "Dropped  1  time periods with no outcome variations\n",
      "Warning: the outcome matrix contains NaNs or other                       than 0/1 entries.\n",
      "Warning: the outcome matrix contains NaNs or other                       than 0/1 entries.\n",
      "Warning: the outcome matrix contains NaNs or other                       than 0/1 entries.\n",
      "Warning: the outcome matrix contains NaNs or other                       than 0/1 entries.\n",
      "Dropped  1  time periods with no outcome variations\n"
     ]
    },
    {
     "name": "stderr",
     "output_type": "stream",
     "text": [
      "\r",
      " 86%|███████████████████████████████████▎     | 430/500 [00:35<00:05, 11.87it/s]"
     ]
    },
    {
     "name": "stdout",
     "output_type": "stream",
     "text": [
      "Warning: the outcome matrix contains NaNs or other                       than 0/1 entries.\n",
      "Dropped  8  time periods with no outcome variations\n",
      "Warning: the outcome matrix contains NaNs or other                       than 0/1 entries.\n",
      "Warning: the outcome matrix contains NaNs or other                       than 0/1 entries.\n",
      "Dropped  7  time periods with no outcome variations\n",
      "Warning: the outcome matrix contains NaNs or other                       than 0/1 entries.\n",
      "Warning: the outcome matrix contains NaNs or other                       than 0/1 entries.\n",
      "Warning: the outcome matrix contains NaNs or other                       than 0/1 entries.\n"
     ]
    },
    {
     "name": "stderr",
     "output_type": "stream",
     "text": [
      " 87%|███████████████████████████████████▌     | 434/500 [00:36<00:05, 11.94it/s]"
     ]
    },
    {
     "name": "stdout",
     "output_type": "stream",
     "text": [
      "Warning: the outcome matrix contains NaNs or other                       than 0/1 entries.\n",
      "Dropped  8  time periods with no outcome variations\n",
      "Warning: the outcome matrix contains NaNs or other                       than 0/1 entries.\n",
      "Warning: the outcome matrix contains NaNs or other                       than 0/1 entries.\n",
      "Warning: the outcome matrix contains NaNs or other                       than 0/1 entries.\n",
      "Dropped  1  time periods with no outcome variations\n",
      "Warning: the outcome matrix contains NaNs or other                       than 0/1 entries.\n"
     ]
    },
    {
     "name": "stderr",
     "output_type": "stream",
     "text": [
      "\r",
      " 87%|███████████████████████████████████▊     | 436/500 [00:36<00:05, 11.68it/s]"
     ]
    },
    {
     "name": "stdout",
     "output_type": "stream",
     "text": [
      "Warning: the outcome matrix contains NaNs or other                       than 0/1 entries.\n",
      "Warning: the outcome matrix contains NaNs or other                       than 0/1 entries.\n",
      "Warning: the outcome matrix contains NaNs or other                       than 0/1 entries.\n",
      "Warning: the outcome matrix contains NaNs or other                       than 0/1 entries.\n",
      "Dropped  1  time periods with no outcome variations\n",
      "Warning: the outcome matrix contains NaNs or other                       than 0/1 entries.\n"
     ]
    },
    {
     "name": "stderr",
     "output_type": "stream",
     "text": [
      "\r",
      " 88%|███████████████████████████████████▉     | 438/500 [00:36<00:05, 12.01it/s]"
     ]
    },
    {
     "name": "stdout",
     "output_type": "stream",
     "text": [
      "Warning: the outcome matrix contains NaNs or other                       than 0/1 entries.\n",
      "Warning: the outcome matrix contains NaNs or other                       than 0/1 entries.\n",
      "Warning: the outcome matrix contains NaNs or other                       than 0/1 entries.\n",
      "Dropped  7  time periods with no outcome variations\n",
      "Warning: the outcome matrix contains NaNs or other                       than 0/1 entries.\n",
      "Warning: the outcome matrix contains NaNs or other                       than 0/1 entries.\n"
     ]
    },
    {
     "name": "stderr",
     "output_type": "stream",
     "text": [
      "\r",
      " 88%|████████████████████████████████████     | 440/500 [00:36<00:04, 12.10it/s]"
     ]
    },
    {
     "name": "stdout",
     "output_type": "stream",
     "text": [
      "Warning: the outcome matrix contains NaNs or other                       than 0/1 entries.\n",
      "Warning: the outcome matrix contains NaNs or other                       than 0/1 entries.\n",
      "Dropped  6  time periods with no outcome variations\n",
      "Warning: the outcome matrix contains NaNs or other                       than 0/1 entries.\n",
      "Warning: the outcome matrix contains NaNs or other                       than 0/1 entries.\n",
      "Warning: the outcome matrix contains NaNs or other                       than 0/1 entries.\n",
      "Warning: the outcome matrix contains NaNs or other                       than 0/1 entries.\n"
     ]
    },
    {
     "name": "stderr",
     "output_type": "stream",
     "text": [
      " 89%|████████████████████████████████████▍    | 444/500 [00:36<00:04, 12.25it/s]"
     ]
    },
    {
     "name": "stdout",
     "output_type": "stream",
     "text": [
      "Warning: the outcome matrix contains NaNs or other                       than 0/1 entries.\n",
      "Dropped  1  time periods with no outcome variations\n",
      "Warning: the outcome matrix contains NaNs or other                       than 0/1 entries.\n",
      "Warning: the outcome matrix contains NaNs or other                       than 0/1 entries.\n",
      "Dropped  1  time periods with no outcome variations\n",
      "Warning: the outcome matrix contains NaNs or other                       than 0/1 entries.\n",
      "Warning: the outcome matrix contains NaNs or other                       than 0/1 entries.\n"
     ]
    },
    {
     "name": "stderr",
     "output_type": "stream",
     "text": [
      "\r",
      " 89%|████████████████████████████████████▌    | 446/500 [00:37<00:04, 11.94it/s]"
     ]
    },
    {
     "name": "stdout",
     "output_type": "stream",
     "text": [
      "Warning: the outcome matrix contains NaNs or other                       than 0/1 entries.\n",
      "Warning: the outcome matrix contains NaNs or other                       than 0/1 entries.\n",
      "Warning: the outcome matrix contains NaNs or other                       than 0/1 entries.\n",
      "Warning: the outcome matrix contains NaNs or other                       than 0/1 entries.\n",
      "Warning: the outcome matrix contains NaNs or other                       than 0/1 entries.\n",
      "Dropped  1  time periods with no outcome variations\n",
      "Warning: the outcome matrix contains NaNs or other                       than 0/1 entries.\n"
     ]
    },
    {
     "name": "stderr",
     "output_type": "stream",
     "text": [
      " 90%|████████████████████████████████████▉    | 450/500 [00:37<00:04, 12.20it/s]"
     ]
    },
    {
     "name": "stdout",
     "output_type": "stream",
     "text": [
      "Warning: the outcome matrix contains NaNs or other                       than 0/1 entries.\n",
      "Warning: the outcome matrix contains NaNs or other                       than 0/1 entries.\n",
      "Warning: the outcome matrix contains NaNs or other                       than 0/1 entries.\n",
      "Dropped  1  time periods with no outcome variations\n",
      "Warning: the outcome matrix contains NaNs or other                       than 0/1 entries.\n",
      "Warning: the outcome matrix contains NaNs or other                       than 0/1 entries.\n"
     ]
    },
    {
     "name": "stderr",
     "output_type": "stream",
     "text": [
      "\r",
      " 90%|█████████████████████████████████████    | 452/500 [00:37<00:03, 12.30it/s]"
     ]
    },
    {
     "name": "stdout",
     "output_type": "stream",
     "text": [
      "Warning: the outcome matrix contains NaNs or other                       than 0/1 entries.\n",
      "Warning: the outcome matrix contains NaNs or other                       than 0/1 entries.\n",
      "Warning: the outcome matrix contains NaNs or other                       than 0/1 entries.\n",
      "Dropped  2  time periods with no outcome variations\n",
      "Warning: the outcome matrix contains NaNs or other                       than 0/1 entries.\n",
      "Dropped  10  time periods with no outcome variations\n",
      "Warning: the outcome matrix contains NaNs or other                       than 0/1 entries.\n",
      "Warning: the outcome matrix contains NaNs or other                       than 0/1 entries.\n"
     ]
    },
    {
     "name": "stderr",
     "output_type": "stream",
     "text": [
      "\r",
      " 91%|█████████████████████████████████████▏   | 454/500 [00:37<00:03, 12.37it/s]"
     ]
    },
    {
     "name": "stdout",
     "output_type": "stream",
     "text": [
      "Warning: the outcome matrix contains NaNs or other                       than 0/1 entries.\n",
      "Dropped  1  time periods with no outcome variations\n",
      "Warning: the outcome matrix contains NaNs or other                       than 0/1 entries.\n",
      "Dropped  8  time periods with no outcome variations\n",
      "Warning: the outcome matrix contains NaNs or other                       than 0/1 entries.\n",
      "Warning: the outcome matrix contains NaNs or other                       than 0/1 entries.\n",
      "Warning: the outcome matrix contains NaNs or other                       than 0/1 entries.\n",
      "Warning: the outcome matrix contains NaNs or other                       than 0/1 entries.\n"
     ]
    },
    {
     "name": "stderr",
     "output_type": "stream",
     "text": [
      " 92%|█████████████████████████████████████▌   | 458/500 [00:38<00:03, 12.60it/s]"
     ]
    },
    {
     "name": "stdout",
     "output_type": "stream",
     "text": [
      "Warning: the outcome matrix contains NaNs or other                       than 0/1 entries.\n",
      "Warning: the outcome matrix contains NaNs or other                       than 0/1 entries.\n",
      "Warning: the outcome matrix contains NaNs or other                       than 0/1 entries.\n",
      "Warning: the outcome matrix contains NaNs or other                       than 0/1 entries.\n",
      "Warning: the outcome matrix contains NaNs or other                       than 0/1 entries.\n"
     ]
    },
    {
     "name": "stderr",
     "output_type": "stream",
     "text": [
      "\r",
      " 92%|█████████████████████████████████████▋   | 460/500 [00:38<00:03, 12.16it/s]"
     ]
    },
    {
     "name": "stdout",
     "output_type": "stream",
     "text": [
      "Warning: the outcome matrix contains NaNs or other                       than 0/1 entries.\n",
      "Warning: the outcome matrix contains NaNs or other                       than 0/1 entries.\n",
      "Warning: the outcome matrix contains NaNs or other                       than 0/1 entries.\n",
      "Warning: the outcome matrix contains NaNs or other                       than 0/1 entries.\n",
      "Warning: the outcome matrix contains NaNs or other                       than 0/1 entries.\n",
      "Dropped  8  time periods with no outcome variations\n",
      "Warning: the outcome matrix contains NaNs or other                       than 0/1 entries.\n"
     ]
    },
    {
     "name": "stderr",
     "output_type": "stream",
     "text": [
      " 93%|██████████████████████████████████████   | 464/500 [00:38<00:02, 12.62it/s]"
     ]
    },
    {
     "name": "stdout",
     "output_type": "stream",
     "text": [
      "Warning: the outcome matrix contains NaNs or other                       than 0/1 entries.\n",
      "Dropped  6  time periods with no outcome variations\n",
      "Warning: the outcome matrix contains NaNs or other                       than 0/1 entries.\n",
      "Warning: the outcome matrix contains NaNs or other                       than 0/1 entries.\n",
      "Dropped  7  time periods with no outcome variations\n",
      "Warning: the outcome matrix contains NaNs or other                       than 0/1 entries.\n",
      "Warning: the outcome matrix contains NaNs or other                       than 0/1 entries.\n",
      "Warning: the outcome matrix contains NaNs or other                       than 0/1 entries.\n"
     ]
    },
    {
     "name": "stderr",
     "output_type": "stream",
     "text": [
      "\r",
      " 93%|██████████████████████████████████████▏  | 466/500 [00:38<00:02, 12.22it/s]"
     ]
    },
    {
     "name": "stdout",
     "output_type": "stream",
     "text": [
      "Warning: the outcome matrix contains NaNs or other                       than 0/1 entries.\n",
      "Dropped  8  time periods with no outcome variations\n",
      "Warning: the outcome matrix contains NaNs or other                       than 0/1 entries.\n",
      "Warning: the outcome matrix contains NaNs or other                       than 0/1 entries.\n",
      "Warning: the outcome matrix contains NaNs or other                       than 0/1 entries.\n",
      "Warning: the outcome matrix contains NaNs or other                       than 0/1 entries.\n",
      "Dropped  9  time periods with no outcome variations\n",
      "Warning: the outcome matrix contains NaNs or other                       than 0/1 entries.\n"
     ]
    },
    {
     "name": "stderr",
     "output_type": "stream",
     "text": [
      "\r",
      " 94%|██████████████████████████████████████▍  | 468/500 [00:38<00:02, 12.24it/s]"
     ]
    },
    {
     "name": "stdout",
     "output_type": "stream",
     "text": [
      "Warning: the outcome matrix contains NaNs or other                       than 0/1 entries.\n",
      "Warning: the outcome matrix contains NaNs or other                       than 0/1 entries.\n",
      "Dropped  1  time periods with no outcome variations\n",
      "Warning: the outcome matrix contains NaNs or other                       than 0/1 entries.\n",
      "Warning: the outcome matrix contains NaNs or other                       than 0/1 entries.\n",
      "Warning: the outcome matrix contains NaNs or other                       than 0/1 entries.\n"
     ]
    },
    {
     "name": "stderr",
     "output_type": "stream",
     "text": [
      " 94%|██████████████████████████████████████▋  | 472/500 [00:39<00:02, 11.91it/s]"
     ]
    },
    {
     "name": "stdout",
     "output_type": "stream",
     "text": [
      "Warning: the outcome matrix contains NaNs or other                       than 0/1 entries.\n",
      "Warning: the outcome matrix contains NaNs or other                       than 0/1 entries.\n",
      "Warning: the outcome matrix contains NaNs or other                       than 0/1 entries.\n",
      "Warning: the outcome matrix contains NaNs or other                       than 0/1 entries.\n",
      "Dropped  8  time periods with no outcome variations\n",
      "Warning: the outcome matrix contains NaNs or other                       than 0/1 entries.\n",
      "Dropped  1  time periods with no outcome variations\n"
     ]
    },
    {
     "name": "stderr",
     "output_type": "stream",
     "text": [
      "\r",
      " 95%|██████████████████████████████████████▊  | 474/500 [00:39<00:02, 11.93it/s]"
     ]
    },
    {
     "name": "stdout",
     "output_type": "stream",
     "text": [
      "Warning: the outcome matrix contains NaNs or other                       than 0/1 entries.\n",
      "Warning: the outcome matrix contains NaNs or other                       than 0/1 entries.\n",
      "Dropped  1  time periods with no outcome variations\n",
      "Warning: the outcome matrix contains NaNs or other                       than 0/1 entries.\n",
      "Dropped  9  time periods with no outcome variations\n",
      "Warning: the outcome matrix contains NaNs or other                       than 0/1 entries.\n",
      "Dropped  1  time periods with no outcome variations\n",
      "Warning: the outcome matrix contains NaNs or other                       than 0/1 entries.\n",
      "Dropped  6  time periods with no outcome variations\n",
      "Warning: the outcome matrix contains NaNs or other                       than 0/1 entries.\n"
     ]
    },
    {
     "name": "stderr",
     "output_type": "stream",
     "text": [
      "\r",
      " 95%|███████████████████████████████████████  | 476/500 [00:39<00:01, 12.10it/s]"
     ]
    },
    {
     "name": "stdout",
     "output_type": "stream",
     "text": [
      "Warning: the outcome matrix contains NaNs or other                       than 0/1 entries.\n",
      "Warning: the outcome matrix contains NaNs or other                       than 0/1 entries.\n",
      "Warning: the outcome matrix contains NaNs or other                       than 0/1 entries.\n",
      "Warning: the outcome matrix contains NaNs or other                       than 0/1 entries.\n",
      "Warning: the outcome matrix contains NaNs or other                       than 0/1 entries.\n"
     ]
    },
    {
     "name": "stderr",
     "output_type": "stream",
     "text": [
      " 96%|███████████████████████████████████████▎ | 480/500 [00:39<00:01, 11.87it/s]"
     ]
    },
    {
     "name": "stdout",
     "output_type": "stream",
     "text": [
      "Warning: the outcome matrix contains NaNs or other                       than 0/1 entries.\n",
      "Dropped  1  time periods with no outcome variations\n",
      "Warning: the outcome matrix contains NaNs or other                       than 0/1 entries.\n",
      "Dropped  7  time periods with no outcome variations\n",
      "Warning: the outcome matrix contains NaNs or other                       than 0/1 entries.\n",
      "Warning: the outcome matrix contains NaNs or other                       than 0/1 entries.\n",
      "Dropped  7  time periods with no outcome variations\n",
      "Warning: the outcome matrix contains NaNs or other                       than 0/1 entries.\n"
     ]
    },
    {
     "name": "stderr",
     "output_type": "stream",
     "text": [
      "\r",
      " 96%|███████████████████████████████████████▌ | 482/500 [00:40<00:01, 11.90it/s]"
     ]
    },
    {
     "name": "stdout",
     "output_type": "stream",
     "text": [
      "Warning: the outcome matrix contains NaNs or other                       than 0/1 entries.\n",
      "Warning: the outcome matrix contains NaNs or other                       than 0/1 entries.\n",
      "Warning: the outcome matrix contains NaNs or other                       than 0/1 entries.\n",
      "Warning: the outcome matrix contains NaNs or other                       than 0/1 entries.\n",
      "Warning: the outcome matrix contains NaNs or other                       than 0/1 entries.\n"
     ]
    },
    {
     "name": "stderr",
     "output_type": "stream",
     "text": [
      "\r",
      " 97%|███████████████████████████████████████▋ | 484/500 [00:40<00:01, 11.66it/s]"
     ]
    },
    {
     "name": "stdout",
     "output_type": "stream",
     "text": [
      "Warning: the outcome matrix contains NaNs or other                       than 0/1 entries.\n",
      "Dropped  1  time periods with no outcome variations\n",
      "Warning: the outcome matrix contains NaNs or other                       than 0/1 entries.\n",
      "Warning: the outcome matrix contains NaNs or other                       than 0/1 entries.\n",
      "Warning: the outcome matrix contains NaNs or other                       than 0/1 entries.\n",
      "Warning: the outcome matrix contains NaNs or other                       than 0/1 entries.\n"
     ]
    },
    {
     "name": "stderr",
     "output_type": "stream",
     "text": [
      " 98%|████████████████████████████████████████ | 488/500 [00:40<00:00, 12.13it/s]"
     ]
    },
    {
     "name": "stdout",
     "output_type": "stream",
     "text": [
      "Warning: the outcome matrix contains NaNs or other                       than 0/1 entries.\n",
      "Dropped  7  time periods with no outcome variations\n",
      "Warning: the outcome matrix contains NaNs or other                       than 0/1 entries.\n",
      "Warning: the outcome matrix contains NaNs or other                       than 0/1 entries.\n",
      "Warning: the outcome matrix contains NaNs or other                       than 0/1 entries.\n",
      "Warning: the outcome matrix contains NaNs or other                       than 0/1 entries.\n"
     ]
    },
    {
     "name": "stderr",
     "output_type": "stream",
     "text": [
      "\r",
      " 98%|████████████████████████████████████████▏| 490/500 [00:40<00:00, 11.97it/s]"
     ]
    },
    {
     "name": "stdout",
     "output_type": "stream",
     "text": [
      "Warning: the outcome matrix contains NaNs or other                       than 0/1 entries.\n",
      "Warning: the outcome matrix contains NaNs or other                       than 0/1 entries.\n",
      "Warning: the outcome matrix contains NaNs or other                       than 0/1 entries.\n",
      "Warning: the outcome matrix contains NaNs or other                       than 0/1 entries.\n",
      "Warning: the outcome matrix contains NaNs or other                       than 0/1 entries.\n"
     ]
    },
    {
     "name": "stderr",
     "output_type": "stream",
     "text": [
      "\r",
      " 98%|████████████████████████████████████████▎| 492/500 [00:40<00:00, 12.05it/s]"
     ]
    },
    {
     "name": "stdout",
     "output_type": "stream",
     "text": [
      "Warning: the outcome matrix contains NaNs or other                       than 0/1 entries.\n",
      "Warning: the outcome matrix contains NaNs or other                       than 0/1 entries.\n",
      "Warning: the outcome matrix contains NaNs or other                       than 0/1 entries.\n",
      "Warning: the outcome matrix contains NaNs or other                       than 0/1 entries.\n",
      "Warning: the outcome matrix contains NaNs or other                       than 0/1 entries.\n",
      "Dropped  8  time periods with no outcome variations\n"
     ]
    },
    {
     "name": "stderr",
     "output_type": "stream",
     "text": [
      "\r",
      " 99%|████████████████████████████████████████▌| 494/500 [00:41<00:00, 11.85it/s]"
     ]
    },
    {
     "name": "stdout",
     "output_type": "stream",
     "text": [
      "Warning: the outcome matrix contains NaNs or other                       than 0/1 entries.\n",
      "Warning: the outcome matrix contains NaNs or other                       than 0/1 entries.\n",
      "Warning: the outcome matrix contains NaNs or other                       than 0/1 entries.\n",
      "Dropped  1  time periods with no outcome variations\n",
      "Warning: the outcome matrix contains NaNs or other                       than 0/1 entries.\n",
      "Dropped  1  time periods with no outcome variations\n",
      "Warning: the outcome matrix contains NaNs or other                       than 0/1 entries.\n",
      "Warning: the outcome matrix contains NaNs or other                       than 0/1 entries.\n",
      "Dropped  6  time periods with no outcome variations\n"
     ]
    },
    {
     "name": "stderr",
     "output_type": "stream",
     "text": [
      "100%|████████████████████████████████████████▊| 498/500 [00:41<00:00, 11.99it/s]"
     ]
    },
    {
     "name": "stdout",
     "output_type": "stream",
     "text": [
      "Warning: the outcome matrix contains NaNs or other                       than 0/1 entries.\n",
      "Warning: the outcome matrix contains NaNs or other                       than 0/1 entries.\n",
      "Dropped  6  time periods with no outcome variations\n",
      "Warning: the outcome matrix contains NaNs or other                       than 0/1 entries.\n",
      "Warning: the outcome matrix contains NaNs or other                       than 0/1 entries.\n",
      "Dropped  6  time periods with no outcome variations\n",
      "Warning: the outcome matrix contains NaNs or other                       than 0/1 entries.\n",
      "Warning: the outcome matrix contains NaNs or other                       than 0/1 entries.\n"
     ]
    },
    {
     "name": "stderr",
     "output_type": "stream",
     "text": [
      "100%|█████████████████████████████████████████| 500/500 [00:41<00:00, 12.01it/s]"
     ]
    },
    {
     "name": "stdout",
     "output_type": "stream",
     "text": [
      "Warning: the outcome matrix contains NaNs or other                       than 0/1 entries.\n",
      "Warning: the outcome matrix contains NaNs or other                       than 0/1 entries.\n",
      "Dropped  7  time periods with no outcome variations\n"
     ]
    },
    {
     "name": "stderr",
     "output_type": "stream",
     "text": [
      "\n"
     ]
    }
   ],
   "source": [
    "# compute percentile bootstrap (symmetric) CIs for standard deviation \n",
    "np.random.seed(2022) # replicability\n",
    "B = 500\n",
    "bs_samples_exp = np.random.choice(range(len(exp_ids)), size=(B, len(exp_ids)))\n",
    "bs_samples_imp = np.random.choice(range(len(imp_ids)), size=(B, len(imp_ids)))\n",
    "beta_res_exp = np.zeros((B, len(exp_ids), 1))\n",
    "beta_res_imp = np.zeros((B, len(imp_ids), 1))\n",
    "\n",
    "for b in tqdm(range(B)):\n",
    "    prob_mod_exp = TwoWayFPMLE(Xexp[bs_samples_exp[b]], yexp[bs_samples_exp[b]], 0, [0], model='probit', verbose=False)\n",
    "    beta_exp, _, _ = prob_mod_exp.fit(fast=True, hess=True, nu=1e-9, eps=1e-4, iter_max=2)\n",
    "    beta_res_exp[b,:, 0] = beta_exp[:,0]\n",
    "    prob_mod_imp = TwoWayFPMLE(Ximp[bs_samples_imp[b]], yimp[bs_samples_imp[b]], 0, [0], model='probit', verbose=False)\n",
    "    beta_imp, _, _ = prob_mod_imp.fit(fast=True, hess=True, nu=1e-9, eps=1e-4, iter_max=2)\n",
    "    beta_res_imp[b,:, 0] = beta_imp[:,0]\n",
    "\n",
    "bs_std_exp = np.std(beta_res_exp, axis=1)\n",
    "bs_std_imp = np.std(beta_res_imp, axis=1)\n",
    "bs_std = np.concatenate((bs_std_exp, bs_std_imp), axis=1)"
   ]
  },
  {
   "cell_type": "code",
   "execution_count": 22,
   "id": "6485b59d",
   "metadata": {},
   "outputs": [
    {
     "name": "stdout",
     "output_type": "stream",
     "text": [
      "exporter-specific importer-specific\n",
      "lower ends:  [0.06595092 0.0375672 ]\n",
      "upper ends:  [0.09188342 0.06169668]\n"
     ]
    }
   ],
   "source": [
    "# CI for standard deviation\n",
    "print('exporter-specific', 'importer-specific')\n",
    "print('lower ends: ', np.quantile(bs_std, 0.025, axis=0))\n",
    "print('upper ends: ', np.quantile(bs_std, 0.975, axis=0))"
   ]
  },
  {
   "cell_type": "markdown",
   "id": "f8dfc554",
   "metadata": {},
   "source": [
    "## References"
   ]
  },
  {
   "cell_type": "markdown",
   "id": "b616c86d",
   "metadata": {},
   "source": [
    "- Fernández-Val, I., and M. Weidner (2016): “Individual and time effects in nonlinear panel models with large N, T”, *Journal of Econometrics*, 192(1), 291–312.\n",
    "\n",
    "- Helpman, E., M. Melitz, and Y. Rubinstein (2008): “Estimating trade flows: Trading partners and trading volumes”, *The Quarterly Journal of Economics*, 123(2), 441–487.\n",
    "\n",
    "- Mugnier, M. and A. Wang (2022): « Identification and (Fast) Estimation of Large Nonlinear Panel Models with Two-Way Fixed Effects », SSRN.\n"
   ]
  }
 ],
 "metadata": {
  "kernelspec": {
   "display_name": "Python 3 (ipykernel)",
   "language": "python",
   "name": "python3"
  },
  "language_info": {
   "codemirror_mode": {
    "name": "ipython",
    "version": 3
   },
   "file_extension": ".py",
   "mimetype": "text/x-python",
   "name": "python",
   "nbconvert_exporter": "python",
   "pygments_lexer": "ipython3",
   "version": "3.11.4"
  }
 },
 "nbformat": 4,
 "nbformat_minor": 5
}
